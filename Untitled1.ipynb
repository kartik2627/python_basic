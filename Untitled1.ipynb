{
 "cells": [
  {
   "cell_type": "code",
   "execution_count": 3,
   "id": "445ffb52",
   "metadata": {},
   "outputs": [
    {
     "ename": "SyntaxError",
     "evalue": "invalid syntax (1887626081.py, line 1)",
     "output_type": "error",
     "traceback": [
      "\u001b[1;36m  Cell \u001b[1;32mIn[3], line 1\u001b[1;36m\u001b[0m\n\u001b[1;33m    inport numpy as np\u001b[0m\n\u001b[1;37m           ^\u001b[0m\n\u001b[1;31mSyntaxError\u001b[0m\u001b[1;31m:\u001b[0m invalid syntax\n"
     ]
    }
   ],
   "source": [
    "inport numpy as np\n",
    "l =[]\n",
    "for i in range (1,5):\n",
    "    int_1= input(\"enter the vale :\")\n",
    "    l.append(int_1)\n",
    "    \n",
    "print(np.array(l))"
   ]
  },
  {
   "cell_type": "code",
   "execution_count": 5,
   "id": "d7788b0d",
   "metadata": {},
   "outputs": [],
   "source": [
    "import numpy as np"
   ]
  },
  {
   "cell_type": "code",
   "execution_count": null,
   "id": "96f12b5d",
   "metadata": {},
   "outputs": [],
   "source": [
    "l =[]\n",
    "for i in range (1,5):\n",
    "    int_1= int(input(\"enter the vale :\"))\n",
    "    l.append(int_1)\n",
    "    \n",
    "print(np.array(l))\n",
    "print(l.dim)"
   ]
  },
  {
   "cell_type": "code",
   "execution_count": null,
   "id": "6d01f7e0",
   "metadata": {},
   "outputs": [],
   "source": [
    "ar2 = np.array([[1,2,3],[4,5,6]])\n",
    "print(ar2)\n",
    "print(ar2.ndim)"
   ]
  },
  {
   "cell_type": "code",
   "execution_count": null,
   "id": "aa214e04",
   "metadata": {},
   "outputs": [],
   "source": [
    "ar2 = np.array([[1,2,3],[4,5,6]])\n",
    "print(ar2)\n"
   ]
  },
  {
   "cell_type": "code",
   "execution_count": null,
   "id": "20621e80",
   "metadata": {},
   "outputs": [],
   "source": [
    "ar2 = np.array([[1,2,3],[4,5,6]])\n",
    "print(ar2)"
   ]
  },
  {
   "cell_type": "code",
   "execution_count": null,
   "id": "585b19d6",
   "metadata": {},
   "outputs": [],
   "source": [
    "ar2 = np.array([[1,2,3],[4,5,6]])\n",
    "print(ar2)"
   ]
  },
  {
   "cell_type": "code",
   "execution_count": null,
   "id": "cf8f9ff7",
   "metadata": {},
   "outputs": [],
   "source": []
  }
 ],
 "metadata": {
  "kernelspec": {
   "display_name": "Python 3 (ipykernel)",
   "language": "python",
   "name": "python3"
  },
  "language_info": {
   "codemirror_mode": {
    "name": "ipython",
    "version": 3
   },
   "file_extension": ".py",
   "mimetype": "text/x-python",
   "name": "python",
   "nbconvert_exporter": "python",
   "pygments_lexer": "ipython3",
   "version": "3.10.9"
  }
 },
 "nbformat": 4,
 "nbformat_minor": 5
}
