{
 "cells": [
  {
   "cell_type": "code",
   "execution_count": 1,
   "id": "de382f25",
   "metadata": {},
   "outputs": [],
   "source": [
    "#decorator\n",
    "def func():\n",
    "    return 1"
   ]
  },
  {
   "cell_type": "code",
   "execution_count": 2,
   "id": "a8f6be81",
   "metadata": {},
   "outputs": [
    {
     "data": {
      "text/plain": [
       "1"
      ]
     },
     "execution_count": 2,
     "metadata": {},
     "output_type": "execute_result"
    }
   ],
   "source": [
    "func()"
   ]
  },
  {
   "cell_type": "code",
   "execution_count": 3,
   "id": "5f801526",
   "metadata": {},
   "outputs": [
    {
     "data": {
      "text/plain": [
       "<function __main__.func()>"
      ]
     },
     "execution_count": 3,
     "metadata": {},
     "output_type": "execute_result"
    }
   ],
   "source": [
    "func"
   ]
  },
  {
   "cell_type": "code",
   "execution_count": 4,
   "id": "251f8696",
   "metadata": {},
   "outputs": [],
   "source": [
    "def hello():\n",
    "    return \"hello\""
   ]
  },
  {
   "cell_type": "code",
   "execution_count": 5,
   "id": "ab7baf0a",
   "metadata": {},
   "outputs": [
    {
     "data": {
      "text/plain": [
       "'hello'"
      ]
     },
     "execution_count": 5,
     "metadata": {},
     "output_type": "execute_result"
    }
   ],
   "source": [
    "hello()\n"
   ]
  },
  {
   "cell_type": "code",
   "execution_count": 6,
   "id": "7bee0f8a",
   "metadata": {},
   "outputs": [
    {
     "data": {
      "text/plain": [
       "<function __main__.hello()>"
      ]
     },
     "execution_count": 6,
     "metadata": {},
     "output_type": "execute_result"
    }
   ],
   "source": [
    "hello"
   ]
  },
  {
   "cell_type": "code",
   "execution_count": 7,
   "id": "f45dba30",
   "metadata": {},
   "outputs": [],
   "source": [
    "greet = hello"
   ]
  },
  {
   "cell_type": "code",
   "execution_count": 8,
   "id": "35dca117",
   "metadata": {},
   "outputs": [
    {
     "data": {
      "text/plain": [
       "'hello'"
      ]
     },
     "execution_count": 8,
     "metadata": {},
     "output_type": "execute_result"
    }
   ],
   "source": [
    "greet()"
   ]
  },
  {
   "cell_type": "code",
   "execution_count": 9,
   "id": "6950b8b8",
   "metadata": {},
   "outputs": [
    {
     "data": {
      "text/plain": [
       "'hello'"
      ]
     },
     "execution_count": 9,
     "metadata": {},
     "output_type": "execute_result"
    }
   ],
   "source": [
    "hello()"
   ]
  },
  {
   "cell_type": "code",
   "execution_count": 10,
   "id": "a10b4f4d",
   "metadata": {},
   "outputs": [],
   "source": [
    "del hello"
   ]
  },
  {
   "cell_type": "code",
   "execution_count": 11,
   "id": "d3ab2088",
   "metadata": {},
   "outputs": [
    {
     "ename": "NameError",
     "evalue": "name 'hello' is not defined",
     "output_type": "error",
     "traceback": [
      "\u001b[1;31m---------------------------------------------------------------------------\u001b[0m",
      "\u001b[1;31mNameError\u001b[0m                                 Traceback (most recent call last)",
      "Cell \u001b[1;32mIn[11], line 1\u001b[0m\n\u001b[1;32m----> 1\u001b[0m \u001b[43mhello\u001b[49m()\n",
      "\u001b[1;31mNameError\u001b[0m: name 'hello' is not defined"
     ]
    }
   ],
   "source": [
    "hello()"
   ]
  },
  {
   "cell_type": "code",
   "execution_count": 12,
   "id": "3187bea2",
   "metadata": {},
   "outputs": [
    {
     "data": {
      "text/plain": [
       "'hello'"
      ]
     },
     "execution_count": 12,
     "metadata": {},
     "output_type": "execute_result"
    }
   ],
   "source": [
    "greet()"
   ]
  },
  {
   "cell_type": "code",
   "execution_count": 13,
   "id": "c418ac56",
   "metadata": {},
   "outputs": [],
   "source": [
    "# calling func in another\n"
   ]
  },
  {
   "cell_type": "code",
   "execution_count": 24,
   "id": "0cb193dd",
   "metadata": {},
   "outputs": [],
   "source": [
    "def hello(name = \"kat\"):\n",
    "    print(\"print hello() function has beeen defined\")\n",
    "    def greet():\n",
    "        return\"\\t return greet fun inside hello!\"\n",
    "    def welcome():\n",
    "        return\"\\t  return welcome inside the heello\"\n",
    "    print(greet())\n",
    "    print(welcome())\n",
    "    print(\"this the the end of the functions\")"
   ]
  },
  {
   "cell_type": "code",
   "execution_count": 25,
   "id": "c83eec10",
   "metadata": {},
   "outputs": [
    {
     "name": "stdout",
     "output_type": "stream",
     "text": [
      "print hello() function has beeen defined\n",
      "\t return greet fun inside hello!\n",
      "\t  return welcome inside the heello\n",
      "this the the end of the functions\n"
     ]
    }
   ],
   "source": [
    "hello()\n"
   ]
  },
  {
   "cell_type": "code",
   "execution_count": 26,
   "id": "b04f0ef4",
   "metadata": {},
   "outputs": [
    {
     "ename": "NameError",
     "evalue": "name 'welcome' is not defined",
     "output_type": "error",
     "traceback": [
      "\u001b[1;31m---------------------------------------------------------------------------\u001b[0m",
      "\u001b[1;31mNameError\u001b[0m                                 Traceback (most recent call last)",
      "Cell \u001b[1;32mIn[26], line 1\u001b[0m\n\u001b[1;32m----> 1\u001b[0m \u001b[43mwelcome\u001b[49m()\n",
      "\u001b[1;31mNameError\u001b[0m: name 'welcome' is not defined"
     ]
    }
   ],
   "source": [
    "welcome()# we can't access this fun outside the function"
   ]
  },
  {
   "cell_type": "code",
   "execution_count": 28,
   "id": "84e5e90b",
   "metadata": {},
   "outputs": [],
   "source": [
    "def hello(name = \"kat\"):\n",
    "    print(\"print hello() function has beeen defined\")\n",
    "    def greet():\n",
    "        return\"\\t return greet fun inside hello!\"\n",
    "    def welcome():\n",
    "        return\"\\t  return welcome inside the heello\"\n",
    "    print(\"i am going to return a function\")\n",
    "    if name == \"kat\":\n",
    "        return greet\n",
    "    else: \n",
    "        return welcome"
   ]
  },
  {
   "cell_type": "code",
   "execution_count": 29,
   "id": "85b7a65c",
   "metadata": {},
   "outputs": [
    {
     "name": "stdout",
     "output_type": "stream",
     "text": [
      "print hello() function has beeen defined\n",
      "i am going to return a function\n"
     ]
    }
   ],
   "source": [
    "my_newfunc = hello(\"kat\")"
   ]
  },
  {
   "cell_type": "code",
   "execution_count": 31,
   "id": "418955b7",
   "metadata": {},
   "outputs": [
    {
     "data": {
      "text/plain": [
       "'\\t  return welcome inside the heello'"
      ]
     },
     "execution_count": 31,
     "metadata": {},
     "output_type": "execute_result"
    }
   ],
   "source": [
    "my_newfunc()"
   ]
  },
  {
   "cell_type": "code",
   "execution_count": 39,
   "id": "a907f9e7",
   "metadata": {},
   "outputs": [],
   "source": [
    "def cool():\n",
    "    def super_cool():\n",
    "        return \"i am very cool\"\n",
    "    return super_cool"
   ]
  },
  {
   "cell_type": "markdown",
   "id": "92f2298e",
   "metadata": {},
   "source": []
  },
  {
   "cell_type": "code",
   "execution_count": 40,
   "id": "6014e894",
   "metadata": {},
   "outputs": [],
   "source": [
    "super_cool = cool()"
   ]
  },
  {
   "cell_type": "code",
   "execution_count": 41,
   "id": "99ab58e3",
   "metadata": {},
   "outputs": [
    {
     "data": {
      "text/plain": [
       "<function __main__.cool.<locals>.super_cool()>"
      ]
     },
     "execution_count": 41,
     "metadata": {},
     "output_type": "execute_result"
    }
   ],
   "source": [
    "super_cool"
   ]
  },
  {
   "cell_type": "code",
   "execution_count": 42,
   "id": "51f82b96",
   "metadata": {},
   "outputs": [],
   "source": [
    "def hello ():\n",
    "    return \" hi kat!\""
   ]
  },
  {
   "cell_type": "code",
   "execution_count": 44,
   "id": "f0f4104b",
   "metadata": {},
   "outputs": [],
   "source": [
    "def some_other_fun(other):\n",
    "    print(\"print me\")\n",
    "    print(other())#passing a fun as an arrgument"
   ]
  },
  {
   "cell_type": "code",
   "execution_count": 45,
   "id": "ae0a8c08",
   "metadata": {},
   "outputs": [
    {
     "data": {
      "text/plain": [
       "<function __main__.hello()>"
      ]
     },
     "execution_count": 45,
     "metadata": {},
     "output_type": "execute_result"
    }
   ],
   "source": [
    "hello"
   ]
  },
  {
   "cell_type": "code",
   "execution_count": 46,
   "id": "b813ab77",
   "metadata": {},
   "outputs": [
    {
     "data": {
      "text/plain": [
       "' hi kat!'"
      ]
     },
     "execution_count": 46,
     "metadata": {},
     "output_type": "execute_result"
    }
   ],
   "source": [
    "hello()"
   ]
  },
  {
   "cell_type": "code",
   "execution_count": 47,
   "id": "95fc28fe",
   "metadata": {},
   "outputs": [
    {
     "name": "stdout",
     "output_type": "stream",
     "text": [
      "print me\n",
      " hi kat!\n"
     ]
    }
   ],
   "source": [
    "some_other_fun(hello)"
   ]
  },
  {
   "cell_type": "code",
   "execution_count": 57,
   "id": "56adfb9d",
   "metadata": {},
   "outputs": [],
   "source": [
    "#decorator\n",
    "def new_decorator(orignal_func):\n",
    "    def wrap_func():\n",
    "        print (\"hiiiiiiiiiiiiiiiiiiiiiiiii\")\n",
    "        \n",
    "        orignal_func()\n",
    "        print(\"heloooooooooooooooooooooooo\")\n",
    "    return wrap_func  "
   ]
  },
  {
   "cell_type": "code",
   "execution_count": 58,
   "id": "b75246d0",
   "metadata": {},
   "outputs": [],
   "source": [
    "def funneed():\n",
    "    print(\"i need decorator\")"
   ]
  },
  {
   "cell_type": "code",
   "execution_count": 59,
   "id": "60034a12",
   "metadata": {},
   "outputs": [
    {
     "name": "stdout",
     "output_type": "stream",
     "text": [
      "i need decorator\n"
     ]
    }
   ],
   "source": [
    "funneed()"
   ]
  },
  {
   "cell_type": "code",
   "execution_count": 60,
   "id": "3f0a672d",
   "metadata": {},
   "outputs": [],
   "source": [
    "decorator_fun = new_decorator(funneed)"
   ]
  },
  {
   "cell_type": "code",
   "execution_count": 61,
   "id": "056b51e4",
   "metadata": {},
   "outputs": [
    {
     "name": "stdout",
     "output_type": "stream",
     "text": [
      "hiiiiiiiiiiiiiiiiiiiiiiiii\n",
      "i need decorator\n",
      "heloooooooooooooooooooooooo\n"
     ]
    }
   ],
   "source": [
    "decorator_fun()"
   ]
  },
  {
   "cell_type": "code",
   "execution_count": 63,
   "id": "bc2108fa",
   "metadata": {},
   "outputs": [],
   "source": [
    "@new_decorator\n",
    "def funneed():\n",
    "    print(\"i need decorator\")\n"
   ]
  },
  {
   "cell_type": "code",
   "execution_count": 64,
   "id": "d5f43b74",
   "metadata": {},
   "outputs": [
    {
     "name": "stdout",
     "output_type": "stream",
     "text": [
      "hiiiiiiiiiiiiiiiiiiiiiiiii\n",
      "i need decorator\n",
      "heloooooooooooooooooooooooo\n"
     ]
    }
   ],
   "source": [
    "funneed()"
   ]
  },
  {
   "cell_type": "code",
   "execution_count": null,
   "id": "2ac48f68",
   "metadata": {},
   "outputs": [],
   "source": []
  }
 ],
 "metadata": {
  "kernelspec": {
   "display_name": "Python 3 (ipykernel)",
   "language": "python",
   "name": "python3"
  },
  "language_info": {
   "codemirror_mode": {
    "name": "ipython",
    "version": 3
   },
   "file_extension": ".py",
   "mimetype": "text/x-python",
   "name": "python",
   "nbconvert_exporter": "python",
   "pygments_lexer": "ipython3",
   "version": "3.10.9"
  }
 },
 "nbformat": 4,
 "nbformat_minor": 5
}
