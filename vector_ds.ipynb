{
  "nbformat": 4,
  "nbformat_minor": 0,
  "metadata": {
    "colab": {
      "provenance": [],
      "authorship_tag": "ABX9TyPcsOUuQdPqZYxdsNoRrP+2",
      "include_colab_link": true
    },
    "kernelspec": {
      "name": "python3",
      "display_name": "Python 3"
    },
    "language_info": {
      "name": "python"
    }
  },
  "cells": [
    {
      "cell_type": "markdown",
      "metadata": {
        "id": "view-in-github",
        "colab_type": "text"
      },
      "source": [
        "<a href=\"https://colab.research.google.com/github/kartik2627/python_basic/blob/main/vector_ds.ipynb\" target=\"_parent\"><img src=\"https://colab.research.google.com/assets/colab-badge.svg\" alt=\"Open In Colab\"/></a>"
      ]
    },
    {
      "cell_type": "code",
      "execution_count": null,
      "metadata": {
        "id": "esW03lJcrkk0"
      },
      "outputs": [],
      "source": [
        "vector = list[float]"
      ]
    },
    {
      "cell_type": "code",
      "source": [
        "height_weight_age=[70,73,22]\n",
        "grades = [95,80,75,62]"
      ],
      "metadata": {
        "id": "vZmb9K9_tH0p"
      },
      "execution_count": null,
      "outputs": []
    },
    {
      "cell_type": "code",
      "source": [
        "def add(v:vector,w:vector) ->vector:\n",
        "  assert len(v)==len(w),\"vector must be of same  length .\"\n",
        "  return [v_i + w_i for v_i,w_i in zip(v,w)]\n",
        "assert add([1,2,3],[4,5,6])==[5,7,9]"
      ],
      "metadata": {
        "id": "fIiejL8ftlGA"
      },
      "execution_count": null,
      "outputs": []
    },
    {
      "cell_type": "code",
      "source": [
        "def subtract(v:vector,w:vector) ->vector:\n",
        "  assert len(v)==len(w),\"vector must be of same  length .\"\n",
        "  return [v_i - w_i for v_i,w_i in zip(v,w)]\n",
        "assert subtract([5,7,9],[1,2,3])==[4,5,6]"
      ],
      "metadata": {
        "id": "GCaVaMQ8vO4-"
      },
      "execution_count": null,
      "outputs": []
    },
    {
      "cell_type": "code",
      "source": [
        "def vector_sum(vectors:list[vector])->vector:\n",
        "  assert vectors,\"no vector provided!\"\n",
        "  num_elements = len(vectors[0])\n",
        "  assert all(len(v)==num_elements for v in vectors),\"different sizes!\"\n",
        "  return[sum(vectori[i] for vectori in vectors) for i in range(num_elements)]\n",
        "assert vector_sum([[1,2],[3,4],[5,6],[7,8]])==[16,20]"
      ],
      "metadata": {
        "id": "flvA43CfwGK_"
      },
      "execution_count": null,
      "outputs": []
    },
    {
      "cell_type": "code",
      "source": [
        "def scalar_multiply(c:float,v:vector)->vector:\n",
        "  return[c*v_i for v_i in v]\n",
        "assert scalar_multiply(2,[1,2,3])==[2,4,6]"
      ],
      "metadata": {
        "id": "uh9cdsctysow"
      },
      "execution_count": null,
      "outputs": []
    },
    {
      "cell_type": "code",
      "source": [
        "def vector_mean(vectors:list[vector])->vector:\n",
        "  n=len(vectors)\n",
        "  return scalar_multiply(1/n,vector_sum(vectors))\n",
        "assert vector_mean([[1,2],[3,4],[5,6]])==[3,4]"
      ],
      "metadata": {
        "id": "IvZYOlE8zB1s"
      },
      "execution_count": null,
      "outputs": []
    },
    {
      "cell_type": "code",
      "source": [
        "def dot(v:vector,w:vector)->float:\n",
        "  assert len(v)==len(w),\"vector must be of same  length .\"\n",
        "  return sum(v_i*w_i for v_i,w_i in zip(v,w))\n",
        "assert dot([1,2,3],[4,5,6])==32"
      ],
      "metadata": {
        "id": "Zb0VQdzqzTNy"
      },
      "execution_count": null,
      "outputs": []
    },
    {
      "cell_type": "code",
      "source": [
        "def sum_of_squares(v:vector)->float:\n",
        "  return dot(v,v)\n",
        "assert sum_of_squares([1,2,3])==14"
      ],
      "metadata": {
        "id": "My0SZ2CTzhzW"
      },
      "execution_count": null,
      "outputs": []
    },
    {
      "cell_type": "code",
      "source": [
        "import math"
      ],
      "metadata": {
        "id": "UuWIFD4xzncw"
      },
      "execution_count": null,
      "outputs": []
    },
    {
      "cell_type": "code",
      "source": [
        "def magnitude(v:vector)->float:\n",
        "  return math.sqrt(sum_of_squares(v))\n",
        "assert magnitude([3,4])==5"
      ],
      "metadata": {
        "id": "GMlqKvVI0UdR"
      },
      "execution_count": null,
      "outputs": []
    },
    {
      "cell_type": "code",
      "source": [
        "from typing import List\n",
        "matrix =List[List[float]]"
      ],
      "metadata": {
        "id": "B8dlCzJ_0nHh"
      },
      "execution_count": null,
      "outputs": []
    },
    {
      "cell_type": "code",
      "source": [
        "A = [[1,2,3],[4,5,6]]\n",
        "B = [[1,2],[3,4],[6,7]]"
      ],
      "metadata": {
        "id": "8ohHYPgU0ve_"
      },
      "execution_count": null,
      "outputs": []
    },
    {
      "cell_type": "code",
      "source": [
        "from typing import Tuple"
      ],
      "metadata": {
        "id": "I8jxSNC304wQ"
      },
      "execution_count": null,
      "outputs": []
    },
    {
      "cell_type": "code",
      "source": [
        "def shape(A:matrix)-> Tuple[int,int]:\n",
        "  \"#return (# of rows, # of columns)\"\n",
        "  num_rows = len(A)\n",
        "  num_cols = len(A[0]) if A else 0\n",
        "  return num_rows,num_cols\n",
        "assert shape([[1,2,3],[4,5,6]])==(2,3)"
      ],
      "metadata": {
        "id": "OeUlxslJ2QW5"
      },
      "execution_count": null,
      "outputs": []
    },
    {
      "cell_type": "code",
      "source": [
        "def get_row(A:matrix,i: int) ->vector:\n",
        "  return A[i]"
      ],
      "metadata": {
        "id": "tLM-ooIB2YWQ"
      },
      "execution_count": null,
      "outputs": []
    },
    {
      "cell_type": "code",
      "source": [
        "def get_column(A:matrix,j: int) ->vector:\n",
        "  return [A_i[j] for A_i in A]"
      ],
      "metadata": {
        "id": "4Ku79Sik3oVr"
      },
      "execution_count": null,
      "outputs": []
    },
    {
      "cell_type": "code",
      "source": [],
      "metadata": {
        "id": "vIDYir-P305q"
      },
      "execution_count": null,
      "outputs": []
    }
  ]
}