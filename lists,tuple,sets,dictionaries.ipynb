{
  "nbformat": 4,
  "nbformat_minor": 0,
  "metadata": {
    "colab": {
      "provenance": [],
      "authorship_tag": "ABX9TyPwy/yT9c/oytGVXfDCmC3V",
      "include_colab_link": true
    },
    "kernelspec": {
      "name": "python3",
      "display_name": "Python 3"
    },
    "language_info": {
      "name": "python"
    }
  },
  "cells": [
    {
      "cell_type": "markdown",
      "metadata": {
        "id": "view-in-github",
        "colab_type": "text"
      },
      "source": [
        "<a href=\"https://colab.research.google.com/github/kartik2627/python_basic/blob/main/lists%2Ctuple%2Csets%2Cdictionaries.ipynb\" target=\"_parent\"><img src=\"https://colab.research.google.com/assets/colab-badge.svg\" alt=\"Open In Colab\"/></a>"
      ]
    },
    {
      "cell_type": "code",
      "execution_count": null,
      "metadata": {
        "colab": {
          "base_uri": "https://localhost:8080/"
        },
        "id": "L9KA5wF40JGx",
        "outputId": "a9eb6930-1b15-4809-ce76-cf4aa5899b55"
      },
      "outputs": [
        {
          "output_type": "stream",
          "name": "stdout",
          "text": [
            "['ragav', 'krish', 'ranna', 'kartikay']\n"
          ]
        }
      ],
      "source": [
        "name = ['ragav','krish','ranna','kartikay']\n",
        "print(name)"
      ]
    },
    {
      "cell_type": "code",
      "source": [
        "fruits = ['apple','banana','kiwi','cherry','orange','gauva']\n",
        "print(fruits[2:5])"
      ],
      "metadata": {
        "colab": {
          "base_uri": "https://localhost:8080/"
        },
        "id": "95sokpR7_CK8",
        "outputId": "fdb83baa-36c3-4741-8a60-9455131d10c1"
      },
      "execution_count": null,
      "outputs": [
        {
          "output_type": "stream",
          "name": "stdout",
          "text": [
            "['kiwi', 'cherry', 'orange']\n"
          ]
        }
      ]
    },
    {
      "cell_type": "code",
      "source": [
        "print(fruits[:4])"
      ],
      "metadata": {
        "colab": {
          "base_uri": "https://localhost:8080/"
        },
        "id": "LM68ZZRI_TdK",
        "outputId": "d106a46b-eadc-4411-b851-708c85202089"
      },
      "execution_count": null,
      "outputs": [
        {
          "output_type": "stream",
          "name": "stdout",
          "text": [
            "['apple', 'banana', 'kiwi', 'cherry']\n"
          ]
        }
      ]
    },
    {
      "cell_type": "code",
      "source": [
        "print(fruits[:1])"
      ],
      "metadata": {
        "colab": {
          "base_uri": "https://localhost:8080/"
        },
        "id": "M-JLZcFw_Wda",
        "outputId": "5ba6f4d3-6335-48ab-c211-12738b98618b"
      },
      "execution_count": null,
      "outputs": [
        {
          "output_type": "stream",
          "name": "stdout",
          "text": [
            "['apple']\n"
          ]
        }
      ]
    },
    {
      "cell_type": "code",
      "source": [
        "college_name = ['UILS','MIT','NYU']\n",
        "print(college_name)"
      ],
      "metadata": {
        "colab": {
          "base_uri": "https://localhost:8080/"
        },
        "id": "F4C_TVvw_Zud",
        "outputId": "d4068390-dcc8-4117-f877-5ec812eef10d"
      },
      "execution_count": null,
      "outputs": [
        {
          "output_type": "stream",
          "name": "stdout",
          "text": [
            "['UILS', 'MIT', 'NYU']\n"
          ]
        }
      ]
    },
    {
      "cell_type": "code",
      "source": [
        "print(college_name[1])"
      ],
      "metadata": {
        "colab": {
          "base_uri": "https://localhost:8080/"
        },
        "id": "FjDAhY0X_2S7",
        "outputId": "1ea65ba0-9051-442d-d42f-e539f2e10327"
      },
      "execution_count": null,
      "outputs": [
        {
          "output_type": "stream",
          "name": "stdout",
          "text": [
            "MIT\n"
          ]
        }
      ]
    },
    {
      "cell_type": "code",
      "source": [
        "print(college_name[-1])"
      ],
      "metadata": {
        "colab": {
          "base_uri": "https://localhost:8080/"
        },
        "id": "L8vlKbD6_4kj",
        "outputId": "7cf257b1-22dc-4754-b2f4-485416a1783a"
      },
      "execution_count": null,
      "outputs": [
        {
          "output_type": "stream",
          "name": "stdout",
          "text": [
            "NYU\n"
          ]
        }
      ]
    },
    {
      "cell_type": "code",
      "source": [
        "#MODIFICATION OF LIST ELEMENTS\n",
        "fruits = ['apple','banana','kiwi','cherry','orange','gauva']\n",
        "fruits[1] = 'mango'\n",
        "print(fruits)"
      ],
      "metadata": {
        "colab": {
          "base_uri": "https://localhost:8080/"
        },
        "id": "b3N2GnddAP2w",
        "outputId": "d65332c4-092d-4e59-e6e6-c85942d2e3b7"
      },
      "execution_count": null,
      "outputs": [
        {
          "output_type": "stream",
          "name": "stdout",
          "text": [
            "['apple', 'mango', 'kiwi', 'cherry', 'orange', 'gauva']\n"
          ]
        }
      ]
    },
    {
      "cell_type": "code",
      "source": [
        "fruits[2] = 'pineapple'\n",
        "print(fruits)"
      ],
      "metadata": {
        "colab": {
          "base_uri": "https://localhost:8080/"
        },
        "id": "iFI3aVjWAj6o",
        "outputId": "7a7dd8d4-612d-4939-fbf8-ff05a9f60909"
      },
      "execution_count": null,
      "outputs": [
        {
          "output_type": "stream",
          "name": "stdout",
          "text": [
            "['apple', 'mango', 'pineapple', 'cherry', 'orange', 'gauva']\n"
          ]
        }
      ]
    },
    {
      "cell_type": "code",
      "source": [
        "CARS = ['Range-rover','BMW','Kia']\n",
        "print(CARS)"
      ],
      "metadata": {
        "colab": {
          "base_uri": "https://localhost:8080/"
        },
        "id": "JADL5oW1Ard-",
        "outputId": "167578bc-8d65-4201-a914-85f214323161"
      },
      "execution_count": null,
      "outputs": [
        {
          "output_type": "stream",
          "name": "stdout",
          "text": [
            "['Range-rover', 'BMW', 'Kia']\n"
          ]
        }
      ]
    },
    {
      "cell_type": "code",
      "source": [
        "CARS.append('Audi')\n",
        "print(CARS)"
      ],
      "metadata": {
        "colab": {
          "base_uri": "https://localhost:8080/"
        },
        "id": "ntgUeaKpA_Zh",
        "outputId": "94bb6381-0288-46f7-820f-6834d3d053bd"
      },
      "execution_count": null,
      "outputs": [
        {
          "output_type": "stream",
          "name": "stdout",
          "text": [
            "['Range-rover', 'BMW', 'Kia', 'Audi']\n"
          ]
        }
      ]
    },
    {
      "cell_type": "code",
      "source": [
        "fruits.insert(2,'grapes')\n",
        "print(fruits)"
      ],
      "metadata": {
        "colab": {
          "base_uri": "https://localhost:8080/"
        },
        "id": "VyR6C1x9BDj1",
        "outputId": "21bfeddc-e6f0-458b-b656-6be1418f6853"
      },
      "execution_count": null,
      "outputs": [
        {
          "output_type": "stream",
          "name": "stdout",
          "text": [
            "['apple', 'mango', 'grapes', 'pineapple', 'cherry', 'orange', 'gauva']\n"
          ]
        }
      ]
    },
    {
      "cell_type": "code",
      "source": [
        "CARS.insert(1,'Benz')\n",
        "print(CARS)"
      ],
      "metadata": {
        "colab": {
          "base_uri": "https://localhost:8080/"
        },
        "id": "5Eu5Eyn_BQJn",
        "outputId": "584a7828-66c6-41cd-aabc-db9c330e65dc"
      },
      "execution_count": null,
      "outputs": [
        {
          "output_type": "stream",
          "name": "stdout",
          "text": [
            "['Range-rover', 'Benz', 'BMW', 'Kia', 'Audi']\n"
          ]
        }
      ]
    },
    {
      "cell_type": "code",
      "source": [
        "fruits.remove('cherry')\n",
        "print(fruits)"
      ],
      "metadata": {
        "colab": {
          "base_uri": "https://localhost:8080/"
        },
        "id": "gZ1ZILGCBUpA",
        "outputId": "0117f79b-e9e3-48bd-c7d5-da1aafeee257"
      },
      "execution_count": null,
      "outputs": [
        {
          "output_type": "stream",
          "name": "stdout",
          "text": [
            "['apple', 'mango', 'grapes', 'pineapple', 'orange', 'gauva']\n"
          ]
        }
      ]
    },
    {
      "cell_type": "code",
      "source": [
        "popped_fruits = fruits.pop()\n",
        "print(popped_fruits)\n"
      ],
      "metadata": {
        "colab": {
          "base_uri": "https://localhost:8080/"
        },
        "id": "peT2BB6HBYA7",
        "outputId": "1b1cef3b-e448-40fb-dbac-0badb9dcf077"
      },
      "execution_count": null,
      "outputs": [
        {
          "output_type": "stream",
          "name": "stdout",
          "text": [
            "gauva\n"
          ]
        }
      ]
    },
    {
      "cell_type": "code",
      "source": [
        "fruits.index('apple')"
      ],
      "metadata": {
        "colab": {
          "base_uri": "https://localhost:8080/"
        },
        "id": "KZVHoXzzBsaT",
        "outputId": "f2a7d7dd-356e-456e-e6bc-edbcb5bbda57"
      },
      "execution_count": null,
      "outputs": [
        {
          "output_type": "execute_result",
          "data": {
            "text/plain": [
              "0"
            ]
          },
          "metadata": {},
          "execution_count": 18
        }
      ]
    },
    {
      "cell_type": "code",
      "source": [
        "fruits.insert(3,'grapes')\n",
        "fruits.count('grapes')"
      ],
      "metadata": {
        "colab": {
          "base_uri": "https://localhost:8080/"
        },
        "id": "CV6nHID9B4sm",
        "outputId": "67800ea8-7516-45cf-ade4-e78118dede40"
      },
      "execution_count": null,
      "outputs": [
        {
          "output_type": "execute_result",
          "data": {
            "text/plain": [
              "2"
            ]
          },
          "metadata": {},
          "execution_count": 20
        }
      ]
    },
    {
      "cell_type": "code",
      "source": [
        "fruits.clear()\n",
        "print(fruits)"
      ],
      "metadata": {
        "colab": {
          "base_uri": "https://localhost:8080/"
        },
        "id": "N2C-TPlWCJ9_",
        "outputId": "c4afbc6d-d1de-4c02-cbb8-5f004ac95b27"
      },
      "execution_count": null,
      "outputs": [
        {
          "output_type": "stream",
          "name": "stdout",
          "text": [
            "[]\n"
          ]
        }
      ]
    },
    {
      "cell_type": "code",
      "source": [
        "numbers = [1,2,3,4,5,6,7,8,9]\n",
        "print(numbers)\n",
        "print(min(numbers))\n",
        "print(max(numbers))\n",
        "print(sum(numbers))\n",
        "print(numbers[:5])\n",
        "print(numbers[5:])\n",
        "print(numbers[2:5])\n",
        "print(numbers[-1])"
      ],
      "metadata": {
        "colab": {
          "base_uri": "https://localhost:8080/"
        },
        "id": "4a1xygIVCiSG",
        "outputId": "aaf95442-52f4-4f89-fe74-aad7eb5c5fd6"
      },
      "execution_count": null,
      "outputs": [
        {
          "output_type": "stream",
          "name": "stdout",
          "text": [
            "[1, 2, 3, 4, 5, 6, 7, 8, 9]\n",
            "1\n",
            "9\n",
            "45\n",
            "[1, 2, 3, 4, 5]\n",
            "[6, 7, 8, 9]\n",
            "[3, 4, 5]\n",
            "9\n"
          ]
        }
      ]
    },
    {
      "cell_type": "code",
      "source": [
        "numbers[::2]"
      ],
      "metadata": {
        "colab": {
          "base_uri": "https://localhost:8080/"
        },
        "id": "-9Rl6XLsDBYg",
        "outputId": "e55fabc7-7198-46e9-fe91-9fbb54b237af"
      },
      "execution_count": null,
      "outputs": [
        {
          "output_type": "execute_result",
          "data": {
            "text/plain": [
              "[1, 3, 5, 7, 9]"
            ]
          },
          "metadata": {},
          "execution_count": 24
        }
      ]
    },
    {
      "cell_type": "code",
      "source": [
        "fruits = ['apple','banana','kiwi','cherry','orange','gauva']\n",
        "for x in fruits:\n",
        "    print(x)"
      ],
      "metadata": {
        "colab": {
          "base_uri": "https://localhost:8080/"
        },
        "id": "SF5P8wJlDW8Q",
        "outputId": "b3d8934c-4b27-4d7c-a8fe-b4dc183e2ab9"
      },
      "execution_count": null,
      "outputs": [
        {
          "output_type": "stream",
          "name": "stdout",
          "text": [
            "apple\n",
            "banana\n",
            "kiwi\n",
            "cherry\n",
            "orange\n",
            "gauva\n"
          ]
        }
      ]
    },
    {
      "cell_type": "code",
      "source": [
        "for index,number in enumerate(numbers):\n",
        "    print(index,number)"
      ],
      "metadata": {
        "colab": {
          "base_uri": "https://localhost:8080/"
        },
        "id": "7AmSGMg_Df_0",
        "outputId": "2aad68d7-2f68-41a7-b471-56b71381a2f0"
      },
      "execution_count": null,
      "outputs": [
        {
          "output_type": "stream",
          "name": "stdout",
          "text": [
            "0 1\n",
            "1 2\n",
            "2 3\n",
            "3 4\n",
            "4 5\n",
            "5 6\n",
            "6 7\n",
            "7 8\n",
            "8 9\n"
          ]
        }
      ]
    },
    {
      "cell_type": "code",
      "source": [
        "lst = []\n",
        "for x in range (1,11):\n",
        "    lst.append(x**2)\n",
        "print(lst)"
      ],
      "metadata": {
        "colab": {
          "base_uri": "https://localhost:8080/"
        },
        "id": "qCXx9ifbDxel",
        "outputId": "5aed3fd2-7afb-49f1-a25a-99f84f84f116"
      },
      "execution_count": null,
      "outputs": [
        {
          "output_type": "stream",
          "name": "stdout",
          "text": [
            "[1, 4, 9, 16, 25, 36, 49, 64, 81, 100]\n"
          ]
        }
      ]
    },
    {
      "cell_type": "code",
      "source": [
        "for x in range (1,11):\n",
        "    print(x*2)"
      ],
      "metadata": {
        "colab": {
          "base_uri": "https://localhost:8080/"
        },
        "id": "DTYgeHgtEMFL",
        "outputId": "6e3a1f5e-d534-4fa5-a588-38c7f43f26ce"
      },
      "execution_count": null,
      "outputs": [
        {
          "output_type": "stream",
          "name": "stdout",
          "text": [
            "2\n",
            "4\n",
            "6\n",
            "8\n",
            "10\n",
            "12\n",
            "14\n",
            "16\n",
            "18\n",
            "20\n"
          ]
        }
      ]
    },
    {
      "cell_type": "code",
      "source": [
        "squared = [x**2 for x in range(1,11)]\n",
        "print(squared)"
      ],
      "metadata": {
        "colab": {
          "base_uri": "https://localhost:8080/"
        },
        "id": "aQumqj5FEg-i",
        "outputId": "a25eb106-20a6-4631-a0b6-8a6fe4e61eac"
      },
      "execution_count": null,
      "outputs": [
        {
          "output_type": "stream",
          "name": "stdout",
          "text": [
            "[1, 4, 9, 16, 25, 36, 49, 64, 81, 100]\n"
          ]
        }
      ]
    },
    {
      "cell_type": "code",
      "source": [
        "num = []\n",
        "for i in range(11):\n",
        "  if i % 2 == 0:\n",
        "    num.append(i)\n",
        "print(num)"
      ],
      "metadata": {
        "colab": {
          "base_uri": "https://localhost:8080/"
        },
        "id": "7MS8phayFCv1",
        "outputId": "2ec66687-f378-4b31-f281-917a2692ad71"
      },
      "execution_count": null,
      "outputs": [
        {
          "output_type": "stream",
          "name": "stdout",
          "text": [
            "[0, 2, 4, 6, 8, 10]\n"
          ]
        }
      ]
    },
    {
      "cell_type": "code",
      "source": [
        "even_number = [i for i in range(11) if i % 2 == 0]\n",
        "print(even_number)"
      ],
      "metadata": {
        "colab": {
          "base_uri": "https://localhost:8080/"
        },
        "id": "qKjmv4ZSFZY4",
        "outputId": "0bde3363-4dd3-4f2d-9d79-59dfdae08a30"
      },
      "execution_count": null,
      "outputs": [
        {
          "output_type": "stream",
          "name": "stdout",
          "text": [
            "[0, 2, 4, 6, 8, 10]\n"
          ]
        }
      ]
    },
    {
      "cell_type": "code",
      "source": [
        "lst1 =[1,2,3,4,5]\n",
        "lst2 =['a','b','c','d','e']\n",
        "new_list = [(i,j) for i in lst1 for j in lst2]\n",
        "print(new_list)"
      ],
      "metadata": {
        "colab": {
          "base_uri": "https://localhost:8080/"
        },
        "id": "6PJo7lTMFcgo",
        "outputId": "72254642-a818-4d6d-cde9-9c8d9d2c6cb9"
      },
      "execution_count": null,
      "outputs": [
        {
          "output_type": "stream",
          "name": "stdout",
          "text": [
            "[(1, 'a'), (1, 'b'), (1, 'c'), (1, 'd'), (1, 'e'), (2, 'a'), (2, 'b'), (2, 'c'), (2, 'd'), (2, 'e'), (3, 'a'), (3, 'b'), (3, 'c'), (3, 'd'), (3, 'e'), (4, 'a'), (4, 'b'), (4, 'c'), (4, 'd'), (4, 'e'), (5, 'a'), (5, 'b'), (5, 'c'), (5, 'd'), (5, 'e')]\n"
          ]
        }
      ]
    },
    {
      "cell_type": "code",
      "source": [
        "positive_list = []\n",
        "for i in range(1,21):\n",
        "  positive_list.append(i)\n",
        "print(positive_list)"
      ],
      "metadata": {
        "colab": {
          "base_uri": "https://localhost:8080/"
        },
        "id": "xy2WARdYFphA",
        "outputId": "fbc19f9c-f859-4949-c4ca-c09106414df0"
      },
      "execution_count": null,
      "outputs": [
        {
          "output_type": "stream",
          "name": "stdout",
          "text": [
            "[1, 2, 3, 4, 5, 6, 7, 8, 9, 10, 11, 12, 13, 14, 15, 16, 17, 18, 19, 20]\n"
          ]
        }
      ]
    },
    {
      "cell_type": "code",
      "source": [
        "print(positive_list[0])\n",
        "print(positive_list[-1])\n",
        "middle_index = len(positive_list) // 2\n",
        "print(positive_list[middle_index])"
      ],
      "metadata": {
        "colab": {
          "base_uri": "https://localhost:8080/"
        },
        "id": "sNJzHS4aNy3k",
        "outputId": "7e290b34-6cc5-4982-96ef-f21756af4489"
      },
      "execution_count": null,
      "outputs": [
        {
          "output_type": "stream",
          "name": "stdout",
          "text": [
            "1\n",
            "20\n",
            "11\n"
          ]
        }
      ]
    },
    {
      "cell_type": "code",
      "source": [
        "print(positive_list[:5])\n",
        "print(positive_list[-5:])\n",
        "print(positive_list[5:15])"
      ],
      "metadata": {
        "colab": {
          "base_uri": "https://localhost:8080/"
        },
        "id": "oQU3TjdyOQP4",
        "outputId": "1b368f5c-6532-4327-87b0-d308b657804c"
      },
      "execution_count": null,
      "outputs": [
        {
          "output_type": "stream",
          "name": "stdout",
          "text": [
            "[1, 2, 3, 4, 5]\n",
            "[16, 17, 18, 19, 20]\n",
            "[6, 7, 8, 9, 10, 11, 12, 13, 14, 15]\n"
          ]
        }
      ]
    },
    {
      "cell_type": "code",
      "source": [
        "squared_list = [x**2 for x in range (1,11)]\n",
        "print(squared_list)"
      ],
      "metadata": {
        "colab": {
          "base_uri": "https://localhost:8080/"
        },
        "id": "F6DCIYBKO7dt",
        "outputId": "447e2c43-8f61-43ef-c8cb-775bb6a2d721"
      },
      "execution_count": null,
      "outputs": [
        {
          "output_type": "stream",
          "name": "stdout",
          "text": [
            "[1, 4, 9, 16, 25, 36, 49, 64, 81, 100]\n"
          ]
        }
      ]
    },
    {
      "cell_type": "code",
      "source": [
        "import random as r\n",
        "randdom_list = [r.randint(1,100) for i in range(10)]\n",
        "print(randdom_list)"
      ],
      "metadata": {
        "colab": {
          "base_uri": "https://localhost:8080/"
        },
        "id": "zlQm9xaEPTMm",
        "outputId": "bffc1c0f-9504-4056-eec9-9af26da87ae3"
      },
      "execution_count": null,
      "outputs": [
        {
          "output_type": "stream",
          "name": "stdout",
          "text": [
            "[94, 18, 1, 79, 49, 85, 70, 51, 71, 81]\n"
          ]
        }
      ]
    },
    {
      "cell_type": "code",
      "source": [
        "modified_list = sorted(randdom_list)\n",
        "print(modified_list)"
      ],
      "metadata": {
        "colab": {
          "base_uri": "https://localhost:8080/"
        },
        "id": "iA5AAP9QPj-I",
        "outputId": "e745b33f-7b58-40aa-bd90-ef786dd897fa"
      },
      "execution_count": null,
      "outputs": [
        {
          "output_type": "stream",
          "name": "stdout",
          "text": [
            "[1, 18, 49, 51, 70, 71, 79, 81, 85, 94]\n"
          ]
        }
      ]
    },
    {
      "cell_type": "code",
      "source": [
        "nested_list=[[1,2,3],[4,5,6],[7,8,9]]\n",
        "print(nested_list)"
      ],
      "metadata": {
        "colab": {
          "base_uri": "https://localhost:8080/"
        },
        "id": "IutWdPcSPyF7",
        "outputId": "69cdb5bf-254a-4286-843d-a2967a89c86b"
      },
      "execution_count": null,
      "outputs": [
        {
          "output_type": "stream",
          "name": "stdout",
          "text": [
            "[[1, 2, 3], [4, 5, 6], [7, 8, 9]]\n"
          ]
        }
      ]
    },
    {
      "cell_type": "code",
      "source": [
        "students = [\n",
        "    {'name': 'Alice', 'score': 85},\n",
        "    {'name': 'Bob', 'score': 92},\n",
        "    {'name': 'Charlie', 'score': 78},\n",
        "    {'name': 'David', 'score': 95},\n",
        "]"
      ],
      "metadata": {
        "id": "WbE-4QFqQj9L"
      },
      "execution_count": null,
      "outputs": []
    },
    {
      "cell_type": "code",
      "source": [
        "def transpose_matrix(matrix):\n",
        "    return [[matrix[j][i] for j in range(len(matrix))] for i in range(len(matrix[0]))]\n",
        "matrix = [\n",
        "    [1, 2, 3],\n",
        "    [4, 5, 6],\n",
        "    [7, 8, 9]\n",
        "]\n",
        "\n",
        "transposed_matrix = transpose_matrix(matrix)\n",
        "print(\"Original Matrix:\", matrix)\n",
        "print(\"Transposed Matrix:\", transposed_matrix)\n"
      ],
      "metadata": {
        "colab": {
          "base_uri": "https://localhost:8080/"
        },
        "id": "oXSYjBhQQkUu",
        "outputId": "4fc10b28-7b81-43df-ea14-ee150963fdee"
      },
      "execution_count": null,
      "outputs": [
        {
          "output_type": "stream",
          "name": "stdout",
          "text": [
            "Original Matrix: [[1, 2, 3], [4, 5, 6], [7, 8, 9]]\n",
            "Transposed Matrix: [[1, 4, 7], [2, 5, 8], [3, 6, 9]]\n"
          ]
        }
      ]
    },
    {
      "cell_type": "code",
      "source": [
        "numbers = list(range(1, 11))\n",
        "\n",
        "del numbers[6]\n",
        "del numbers[4]\n",
        "del numbers[2]\n",
        "numbers.insert(5, 99)\n",
        "\n",
        "print(\"Modified List:\", numbers)\n"
      ],
      "metadata": {
        "colab": {
          "base_uri": "https://localhost:8080/"
        },
        "id": "f8NfoxOeTGoB",
        "outputId": "c315e122-ac26-4a99-bb8f-565de81a7b9e"
      },
      "execution_count": null,
      "outputs": [
        {
          "output_type": "stream",
          "name": "stdout",
          "text": [
            "Modified List: [1, 2, 4, 6, 8, 99, 9, 10]\n"
          ]
        }
      ]
    },
    {
      "cell_type": "code",
      "source": [
        "list1 = [1, 2, 3, 4, 5]\n",
        "list2 = ['a', 'b', 'c', 'd', 'e']\n",
        "zipped_list = list(zip(list1, list2))\n",
        "print(\"Zipped List:\", zipped_list)\n"
      ],
      "metadata": {
        "colab": {
          "base_uri": "https://localhost:8080/"
        },
        "id": "0wzXQe1zTp2M",
        "outputId": "06b8f36d-9e5f-4dd3-ad8f-c088635bb446"
      },
      "execution_count": null,
      "outputs": [
        {
          "output_type": "stream",
          "name": "stdout",
          "text": [
            "Zipped List: [(1, 'a'), (2, 'b'), (3, 'c'), (4, 'd'), (5, 'e')]\n"
          ]
        }
      ]
    },
    {
      "cell_type": "code",
      "source": [
        "def reverse_list(lst):\n",
        "    return lst[::-1]\n",
        "original_list = [1, 2, 3, 4, 5]\n",
        "reversed_list = reverse_list(original_list)\n",
        "print(\"Original List:\", original_list)\n",
        "print(\"Reversed List:\", reversed_list)"
      ],
      "metadata": {
        "colab": {
          "base_uri": "https://localhost:8080/"
        },
        "id": "MLbwRgYcTyGa",
        "outputId": "a1429bfd-98f7-46ef-b40c-16eea9e775df"
      },
      "execution_count": null,
      "outputs": [
        {
          "output_type": "stream",
          "name": "stdout",
          "text": [
            "Original List: [1, 2, 3, 4, 5]\n",
            "Reversed List: [5, 4, 3, 2, 1]\n"
          ]
        }
      ]
    },
    {
      "cell_type": "code",
      "source": [
        "def list_intersection(list1, list2):\n",
        "    return [item for item in list1 if item in list2]\n",
        "\n",
        "list1 = [1, 2, 3, 4, 5]\n",
        "list2 = [4, 5, 6, 7, 8]\n",
        "intersected_list = list_intersection(list1, list2)\n",
        "print(\"Intersection of Lists:\", intersected_list)"
      ],
      "metadata": {
        "colab": {
          "base_uri": "https://localhost:8080/"
        },
        "id": "XFW1HmzuT2rB",
        "outputId": "8a09fb44-d9cc-45c8-97c3-f5d938d2458e"
      },
      "execution_count": null,
      "outputs": [
        {
          "output_type": "stream",
          "name": "stdout",
          "text": [
            "Intersection of Lists: [4, 5]\n"
          ]
        }
      ]
    },
    {
      "cell_type": "code",
      "source": [
        "#TUPLE ARE collection of item which are immutable\n",
        "empty_tuple = ()\n",
        "print(empty_tuple)"
      ],
      "metadata": {
        "colab": {
          "base_uri": "https://localhost:8080/"
        },
        "id": "UOxdys0kT57e",
        "outputId": "307e2e8d-a393-4cc3-eb56-8d48a2aafb82"
      },
      "execution_count": null,
      "outputs": [
        {
          "output_type": "stream",
          "name": "stdout",
          "text": [
            "()\n"
          ]
        }
      ]
    },
    {
      "cell_type": "code",
      "source": [
        "print(type(empty_tuple))"
      ],
      "metadata": {
        "colab": {
          "base_uri": "https://localhost:8080/"
        },
        "id": "xnhHONFvUZ47",
        "outputId": "ec187a00-4832-42c4-dcad-ff53680a7327"
      },
      "execution_count": null,
      "outputs": [
        {
          "output_type": "stream",
          "name": "stdout",
          "text": [
            "<class 'tuple'>\n"
          ]
        }
      ]
    },
    {
      "cell_type": "code",
      "source": [
        "lst = list()\n",
        "print(type(lst))"
      ],
      "metadata": {
        "colab": {
          "base_uri": "https://localhost:8080/"
        },
        "id": "w8Hw64SeUeDJ",
        "outputId": "121ff3bc-8ee3-437e-f80f-7edfc1f2055e"
      },
      "execution_count": null,
      "outputs": [
        {
          "output_type": "stream",
          "name": "stdout",
          "text": [
            "<class 'list'>\n"
          ]
        }
      ]
    },
    {
      "cell_type": "code",
      "source": [
        "number = (1,2,3,4,5)\n",
        "print(number)"
      ],
      "metadata": {
        "colab": {
          "base_uri": "https://localhost:8080/"
        },
        "id": "89ZYnIVEUq5I",
        "outputId": "86088375-85ed-43d2-ad99-793099741bb8"
      },
      "execution_count": null,
      "outputs": [
        {
          "output_type": "stream",
          "name": "stdout",
          "text": [
            "(1, 2, 3, 4, 5)\n"
          ]
        }
      ]
    },
    {
      "cell_type": "code",
      "source": [
        "num =tuple([1,2,3,4,5,6,7])\n",
        "num"
      ],
      "metadata": {
        "colab": {
          "base_uri": "https://localhost:8080/"
        },
        "id": "S-K8MNUxUtOL",
        "outputId": "a528a99d-9525-4ba2-cf96-3ddbe89cf65a"
      },
      "execution_count": null,
      "outputs": [
        {
          "output_type": "execute_result",
          "data": {
            "text/plain": [
              "(1, 2, 3, 4, 5, 6, 7)"
            ]
          },
          "metadata": {},
          "execution_count": 57
        }
      ]
    },
    {
      "cell_type": "code",
      "source": [
        "mixed_tuple = (1, 'hello', 3.14, True)\n",
        "mixed_tuple"
      ],
      "metadata": {
        "colab": {
          "base_uri": "https://localhost:8080/"
        },
        "id": "E2lKSyWkUtQk",
        "outputId": "55c08e96-b405-4960-b713-3cb08c88e93a"
      },
      "execution_count": null,
      "outputs": [
        {
          "output_type": "execute_result",
          "data": {
            "text/plain": [
              "(1, 'hello', 3.14, True)"
            ]
          },
          "metadata": {},
          "execution_count": 58
        }
      ]
    },
    {
      "cell_type": "code",
      "source": [
        "num[0:1]"
      ],
      "metadata": {
        "colab": {
          "base_uri": "https://localhost:8080/"
        },
        "id": "55s6WqryUtTg",
        "outputId": "8e2893fb-704e-416f-fd9b-c3129b90a682"
      },
      "execution_count": null,
      "outputs": [
        {
          "output_type": "execute_result",
          "data": {
            "text/plain": [
              "(1,)"
            ]
          },
          "metadata": {},
          "execution_count": 59
        }
      ]
    },
    {
      "cell_type": "code",
      "source": [
        "num[::]"
      ],
      "metadata": {
        "colab": {
          "base_uri": "https://localhost:8080/"
        },
        "id": "Sky4Qg8LUtW0",
        "outputId": "2439bc7e-5726-41c9-d3cf-c83495d7dbd1"
      },
      "execution_count": null,
      "outputs": [
        {
          "output_type": "execute_result",
          "data": {
            "text/plain": [
              "(1, 2, 3, 4, 5, 6, 7)"
            ]
          },
          "metadata": {},
          "execution_count": 60
        }
      ]
    },
    {
      "cell_type": "code",
      "source": [
        "num[-1]"
      ],
      "metadata": {
        "colab": {
          "base_uri": "https://localhost:8080/"
        },
        "id": "98yDiUthUtaJ",
        "outputId": "024c85e7-2746-48dd-985e-6a8d9b71850f"
      },
      "execution_count": null,
      "outputs": [
        {
          "output_type": "execute_result",
          "data": {
            "text/plain": [
              "7"
            ]
          },
          "metadata": {},
          "execution_count": 61
        }
      ]
    },
    {
      "cell_type": "code",
      "source": [
        "tuple_op1 = (1,2,3)\n",
        "tuple_op2 = (4,5,6)\n",
        "tuple_op3 = tuple_op1 + tuple_op2\n",
        "print(tuple_op3)"
      ],
      "metadata": {
        "colab": {
          "base_uri": "https://localhost:8080/"
        },
        "id": "o0ccKbwgUtdV",
        "outputId": "8a9cf3c3-987d-4caf-df23-4b54185e8143"
      },
      "execution_count": null,
      "outputs": [
        {
          "output_type": "stream",
          "name": "stdout",
          "text": [
            "(1, 2, 3, 4, 5, 6)\n"
          ]
        }
      ]
    },
    {
      "cell_type": "code",
      "source": [
        "num1 = 1,2,3,4,5,6,7\n",
        "num2 = 8,9,10\n",
        "num3 = num1 + num2\n",
        "print(num3)"
      ],
      "metadata": {
        "colab": {
          "base_uri": "https://localhost:8080/"
        },
        "id": "DE8yKb_KUtgA",
        "outputId": "87879729-54f7-4e5a-e0d0-2cc6ff571547"
      },
      "execution_count": null,
      "outputs": [
        {
          "output_type": "stream",
          "name": "stdout",
          "text": [
            "(1, 2, 3, 4, 5, 6, 7, 8, 9, 10)\n"
          ]
        }
      ]
    },
    {
      "cell_type": "code",
      "source": [
        "num3 * 3"
      ],
      "metadata": {
        "colab": {
          "base_uri": "https://localhost:8080/"
        },
        "id": "tGG5hV4xUtj7",
        "outputId": "b1a4bd22-b6e6-46b9-d701-760254024c53"
      },
      "execution_count": null,
      "outputs": [
        {
          "output_type": "execute_result",
          "data": {
            "text/plain": [
              "(1,\n",
              " 2,\n",
              " 3,\n",
              " 4,\n",
              " 5,\n",
              " 6,\n",
              " 7,\n",
              " 8,\n",
              " 9,\n",
              " 10,\n",
              " 1,\n",
              " 2,\n",
              " 3,\n",
              " 4,\n",
              " 5,\n",
              " 6,\n",
              " 7,\n",
              " 8,\n",
              " 9,\n",
              " 10,\n",
              " 1,\n",
              " 2,\n",
              " 3,\n",
              " 4,\n",
              " 5,\n",
              " 6,\n",
              " 7,\n",
              " 8,\n",
              " 9,\n",
              " 10)"
            ]
          },
          "metadata": {},
          "execution_count": 64
        }
      ]
    },
    {
      "cell_type": "code",
      "source": [
        "lst = [1,2,3,4,5,6,7]\n",
        "lst.append(8)\n",
        "print(lst)"
      ],
      "metadata": {
        "colab": {
          "base_uri": "https://localhost:8080/"
        },
        "id": "-CZ-FYr-UtuG",
        "outputId": "d935016d-a3e1-47d1-aa2e-532abc52c892"
      },
      "execution_count": null,
      "outputs": [
        {
          "output_type": "stream",
          "name": "stdout",
          "text": [
            "[1, 2, 3, 4, 5, 6, 7, 8]\n"
          ]
        }
      ]
    },
    {
      "cell_type": "code",
      "source": [
        "num = (1,2,3,4,5,6,7)\n",
        "num.count(1)\n",
        "num.index(5)"
      ],
      "metadata": {
        "colab": {
          "base_uri": "https://localhost:8080/"
        },
        "id": "6AhlSDkZUtvl",
        "outputId": "434b2d45-dfa6-4522-9c92-513034f3418e"
      },
      "execution_count": null,
      "outputs": [
        {
          "output_type": "execute_result",
          "data": {
            "text/plain": [
              "4"
            ]
          },
          "metadata": {},
          "execution_count": 68
        }
      ]
    },
    {
      "cell_type": "code",
      "source": [
        "packed_tuple = (1,2,3,4,5,6,7)\n",
        "print(packed_tuple)"
      ],
      "metadata": {
        "colab": {
          "base_uri": "https://localhost:8080/"
        },
        "id": "g-iWoszQUt0s",
        "outputId": "a6658e21-e22e-4c9c-ca5a-a9dd99efe13d"
      },
      "execution_count": null,
      "outputs": [
        {
          "output_type": "stream",
          "name": "stdout",
          "text": [
            "(1, 2, 3, 4, 5, 6, 7)\n"
          ]
        }
      ]
    },
    {
      "cell_type": "code",
      "source": [
        "a,b,c,d,e,f,g = packed_tuple\n",
        "print(a,b,c,d,e,f,g)"
      ],
      "metadata": {
        "id": "0aFDRx8VY8P8"
      },
      "execution_count": null,
      "outputs": []
    },
    {
      "cell_type": "code",
      "source": [
        "number = (1,2,3,4,5,6)\n",
        "first,*middle,last = number\n",
        "print(first)\n",
        "print(middle)\n",
        "print(last)"
      ],
      "metadata": {
        "colab": {
          "base_uri": "https://localhost:8080/"
        },
        "id": "ak0WNPUzZCeN",
        "outputId": "aca6e795-4102-43a5-9130-b13f7d4b6127"
      },
      "execution_count": null,
      "outputs": [
        {
          "output_type": "stream",
          "name": "stdout",
          "text": [
            "1\n",
            "[2, 3, 4, 5]\n",
            "6\n"
          ]
        }
      ]
    },
    {
      "cell_type": "code",
      "source": [
        "lst_nested = [[1,2,3],[4,5,6],[7,8,9]]\n",
        "print(lst_nested)\n"
      ],
      "metadata": {
        "colab": {
          "base_uri": "https://localhost:8080/"
        },
        "id": "DwGqSDWvZcV1",
        "outputId": "aa80418d-63a7-4629-c5cb-57b90c2fcb21"
      },
      "execution_count": null,
      "outputs": [
        {
          "output_type": "stream",
          "name": "stdout",
          "text": [
            "[[1, 2, 3], [4, 5, 6], [7, 8, 9]]\n"
          ]
        }
      ]
    },
    {
      "cell_type": "code",
      "source": [
        "nested_tuple = ((1,2,3),(4,5,6),(7,8,9))\n",
        "print(nested_tuple)\n",
        "for sublist in nested_tuple:\n",
        "    for item in sublist:\n",
        "        print(item,end=' ')\n",
        "    print()"
      ],
      "metadata": {
        "colab": {
          "base_uri": "https://localhost:8080/"
        },
        "id": "szMkvJmGZca9",
        "outputId": "9abdbfc6-3b44-4b93-aa11-608c8e6cb768"
      },
      "execution_count": null,
      "outputs": [
        {
          "output_type": "stream",
          "name": "stdout",
          "text": [
            "((1, 2, 3), (4, 5, 6), (7, 8, 9))\n",
            "1 2 3 \n",
            "4 5 6 \n",
            "7 8 9 \n"
          ]
        }
      ]
    },
    {
      "cell_type": "code",
      "source": [
        "sample_tuple = (10, 20, 30, 40, 50)\n",
        "\n",
        "# Accessing first, middle, and last elements\n",
        "first = sample_tuple[0]\n",
        "middle = sample_tuple[len(sample_tuple) // 2]\n",
        "last = sample_tuple[-1]\n",
        "\n",
        "print(f\"First: {first}, Middle: {middle}, Last: {last}\")"
      ],
      "metadata": {
        "colab": {
          "base_uri": "https://localhost:8080/"
        },
        "id": "KSGkJM6OZcd5",
        "outputId": "7b107153-47fd-4ecc-d4ba-9c764527ffb5"
      },
      "execution_count": null,
      "outputs": [
        {
          "output_type": "stream",
          "name": "stdout",
          "text": [
            "First: 10, Middle: 30, Last: 50\n"
          ]
        }
      ]
    },
    {
      "cell_type": "code",
      "source": [
        "sample_tuple = (10, 20, 30, 40, 50, 60, 70)\n",
        "\n",
        "# Slicing the tuple\n",
        "first_three = sample_tuple[:3]\n",
        "last_three = sample_tuple[-3:]\n",
        "middle_slice = sample_tuple[2:6]\n",
        "\n",
        "print(f\"First three: {first_three}\")\n",
        "print(f\"Last three: {last_three}\")\n",
        "print(f\"Elements from index 2 to 5: {middle_slice}\")"
      ],
      "metadata": {
        "colab": {
          "base_uri": "https://localhost:8080/"
        },
        "id": "W7Yfb7OpZdA2",
        "outputId": "020dca4c-0d92-4df4-a4af-6e6f6a7461bc"
      },
      "execution_count": null,
      "outputs": [
        {
          "output_type": "stream",
          "name": "stdout",
          "text": [
            "First three: (10, 20, 30)\n",
            "Last three: (50, 60, 70)\n",
            "Elements from index 2 to 5: (30, 40, 50, 60)\n"
          ]
        }
      ]
    },
    {
      "cell_type": "code",
      "source": [
        "matrix = (\n",
        "    (1, 2, 3),\n",
        "    (4, 5, 6),\n",
        "    (7, 8, 9)\n",
        ")\n",
        "\n",
        "# Accessing element at second row and third column\n",
        "element = matrix[1][2]\n",
        "\n",
        "print(\"Matrix:\", matrix)\n",
        "print(\"Element at second row, third column:\", element)"
      ],
      "metadata": {
        "colab": {
          "base_uri": "https://localhost:8080/"
        },
        "id": "wz7OfgChZdFe",
        "outputId": "7c14899e-0bed-4701-db55-eaffac956bd7"
      },
      "execution_count": null,
      "outputs": [
        {
          "output_type": "stream",
          "name": "stdout",
          "text": [
            "Matrix: ((1, 2, 3), (4, 5, 6), (7, 8, 9))\n",
            "Element at second row, third column: 6\n"
          ]
        }
      ]
    },
    {
      "cell_type": "code",
      "source": [
        "sets = {1,2,3,4,5,6,7,8,9,0}\n",
        "print(sets)\n",
        "print(type(sets))"
      ],
      "metadata": {
        "id": "liopWXmIZdHc",
        "colab": {
          "base_uri": "https://localhost:8080/"
        },
        "outputId": "df96e345-1a8f-4ac3-fb45-4c3c70f93c7c"
      },
      "execution_count": 2,
      "outputs": [
        {
          "output_type": "stream",
          "name": "stdout",
          "text": [
            "{0, 1, 2, 3, 4, 5, 6, 7, 8, 9}\n",
            "<class 'set'>\n"
          ]
        }
      ]
    },
    {
      "cell_type": "code",
      "source": [
        "my_sets =set()\n",
        "print(my_sets)\n",
        "print(type(my_sets))"
      ],
      "metadata": {
        "id": "Xmma1aLkZdKO",
        "colab": {
          "base_uri": "https://localhost:8080/"
        },
        "outputId": "3fca74bb-3a52-42d1-d74a-0907ddd32f30"
      },
      "execution_count": 3,
      "outputs": [
        {
          "output_type": "stream",
          "name": "stdout",
          "text": [
            "set()\n",
            "<class 'set'>\n"
          ]
        }
      ]
    },
    {
      "cell_type": "code",
      "source": [
        "my_set = set([1,2,3,4,5,6,7,8,9])\n",
        "print(my_set)"
      ],
      "metadata": {
        "colab": {
          "base_uri": "https://localhost:8080/"
        },
        "id": "pP2XTWIwofS9",
        "outputId": "7240175d-b18d-45e4-c2c8-c059b0e2c122"
      },
      "execution_count": 4,
      "outputs": [
        {
          "output_type": "stream",
          "name": "stdout",
          "text": [
            "{1, 2, 3, 4, 5, 6, 7, 8, 9}\n"
          ]
        }
      ]
    },
    {
      "cell_type": "code",
      "source": [
        "set_add = {1,2,3,4,5,6,7,8,9}\n",
        "set_add.add(10)\n",
        "set_add.add(11)\n",
        "print(set_add)"
      ],
      "metadata": {
        "colab": {
          "base_uri": "https://localhost:8080/"
        },
        "id": "q613NPWponOX",
        "outputId": "4d010d9a-481f-4917-bcaa-63150abcc39d"
      },
      "execution_count": 5,
      "outputs": [
        {
          "output_type": "stream",
          "name": "stdout",
          "text": [
            "{1, 2, 3, 4, 5, 6, 7, 8, 9, 10, 11}\n"
          ]
        }
      ]
    },
    {
      "cell_type": "code",
      "source": [
        "my_set.remove(4)\n",
        "my_set"
      ],
      "metadata": {
        "colab": {
          "base_uri": "https://localhost:8080/"
        },
        "id": "nuB_Gb8ko-8p",
        "outputId": "5e29852a-e9ee-4aaa-9c5f-301e2f543586"
      },
      "execution_count": 6,
      "outputs": [
        {
          "output_type": "execute_result",
          "data": {
            "text/plain": [
              "{1, 2, 3, 5, 6, 7, 8, 9}"
            ]
          },
          "metadata": {},
          "execution_count": 6
        }
      ]
    },
    {
      "cell_type": "code",
      "source": [
        "my_set.discard(5)\n",
        "my_set"
      ],
      "metadata": {
        "colab": {
          "base_uri": "https://localhost:8080/"
        },
        "id": "QjuW6tlkpIIV",
        "outputId": "4b785a91-7ff5-444c-b870-7bbc76609cfe"
      },
      "execution_count": 7,
      "outputs": [
        {
          "output_type": "execute_result",
          "data": {
            "text/plain": [
              "{1, 2, 3, 6, 7, 8, 9}"
            ]
          },
          "metadata": {},
          "execution_count": 7
        }
      ]
    },
    {
      "cell_type": "code",
      "source": [
        "my_set.discard(10)\n",
        "my_set"
      ],
      "metadata": {
        "colab": {
          "base_uri": "https://localhost:8080/"
        },
        "id": "j0tUVSEmpRoS",
        "outputId": "76e180d0-e28b-4436-9861-2a91e14fe519"
      },
      "execution_count": 8,
      "outputs": [
        {
          "output_type": "execute_result",
          "data": {
            "text/plain": [
              "{1, 2, 3, 6, 7, 8, 9}"
            ]
          },
          "metadata": {},
          "execution_count": 8
        }
      ]
    },
    {
      "cell_type": "code",
      "source": [
        "my_set.pop()"
      ],
      "metadata": {
        "colab": {
          "base_uri": "https://localhost:8080/"
        },
        "id": "lWajNvp1pZEv",
        "outputId": "7ff0bf83-1b61-4ac4-cb09-69d3a3da427b"
      },
      "execution_count": 9,
      "outputs": [
        {
          "output_type": "execute_result",
          "data": {
            "text/plain": [
              "1"
            ]
          },
          "metadata": {},
          "execution_count": 9
        }
      ]
    },
    {
      "cell_type": "code",
      "source": [
        "my_set.clear()\n",
        "my_set"
      ],
      "metadata": {
        "colab": {
          "base_uri": "https://localhost:8080/"
        },
        "id": "7bkzRKWaphcJ",
        "outputId": "4bc6ab7a-1904-412b-83c5-438e8097ef4f"
      },
      "execution_count": 10,
      "outputs": [
        {
          "output_type": "execute_result",
          "data": {
            "text/plain": [
              "set()"
            ]
          },
          "metadata": {},
          "execution_count": 10
        }
      ]
    },
    {
      "cell_type": "code",
      "source": [
        "sets = {1,2,3,4,5}\n",
        "print(3 in sets)\n",
        "print(6 in sets)"
      ],
      "metadata": {
        "colab": {
          "base_uri": "https://localhost:8080/"
        },
        "id": "raSwLbZgptZW",
        "outputId": "836660bc-11f7-4226-c870-8db2e131ee12"
      },
      "execution_count": 11,
      "outputs": [
        {
          "output_type": "stream",
          "name": "stdout",
          "text": [
            "True\n",
            "False\n"
          ]
        }
      ]
    },
    {
      "cell_type": "code",
      "source": [
        "sets1 = {1,2,3,4,5}\n",
        "sets2 = {4,5,6,7,8}\n",
        "print(sets1.union(sets2))\n"
      ],
      "metadata": {
        "colab": {
          "base_uri": "https://localhost:8080/"
        },
        "id": "8SY2Ap0rqApR",
        "outputId": "d6d4ba9a-7339-4bff-b420-f9fb4f1e425b"
      },
      "execution_count": 12,
      "outputs": [
        {
          "output_type": "stream",
          "name": "stdout",
          "text": [
            "{1, 2, 3, 4, 5, 6, 7, 8}\n"
          ]
        }
      ]
    },
    {
      "cell_type": "code",
      "source": [
        "print(sets1.intersection(sets2))"
      ],
      "metadata": {
        "colab": {
          "base_uri": "https://localhost:8080/"
        },
        "id": "MgLgWgkdqImQ",
        "outputId": "aa6997a9-b549-4146-f06a-54ac173efdc8"
      },
      "execution_count": 13,
      "outputs": [
        {
          "output_type": "stream",
          "name": "stdout",
          "text": [
            "{4, 5}\n"
          ]
        }
      ]
    },
    {
      "cell_type": "code",
      "source": [
        "print(sets1.difference(sets2))"
      ],
      "metadata": {
        "colab": {
          "base_uri": "https://localhost:8080/"
        },
        "id": "pRPOQdmaqN75",
        "outputId": "62a42464-e1c3-4bdd-ac96-5e49eebba6f6"
      },
      "execution_count": 14,
      "outputs": [
        {
          "output_type": "stream",
          "name": "stdout",
          "text": [
            "{1, 2, 3}\n"
          ]
        }
      ]
    },
    {
      "cell_type": "code",
      "source": [
        "print(sets1.symmetric_difference(sets2))"
      ],
      "metadata": {
        "colab": {
          "base_uri": "https://localhost:8080/"
        },
        "id": "nj7G2HYbqXqD",
        "outputId": "8359d342-06cb-4579-d719-94478a087aec"
      },
      "execution_count": 15,
      "outputs": [
        {
          "output_type": "stream",
          "name": "stdout",
          "text": [
            "{1, 2, 3, 6, 7, 8}\n"
          ]
        }
      ]
    },
    {
      "cell_type": "code",
      "source": [
        "sets1.intersection_update(sets2)\n",
        "sets1"
      ],
      "metadata": {
        "colab": {
          "base_uri": "https://localhost:8080/"
        },
        "id": "8PxFE4I1qbNU",
        "outputId": "63ddd2a1-f939-46d0-c5a5-a7d361dabfa6"
      },
      "execution_count": 18,
      "outputs": [
        {
          "output_type": "execute_result",
          "data": {
            "text/plain": [
              "{4, 5}"
            ]
          },
          "metadata": {},
          "execution_count": 18
        }
      ]
    },
    {
      "cell_type": "code",
      "source": [
        "print(sets1.issubset(sets2))\n",
        "print(sets1.issuperset(sets2))\n",
        "print(sets1.isdisjoint(sets2))"
      ],
      "metadata": {
        "colab": {
          "base_uri": "https://localhost:8080/"
        },
        "id": "rCFF6pE2qo9u",
        "outputId": "6de30741-e61a-4ec1-8e9d-4fc9c2e25a3f"
      },
      "execution_count": 19,
      "outputs": [
        {
          "output_type": "stream",
          "name": "stdout",
          "text": [
            "True\n",
            "False\n",
            "False\n"
          ]
        }
      ]
    },
    {
      "cell_type": "code",
      "source": [
        "limits=[1,2,3,3,4,5,5,7,9]\n",
        "set_limits = set(limits)\n",
        "print(set_limits)"
      ],
      "metadata": {
        "colab": {
          "base_uri": "https://localhost:8080/"
        },
        "id": "Dz37j64YrIA9",
        "outputId": "9f34435e-cc28-4f4d-ce92-5ca494fad7a7"
      },
      "execution_count": 20,
      "outputs": [
        {
          "output_type": "stream",
          "name": "stdout",
          "text": [
            "{1, 2, 3, 4, 5, 7, 9}\n"
          ]
        }
      ]
    },
    {
      "cell_type": "code",
      "source": [
        "text='This is sets example '\n",
        "words = text.split()\n",
        "unique_words = set(words)"
      ],
      "metadata": {
        "id": "NWuN0oOCrfTg"
      },
      "execution_count": 21,
      "outputs": []
    },
    {
      "cell_type": "code",
      "source": [
        "print(unique_words)\n",
        "print(len(unique_words))"
      ],
      "metadata": {
        "colab": {
          "base_uri": "https://localhost:8080/"
        },
        "id": "CiRU2heTrwZe",
        "outputId": "4dd9cdfd-3158-4d78-b0f8-bde2ce6bece7"
      },
      "execution_count": 22,
      "outputs": [
        {
          "output_type": "stream",
          "name": "stdout",
          "text": [
            "{'sets', 'is', 'This', 'example'}\n",
            "4\n"
          ]
        }
      ]
    },
    {
      "cell_type": "code",
      "source": [
        "dictionary = {'name':'ragav','age':20,'city':'chennai'}\n",
        "print(dictionary)"
      ],
      "metadata": {
        "colab": {
          "base_uri": "https://localhost:8080/"
        },
        "id": "n5_AO_oYr3WQ",
        "outputId": "919a2258-b192-4daf-da04-b9db9ce8850e"
      },
      "execution_count": 23,
      "outputs": [
        {
          "output_type": "stream",
          "name": "stdout",
          "text": [
            "{'name': 'ragav', 'age': 20, 'city': 'chennai'}\n"
          ]
        }
      ]
    },
    {
      "cell_type": "code",
      "source": [
        "dictionary.keys()"
      ],
      "metadata": {
        "colab": {
          "base_uri": "https://localhost:8080/"
        },
        "id": "6ScBtTc0sSrg",
        "outputId": "499a7366-d018-431e-f81c-c1b2835807b0"
      },
      "execution_count": 24,
      "outputs": [
        {
          "output_type": "execute_result",
          "data": {
            "text/plain": [
              "dict_keys(['name', 'age', 'city'])"
            ]
          },
          "metadata": {},
          "execution_count": 24
        }
      ]
    },
    {
      "cell_type": "code",
      "source": [
        "dictionary.values()"
      ],
      "metadata": {
        "colab": {
          "base_uri": "https://localhost:8080/"
        },
        "id": "6FrGAd4asW-R",
        "outputId": "6bc65bab-2d7c-4fd4-cd1c-3ad21bdbe9ae"
      },
      "execution_count": 25,
      "outputs": [
        {
          "output_type": "execute_result",
          "data": {
            "text/plain": [
              "dict_values(['ragav', 20, 'chennai'])"
            ]
          },
          "metadata": {},
          "execution_count": 25
        }
      ]
    },
    {
      "cell_type": "code",
      "source": [
        "empty_dictionary = {}\n",
        "print(type(empty_dictionary))"
      ],
      "metadata": {
        "colab": {
          "base_uri": "https://localhost:8080/"
        },
        "id": "BEVsaW_Xsat9",
        "outputId": "3a4ce785-0c9f-44aa-815b-822a863fc7d6"
      },
      "execution_count": 26,
      "outputs": [
        {
          "output_type": "stream",
          "name": "stdout",
          "text": [
            "<class 'dict'>\n"
          ]
        }
      ]
    },
    {
      "cell_type": "code",
      "source": [
        "student={'name':'ragav','age':20,'city':'chennai','name':'sam',}\n",
        "print(student)"
      ],
      "metadata": {
        "colab": {
          "base_uri": "https://localhost:8080/"
        },
        "id": "EiEIz1QcspJ5",
        "outputId": "018cf3fd-0bbe-4423-99d5-8524f50c6101"
      },
      "execution_count": 27,
      "outputs": [
        {
          "output_type": "stream",
          "name": "stdout",
          "text": [
            "{'name': 'sam', 'age': 20, 'city': 'chennai'}\n"
          ]
        }
      ]
    },
    {
      "cell_type": "code",
      "source": [
        "print(student['name'])\n",
        "print(student['age'])\n",
        "print(student['city'])\n",
        "print(student.get('name'))\n",
        "print(student.get('age'))\n",
        "print(student.get('city'))"
      ],
      "metadata": {
        "colab": {
          "base_uri": "https://localhost:8080/"
        },
        "id": "P4RA_jDys60o",
        "outputId": "bdca5ae6-c2dc-45ef-c338-ccabf8a652d5"
      },
      "execution_count": 28,
      "outputs": [
        {
          "output_type": "stream",
          "name": "stdout",
          "text": [
            "sam\n",
            "20\n",
            "chennai\n",
            "sam\n",
            "20\n",
            "chennai\n"
          ]
        }
      ]
    },
    {
      "cell_type": "code",
      "source": [
        "modifying_dictionary = {'name':'ragav','age':20,'city':'chennai'}\n",
        "modifying_dictionary['name'] = 'sam'\n",
        "modifying_dictionary"
      ],
      "metadata": {
        "colab": {
          "base_uri": "https://localhost:8080/"
        },
        "id": "muiAIRRSt7w3",
        "outputId": "77d18c15-89da-48e0-8ad3-e3b367782586"
      },
      "execution_count": 29,
      "outputs": [
        {
          "output_type": "execute_result",
          "data": {
            "text/plain": [
              "{'name': 'sam', 'age': 20, 'city': 'chennai'}"
            ]
          },
          "metadata": {},
          "execution_count": 29
        }
      ]
    },
    {
      "cell_type": "code",
      "source": [
        "modifying_dictionary['age'] = 21\n",
        "modifying_dictionary"
      ],
      "metadata": {
        "colab": {
          "base_uri": "https://localhost:8080/"
        },
        "id": "mRqn3k2JuaMJ",
        "outputId": "95de188c-4a04-42e3-ef4d-c6ba1cfd8b2e"
      },
      "execution_count": 30,
      "outputs": [
        {
          "output_type": "execute_result",
          "data": {
            "text/plain": [
              "{'name': 'sam', 'age': 21, 'city': 'chennai'}"
            ]
          },
          "metadata": {},
          "execution_count": 30
        }
      ]
    },
    {
      "cell_type": "code",
      "source": [
        "del modifying_dictionary['city']\n",
        "modifying_dictionary"
      ],
      "metadata": {
        "colab": {
          "base_uri": "https://localhost:8080/"
        },
        "id": "4QuGEVbPukew",
        "outputId": "6b6da193-1c82-4d7b-8a79-392b13c76cb0"
      },
      "execution_count": 31,
      "outputs": [
        {
          "output_type": "execute_result",
          "data": {
            "text/plain": [
              "{'name': 'sam', 'age': 21}"
            ]
          },
          "metadata": {},
          "execution_count": 31
        }
      ]
    },
    {
      "cell_type": "code",
      "source": [
        "keys = modifying_dictionary.keys()\n",
        "print(keys)"
      ],
      "metadata": {
        "colab": {
          "base_uri": "https://localhost:8080/"
        },
        "id": "itQ21UQEunju",
        "outputId": "29d8dabe-1627-411d-b49f-7295e736951d"
      },
      "execution_count": 32,
      "outputs": [
        {
          "output_type": "stream",
          "name": "stdout",
          "text": [
            "dict_keys(['name', 'age'])\n"
          ]
        }
      ]
    },
    {
      "cell_type": "code",
      "source": [
        "new_dictionary = {\n",
        "    'fruits': ('apple', 'banana', 'orange'),\n",
        "    'color': ('red', 'yellow', 'orange'),\n",
        "    'price': (100, 200, 300)\n",
        "}\n",
        "print(new_dictionary)\n"
      ],
      "metadata": {
        "colab": {
          "base_uri": "https://localhost:8080/"
        },
        "id": "b3fC5HGtu0Bd",
        "outputId": "33be31fe-bae6-4fb5-e185-76dddc0c22f2"
      },
      "execution_count": 34,
      "outputs": [
        {
          "output_type": "stream",
          "name": "stdout",
          "text": [
            "{'fruits': ('apple', 'banana', 'orange'), 'color': ('red', 'yellow', 'orange'), 'price': (100, 200, 300)}\n"
          ]
        }
      ]
    },
    {
      "cell_type": "code",
      "source": [
        "student_1 = {\n",
        "    'name': 'Alice',\n",
        "    'age': 20,\n",
        "    'grade': 'A'\n",
        "}\n",
        "\n",
        "student_2 = {\n",
        "    'name': 'Bob',\n",
        "    'age': 22,\n",
        "    'grade': 'B'\n",
        "}\n",
        "\n",
        "student_3 = {\n",
        "    'name': 'Charlie',\n",
        "    'age': 21,\n",
        "    'grade': 'C'\n",
        "}\n",
        "\n",
        "students = [student_1, student_2, student_3]\n",
        "\n",
        "for student in students:\n",
        "    print(f\"Name: {student['name']}, Age: {student['age']}, Grade: {student['grade']}\")"
      ],
      "metadata": {
        "colab": {
          "base_uri": "https://localhost:8080/"
        },
        "id": "QnzsVzT_vF0U",
        "outputId": "ffceb458-5477-460c-b313-ab521a710332"
      },
      "execution_count": 35,
      "outputs": [
        {
          "output_type": "stream",
          "name": "stdout",
          "text": [
            "Name: Alice, Age: 20, Grade: A\n",
            "Name: Bob, Age: 22, Grade: B\n",
            "Name: Charlie, Age: 21, Grade: C\n"
          ]
        }
      ]
    },
    {
      "cell_type": "code",
      "source": [
        "for key,value in student.items():\n",
        "    print(key,value)"
      ],
      "metadata": {
        "colab": {
          "base_uri": "https://localhost:8080/"
        },
        "id": "-VhZ0R1dvhfB",
        "outputId": "52b81715-2072-471f-cd0f-437feea79ea8"
      },
      "execution_count": 36,
      "outputs": [
        {
          "output_type": "stream",
          "name": "stdout",
          "text": [
            "name Charlie\n",
            "age 21\n",
            "grade C\n"
          ]
        }
      ]
    },
    {
      "cell_type": "code",
      "source": [
        "students ={'student_1': {'name': 'Alice', 'age': 20, 'grade': 'A'},'student_2': {'name': 'Bob', 'age': 22, 'grade': 'B'},'student_3': {'name': 'Charlie', 'age': 21, 'grade': 'C'}}\n",
        "students"
      ],
      "metadata": {
        "colab": {
          "base_uri": "https://localhost:8080/"
        },
        "id": "JPXbrsgzv4IS",
        "outputId": "4f45e743-f114-462e-dc61-8d385577413e"
      },
      "execution_count": 37,
      "outputs": [
        {
          "output_type": "execute_result",
          "data": {
            "text/plain": [
              "{'student_1': {'name': 'Alice', 'age': 20, 'grade': 'A'},\n",
              " 'student_2': {'name': 'Bob', 'age': 22, 'grade': 'B'},\n",
              " 'student_3': {'name': 'Charlie', 'age': 21, 'grade': 'C'}}"
            ]
          },
          "metadata": {},
          "execution_count": 37
        }
      ]
    },
    {
      "cell_type": "code",
      "source": [
        "print(students['student_1']['name'])\n",
        "print(students['student_2']['age'])\n",
        "print(students['student_3']['grade'])"
      ],
      "metadata": {
        "colab": {
          "base_uri": "https://localhost:8080/"
        },
        "id": "W-ZdyM0ywcfR",
        "outputId": "4e189bcb-3315-4ea7-d193-54d654be1cb1"
      },
      "execution_count": 38,
      "outputs": [
        {
          "output_type": "stream",
          "name": "stdout",
          "text": [
            "Alice\n",
            "22\n",
            "C\n"
          ]
        }
      ]
    },
    {
      "cell_type": "code",
      "source": [
        "for student_id,student_info in students.items():\n",
        "    print(f\"Student ID: {student_id}\")\n",
        "    for key,value in student_info.items():\n",
        "        print(f\"{key}: {value}\")\n",
        "    print()"
      ],
      "metadata": {
        "colab": {
          "base_uri": "https://localhost:8080/"
        },
        "id": "8vPowHNtwiQz",
        "outputId": "5f786e48-d2d3-4256-deff-a988514c51f8"
      },
      "execution_count": 40,
      "outputs": [
        {
          "output_type": "stream",
          "name": "stdout",
          "text": [
            "Student ID: student_1\n",
            "name: Alice\n",
            "age: 20\n",
            "grade: A\n",
            "\n",
            "Student ID: student_2\n",
            "name: Bob\n",
            "age: 22\n",
            "grade: B\n",
            "\n",
            "Student ID: student_3\n",
            "name: Charlie\n",
            "age: 21\n",
            "grade: C\n",
            "\n"
          ]
        }
      ]
    },
    {
      "cell_type": "code",
      "source": [
        "sqaured_dict = {x:x**2 for x in range(1,11)}\n",
        "print(sqaured_dict)"
      ],
      "metadata": {
        "colab": {
          "base_uri": "https://localhost:8080/"
        },
        "id": "TF4g_R3Jw3JE",
        "outputId": "fe2e2354-6533-40e0-9e05-da3ff24d13ea"
      },
      "execution_count": 41,
      "outputs": [
        {
          "output_type": "stream",
          "name": "stdout",
          "text": [
            "{1: 1, 2: 4, 3: 9, 4: 16, 5: 25, 6: 36, 7: 49, 8: 64, 9: 81, 10: 100}\n"
          ]
        }
      ]
    },
    {
      "cell_type": "code",
      "source": [
        "evens = {x:x**2 for x in range(1,11) if x % 2 == 0}\n",
        "print(evens)"
      ],
      "metadata": {
        "colab": {
          "base_uri": "https://localhost:8080/"
        },
        "id": "igOf-PyFxSx8",
        "outputId": "2cfc93e5-8806-48ba-8470-1cc0f1c43ee6"
      },
      "execution_count": 42,
      "outputs": [
        {
          "output_type": "stream",
          "name": "stdout",
          "text": [
            "{2: 4, 4: 16, 6: 36, 8: 64, 10: 100}\n"
          ]
        }
      ]
    },
    {
      "cell_type": "code",
      "source": [
        "number =[1,2,2,3,3,3,4,4,4,4,5,5,5,5,5]\n",
        "unique_number = {x for x in number}\n",
        "print(unique_number)"
      ],
      "metadata": {
        "colab": {
          "base_uri": "https://localhost:8080/"
        },
        "id": "r9RFHs0dxZw1",
        "outputId": "ed32c773-db29-4c0e-9c89-822e039e14fc"
      },
      "execution_count": 43,
      "outputs": [
        {
          "output_type": "stream",
          "name": "stdout",
          "text": [
            "{1, 2, 3, 4, 5}\n"
          ]
        }
      ]
    },
    {
      "cell_type": "code",
      "source": [
        "dict_1 = {'a': 1, 'b': 2, 'c': 3}\n",
        "dict_2 = {'d': 4, 'e': 5, 'f': 6}\n",
        "merged_dict = {**dict_1, **dict_2}"
      ],
      "metadata": {
        "id": "er0DhVPBxxzv"
      },
      "execution_count": 44,
      "outputs": []
    },
    {
      "cell_type": "code",
      "source": [
        "merged_dict"
      ],
      "metadata": {
        "colab": {
          "base_uri": "https://localhost:8080/"
        },
        "id": "zv_jWvzyx9ve",
        "outputId": "8b6fdebe-fbde-43aa-bbf8-f816be9e59bc"
      },
      "execution_count": 45,
      "outputs": [
        {
          "output_type": "execute_result",
          "data": {
            "text/plain": [
              "{'a': 1, 'b': 2, 'c': 3, 'd': 4, 'e': 5, 'f': 6}"
            ]
          },
          "metadata": {},
          "execution_count": 45
        }
      ]
    },
    {
      "cell_type": "code",
      "source": [
        "SETS =set(range(1,11))\n",
        "print(SETS)"
      ],
      "metadata": {
        "colab": {
          "base_uri": "https://localhost:8080/"
        },
        "id": "Z0gnE_ApyAtt",
        "outputId": "00454671-c545-42ae-dc75-5a002884c7cf"
      },
      "execution_count": 46,
      "outputs": [
        {
          "output_type": "stream",
          "name": "stdout",
          "text": [
            "{1, 2, 3, 4, 5, 6, 7, 8, 9, 10}\n"
          ]
        }
      ]
    },
    {
      "cell_type": "code",
      "source": [
        "SETS.add(11)\n",
        "SETS.remove(1)\n",
        "SETS"
      ],
      "metadata": {
        "colab": {
          "base_uri": "https://localhost:8080/"
        },
        "id": "2tRN-u1ey80N",
        "outputId": "e4f881f0-6269-4814-9db5-ee076d7adac0"
      },
      "execution_count": 48,
      "outputs": [
        {
          "output_type": "execute_result",
          "data": {
            "text/plain": [
              "{2, 3, 4, 5, 6, 7, 8, 9, 10, 11}"
            ]
          },
          "metadata": {},
          "execution_count": 48
        }
      ]
    },
    {
      "cell_type": "code",
      "source": [
        "set_1 =set(range(1,6))\n",
        "sets_2 =set(range(1,11,2))\n",
        "print(f'union: {set_1.union(sets_2)}')\n",
        "print(f'intersection: {set_1.intersection(sets_2)}')\n",
        "print(f'difference: {set_1.difference(sets_2)}')"
      ],
      "metadata": {
        "colab": {
          "base_uri": "https://localhost:8080/"
        },
        "id": "e5wR9GhIzH3k",
        "outputId": "f6cb3539-0330-436a-d96d-1c32a12ec127"
      },
      "execution_count": 50,
      "outputs": [
        {
          "output_type": "stream",
          "name": "stdout",
          "text": [
            "union: {1, 2, 3, 4, 5, 7, 9}\n",
            "intersection: {1, 3, 5}\n",
            "difference: {2, 4}\n"
          ]
        }
      ]
    },
    {
      "cell_type": "code",
      "source": [
        "s = {1, 2, 2, 3, 4, 4, 5}\n",
        "unique_s = set(s)\n",
        "print(unique_s)"
      ],
      "metadata": {
        "colab": {
          "base_uri": "https://localhost:8080/"
        },
        "id": "2laenyo2zl5m",
        "outputId": "c7f7f69a-dda8-4532-cd44-0dbcaa37a140"
      },
      "execution_count": 51,
      "outputs": [
        {
          "output_type": "stream",
          "name": "stdout",
          "text": [
            "{1, 2, 3, 4, 5}\n"
          ]
        }
      ]
    },
    {
      "cell_type": "code",
      "source": [
        "set1 = set(range(1, 6))\n",
        "set2 = set(range(1, 4))\n",
        "print(f\"Is set2 a subset of set1? {set2.issubset(set1)}\")\n",
        "print(f\"Is set1 a superset of set2? {set1.issuperset(set2)}\")"
      ],
      "metadata": {
        "colab": {
          "base_uri": "https://localhost:8080/"
        },
        "id": "zSrUqDA1zxCL",
        "outputId": "23acbff8-66c9-4055-82c9-10a33d109891"
      },
      "execution_count": 52,
      "outputs": [
        {
          "output_type": "stream",
          "name": "stdout",
          "text": [
            "Is set2 a subset of set1? True\n",
            "Is set1 a superset of set2? True\n"
          ]
        }
      ]
    },
    {
      "cell_type": "code",
      "source": [
        "s = set(range(1, 6))\n",
        "lst = list(s)\n",
        "lst.append(6)\n",
        "s = set(lst)\n",
        "print(s)"
      ],
      "metadata": {
        "colab": {
          "base_uri": "https://localhost:8080/"
        },
        "id": "mTWdvCoXz74Q",
        "outputId": "18ede3c2-77b2-456c-ac2f-842774c371a2"
      },
      "execution_count": 53,
      "outputs": [
        {
          "output_type": "stream",
          "name": "stdout",
          "text": [
            "{1, 2, 3, 4, 5, 6}\n"
          ]
        }
      ]
    },
    {
      "cell_type": "code",
      "source": [
        "d = {\n",
        "    frozenset({1, 2}): 3,\n",
        "    frozenset({3, 4}): 7,\n",
        "    frozenset({5, 6}): 11\n",
        "}\n",
        "print(d)"
      ],
      "metadata": {
        "colab": {
          "base_uri": "https://localhost:8080/"
        },
        "id": "AJj5ak4Zz78l",
        "outputId": "3b78fee8-7966-4822-f349-741f0139b2a9"
      },
      "execution_count": 54,
      "outputs": [
        {
          "output_type": "stream",
          "name": "stdout",
          "text": [
            "{frozenset({1, 2}): 3, frozenset({3, 4}): 7, frozenset({5, 6}): 11}\n"
          ]
        }
      ]
    },
    {
      "cell_type": "code",
      "source": [
        "s = set(range(1, 6))\n",
        "for elem in s:\n",
        "    print(elem)"
      ],
      "metadata": {
        "colab": {
          "base_uri": "https://localhost:8080/"
        },
        "id": "-M8S0zg5z8AG",
        "outputId": "10d95e0e-8aeb-47ff-9ab9-cb792deb6e05"
      },
      "execution_count": 55,
      "outputs": [
        {
          "output_type": "stream",
          "name": "stdout",
          "text": [
            "1\n",
            "2\n",
            "3\n",
            "4\n",
            "5\n"
          ]
        }
      ]
    },
    {
      "cell_type": "code",
      "source": [
        "s = set(range(1, 6))\n",
        "while s:\n",
        "    s.pop()\n",
        "    print(s)"
      ],
      "metadata": {
        "colab": {
          "base_uri": "https://localhost:8080/"
        },
        "id": "1hbngytn0QYR",
        "outputId": "886d71a1-c7c8-43ac-a66d-e766d374d738"
      },
      "execution_count": 56,
      "outputs": [
        {
          "output_type": "stream",
          "name": "stdout",
          "text": [
            "{2, 3, 4, 5}\n",
            "{3, 4, 5}\n",
            "{4, 5}\n",
            "{5}\n",
            "set()\n"
          ]
        }
      ]
    },
    {
      "cell_type": "code",
      "source": [
        "set1 = {1, 2, 3}\n",
        "set2 = {3, 4, 5}\n",
        "set1.symmetric_difference_update(set2)\n",
        "print(set1)"
      ],
      "metadata": {
        "colab": {
          "base_uri": "https://localhost:8080/"
        },
        "id": "wVbYHm130Ue_",
        "outputId": "657fedc0-fb51-4e70-ec67-1cbce2165a90"
      },
      "execution_count": 57,
      "outputs": [
        {
          "output_type": "stream",
          "name": "stdout",
          "text": [
            "{1, 2, 4, 5}\n"
          ]
        }
      ]
    },
    {
      "cell_type": "code",
      "source": [
        "s = { (1, 2), (3, 4), (5, 6) }\n",
        "print(s)"
      ],
      "metadata": {
        "colab": {
          "base_uri": "https://localhost:8080/"
        },
        "id": "RWFaz6cT0Zg4",
        "outputId": "355c1b4f-e441-4ac3-c208-1bb8ac9911aa"
      },
      "execution_count": 58,
      "outputs": [
        {
          "output_type": "stream",
          "name": "stdout",
          "text": [
            "{(1, 2), (3, 4), (5, 6)}\n"
          ]
        }
      ]
    },
    {
      "cell_type": "code",
      "source": [],
      "metadata": {
        "id": "gXiyObTL0c6W"
      },
      "execution_count": null,
      "outputs": []
    }
  ]
}