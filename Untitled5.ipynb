{
 "cells": [
  {
   "cell_type": "code",
   "execution_count": 1,
   "id": "b84a0495",
   "metadata": {},
   "outputs": [],
   "source": [
    "class Restaurant:\n",
    "    def __init__(self, name):\n",
    "        self.name = name\n",
    "        self.menu_items = {}\n",
    "        self.booked_tables = set()\n",
    "        self.customer_orders = {}\n",
    "\n",
    "    def add_item_to_menu(self, item_name, price):\n",
    "        self.menu_items[item_name] = price\n",
    "        print(f\"Added '{item_name}' to the menu for ${price:.2f}.\")"
   ]
  },
  {
   "cell_type": "code",
   "execution_count": 2,
   "id": "a62ea58a",
   "metadata": {},
   "outputs": [],
   "source": [
    "    def booked_table(self, table_number, price):\n",
    "        \n",
    "        self.booked_tables.add(table_number)\n",
    "        print(f\"Table {table_number} has been reserved.\")\n",
    "        "
   ]
  },
  {
   "cell_type": "code",
   "execution_count": 3,
   "id": "1f753ec7",
   "metadata": {},
   "outputs": [],
   "source": [
    "    def customer_order(self, table_number, item  def booked_table(self, table_number, price):\n",
    "        \n",
    "        self.booked_tables.add(table_number)\n",
    "        print(f\"Table {table_number} has been s):\n",
    "        if table_number not in self.customer_orders:\n",
    "            self.customer_orders[table_number] = []\n",
    "\n",
    "        for item in items:\n",
    "            if item in self.menu_items:\n",
    "                self.customer_orders[table_number].append(item)\n",
    "                print(f\"Table {table_number} ordered '{item}'.\")"
   ]
  },
  {
   "cell_type": "code",
   "execution_count": 4,
   "id": "07df8168",
   "metadata": {},
   "outputs": [],
   "source": [
    "    def print_menu(self):\n",
    "        print(\"menu\")\n",
    "        for item, price in self.menu_items.items():\n",
    "            print(f\"{item }:{price:2f}\")\n"
   ]
  },
  {
   "cell_type": "code",
   "execution_count": 6,
   "id": "22ba344c",
   "metadata": {},
   "outputs": [],
   "source": [
    "    def table_reservation(self):\n",
    "        print(\"booked_table\")\n",
    "        for table in self.booked_table():\n",
    "            print(\"Table {table} is reserved.\")"
   ]
  },
  {
   "cell_type": "code",
   "execution_count": 7,
   "id": "ed6dbbee",
   "metadata": {},
   "outputs": [],
   "source": [
    "    def print_customer_order(self):\n",
    "        print(\"Customer Orders:\")\n",
    "        for table, orders in self.customer_orders.items():\n",
    "            print(f\"Table {table} ordered: {', '.join(orders)}\")"
   ]
  },
  {
   "cell_type": "code",
   "execution_count": 7,
   "id": "bc38aec9",
   "metadata": {},
   "outputs": [],
   "source": [
    "    def print_customer_order(self):\n",
    "        print(\"Customer Orders:\")\n",
    "        for table, orders in self.customer_orders.items():\n",
    "            print(f\"Table {table} ordered: {', '.join(orders)}\")"
   ]
  },
  {
   "cell_type": "code",
   "execution_count": 12,
   "id": "09ad5138",
   "metadata": {
    "scrolled": true
   },
   "outputs": [
    {
     "name": "stdout",
     "output_type": "stream",
     "text": [
      "Added 'Tea' to the menu for $2.99.\n",
      "Added 'Burger' to the menu for $8.99.\n",
      "Added 'Maggie' to the menu for $5.99.\n",
      "Added 'Momos' to the menu for $10.99.\n"
     ]
    }
   ],
   "source": [
    "restaurant = Restaurant(\"My Restaurant\")\n",
    "restaurant.add_item_to_menu(\"Tea\", 2.99)\n",
    "restaurant.add_item_to_menu(\"Burger\", 8.99)\n",
    "restaurant.add_item_to_menu(\"Maggie\", 5.99)\n",
    "restaurant.add_item_to_menu(\"Momos\", 10.99)\n"
   ]
  },
  {
   "cell_type": "code",
   "execution_count": 7,
   "id": "25708b16",
   "metadata": {},
   "outputs": [],
   "source": [
    "    def print_customer_order(self):\n",
    "        print(\"Customer Orders:\")\n",
    "        for table, orders in self.customer_orders.items():\n",
    "            print(f\"Table {table} ordered: {', '.join(orders)}\")"
   ]
  },
  {
   "cell_type": "code",
   "execution_count": null,
   "id": "d46240e2",
   "metadata": {},
   "outputs": [],
   "source": []
  }
 ],
 "metadata": {
  "kernelspec": {
   "display_name": "Python 3 (ipykernel)",
   "language": "python",
   "name": "python3"
  },
  "language_info": {
   "codemirror_mode": {
    "name": "ipython",
    "version": 3
   },
   "file_extension": ".py",
   "mimetype": "text/x-python",
   "name": "python",
   "nbconvert_exporter": "python",
   "pygments_lexer": "ipython3",
   "version": "3.10.9"
  }
 },
 "nbformat": 4,
 "nbformat_minor": 5
}
