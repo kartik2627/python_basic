{
 "cells": [
  {
   "cell_type": "code",
   "execution_count": 1,
   "id": "98f121e1",
   "metadata": {},
   "outputs": [
    {
     "data": {
      "text/plain": [
       "'hello'"
      ]
     },
     "execution_count": 1,
     "metadata": {},
     "output_type": "execute_result"
    }
   ],
   "source": [
    "\"hello\""
   ]
  },
  {
   "cell_type": "code",
   "execution_count": 2,
   "id": "f9af9305",
   "metadata": {},
   "outputs": [
    {
     "data": {
      "text/plain": [
       "'kartikay'"
      ]
     },
     "execution_count": 2,
     "metadata": {},
     "output_type": "execute_result"
    }
   ],
   "source": [
    "\"kartikay\""
   ]
  },
  {
   "cell_type": "code",
   "execution_count": 3,
   "id": "6caf2965",
   "metadata": {},
   "outputs": [
    {
     "data": {
      "text/plain": [
       "'this is me'"
      ]
     },
     "execution_count": 3,
     "metadata": {},
     "output_type": "execute_result"
    }
   ],
   "source": [
    "'this is me'"
   ]
  },
  {
   "cell_type": "code",
   "execution_count": 4,
   "id": "06c4bc77",
   "metadata": {},
   "outputs": [
    {
     "data": {
      "text/plain": [
       "'i will do it'"
      ]
     },
     "execution_count": 4,
     "metadata": {},
     "output_type": "execute_result"
    }
   ],
   "source": [
    "\"i will do it\""
   ]
  },
  {
   "cell_type": "code",
   "execution_count": 5,
   "id": "d9201a6d",
   "metadata": {},
   "outputs": [
    {
     "name": "stdout",
     "output_type": "stream",
     "text": [
      "hello kartikay\n"
     ]
    }
   ],
   "source": [
    "print(\"hello kartikay\")"
   ]
  },
  {
   "cell_type": "code",
   "execution_count": 6,
   "id": "a1b59d41",
   "metadata": {},
   "outputs": [
    {
     "name": "stdout",
     "output_type": "stream",
     "text": [
      "hi\n"
     ]
    }
   ],
   "source": [
    "print(\"hi\")"
   ]
  },
  {
   "cell_type": "code",
   "execution_count": 7,
   "id": "415921ff",
   "metadata": {},
   "outputs": [
    {
     "name": "stdout",
     "output_type": "stream",
     "text": [
      "hello\n",
      " kartik\n"
     ]
    }
   ],
   "source": [
    "print(\"hello\\n kartik\")"
   ]
  },
  {
   "cell_type": "code",
   "execution_count": 8,
   "id": "2c2c9b8d",
   "metadata": {},
   "outputs": [
    {
     "data": {
      "text/plain": [
       "6"
      ]
     },
     "execution_count": 8,
     "metadata": {},
     "output_type": "execute_result"
    }
   ],
   "source": [
    "len(\"kartik\")"
   ]
  },
  {
   "cell_type": "code",
   "execution_count": 9,
   "id": "ee282b4b",
   "metadata": {},
   "outputs": [],
   "source": [
    "mystring = \"Hello world\""
   ]
  },
  {
   "cell_type": "code",
   "execution_count": 10,
   "id": "e900e918",
   "metadata": {},
   "outputs": [
    {
     "data": {
      "text/plain": [
       "'hello world'"
      ]
     },
     "execution_count": 10,
     "metadata": {},
     "output_type": "execute_result"
    }
   ],
   "source": [
    "mystring"
   ]
  },
  {
   "cell_type": "code",
   "execution_count": 12,
   "id": "f2dd4753",
   "metadata": {},
   "outputs": [
    {
     "data": {
      "text/plain": [
       "'h'"
      ]
     },
     "execution_count": 12,
     "metadata": {},
     "output_type": "execute_result"
    }
   ],
   "source": [
    "mystring[0]"
   ]
  },
  {
   "cell_type": "code",
   "execution_count": 13,
   "id": "93e72e50",
   "metadata": {},
   "outputs": [
    {
     "data": {
      "text/plain": [
       "'hello world'"
      ]
     },
     "execution_count": 13,
     "metadata": {},
     "output_type": "execute_result"
    }
   ],
   "source": [
    "mystring"
   ]
  },
  {
   "cell_type": "code",
   "execution_count": 14,
   "id": "fc22df2d",
   "metadata": {},
   "outputs": [
    {
     "data": {
      "text/plain": [
       "'r'"
      ]
     },
     "execution_count": 14,
     "metadata": {},
     "output_type": "execute_result"
    }
   ],
   "source": [
    "mystring[-3]"
   ]
  },
  {
   "cell_type": "code",
   "execution_count": 15,
   "id": "6f6bef3f",
   "metadata": {},
   "outputs": [],
   "source": [
    "mystring = 'abcdefghijk'"
   ]
  },
  {
   "cell_type": "code",
   "execution_count": 16,
   "id": "e3a59f7e",
   "metadata": {},
   "outputs": [
    {
     "data": {
      "text/plain": [
       "'abcdefghijk'"
      ]
     },
     "execution_count": 16,
     "metadata": {},
     "output_type": "execute_result"
    }
   ],
   "source": [
    "mystring"
   ]
  },
  {
   "cell_type": "code",
   "execution_count": 18,
   "id": "33dad49b",
   "metadata": {},
   "outputs": [
    {
     "data": {
      "text/plain": [
       "'abcdefghijk'"
      ]
     },
     "execution_count": 18,
     "metadata": {},
     "output_type": "execute_result"
    }
   ],
   "source": [
    "mystring[0:12]"
   ]
  },
  {
   "cell_type": "code",
   "execution_count": 19,
   "id": "a128ea49",
   "metadata": {},
   "outputs": [
    {
     "data": {
      "text/plain": [
       "'cdefghijk'"
      ]
     },
     "execution_count": 19,
     "metadata": {},
     "output_type": "execute_result"
    }
   ],
   "source": [
    "mystring[2:]"
   ]
  },
  {
   "cell_type": "code",
   "execution_count": 20,
   "id": "167b4c74",
   "metadata": {},
   "outputs": [
    {
     "data": {
      "text/plain": [
       "'abcdefghijk'"
      ]
     },
     "execution_count": 20,
     "metadata": {},
     "output_type": "execute_result"
    }
   ],
   "source": [
    "mystring[:]"
   ]
  },
  {
   "cell_type": "code",
   "execution_count": 21,
   "id": "6a5b14da",
   "metadata": {},
   "outputs": [
    {
     "data": {
      "text/plain": [
       "'a'"
      ]
     },
     "execution_count": 21,
     "metadata": {},
     "output_type": "execute_result"
    }
   ],
   "source": [
    "mystring[0:2:5]"
   ]
  },
  {
   "cell_type": "code",
   "execution_count": 1,
   "id": "cf5a9a73",
   "metadata": {},
   "outputs": [],
   "source": [
    "name=\"sam\""
   ]
  },
  {
   "cell_type": "code",
   "execution_count": 2,
   "id": "2b7bd162",
   "metadata": {},
   "outputs": [],
   "source": [
    "last_name = name[:2]"
   ]
  },
  {
   "cell_type": "code",
   "execution_count": 3,
   "id": "3615213e",
   "metadata": {},
   "outputs": [
    {
     "data": {
      "text/plain": [
       "'sa'"
      ]
     },
     "execution_count": 3,
     "metadata": {},
     "output_type": "execute_result"
    }
   ],
   "source": [
    "last_name"
   ]
  },
  {
   "cell_type": "code",
   "execution_count": 4,
   "id": "cd81426d",
   "metadata": {},
   "outputs": [
    {
     "data": {
      "text/plain": [
       "'nasa'"
      ]
     },
     "execution_count": 4,
     "metadata": {},
     "output_type": "execute_result"
    }
   ],
   "source": [
    "\"na\" + last_name"
   ]
  },
  {
   "cell_type": "code",
   "execution_count": 5,
   "id": "be5c7229",
   "metadata": {},
   "outputs": [],
   "source": [
    "x = \"hellokartik\""
   ]
  },
  {
   "cell_type": "code",
   "execution_count": 6,
   "id": "5a39010f",
   "metadata": {},
   "outputs": [
    {
     "data": {
      "text/plain": [
       "'HELLOKARTIK'"
      ]
     },
     "execution_count": 6,
     "metadata": {},
     "output_type": "execute_result"
    }
   ],
   "source": [
    "x.upper()"
   ]
  },
  {
   "cell_type": "code",
   "execution_count": 7,
   "id": "de7eb675",
   "metadata": {},
   "outputs": [],
   "source": [
    "x = \"hi its me\""
   ]
  },
  {
   "cell_type": "code",
   "execution_count": 8,
   "id": "3af98ecf",
   "metadata": {},
   "outputs": [
    {
     "data": {
      "text/plain": [
       "['hi', 'its', 'me']"
      ]
     },
     "execution_count": 8,
     "metadata": {},
     "output_type": "execute_result"
    }
   ],
   "source": [
    "x.split()"
   ]
  },
  {
   "cell_type": "code",
   "execution_count": 9,
   "id": "4dd07245",
   "metadata": {},
   "outputs": [
    {
     "name": "stdout",
     "output_type": "stream",
     "text": [
      "thelion\n"
     ]
    }
   ],
   "source": [
    "print(\"the {}\".format(\"lion\"))"
   ]
  },
  {
   "cell_type": "code",
   "execution_count": 11,
   "id": "84316a74",
   "metadata": {},
   "outputs": [
    {
     "name": "stdout",
     "output_type": "stream",
     "text": [
      "the boss of company\n"
     ]
    }
   ],
   "source": [
    "print(\"the {} {} {}\".format(\"boss\",\"of\",\"company\"))"
   ]
  },
  {
   "cell_type": "code",
   "execution_count": 13,
   "id": "bf45b361",
   "metadata": {},
   "outputs": [
    {
     "name": "stdout",
     "output_type": "stream",
     "text": [
      "the company of boss\n"
     ]
    }
   ],
   "source": [
    "print(\"the {2} {1} {0}\".format(\"boss\",\"of\",\"company\"))"
   ]
  },
  {
   "cell_type": "code",
   "execution_count": 17,
   "id": "df57101e",
   "metadata": {},
   "outputs": [
    {
     "name": "stdout",
     "output_type": "stream",
     "text": [
      "hi this is me hi its me\n"
     ]
    }
   ],
   "source": [
    "print(f\"hi this is me {x}\")"
   ]
  },
  {
   "cell_type": "code",
   "execution_count": null,
   "id": "8932d36f",
   "metadata": {},
   "outputs": [],
   "source": []
  }
 ],
 "metadata": {
  "kernelspec": {
   "display_name": "Python 3 (ipykernel)",
   "language": "python",
   "name": "python3"
  },
  "language_info": {
   "codemirror_mode": {
    "name": "ipython",
    "version": 3
   },
   "file_extension": ".py",
   "mimetype": "text/x-python",
   "name": "python",
   "nbconvert_exporter": "python",
   "pygments_lexer": "ipython3",
   "version": "3.10.9"
  }
 },
 "nbformat": 4,
 "nbformat_minor": 5
}
