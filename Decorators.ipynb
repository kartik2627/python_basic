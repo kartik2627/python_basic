{
  "nbformat": 4,
  "nbformat_minor": 0,
  "metadata": {
    "colab": {
      "provenance": [],
      "authorship_tag": "ABX9TyOFg+5ZPPJLQCQUPjYWH54l",
      "include_colab_link": true
    },
    "kernelspec": {
      "name": "python3",
      "display_name": "Python 3"
    },
    "language_info": {
      "name": "python"
    }
  },
  "cells": [
    {
      "cell_type": "markdown",
      "metadata": {
        "id": "view-in-github",
        "colab_type": "text"
      },
      "source": [
        "<a href=\"https://colab.research.google.com/github/kartik2627/python_basic/blob/main/Decorators.ipynb\" target=\"_parent\"><img src=\"https://colab.research.google.com/assets/colab-badge.svg\" alt=\"Open In Colab\"/></a>"
      ]
    },
    {
      "cell_type": "code",
      "execution_count": 1,
      "metadata": {
        "colab": {
          "base_uri": "https://localhost:8080/",
          "height": 38
        },
        "id": "sOKCgxQDlwRA",
        "outputId": "256ce56d-4fe7-4f20-fb59-03dd3917cf6f"
      },
      "outputs": [
        {
          "output_type": "execute_result",
          "data": {
            "text/plain": [
              "' welcome to my github'"
            ],
            "application/vnd.google.colaboratory.intrinsic+json": {
              "type": "string"
            }
          },
          "metadata": {},
          "execution_count": 1
        }
      ],
      "source": [
        "def welcome():\n",
        "  return \" welcome to my github\"\n",
        "welcome()"
      ]
    },
    {
      "cell_type": "code",
      "source": [
        "wel  = welcome\n",
        "wel()"
      ],
      "metadata": {
        "colab": {
          "base_uri": "https://localhost:8080/",
          "height": 38
        },
        "id": "XTXLmgvMmrL_",
        "outputId": "94d24541-e30f-49b0-c927-617e2c1c55ad"
      },
      "execution_count": 2,
      "outputs": [
        {
          "output_type": "execute_result",
          "data": {
            "text/plain": [
              "' welcome to my github'"
            ],
            "application/vnd.google.colaboratory.intrinsic+json": {
              "type": "string"
            }
          },
          "metadata": {},
          "execution_count": 2
        }
      ]
    },
    {
      "cell_type": "code",
      "source": [
        "del welcome\n",
        "wel()"
      ],
      "metadata": {
        "colab": {
          "base_uri": "https://localhost:8080/",
          "height": 38
        },
        "id": "PNX2ldVTm0ar",
        "outputId": "c97d96f6-77d9-4918-c5a0-07a48a6d92f8"
      },
      "execution_count": 3,
      "outputs": [
        {
          "output_type": "execute_result",
          "data": {
            "text/plain": [
              "' welcome to my github'"
            ],
            "application/vnd.google.colaboratory.intrinsic+json": {
              "type": "string"
            }
          },
          "metadata": {},
          "execution_count": 3
        }
      ]
    },
    {
      "cell_type": "code",
      "source": [
        "def main_welcome():\n",
        "  msg = 'Welcome'\n",
        "  def sub_welcome_method():\n",
        "    print('This is sub welcome method')\n",
        "    print(msg)\n",
        "  return sub_welcome_method()\n"
      ],
      "metadata": {
        "id": "4emC7Uu9m4g7"
      },
      "execution_count": 6,
      "outputs": []
    },
    {
      "cell_type": "code",
      "source": [
        "main_welcome()"
      ],
      "metadata": {
        "colab": {
          "base_uri": "https://localhost:8080/"
        },
        "id": "ItqdSj-vnaY6",
        "outputId": "d66d3dc2-579e-4d80-fdd4-442f6319455a"
      },
      "execution_count": 5,
      "outputs": [
        {
          "output_type": "stream",
          "name": "stdout",
          "text": [
            "this is sub welcome method\n",
            "Welcome\n"
          ]
        }
      ]
    },
    {
      "cell_type": "code",
      "source": [
        "def main_welcome(func,list):\n",
        "  def sub_welcome_method():\n",
        "    print('This is sub welcome method')\n",
        "    print(func(list))\n",
        "  return sub_welcome_method()"
      ],
      "metadata": {
        "id": "l7X0b8MDndqQ"
      },
      "execution_count": 7,
      "outputs": []
    },
    {
      "cell_type": "code",
      "source": [
        "main_welcome(len,[1,2,3,4,5])"
      ],
      "metadata": {
        "colab": {
          "base_uri": "https://localhost:8080/"
        },
        "id": "fido2gzyo7SZ",
        "outputId": "62c26692-f4d8-4215-b9b9-f98261c4b6cf"
      },
      "execution_count": 8,
      "outputs": [
        {
          "output_type": "stream",
          "name": "stdout",
          "text": [
            "This is sub welcome method\n",
            "5\n"
          ]
        }
      ]
    },
    {
      "cell_type": "code",
      "source": [
        "def intro(func):\n",
        "  def welcome():\n",
        "    print('welcome to my github')\n",
        "    func()\n",
        "  return welcome()\n",
        "\n",
        "\n"
      ],
      "metadata": {
        "id": "zLxfGKeLo-bb"
      },
      "execution_count": 9,
      "outputs": []
    },
    {
      "cell_type": "code",
      "source": [
        "def profile():\n",
        "  print('this is my profile')"
      ],
      "metadata": {
        "id": "BacDokIVphiC"
      },
      "execution_count": 10,
      "outputs": []
    },
    {
      "cell_type": "code",
      "source": [
        "intro(profile)"
      ],
      "metadata": {
        "colab": {
          "base_uri": "https://localhost:8080/"
        },
        "id": "-qZGW0oppkv8",
        "outputId": "7d9026ca-a0cd-469e-ea80-3d22aeddc63f"
      },
      "execution_count": 11,
      "outputs": [
        {
          "output_type": "stream",
          "name": "stdout",
          "text": [
            "welcome to my github\n",
            "this is my profile\n"
          ]
        }
      ]
    },
    {
      "cell_type": "code",
      "source": [
        "@intro\n",
        "def profile():\n",
        "  print('this is my profile')"
      ],
      "metadata": {
        "colab": {
          "base_uri": "https://localhost:8080/"
        },
        "id": "nsqxiUviptDH",
        "outputId": "74ec2df6-604e-43fe-bcec-9f2b502f29fd"
      },
      "execution_count": 12,
      "outputs": [
        {
          "output_type": "stream",
          "name": "stdout",
          "text": [
            "welcome to my github\n",
            "this is my profile\n"
          ]
        }
      ]
    },
    {
      "cell_type": "code",
      "source": [
        "def my_decorator(func):\n",
        "  def wrapper():\n",
        "    print('this is my decorator')\n",
        "    func()\n",
        "  return wrapper"
      ],
      "metadata": {
        "id": "FJc5VCSwpyug"
      },
      "execution_count": 14,
      "outputs": []
    },
    {
      "cell_type": "code",
      "source": [
        "@my_decorator\n",
        "def profile():\n",
        "  print('this is my profile')"
      ],
      "metadata": {
        "id": "02oKTM0lqH7j"
      },
      "execution_count": 15,
      "outputs": []
    },
    {
      "cell_type": "code",
      "source": [
        "profile()"
      ],
      "metadata": {
        "colab": {
          "base_uri": "https://localhost:8080/"
        },
        "id": "4vkoUj7PqKWs",
        "outputId": "b8937fa7-3e2d-4da4-d481-db66ac3c4620"
      },
      "execution_count": 16,
      "outputs": [
        {
          "output_type": "stream",
          "name": "stdout",
          "text": [
            "this is my decorator\n",
            "this is my profile\n"
          ]
        }
      ]
    },
    {
      "cell_type": "code",
      "source": [],
      "metadata": {
        "id": "YhhYkE2BqSI-"
      },
      "execution_count": null,
      "outputs": []
    }
  ]
}