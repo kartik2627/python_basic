{
  "nbformat": 4,
  "nbformat_minor": 0,
  "metadata": {
    "colab": {
      "provenance": [],
      "authorship_tag": "ABX9TyOCuZbF/CsfFsvMSwVpUxOf",
      "include_colab_link": true
    },
    "kernelspec": {
      "name": "python3",
      "display_name": "Python 3"
    },
    "language_info": {
      "name": "python"
    }
  },
  "cells": [
    {
      "cell_type": "markdown",
      "metadata": {
        "id": "view-in-github",
        "colab_type": "text"
      },
      "source": [
        "<a href=\"https://colab.research.google.com/github/kartik2627/python_basic/blob/main/Function.ipynb\" target=\"_parent\"><img src=\"https://colab.research.google.com/assets/colab-badge.svg\" alt=\"Open In Colab\"/></a>"
      ]
    },
    {
      "cell_type": "code",
      "source": [
        "TO_do_list=['Buy Groceries','Clean the house','Pay bills ']\n",
        "TO_do_list.append('Call mom')\n",
        "print(TO_do_list)"
      ],
      "metadata": {
        "colab": {
          "base_uri": "https://localhost:8080/"
        },
        "id": "TiwQ6QEcgQeX",
        "outputId": "1a50b1a0-6e99-41a2-e62f-ca0d7dec34cf"
      },
      "execution_count": null,
      "outputs": [
        {
          "output_type": "stream",
          "name": "stdout",
          "text": [
            "['Buy Groceries', 'Clean the house', 'Pay bills ', 'Call mom']\n"
          ]
        }
      ]
    },
    {
      "cell_type": "code",
      "execution_count": null,
      "metadata": {
        "colab": {
          "base_uri": "https://localhost:8080/"
        },
        "id": "20CrDw2UfMS_",
        "outputId": "51a206a5-9ae7-4b72-91db-b0a866b3111e"
      },
      "outputs": [
        {
          "output_type": "stream",
          "name": "stdout",
          "text": [
            "['Go to the gym', 'Buy Groceries', 'Clean the house', 'Pay bills ', 'Call mom']\n",
            "['Go to the gym', 'Clean the house', 'Pay bills ', 'Call mom']\n",
            "No, Pay bills is not in the list\n"
          ]
        }
      ],
      "source": [
        "TO_do_list.insert(0,'Go to the gym')\n",
        "print(TO_do_list)\n",
        "TO_do_list.remove('Buy Groceries')\n",
        "print(TO_do_list)\n",
        "if 'Pay bills' in TO_do_list:\n",
        "    print('Yes, Pay bills is in the list')\n",
        "else:\n",
        "    print('No, Pay bills is not in the list')"
      ]
    },
    {
      "cell_type": "code",
      "source": [
        "for task in TO_do_list:\n",
        "    print(task)"
      ],
      "metadata": {
        "colab": {
          "base_uri": "https://localhost:8080/"
        },
        "id": "JweWjVBOhHQ5",
        "outputId": "6376353e-1911-48c7-b9bc-712b3a3060b3"
      },
      "execution_count": null,
      "outputs": [
        {
          "output_type": "stream",
          "name": "stdout",
          "text": [
            "Go to the gym\n",
            "Clean the house\n",
            "Pay bills \n",
            "Call mom\n"
          ]
        }
      ]
    },
    {
      "cell_type": "code",
      "source": [
        "GRADES = [86,76,56,98,69]\n",
        "GRADES.sort()\n",
        "print(GRADES)\n",
        "GRADES.reverse()\n",
        "print(GRADES)\n",
        "GRADES.append(55)\n",
        "print(GRADES)\n",
        "AVERAGE_GRADES = sum(GRADES)/len(GRADES)\n",
        "print(AVERAGE_GRADES)\n",
        "HIGHEST_GRADES = max(GRADES)\n",
        "print(HIGHEST_GRADES)\n",
        "LOWEST_GRADES = min(GRADES)\n",
        "print(LOWEST_GRADES)"
      ],
      "metadata": {
        "colab": {
          "base_uri": "https://localhost:8080/"
        },
        "id": "a217jkDihaOs",
        "outputId": "1a34757d-d905-47c3-b535-f8983f8bdc35"
      },
      "execution_count": null,
      "outputs": [
        {
          "output_type": "stream",
          "name": "stdout",
          "text": [
            "[56, 69, 76, 86, 98]\n",
            "[98, 86, 76, 69, 56]\n",
            "[98, 86, 76, 69, 56, 55]\n",
            "73.33333333333333\n",
            "98\n",
            "55\n"
          ]
        }
      ]
    },
    {
      "cell_type": "code",
      "source": [
        "fruits = ['apple', 'banana', 'cherry']\n",
        "fruits\n",
        "fruits.append('orange')\n",
        "fruits\n",
        "fruits.remove('banana')\n",
        "fruits\n",
        "if 'banana' in fruits:\n",
        "    print('Yes, banana is in the list')\n",
        "else:\n",
        "    print('No, banana is not in the list')"
      ],
      "metadata": {
        "colab": {
          "base_uri": "https://localhost:8080/"
        },
        "id": "e3CTbpy_h5qM",
        "outputId": "68a866dc-47fd-4293-dea8-20874d50affb"
      },
      "execution_count": null,
      "outputs": [
        {
          "output_type": "stream",
          "name": "stdout",
          "text": [
            "No, banana is not in the list\n"
          ]
        }
      ]
    },
    {
      "cell_type": "code",
      "source": [
        "def function_name(parameter):\n",
        "    print(parameter)\n",
        "\n",
        "function_name('Hello World')"
      ],
      "metadata": {
        "colab": {
          "base_uri": "https://localhost:8080/"
        },
        "id": "lR3wN2fWiaGv",
        "outputId": "44be3ad3-c365-4b04-8aed-c329707bc2f8"
      },
      "execution_count": null,
      "outputs": [
        {
          "output_type": "stream",
          "name": "stdout",
          "text": [
            "Hello World\n"
          ]
        }
      ]
    },
    {
      "cell_type": "code",
      "source": [
        "num = 24\n",
        "if num % 2 == 0:\n",
        "    print('The number is even')\n",
        "else:\n",
        "    print('The number is odd')"
      ],
      "metadata": {
        "colab": {
          "base_uri": "https://localhost:8080/"
        },
        "id": "0gLVvhGOi0D4",
        "outputId": "c21da63b-cc83-4d79-aad6-2c4466231135"
      },
      "execution_count": null,
      "outputs": [
        {
          "output_type": "stream",
          "name": "stdout",
          "text": [
            "The number is even\n"
          ]
        }
      ]
    },
    {
      "cell_type": "code",
      "source": [
        "def even_odd(num):\n",
        "  if num % 2 == 0:\n",
        "    print('The number is even')\n",
        "  else:\n",
        "    print('The number is odd')\n",
        "even_odd(24)"
      ],
      "metadata": {
        "colab": {
          "base_uri": "https://localhost:8080/"
        },
        "id": "oFLMCloMi0G9",
        "outputId": "14e71b3e-72ec-47d1-c634-d25d3486c34a"
      },
      "execution_count": null,
      "outputs": [
        {
          "output_type": "stream",
          "name": "stdout",
          "text": [
            "The number is even\n"
          ]
        }
      ]
    },
    {
      "cell_type": "code",
      "source": [
        "def fruits(x):\n",
        "    for fruit in x:\n",
        "        print(fruit)\n",
        "fruits(['apple', 'banana', 'cherry'])"
      ],
      "metadata": {
        "colab": {
          "base_uri": "https://localhost:8080/"
        },
        "id": "tX-2HH98i0J-",
        "outputId": "edd29ca6-5c8c-47b3-e8c2-8bd53bdbd8e3"
      },
      "execution_count": null,
      "outputs": [
        {
          "output_type": "stream",
          "name": "stdout",
          "text": [
            "apple\n",
            "banana\n",
            "cherry\n"
          ]
        }
      ]
    },
    {
      "cell_type": "code",
      "source": [
        "even_odd(25)"
      ],
      "metadata": {
        "colab": {
          "base_uri": "https://localhost:8080/"
        },
        "id": "GLBSUQYHi0Ne",
        "outputId": "956df4a3-a74c-47bf-a496-bc132f152c84"
      },
      "execution_count": null,
      "outputs": [
        {
          "output_type": "stream",
          "name": "stdout",
          "text": [
            "The number is odd\n"
          ]
        }
      ]
    },
    {
      "cell_type": "code",
      "source": [
        "def add(a,b):\n",
        "    print(a+b)\n",
        "add(2,3)"
      ],
      "metadata": {
        "colab": {
          "base_uri": "https://localhost:8080/"
        },
        "id": "8pGaLShwi0Qo",
        "outputId": "68d2200d-930b-4ae7-a754-dd739ad8652e"
      },
      "execution_count": null,
      "outputs": [
        {
          "output_type": "stream",
          "name": "stdout",
          "text": [
            "5\n"
          ]
        }
      ]
    },
    {
      "cell_type": "code",
      "source": [
        "def add(a,b):\n",
        "   c =a+b\n",
        "   return c\n",
        "add(2,3)\n"
      ],
      "metadata": {
        "colab": {
          "base_uri": "https://localhost:8080/"
        },
        "id": "OW5vFHpbi0To",
        "outputId": "45c4561d-04dd-4b26-df77-68d9072dd76b"
      },
      "execution_count": null,
      "outputs": [
        {
          "output_type": "execute_result",
          "data": {
            "text/plain": [
              "5"
            ]
          },
          "metadata": {},
          "execution_count": 20
        }
      ]
    },
    {
      "cell_type": "code",
      "source": [
        "def greet(name):\n",
        "  print(f'Hello {name}')\n",
        "greet('John')"
      ],
      "metadata": {
        "colab": {
          "base_uri": "https://localhost:8080/"
        },
        "id": "D1Rr-B4Bi0V9",
        "outputId": "30835a9b-6b28-4e03-bf84-b43597d83d4c"
      },
      "execution_count": null,
      "outputs": [
        {
          "output_type": "stream",
          "name": "stdout",
          "text": [
            "Hello John\n"
          ]
        }
      ]
    },
    {
      "cell_type": "code",
      "source": [
        "def greet(name):\n",
        "  print(f'Hello {name}')\n",
        "greet('kartikay')"
      ],
      "metadata": {
        "colab": {
          "base_uri": "https://localhost:8080/"
        },
        "id": "tEmZWBYji0Zh",
        "outputId": "bbb0d9e2-1159-4827-b1c7-dd13473f7da6"
      },
      "execution_count": null,
      "outputs": [
        {
          "output_type": "stream",
          "name": "stdout",
          "text": [
            "Hello kartikay\n"
          ]
        }
      ]
    },
    {
      "cell_type": "code",
      "source": [
        "def greet(name='Guest'):\n",
        "  print(f'Hello {name}')\n",
        "greet('ragav')"
      ],
      "metadata": {
        "colab": {
          "base_uri": "https://localhost:8080/"
        },
        "id": "7Oyc7D_ZndpJ",
        "outputId": "d521f703-f152-4ba1-dee8-f5aa48d03fb1"
      },
      "execution_count": null,
      "outputs": [
        {
          "output_type": "stream",
          "name": "stdout",
          "text": [
            "Hello ragav\n"
          ]
        }
      ]
    },
    {
      "cell_type": "code",
      "source": [
        "def print_numbers(*args):\n",
        "    for num in args:\n",
        "        print(num)\n",
        "print_numbers(1,2,3,4,5)"
      ],
      "metadata": {
        "colab": {
          "base_uri": "https://localhost:8080/"
        },
        "id": "OEW6tL7Mn6if",
        "outputId": "e25bc220-eeb5-4644-9b69-76e402301b47"
      },
      "execution_count": null,
      "outputs": [
        {
          "output_type": "stream",
          "name": "stdout",
          "text": [
            "1\n",
            "2\n",
            "3\n",
            "4\n",
            "5\n"
          ]
        }
      ]
    },
    {
      "cell_type": "code",
      "source": [
        "def print_numbers(**args):\n",
        "    for num in args:\n",
        "        print(num)\n",
        "print_numbers(a=1,b=2,c=3,d=4,e=5)"
      ],
      "metadata": {
        "colab": {
          "base_uri": "https://localhost:8080/"
        },
        "id": "FaNnBirVoEvm",
        "outputId": "c33e2559-1fe0-46c6-805b-ce3de8d06a51"
      },
      "execution_count": null,
      "outputs": [
        {
          "output_type": "stream",
          "name": "stdout",
          "text": [
            "a\n",
            "b\n",
            "c\n",
            "d\n",
            "e\n"
          ]
        }
      ]
    },
    {
      "cell_type": "code",
      "source": [
        "print_numbers(a=1,b=2,c=3,d=4,e=5)"
      ],
      "metadata": {
        "colab": {
          "base_uri": "https://localhost:8080/"
        },
        "id": "FY_SrcuOoNhU",
        "outputId": "108c8583-b384-4626-abea-fd8708f50675"
      },
      "execution_count": null,
      "outputs": [
        {
          "output_type": "stream",
          "name": "stdout",
          "text": [
            "a\n",
            "b\n",
            "c\n",
            "d\n",
            "e\n"
          ]
        }
      ]
    },
    {
      "cell_type": "code",
      "source": [
        "def key_value(**kwargs):\n",
        "    for key,value in kwargs.items():\n",
        "        print(f'{key}:{value}')\n",
        "key_value(a=1,b=2,c=3,d=4,e=5)"
      ],
      "metadata": {
        "colab": {
          "base_uri": "https://localhost:8080/"
        },
        "id": "X4ezj-_4oUPZ",
        "outputId": "f051c169-f50d-4564-b835-9f8c37b4ebf5"
      },
      "execution_count": null,
      "outputs": [
        {
          "output_type": "stream",
          "name": "stdout",
          "text": [
            "a:1\n",
            "b:2\n",
            "c:3\n",
            "d:4\n",
            "e:5\n"
          ]
        }
      ]
    },
    {
      "cell_type": "code",
      "source": [
        "key_value(name='John',age=30,city='New York')"
      ],
      "metadata": {
        "colab": {
          "base_uri": "https://localhost:8080/"
        },
        "id": "0Yb7dPidoYGr",
        "outputId": "cc72b528-0b1b-4315-facd-9b5df0413b3a"
      },
      "execution_count": null,
      "outputs": [
        {
          "output_type": "stream",
          "name": "stdout",
          "text": [
            "name:John\n",
            "age:30\n",
            "city:New York\n"
          ]
        }
      ]
    },
    {
      "cell_type": "code",
      "source": [
        "def multiply(a,b):\n",
        "    return a*b\n",
        "multiply(2,3)"
      ],
      "metadata": {
        "colab": {
          "base_uri": "https://localhost:8080/"
        },
        "id": "KltidjVTpGtr",
        "outputId": "83e52ca8-afc2-4432-84e1-e99108d6a16b"
      },
      "execution_count": null,
      "outputs": [
        {
          "output_type": "execute_result",
          "data": {
            "text/plain": [
              "6"
            ]
          },
          "metadata": {},
          "execution_count": 30
        }
      ]
    },
    {
      "cell_type": "code",
      "source": [
        "def temperature_converter(temp,unit):\n",
        "  if unit == 'C':\n",
        "    f = (temp*9/5)+32\n",
        "    return f\n",
        "  elif unit == 'F':\n",
        "    c = (temp-32)*5/9\n",
        "    return c\n",
        "  else:\n",
        "    return 'Invalid unit'\n",
        "print(temperature_converter(77,'F'))"
      ],
      "metadata": {
        "colab": {
          "base_uri": "https://localhost:8080/"
        },
        "id": "1EUSIm64pNsd",
        "outputId": "cd51eb8d-4bf3-4218-fe91-f42f4e11e021"
      },
      "execution_count": null,
      "outputs": [
        {
          "output_type": "stream",
          "name": "stdout",
          "text": [
            "25.0\n"
          ]
        }
      ]
    },
    {
      "cell_type": "code",
      "source": [
        "def password_strength_checker(password):\n",
        "  if len(password) < 8:\n",
        "    return 'Weak'\n",
        "  if not any(char.isdigit() for char in password):\n",
        "    return 'Weak'\n",
        "  if not any(char.isupper() for char in password):\n",
        "    return 'Weak'\n",
        "  if not any(char.islower() for char in password):\n",
        "    return 'Weak'\n",
        "  if not any(char in '!@#$%^&*()' for char in password):\n",
        "    return 'Weak'\n",
        "  return 'Strong'\n",
        "print(password_strength_checker('kartikay'))"
      ],
      "metadata": {
        "colab": {
          "base_uri": "https://localhost:8080/"
        },
        "id": "wBp3qNTAp6WE",
        "outputId": "925d1fbb-4fe9-48bf-8378-a90dce5cce00"
      },
      "execution_count": null,
      "outputs": [
        {
          "output_type": "stream",
          "name": "stdout",
          "text": [
            "Weak\n"
          ]
        }
      ]
    },
    {
      "cell_type": "code",
      "source": [
        "print(password_strength_checker('kArtikay@123'))"
      ],
      "metadata": {
        "colab": {
          "base_uri": "https://localhost:8080/"
        },
        "id": "HWMqn-g0rKox",
        "outputId": "938692c2-9631-41ac-d52b-fcd0866bf04c"
      },
      "execution_count": null,
      "outputs": [
        {
          "output_type": "stream",
          "name": "stdout",
          "text": [
            "Strong\n"
          ]
        }
      ]
    },
    {
      "cell_type": "code",
      "source": [
        "\n",
        "def calculate_cost_cart(cart):\n",
        "  total_cost = 0\n",
        "  for item in cart:\n",
        "    if 'quatity' in item:\n",
        "      total_cost += item['price'] * item['quatity']\n",
        "    else:\n",
        "      total_cost += item['price']\n",
        "  return total_cost\n",
        "\n",
        "cart = [{'name': 'apple', 'price': 5, 'quatity': 4},\n",
        "        {'name': 'banana', 'price': 2, 'quatity': 1},\n",
        "        {'name': 'orange', 'price': 3, 'quatity': 2}]\n",
        "\n",
        "total_cost = calculate_cost_cart(cart)\n",
        "print(total_cost)"
      ],
      "metadata": {
        "colab": {
          "base_uri": "https://localhost:8080/"
        },
        "id": "2nXwfWykrOLy",
        "outputId": "c08ce743-baaf-4df3-8082-faecf11a8a65"
      },
      "execution_count": null,
      "outputs": [
        {
          "output_type": "stream",
          "name": "stdout",
          "text": [
            "28\n"
          ]
        }
      ]
    },
    {
      "cell_type": "code",
      "source": [
        "def palindrome(word):\n",
        "  word =word.lower().replace(' ','')\n",
        "  return word == word[::-1]\n",
        "print(palindrome('madam'))\n",
        "print(palindrome('hello'))"
      ],
      "metadata": {
        "colab": {
          "base_uri": "https://localhost:8080/"
        },
        "id": "DTJTv4AOtUU-",
        "outputId": "fc4e08b3-2a4a-47bb-eb6e-03f9220ba52e"
      },
      "execution_count": null,
      "outputs": [
        {
          "output_type": "stream",
          "name": "stdout",
          "text": [
            "True\n",
            "False\n"
          ]
        }
      ]
    },
    {
      "cell_type": "code",
      "source": [
        "def factorial(n):\n",
        "  if n == 0:\n",
        "    return 1\n",
        "  else:\n",
        "    return n*factorial(n-1)\n",
        "print(factorial(5))"
      ],
      "metadata": {
        "colab": {
          "base_uri": "https://localhost:8080/"
        },
        "id": "LEUza3ZUtUir",
        "outputId": "e988e5f1-de88-401b-96ac-7875daf46849"
      },
      "execution_count": null,
      "outputs": [
        {
          "output_type": "stream",
          "name": "stdout",
          "text": [
            "120\n"
          ]
        }
      ]
    },
    {
      "cell_type": "code",
      "source": [
        "import re\n",
        "def is_valid_email(email):\n",
        "  pattern = r'^[a-zA-Z0-9._%+-]+@[a-zA-Z0-9.-]+\\.[a-zA-Z]{2,}$'\n",
        "  if re.match(pattern,email):\n",
        "    return True\n",
        "  else:\n",
        "    return False\n",
        "print(is_valid_email('john.c.breckinridge@altostrat.com'))"
      ],
      "metadata": {
        "colab": {
          "base_uri": "https://localhost:8080/"
        },
        "id": "o9dlwdltuQYP",
        "outputId": "38505a4b-97f8-4667-a686-ceb1604246c6"
      },
      "execution_count": null,
      "outputs": [
        {
          "output_type": "stream",
          "name": "stdout",
          "text": [
            "True\n"
          ]
        }
      ]
    },
    {
      "cell_type": "code",
      "source": [
        "def addition(a,b):\n",
        "  return a+b\n",
        "print(addition(2,3))"
      ],
      "metadata": {
        "colab": {
          "base_uri": "https://localhost:8080/"
        },
        "id": "-8wbhunaMn8C",
        "outputId": "b3a8504e-8adf-4062-bf9e-7c2456917083"
      },
      "execution_count": 1,
      "outputs": [
        {
          "output_type": "stream",
          "name": "stdout",
          "text": [
            "5\n"
          ]
        }
      ]
    },
    {
      "cell_type": "code",
      "source": [
        "addtion = lambda a, b : a+b\n",
        "type(addtion)\n",
        "print(addtion(2,3))"
      ],
      "metadata": {
        "colab": {
          "base_uri": "https://localhost:8080/"
        },
        "id": "kY0Y9kjTMqw5",
        "outputId": "e7bf1316-9c4f-4a59-d260-a4bc31784f2e"
      },
      "execution_count": 2,
      "outputs": [
        {
          "output_type": "stream",
          "name": "stdout",
          "text": [
            "5\n"
          ]
        }
      ]
    },
    {
      "cell_type": "code",
      "source": [
        "def even(num):\n",
        "  if num %2 ==0:\n",
        "    return True\n",
        "  else:\n",
        "    return False\n",
        "print(even(2))"
      ],
      "metadata": {
        "colab": {
          "base_uri": "https://localhost:8080/"
        },
        "id": "z42-mCIFM5yx",
        "outputId": "276bfeb7-ee39-4345-9fcb-e963a8d85d29"
      },
      "execution_count": 3,
      "outputs": [
        {
          "output_type": "stream",
          "name": "stdout",
          "text": [
            "True\n"
          ]
        }
      ]
    },
    {
      "cell_type": "code",
      "source": [
        "even = lambda num : num %2 ==0\n",
        "print(even(2))"
      ],
      "metadata": {
        "colab": {
          "base_uri": "https://localhost:8080/"
        },
        "id": "1aT-Ned9NA8y",
        "outputId": "868c91c6-eba8-4ca8-dc77-c704f8e8fb71"
      },
      "execution_count": 4,
      "outputs": [
        {
          "output_type": "stream",
          "name": "stdout",
          "text": [
            "True\n"
          ]
        }
      ]
    },
    {
      "cell_type": "code",
      "source": [
        "def addition(x,y,z):\n",
        "  return x+y+z\n",
        "print(addition(1,2,3))"
      ],
      "metadata": {
        "colab": {
          "base_uri": "https://localhost:8080/"
        },
        "id": "gRLlkghnNGol",
        "outputId": "abb592d8-9547-4306-a016-8de294ae6557"
      },
      "execution_count": 5,
      "outputs": [
        {
          "output_type": "stream",
          "name": "stdout",
          "text": [
            "6\n"
          ]
        }
      ]
    },
    {
      "cell_type": "code",
      "source": [
        "addition = lambda x,y,z : x+y+z\n",
        "print(addition(1,2,3))"
      ],
      "metadata": {
        "colab": {
          "base_uri": "https://localhost:8080/"
        },
        "id": "jwNqwGOcNPv5",
        "outputId": "8455031c-d7ef-4968-8a2b-352ee87ac9b4"
      },
      "execution_count": 6,
      "outputs": [
        {
          "output_type": "stream",
          "name": "stdout",
          "text": [
            "6\n"
          ]
        }
      ]
    },
    {
      "cell_type": "code",
      "source": [
        "number = [1,2,3,4,5,6,7]\n",
        "def square(number):\n",
        "  return number**2\n",
        "square(2)"
      ],
      "metadata": {
        "colab": {
          "base_uri": "https://localhost:8080/"
        },
        "id": "AKY7Vjt-NTRt",
        "outputId": "dfb757ad-94f9-406d-a966-52294826274c"
      },
      "execution_count": 8,
      "outputs": [
        {
          "output_type": "execute_result",
          "data": {
            "text/plain": [
              "4"
            ]
          },
          "metadata": {},
          "execution_count": 8
        }
      ]
    },
    {
      "cell_type": "code",
      "source": [
        "map(square,number)"
      ],
      "metadata": {
        "colab": {
          "base_uri": "https://localhost:8080/"
        },
        "id": "wLqjalKVNp_k",
        "outputId": "c45d32b7-a4ba-481b-93ea-2e1eb712e09d"
      },
      "execution_count": 9,
      "outputs": [
        {
          "output_type": "execute_result",
          "data": {
            "text/plain": [
              "<map at 0x7dffa8001e40>"
            ]
          },
          "metadata": {},
          "execution_count": 9
        }
      ]
    },
    {
      "cell_type": "code",
      "source": [
        "list(map(lambda x: x**2,number))"
      ],
      "metadata": {
        "colab": {
          "base_uri": "https://localhost:8080/"
        },
        "id": "7XEARH7PN5G1",
        "outputId": "4a07a577-a74f-46b6-be5e-d659c24bcd83"
      },
      "execution_count": 11,
      "outputs": [
        {
          "output_type": "execute_result",
          "data": {
            "text/plain": [
              "[1, 4, 9, 16, 25, 36, 49]"
            ]
          },
          "metadata": {},
          "execution_count": 11
        }
      ]
    },
    {
      "cell_type": "code",
      "source": [
        "def square(x):\n",
        "  return x*x\n",
        "square(25)"
      ],
      "metadata": {
        "colab": {
          "base_uri": "https://localhost:8080/"
        },
        "id": "GuzzhdkjOHCK",
        "outputId": "20c071a7-274c-490c-bf69-ed89fab3f916"
      },
      "execution_count": 12,
      "outputs": [
        {
          "output_type": "execute_result",
          "data": {
            "text/plain": [
              "625"
            ]
          },
          "metadata": {},
          "execution_count": 12
        }
      ]
    },
    {
      "cell_type": "code",
      "source": [
        "numbers=[11,22,33,44,55,66,77]\n",
        "map(square,numbers)"
      ],
      "metadata": {
        "colab": {
          "base_uri": "https://localhost:8080/"
        },
        "id": "x2RcAj3mOYJ7",
        "outputId": "37a755cc-368d-49fd-c824-45e0b204db5d"
      },
      "execution_count": 13,
      "outputs": [
        {
          "output_type": "execute_result",
          "data": {
            "text/plain": [
              "<map at 0x7dffa8003010>"
            ]
          },
          "metadata": {},
          "execution_count": 13
        }
      ]
    },
    {
      "cell_type": "code",
      "source": [
        "list(map(square,numbers))"
      ],
      "metadata": {
        "colab": {
          "base_uri": "https://localhost:8080/"
        },
        "id": "kG4ZGX0DOk5z",
        "outputId": "df2ad944-eb12-4b83-c34b-837501e375f8"
      },
      "execution_count": 14,
      "outputs": [
        {
          "output_type": "execute_result",
          "data": {
            "text/plain": [
              "[121, 484, 1089, 1936, 3025, 4356, 5929]"
            ]
          },
          "metadata": {},
          "execution_count": 14
        }
      ]
    },
    {
      "cell_type": "code",
      "source": [
        "numbers = [1,2,3,4,5,6,7]\n",
        "list(map(lambda x: x**2,numbers))"
      ],
      "metadata": {
        "colab": {
          "base_uri": "https://localhost:8080/"
        },
        "id": "5bv0t75KOrj0",
        "outputId": "50c6f2d0-6d09-4b84-bb21-af7d8d6e9486"
      },
      "execution_count": 15,
      "outputs": [
        {
          "output_type": "execute_result",
          "data": {
            "text/plain": [
              "[1, 4, 9, 16, 25, 36, 49]"
            ]
          },
          "metadata": {},
          "execution_count": 15
        }
      ]
    },
    {
      "cell_type": "code",
      "source": [
        "num_1 = [1,2,3,4,5]\n",
        "num_2 = [6,7,8,9,10]\n",
        "def add(x,y):\n",
        "  return x+y\n",
        "list(map(add,num_1,num_2))"
      ],
      "metadata": {
        "colab": {
          "base_uri": "https://localhost:8080/"
        },
        "id": "WxCTtP-pOzyf",
        "outputId": "cb164eb4-b04c-43b5-bfe6-951af9a5b62c"
      },
      "execution_count": 18,
      "outputs": [
        {
          "output_type": "execute_result",
          "data": {
            "text/plain": [
              "[7, 9, 11, 13, 15]"
            ]
          },
          "metadata": {},
          "execution_count": 18
        }
      ]
    },
    {
      "cell_type": "code",
      "source": [
        "add_numbers =list(map(lambda x,y: x+y,num_1,num_2))\n",
        "print(add_numbers)"
      ],
      "metadata": {
        "colab": {
          "base_uri": "https://localhost:8080/"
        },
        "id": "oE12D2aXO96t",
        "outputId": "6492c49c-d855-4c74-c5b4-166fd8bc0ac5"
      },
      "execution_count": 19,
      "outputs": [
        {
          "output_type": "stream",
          "name": "stdout",
          "text": [
            "[7, 9, 11, 13, 15]\n"
          ]
        }
      ]
    },
    {
      "cell_type": "code",
      "source": [
        "str_numbers = ['1','2','3','4','5']\n",
        "int_num = list(map(int,str_numbers))\n",
        "print(int_num)"
      ],
      "metadata": {
        "colab": {
          "base_uri": "https://localhost:8080/"
        },
        "id": "UIduwvY6O99m",
        "outputId": "66bb4eba-ac01-41b5-9697-4e41c8c259c7"
      },
      "execution_count": 20,
      "outputs": [
        {
          "output_type": "stream",
          "name": "stdout",
          "text": [
            "[1, 2, 3, 4, 5]\n"
          ]
        }
      ]
    },
    {
      "cell_type": "code",
      "source": [
        "words = ['hello','world','python']\n",
        "upper_words = list(map(str.upper,words))\n",
        "print(upper_words)"
      ],
      "metadata": {
        "colab": {
          "base_uri": "https://localhost:8080/"
        },
        "id": "khbm0tmUO-A0",
        "outputId": "3cb81164-ac37-418b-8f59-50f0349ceff3"
      },
      "execution_count": 21,
      "outputs": [
        {
          "output_type": "stream",
          "name": "stdout",
          "text": [
            "['HELLO', 'WORLD', 'PYTHON']\n"
          ]
        }
      ]
    },
    {
      "cell_type": "code",
      "source": [
        "dictionary_fruits = {'apple': 1, 'banana': 2, 'orange': 3}\n",
        "fruits = list(dictionary_fruits.keys())\n",
        "print(fruits)"
      ],
      "metadata": {
        "colab": {
          "base_uri": "https://localhost:8080/"
        },
        "id": "PQQS2p1CO-D_",
        "outputId": "673b07ab-fcd3-49e1-d6f8-5983e13d6c1c"
      },
      "execution_count": 22,
      "outputs": [
        {
          "output_type": "stream",
          "name": "stdout",
          "text": [
            "['apple', 'banana', 'orange']\n"
          ]
        }
      ]
    },
    {
      "cell_type": "code",
      "source": [
        "def even(num):\n",
        "  if num %2 ==0:\n",
        "    return True\n",
        "  else:\n",
        "    return False\n",
        "even(2)"
      ],
      "metadata": {
        "colab": {
          "base_uri": "https://localhost:8080/"
        },
        "id": "0OEMzeTQO-Hy",
        "outputId": "4208764e-8294-440c-e5bc-6c1528b1b1f1"
      },
      "execution_count": 24,
      "outputs": [
        {
          "output_type": "execute_result",
          "data": {
            "text/plain": [
              "True"
            ]
          },
          "metadata": {},
          "execution_count": 24
        }
      ]
    },
    {
      "cell_type": "code",
      "source": [
        "lists = [1,2,3,4,5,6,7,8,9,10]\n",
        "list(filter(even,lists))"
      ],
      "metadata": {
        "colab": {
          "base_uri": "https://localhost:8080/"
        },
        "id": "BDtOIoYdO-Rj",
        "outputId": "62209449-cdb8-4235-9159-7f6fc44208d2"
      },
      "execution_count": 25,
      "outputs": [
        {
          "output_type": "execute_result",
          "data": {
            "text/plain": [
              "[2, 4, 6, 8, 10]"
            ]
          },
          "metadata": {},
          "execution_count": 25
        }
      ]
    },
    {
      "cell_type": "code",
      "source": [
        "greater_than_five = list(filter(lambda x: x>5,lists))\n",
        "print(greater_than_five)"
      ],
      "metadata": {
        "colab": {
          "base_uri": "https://localhost:8080/"
        },
        "id": "DVTl3yOwQZjj",
        "outputId": "72408191-2f8f-488c-af30-79cce4335170"
      },
      "execution_count": 26,
      "outputs": [
        {
          "output_type": "stream",
          "name": "stdout",
          "text": [
            "[6, 7, 8, 9, 10]\n"
          ]
        }
      ]
    },
    {
      "cell_type": "code",
      "source": [
        "num = [1,2,3,4,5,6,7,8,9,10]\n",
        "even_and_greater_than_five = list(filter(lambda x: x%2==0 and x>5,num))\n",
        "print(even_and_greater_than_five)"
      ],
      "metadata": {
        "colab": {
          "base_uri": "https://localhost:8080/"
        },
        "id": "kpYlVKNCQnRk",
        "outputId": "2efb8eba-3c7e-459f-8270-e0ee16653afa"
      },
      "execution_count": 27,
      "outputs": [
        {
          "output_type": "stream",
          "name": "stdout",
          "text": [
            "[6, 8, 10]\n"
          ]
        }
      ]
    },
    {
      "cell_type": "code",
      "source": [
        "people =[{'name':'Rak','age':43},{'name':'jack','age':39},{'name':'jack','age':34}]\n",
        "adults = list(filter(lambda x: x['age']>=18,people))\n",
        "print(adults)"
      ],
      "metadata": {
        "colab": {
          "base_uri": "https://localhost:8080/"
        },
        "id": "0h7gxsC8Q4Uc",
        "outputId": "2d7750e1-2878-400c-9c99-f65c375684cf"
      },
      "execution_count": 28,
      "outputs": [
        {
          "output_type": "stream",
          "name": "stdout",
          "text": [
            "[{'name': 'Rak', 'age': 43}, {'name': 'jack', 'age': 39}, {'name': 'jack', 'age': 34}]\n"
          ]
        }
      ]
    },
    {
      "cell_type": "code",
      "source": [
        "memo = {}\n",
        "\n",
        "def fibonacci_seq(n):\n",
        "  if n == 0:\n",
        "    return 0\n",
        "  elif n == 1:\n",
        "    return 1\n",
        "  if n in memo:\n",
        "    return memo[n]\n",
        "  memo[n]=fibonacci_seq(n-1)+fibonacci_seq(n-2)\n",
        "  return memo[n]\n",
        "print(fibonacci_seq(10))\n",
        ""
      ],
      "metadata": {
        "colab": {
          "base_uri": "https://localhost:8080/"
        },
        "id": "rxVVi7A4Relf",
        "outputId": "481a3863-c650-4222-c1ed-8aadbc983e37"
      },
      "execution_count": 30,
      "outputs": [
        {
          "output_type": "stream",
          "name": "stdout",
          "text": [
            "55\n"
          ]
        }
      ]
    },
    {
      "cell_type": "code",
      "source": [
        "def add_to_dict(a,b=None):\n",
        "  if b is None:\n",
        "    b ={}\n",
        "  b[a]= a**2\n",
        "  return b\n",
        "print(add_to_dict(5))\n",
        "print(add_to_dict(6))"
      ],
      "metadata": {
        "colab": {
          "base_uri": "https://localhost:8080/"
        },
        "id": "LlBjNHLtS_nf",
        "outputId": "dff76e6b-8450-4802-e2a0-03242c7e094f"
      },
      "execution_count": 31,
      "outputs": [
        {
          "output_type": "stream",
          "name": "stdout",
          "text": [
            "{5: 25}\n",
            "{6: 36}\n"
          ]
        }
      ]
    },
    {
      "cell_type": "code",
      "source": [
        "def filter_integer(**kwargs):\n",
        "  return {key: value for key, value in kwargs.items() if isinstance(value,int)}\n",
        "print(filter_integer(a=1,b=2,c=3,d=4,e=5))"
      ],
      "metadata": {
        "colab": {
          "base_uri": "https://localhost:8080/"
        },
        "id": "WY5kV57rdYW0",
        "outputId": "9403b3da-21bd-4e5b-8b24-64c691251d7d"
      },
      "execution_count": 35,
      "outputs": [
        {
          "output_type": "stream",
          "name": "stdout",
          "text": [
            "{'a': 1, 'b': 2, 'c': 3, 'd': 4, 'e': 5}\n"
          ]
        }
      ]
    },
    {
      "cell_type": "code",
      "source": [
        "def apply_callback(callback, lst):\n",
        "    return [callback(x) for x in lst]\n",
        "\n",
        "# Test\n",
        "print(apply_callback(lambda x: x**2, [1, 2, 3, 4]))  # [1, 4, 9, 16]\n",
        "print(apply_callback(lambda x: x+1, [1, 2, 3, 4]))  # [2, 3, 4, 5]"
      ],
      "metadata": {
        "colab": {
          "base_uri": "https://localhost:8080/"
        },
        "id": "VrHsAWCHexq0",
        "outputId": "9d9cac39-a1f3-4088-f28a-11c58cb1e0bf"
      },
      "execution_count": 36,
      "outputs": [
        {
          "output_type": "stream",
          "name": "stdout",
          "text": [
            "[1, 4, 9, 16]\n",
            "[2, 3, 4, 5]\n"
          ]
        }
      ]
    },
    {
      "cell_type": "code",
      "source": [
        "def outer_function(x):\n",
        "  def inner_function(y):\n",
        "    return x+y\n",
        "  return inner_function\n",
        "add_5 = outer_function(5)\n",
        "print(add_5(10))"
      ],
      "metadata": {
        "colab": {
          "base_uri": "https://localhost:8080/"
        },
        "id": "jg0CXe_UfH7F",
        "outputId": "e0782f8c-e309-4743-8c72-e7f414cbc398"
      },
      "execution_count": 37,
      "outputs": [
        {
          "output_type": "stream",
          "name": "stdout",
          "text": [
            "15\n"
          ]
        }
      ]
    },
    {
      "cell_type": "code",
      "source": [
        "def outer_function(x):\n",
        "  def inner_function(y):\n",
        "    return x ** 2 + y ** 2\n",
        "  return inner_function\n",
        "add_5 = outer_function(5)\n",
        "print(add_5(10))"
      ],
      "metadata": {
        "colab": {
          "base_uri": "https://localhost:8080/"
        },
        "id": "lZjzUwD-fUVY",
        "outputId": "468b8426-c418-454f-f710-89e92c5dcf4c"
      },
      "execution_count": 38,
      "outputs": [
        {
          "output_type": "stream",
          "name": "stdout",
          "text": [
            "125\n"
          ]
        }
      ]
    },
    {
      "cell_type": "code",
      "source": [
        "import time\n",
        "\n",
        "# Decorator to calculate the execution time\n",
        "def timer_decorator(func):\n",
        "    def wrapper(*args, **kwargs):\n",
        "        start_time = time.time()\n",
        "        result = func(*args, **kwargs)\n",
        "        end_time = time.time()\n",
        "        execution_time = end_time - start_time\n",
        "        print(f\"Execution time: {execution_time:.4f} seconds\")\n",
        "        return result\n",
        "    return wrapper\n",
        "\n",
        "# Function performing a complex calculation\n",
        "@timer_decorator\n",
        "def complex_calculation(n):\n",
        "    result = 0\n",
        "    for i in range(n):\n",
        "        result += i ** 2\n",
        "    return result\n",
        "\n",
        "# Testing the decorated function with different inputs\n",
        "print(complex_calculation(100000))\n",
        "print(complex_calculation(200000))\n"
      ],
      "metadata": {
        "colab": {
          "base_uri": "https://localhost:8080/"
        },
        "id": "BPi8HlysfhnN",
        "outputId": "83e882a2-4236-40ae-aa1e-586231b26971"
      },
      "execution_count": 39,
      "outputs": [
        {
          "output_type": "stream",
          "name": "stdout",
          "text": [
            "Execution time: 0.0396 seconds\n",
            "333328333350000\n",
            "Execution time: 0.0935 seconds\n",
            "2666646666700000\n"
          ]
        }
      ]
    },
    {
      "cell_type": "code",
      "source": [
        "def filter_map(map_fun, filter_fun,lst):\n",
        "  return list(map(map_fun,filter(filter_fun,lst)))\n",
        "print(filter_map(lambda x: x**2, lambda x: x%2==0, [1,2,3,4,5,6,7,8,9,10]))"
      ],
      "metadata": {
        "colab": {
          "base_uri": "https://localhost:8080/"
        },
        "id": "v2ijR6qmi7n4",
        "outputId": "7507d1d1-7de7-4be6-bf35-4c3365477e2b"
      },
      "execution_count": 40,
      "outputs": [
        {
          "output_type": "stream",
          "name": "stdout",
          "text": [
            "[4, 16, 36, 64, 100]\n"
          ]
        }
      ]
    },
    {
      "cell_type": "code",
      "source": [
        "def filter_and_map(filter_func, map_func, lst):\n",
        "    return [map_func(x) for x in lst if filter_func(x)]\n",
        "\n",
        "# Test\n",
        "print(filter_and_map(lambda x: x % 2 == 0, lambda x: x ** 2, [1, 2, 3, 4, 5]))  # [4, 16]\n",
        "print(filter_and_map(lambda x: x > 2, lambda x: x + 1, [1, 2, 3, 4, 5]))  # [4, 5, 6]"
      ],
      "metadata": {
        "colab": {
          "base_uri": "https://localhost:8080/"
        },
        "id": "7a5udfJcj2us",
        "outputId": "b718230f-a8b7-4b1b-f80d-23da20554198"
      },
      "execution_count": 41,
      "outputs": [
        {
          "output_type": "stream",
          "name": "stdout",
          "text": [
            "[4, 16]\n",
            "[4, 5, 6]\n"
          ]
        }
      ]
    },
    {
      "cell_type": "code",
      "source": [
        "def compose(f,g):\n",
        "  return lambda x :f(g(x))\n",
        "f = lambda x:x+1\n",
        "g = lambda x:x**2\n",
        "h = compose(f,g)\n",
        "print(h(2))\n",
        "print(h(4))"
      ],
      "metadata": {
        "colab": {
          "base_uri": "https://localhost:8080/"
        },
        "id": "B8DK8rWRj8uY",
        "outputId": "2ebc05ce-45ef-4dd8-ac71-affaef3b4379"
      },
      "execution_count": 43,
      "outputs": [
        {
          "output_type": "stream",
          "name": "stdout",
          "text": [
            "5\n",
            "17\n"
          ]
        }
      ]
    },
    {
      "cell_type": "code",
      "source": [
        "from functools import partial\n",
        "multiply_by_two = partial(lambda x,y: x*y,2)\n",
        "print(multiply_by_two(3))\n",
        "print(multiply_by_two(5))"
      ],
      "metadata": {
        "colab": {
          "base_uri": "https://localhost:8080/"
        },
        "id": "Fa4ShrBSmtpi",
        "outputId": "c904d0a4-b137-46f1-d126-738468e53670"
      },
      "execution_count": 45,
      "outputs": [
        {
          "output_type": "stream",
          "name": "stdout",
          "text": [
            "6\n",
            "10\n"
          ]
        }
      ]
    },
    {
      "cell_type": "code",
      "source": [
        "def average(lst):\n",
        "  try:\n",
        "    return sum(lst)/len(lst)\n",
        "  except ZeroDivisionError:\n",
        "    return None\n",
        "print(average([1,2,3,4,5]))\n",
        "print(average([]))"
      ],
      "metadata": {
        "colab": {
          "base_uri": "https://localhost:8080/"
        },
        "id": "TXZWJLjSmw97",
        "outputId": "10a361ff-08a4-46b9-e17f-3ff8fcbe9faf"
      },
      "execution_count": 47,
      "outputs": [
        {
          "output_type": "stream",
          "name": "stdout",
          "text": [
            "3.0\n",
            "None\n"
          ]
        }
      ]
    },
    {
      "cell_type": "code",
      "source": [
        "def fibonacci_generator():\n",
        "  a,b = 0,1\n",
        "  while True:\n",
        "    yield a\n",
        "    a,b = b,a+b\n",
        "fibonacci = fibonacci_generator()\n",
        "for i in range(10):\n",
        "  print(next(fibonacci))"
      ],
      "metadata": {
        "colab": {
          "base_uri": "https://localhost:8080/"
        },
        "id": "4VvyHPx0m7ma",
        "outputId": "af340485-a27d-46b9-c4bd-7518d4bf9a59"
      },
      "execution_count": 48,
      "outputs": [
        {
          "output_type": "stream",
          "name": "stdout",
          "text": [
            "0\n",
            "1\n",
            "1\n",
            "2\n",
            "3\n",
            "5\n",
            "8\n",
            "13\n",
            "21\n",
            "34\n"
          ]
        }
      ]
    },
    {
      "cell_type": "code",
      "source": [
        "def curry_product(x):\n",
        "    def inner1(y):\n",
        "        def inner2(z):\n",
        "            return x * y * z\n",
        "        return inner2\n",
        "    return inner1\n",
        "print(curry_product(2)(3)(4))\n",
        "print(curry_product(1)(5)(6))"
      ],
      "metadata": {
        "colab": {
          "base_uri": "https://localhost:8080/"
        },
        "id": "EtdotPQ4nkOA",
        "outputId": "12df28df-ed86-43cc-b715-3e88d57accdd"
      },
      "execution_count": 49,
      "outputs": [
        {
          "output_type": "stream",
          "name": "stdout",
          "text": [
            "24\n",
            "30\n"
          ]
        }
      ]
    },
    {
      "cell_type": "code",
      "source": [
        "def call_counter(counter={'count': 0}):\n",
        "    counter['count'] += 1\n",
        "    return counter['count']\n",
        "\n",
        "print(call_counter())\n",
        "print(call_counter())\n",
        "print(call_counter())"
      ],
      "metadata": {
        "colab": {
          "base_uri": "https://localhost:8080/"
        },
        "id": "44KWwbJrntZ6",
        "outputId": "41902491-a715-4a88-fa02-49cf0995f107"
      },
      "execution_count": 50,
      "outputs": [
        {
          "output_type": "stream",
          "name": "stdout",
          "text": [
            "1\n",
            "2\n",
            "3\n"
          ]
        }
      ]
    },
    {
      "cell_type": "code",
      "source": [],
      "metadata": {
        "id": "dYz0NgDkn8Ye"
      },
      "execution_count": null,
      "outputs": []
    }
  ]
}