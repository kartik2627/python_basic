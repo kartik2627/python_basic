{
 "cells": [
  {
   "cell_type": "code",
   "execution_count": 3,
   "id": "c6d23a79",
   "metadata": {},
   "outputs": [
    {
     "name": "stdout",
     "output_type": "stream",
     "text": [
      "[0.3531744  0.10350277 0.08753013 0.95374624 0.53006116 0.5769567\n",
      " 0.04599932 0.12351697 0.99113795 0.52967687 0.42677049 0.46218973\n",
      " 0.33483971 0.67358814 0.22517181 0.89947183 0.49586646 0.08309583\n",
      " 0.41953599 0.85822911 0.51890886 0.07371011 0.33944489 0.66313253\n",
      " 0.94262123 0.75061109 0.32806039 0.06300302 0.34117354 0.89431471\n",
      " 0.17766749 0.01584986 0.26275038 0.29739795 0.70366676 0.28105603\n",
      " 0.3449112  0.11897591 0.77427452 0.36041331 0.33073931 0.73583455\n",
      " 0.85055745 0.0298453  0.78903609 0.65624632 0.77489435 0.25010628\n",
      " 0.52499022 0.33080214 0.48590598 0.95610411 0.90550617 0.56533494\n",
      " 0.76371576 0.11935916 0.51487098 0.78881801 0.59041508 0.13040849\n",
      " 0.96609112 0.14397066 0.44285979 0.3197789  0.20890911 0.41353983\n",
      " 0.56190095 0.92789251 0.37084675 0.4695526  0.82254513 0.08468132\n",
      " 0.33237377 0.57739498 0.63688948 0.8827031  0.68543302 0.11070249\n",
      " 0.98252427 0.90469595 0.97504508 0.8232238  0.25940099 0.32654743\n",
      " 0.60178542 0.77970765 0.78538076 0.43579676 0.05446547 0.03474193\n",
      " 0.7433561  0.27618503 0.29252861 0.56371918 0.76021521 0.41609169\n",
      " 0.0574751  0.01743739 0.06032367 0.19632356]\n"
     ]
    }
   ],
   "source": [
    "import numpy as np\n",
    "var = np.random.rand(100)\n",
    "print(var)"
   ]
  },
  {
   "cell_type": "raw",
   "id": "014813b3",
   "metadata": {},
   "source": []
  },
  {
   "cell_type": "code",
   "execution_count": 4,
   "id": "a073b7b0",
   "metadata": {},
   "outputs": [
    {
     "name": "stdout",
     "output_type": "stream",
     "text": [
      "[[0.88448923 0.30065513 0.48460159 0.03849704 0.36929141]\n",
      " [0.86840137 0.7800698  0.84862953 0.17862263 0.4282081 ]]\n"
     ]
    }
   ],
   "source": [
    "var1=np.random.rand(2,5)\n",
    "print(var1)"
   ]
  },
  {
   "cell_type": "code",
   "execution_count": 5,
   "id": "d889c28e",
   "metadata": {},
   "outputs": [
    {
     "name": "stdout",
     "output_type": "stream",
     "text": [
      "[-0.54197781  1.53190729  1.63207139  0.29682648  0.4808801 ]\n"
     ]
    }
   ],
   "source": [
    "var2 = np.random.randn(5)\n",
    "print(var2)"
   ]
  },
  {
   "cell_type": "code",
   "execution_count": 6,
   "id": "09b9f890",
   "metadata": {},
   "outputs": [
    {
     "name": "stdout",
     "output_type": "stream",
     "text": [
      "[0.45931721 0.88968191 0.71935434 0.3272983 ]\n"
     ]
    }
   ],
   "source": [
    "var3=np.random.ranf(4)\n",
    "print(var3)"
   ]
  },
  {
   "cell_type": "code",
   "execution_count": 8,
   "id": "fc4ef32f",
   "metadata": {},
   "outputs": [
    {
     "name": "stdout",
     "output_type": "stream",
     "text": [
      "120\n"
     ]
    }
   ],
   "source": [
    "var4=np.random.randint(1,1000)\n",
    "print(var4)"
   ]
  },
  {
   "cell_type": "markdown",
   "id": "88350e7c",
   "metadata": {},
   "source": [
    "# datatype"
   ]
  },
  {
   "cell_type": "code",
   "execution_count": 9,
   "id": "245687d5",
   "metadata": {},
   "outputs": [
    {
     "name": "stdout",
     "output_type": "stream",
     "text": [
      "data type : int32\n"
     ]
    }
   ],
   "source": [
    "var = np.array([1,2,3])\n",
    "print(\"data type :\", var.dtype)"
   ]
  },
  {
   "cell_type": "code",
   "execution_count": 12,
   "id": "53aa7879",
   "metadata": {},
   "outputs": [
    {
     "name": "stdout",
     "output_type": "stream",
     "text": [
      "datatype: <U11\n"
     ]
    }
   ],
   "source": [
    "var1= np.array([1,2,3,\"a\",\"b\",\"c\",])\n",
    "print(\"datatype:\" , var1.dtype)"
   ]
  },
  {
   "cell_type": "code",
   "execution_count": 13,
   "id": "e2cf910f",
   "metadata": {},
   "outputs": [
    {
     "name": "stdout",
     "output_type": "stream",
     "text": [
      "int32\n"
     ]
    }
   ],
   "source": [
    "x = np.array([1,2,3])\n",
    "print(x.dtype)"
   ]
  },
  {
   "cell_type": "code",
   "execution_count": 14,
   "id": "5182d6f0",
   "metadata": {},
   "outputs": [
    {
     "name": "stdout",
     "output_type": "stream",
     "text": [
      "int8\n"
     ]
    }
   ],
   "source": [
    "x = np.array([1,2,3],dtype = np.int8)\n",
    "print(x.dtype)"
   ]
  },
  {
   "cell_type": "code",
   "execution_count": 15,
   "id": "57efd1e3",
   "metadata": {},
   "outputs": [
    {
     "name": "stdout",
     "output_type": "stream",
     "text": [
      "float32\n"
     ]
    }
   ],
   "source": [
    "x = np.array([1,2,3],dtype = \"f\")\n",
    "print(x.dtype)"
   ]
  },
  {
   "cell_type": "code",
   "execution_count": 17,
   "id": "2a6318b5",
   "metadata": {},
   "outputs": [
    {
     "name": "stdout",
     "output_type": "stream",
     "text": [
      "int8\n"
     ]
    }
   ],
   "source": [
    "x = np.array([1,2,3],dtype = x\"b\")\n",
    "print(x.dtype)"
   ]
  },
  {
   "cell_type": "code",
   "execution_count": 19,
   "id": "9e9d4302",
   "metadata": {},
   "outputs": [
    {
     "name": "stdout",
     "output_type": "stream",
     "text": [
      "int32\n",
      "float32\n",
      "[1 2 3 4]\n",
      "[1. 2. 3. 4.]\n"
     ]
    }
   ],
   "source": [
    "x2 = np.array([1,2,3,4])\n",
    "new =np.float32(x2)\n",
    "print (x2.dtype)\n",
    "print(new.dtype)\n",
    "print(x2)\n",
    "print(new)"
   ]
  },
  {
   "cell_type": "markdown",
   "id": "d92fbdfa",
   "metadata": {},
   "source": [
    "# arithmatic operations in array"
   ]
  },
  {
   "cell_type": "code",
   "execution_count": 20,
   "id": "d3ffb7dc",
   "metadata": {},
   "outputs": [
    {
     "name": "stdout",
     "output_type": "stream",
     "text": [
      "[4 5 6 7]\n"
     ]
    }
   ],
   "source": [
    "a = np.array([1,2,3,4])\n",
    "b = a +3\n",
    "print(b)"
   ]
  },
  {
   "cell_type": "code",
   "execution_count": 21,
   "id": "1d5442de",
   "metadata": {},
   "outputs": [
    {
     "name": "stdout",
     "output_type": "stream",
     "text": [
      "[2 4 6 8]\n"
     ]
    }
   ],
   "source": [
    "a= np.array([1,2,3,4])\n",
    "b= np.array([1,2,3,4])\n",
    "c= a+b\n",
    "print(c)"
   ]
  },
  {
   "cell_type": "code",
   "execution_count": 22,
   "id": "936640bb",
   "metadata": {},
   "outputs": [
    {
     "name": "stdout",
     "output_type": "stream",
     "text": [
      "[ 3  6  9 12]\n"
     ]
    }
   ],
   "source": [
    "a = np.array([1,2,3,4])\n",
    "b = a * 3\n",
    "print(b)"
   ]
  },
  {
   "cell_type": "code",
   "execution_count": 23,
   "id": "24201fa3",
   "metadata": {},
   "outputs": [
    {
     "name": "stdout",
     "output_type": "stream",
     "text": [
      "[1 2 0 1]\n"
     ]
    }
   ],
   "source": [
    "a = np.array([1,2,3,4])\n",
    "b = a % 3\n",
    "print(b)"
   ]
  },
  {
   "cell_type": "code",
   "execution_count": 24,
   "id": "c81376f2",
   "metadata": {},
   "outputs": [
    {
     "name": "stdout",
     "output_type": "stream",
     "text": [
      "[0.33333333 0.66666667 1.         1.33333333]\n"
     ]
    }
   ],
   "source": [
    "a = np.array([1,2,3,4])\n",
    "b = a / 3\n",
    "print(b)"
   ]
  },
  {
   "cell_type": "code",
   "execution_count": 25,
   "id": "3b647451",
   "metadata": {},
   "outputs": [
    {
     "name": "stdout",
     "output_type": "stream",
     "text": [
      "[2 4 6 8]\n"
     ]
    }
   ],
   "source": [
    "a= np.array([1,2,3,4])\n",
    "b= np.array([1,2,3,4])\n",
    "c= np.add(a,b)\n",
    "print(c)"
   ]
  },
  {
   "cell_type": "code",
   "execution_count": 26,
   "id": "e0ba4eb4",
   "metadata": {},
   "outputs": [
    {
     "name": "stdout",
     "output_type": "stream",
     "text": [
      "[0 0 0 0]\n"
     ]
    }
   ],
   "source": [
    "a= np.array([1,2,3,4])\n",
    "b= np.array([1,2,3,4])\n",
    "c= np.subtract(a,b)\n",
    "print(c)"
   ]
  },
  {
   "cell_type": "code",
   "execution_count": 28,
   "id": "1ab83d64",
   "metadata": {},
   "outputs": [
    {
     "name": "stdout",
     "output_type": "stream",
     "text": [
      "[[1 2 3 4]\n",
      " [1 2 3 4]]\n",
      "\n",
      "[[1 2 3 4]\n",
      " [1 2 3 4]]\n",
      "\n",
      "[[2 4 6 8]\n",
      " [2 4 6 8]]\n"
     ]
    }
   ],
   "source": [
    "a= np.array([[1,2,3,4],[1,2,3,4]])\n",
    "b= np.array([[1,2,3,4],[1,2,3,4]])\n",
    "print(a)\n",
    "print()\n",
    "print(b)\n",
    "print()\n",
    "c =a+b\n",
    "print(c)"
   ]
  },
  {
   "cell_type": "code",
   "execution_count": 29,
   "id": "5d4a88d0",
   "metadata": {},
   "outputs": [
    {
     "name": "stdout",
     "output_type": "stream",
     "text": [
      "[[1 2 3 4]\n",
      " [1 2 3 4]]\n",
      "\n",
      "[[1 2 3 4]\n",
      " [1 2 3 4]]\n",
      "\n",
      "[[ 1  4  9 16]\n",
      " [ 1  4  9 16]]\n"
     ]
    }
   ],
   "source": [
    "a= np.array([[1,2,3,4],[1,2,3,4]])\n",
    "b= np.array([[1,2,3,4],[1,2,3,4]])\n",
    "print(a)\n",
    "print()\n",
    "print(b)\n",
    "print()\n",
    "c =a*b\n",
    "print(c)"
   ]
  },
  {
   "cell_type": "markdown",
   "id": "ed9df2e7",
   "metadata": {},
   "source": [
    "# arithmatic function\n"
   ]
  },
  {
   "cell_type": "code",
   "execution_count": 30,
   "id": "f5b5fe45",
   "metadata": {},
   "outputs": [],
   "source": [
    "a =np.array([1,2,3,4])"
   ]
  },
  {
   "cell_type": "code",
   "execution_count": 31,
   "id": "fc8cb3bd",
   "metadata": {},
   "outputs": [
    {
     "name": "stdout",
     "output_type": "stream",
     "text": [
      "1 0\n",
      "4 3\n"
     ]
    }
   ],
   "source": [
    "print(np.min(a),np.argmin(a))\n",
    "print(np.max(a),np.argmax(a))"
   ]
  },
  {
   "cell_type": "code",
   "execution_count": 32,
   "id": "d019356f",
   "metadata": {},
   "outputs": [
    {
     "name": "stdout",
     "output_type": "stream",
     "text": [
      "[1 2 3 4]\n"
     ]
    }
   ],
   "source": [
    "b = np.array([[1,2,3,4],[6,7,8,9]])\n",
    "print(np.min(b,axis=0))"
   ]
  },
  {
   "cell_type": "code",
   "execution_count": null,
   "id": "90f46924",
   "metadata": {},
   "outputs": [],
   "source": []
  }
 ],
 "metadata": {
  "kernelspec": {
   "display_name": "Python 3 (ipykernel)",
   "language": "python",
   "name": "python3"
  },
  "language_info": {
   "codemirror_mode": {
    "name": "ipython",
    "version": 3
   },
   "file_extension": ".py",
   "mimetype": "text/x-python",
   "name": "python",
   "nbconvert_exporter": "python",
   "pygments_lexer": "ipython3",
   "version": "3.10.9"
  }
 },
 "nbformat": 4,
 "nbformat_minor": 5
}
