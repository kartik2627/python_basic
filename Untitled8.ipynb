{
 "cells": [
  {
   "cell_type": "code",
   "execution_count": 1,
   "id": "db920694",
   "metadata": {},
   "outputs": [
    {
     "name": "stdout",
     "output_type": "stream",
     "text": [
      "You've lost! The red turtle is the winner!\n"
     ]
    }
   ],
   "source": [
    "from turtle import Turtle, Screen\n",
    "import random\n",
    "\n",
    "# Initialize the race variables\n",
    "is_race_on = False\n",
    "screen = Screen()\n",
    "screen.setup(width=500, height=400)\n",
    "user_bet = screen.textinput(title=\"Make your bet\", prompt=\"Which turtle will win the race? Enter a color: \")\n",
    "colors = [\"red\", \"orange\", \"yellow\", \"green\", \"blue\", \"purple\"]\n",
    "y_positions = [-70, -40, -10, 20, 50, 80]\n",
    "all_turtles = []\n",
    "\n",
    "# Create 6 turtles\n",
    "for turtle_index in range(6):\n",
    "    new_turtle = Turtle(shape=\"turtle\")\n",
    "    new_turtle.penup()\n",
    "    new_turtle.color(colors[turtle_index])\n",
    "    new_turtle.goto(x=-230, y=y_positions[turtle_index])\n",
    "    all_turtles.append(new_turtle)\n",
    "\n",
    "# Check if the user has made a bet\n",
    "if user_bet:\n",
    "    is_race_on = True\n",
    "\n",
    "while is_race_on:\n",
    "    for turtle in all_turtles:\n",
    "        # Check if a turtle has reached the finish line\n",
    "        if turtle.xcor() > 230:\n",
    "            is_race_on = False\n",
    "            winning_color = turtle.pencolor()\n",
    "            if winning_color == user_bet:\n",
    "                print(f\"You've won! The {winning_color} turtle is the winner!\")\n",
    "            else:\n",
    "                print(f\"You've lost! The {winning_color} turtle is the winner!\")\n",
    "\n",
    "        # Make each turtle move a random amount\n",
    "        rand_distance = random.randint(0, 10)\n",
    "        turtle.forward(rand_distance)\n",
    "\n",
    "# Close the screen when clicked\n",
    "screen.exitonclick()\n"
   ]
  },
  {
   "cell_type": "code",
   "execution_count": null,
   "id": "a9f28d4d",
   "metadata": {},
   "outputs": [],
   "source": []
  }
 ],
 "metadata": {
  "kernelspec": {
   "display_name": "Python 3 (ipykernel)",
   "language": "python",
   "name": "python3"
  },
  "language_info": {
   "codemirror_mode": {
    "name": "ipython",
    "version": 3
   },
   "file_extension": ".py",
   "mimetype": "text/x-python",
   "name": "python",
   "nbconvert_exporter": "python",
   "pygments_lexer": "ipython3",
   "version": "3.11.5"
  }
 },
 "nbformat": 4,
 "nbformat_minor": 5
}
