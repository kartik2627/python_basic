{
  "nbformat": 4,
  "nbformat_minor": 0,
  "metadata": {
    "colab": {
      "provenance": [],
      "authorship_tag": "ABX9TyP0ibBI/vpNy4s4zvENC1UN",
      "include_colab_link": true
    },
    "kernelspec": {
      "name": "python3",
      "display_name": "Python 3"
    },
    "language_info": {
      "name": "python"
    }
  },
  "cells": [
    {
      "cell_type": "markdown",
      "metadata": {
        "id": "view-in-github",
        "colab_type": "text"
      },
      "source": [
        "<a href=\"https://colab.research.google.com/github/kartik2627/python_basic/blob/main/PYTHON.ipynb\" target=\"_parent\"><img src=\"https://colab.research.google.com/assets/colab-badge.svg\" alt=\"Open In Colab\"/></a>"
      ]
    },
    {
      "cell_type": "markdown",
      "source": [
        "Problem Statement:\n",
        "You work in XYZ Corporation as a Data Analyst. Your company has told you to\n",
        "work with the if-else condition.\n",
        "Tasks To Be Performed:\n",
        "1. Input the values of a and b as 10 and 20 respectively. Now check if a is\n",
        "greater or b is greater using if condition. Think about all the edge cases,\n",
        "and print the statements accordingly"
      ],
      "metadata": {
        "id": "gEkXqbuRx0JT"
      }
    },
    {
      "cell_type": "code",
      "execution_count": null,
      "metadata": {
        "colab": {
          "base_uri": "https://localhost:8080/"
        },
        "id": "B4hwJ6rRxv1H",
        "outputId": "f59f28e6-1717-4677-9434-a886be0c2b1f"
      },
      "outputs": [
        {
          "output_type": "stream",
          "name": "stdout",
          "text": [
            "b is greater than a\n"
          ]
        }
      ],
      "source": [
        "a = 10\n",
        "b = 20\n",
        "if a >  b:\n",
        "    print(\"a is greater than b\")\n",
        "else:\n",
        "    print(\"b is greater than a\")"
      ]
    },
    {
      "cell_type": "markdown",
      "source": [
        "Problem Statement:\n",
        "You work in XYZ Corporation as a Data Analyst. Your company has told you to\n",
        "work with the if-else condition.\n",
        "Tasks To Be Performed:\n",
        "1. Take three user inputs and print the greatest number from those inputs\n",
        "using if-else condition. Edge cases, if any, should also be handled\n"
      ],
      "metadata": {
        "id": "LApBaO9cx6jw"
      }
    },
    {
      "cell_type": "code",
      "source": [
        "a = int(input(\"Enter the first number: \"))\n",
        "b = int(input(\"Enter the second number: \"))\n",
        "c = int(input(\"Enter the third number: \"))\n",
        "if a > b and a > c:\n",
        "    print(\"a is the greatest number\")\n",
        "elif b > a and b > c:\n",
        "    print(\"b is the greatest number\")\n",
        "else:\n",
        "    print(\"c is the greatest number\")"
      ],
      "metadata": {
        "colab": {
          "base_uri": "https://localhost:8080/"
        },
        "id": "mRY-Q1Kpx-iN",
        "outputId": "a9ba8970-338b-4d81-d636-57be2ec962e5"
      },
      "execution_count": null,
      "outputs": [
        {
          "output_type": "stream",
          "name": "stdout",
          "text": [
            "Enter the first number: 12\n",
            "Enter the second number: 3\n",
            "Enter the third number: 6\n",
            "a is the greatest number\n"
          ]
        }
      ]
    },
    {
      "cell_type": "markdown",
      "source": [
        "Problem Statement:\n",
        "You work in XYZ Corporation as a Data Analyst. Your company has told you to\n",
        "work with the if-else condition.\n",
        "Tasks To Be Performed:\n",
        "1. Take three user inputs and print the greatest number from those inputs\n",
        "using if-else condition. Edge cases, if any, should also be"
      ],
      "metadata": {
        "id": "ZrKVhEWXzXwQ"
      }
    },
    {
      "cell_type": "code",
      "source": [
        "for i in range(1,11):\n",
        "  print(i)"
      ],
      "metadata": {
        "colab": {
          "base_uri": "https://localhost:8080/"
        },
        "id": "1GlmC0jSx2ie",
        "outputId": "7f319b32-f1c4-4d7a-956d-932e9dd7e5c3"
      },
      "execution_count": null,
      "outputs": [
        {
          "output_type": "stream",
          "name": "stdout",
          "text": [
            "1\n",
            "2\n",
            "3\n",
            "4\n",
            "5\n",
            "6\n",
            "7\n",
            "8\n",
            "9\n",
            "10\n"
          ]
        }
      ]
    },
    {
      "cell_type": "markdown",
      "source": [
        "Problem Statement:\n",
        "You work in XYZ Corporation as a Data Analyst. Your company has told you to\n",
        "work with the looping statements.\n",
        "Tasks To Be Performed:\n",
        "1. Create a list that has 10, 23, 4, 26, 4, 75, 24, 54 values and with the help\n",
        "of while loop fetch the even numbers and print the numbe```\n",
        "\n"
      ],
      "metadata": {
        "id": "JArPD54PzZJB"
      }
    },
    {
      "cell_type": "code",
      "source": [
        "list = [10, 23, 4, 26, 4, 75, 24, 54]\n",
        "while i in list:\n",
        "  if i % 2 ==0:\n",
        "    print(i)\n",
        "  i += 1"
      ],
      "metadata": {
        "colab": {
          "base_uri": "https://localhost:8080/"
        },
        "id": "yvitkR4XzZTQ",
        "outputId": "4a7aec82-d6d0-49a7-fdfc-2a7dc15f0acd"
      },
      "execution_count": null,
      "outputs": [
        {
          "output_type": "stream",
          "name": "stdout",
          "text": [
            "10\n"
          ]
        }
      ]
    },
    {
      "cell_type": "markdown",
      "source": [
        "Problem Statement:\n",
        "You work in XYZ Corporation as a Data Analyst. Your company has told you to\n",
        "work with the looping statements.\n",
        "Tasks To Be Performed:\n",
        "1. Create an array that has user defined inputs and with the help of for loop,\n",
        "fetch all the prime numbers and print the numbers.\n",
        "\n"
      ],
      "metadata": {
        "id": "A6wLzop93UDc"
      }
    },
    {
      "cell_type": "code",
      "source": [
        "\n",
        "def is_prime(n):\n",
        "  if n <= 1:\n",
        "    return False\n",
        "  for i in range(2, int(n ** 0.5) + 1):\n",
        "    if n % i == 0:\n",
        "      return False\n",
        "  return True\n",
        "\n",
        "num_elements = int(input(\"Enter the number of elements: \"))\n",
        "arr = []\n",
        "for i in range(num_elements):\n",
        "  element = int(input(f\"Enter element {i+1}: \"))\n",
        "  arr.append(element)\n",
        "\n",
        "print(\"Prime numbers in the array:\")\n",
        "for num in arr:\n",
        "  if is_prime(num):\n",
        "    print(num)\n"
      ],
      "metadata": {
        "colab": {
          "base_uri": "https://localhost:8080/"
        },
        "id": "n0PctUYXzZtS",
        "outputId": "2408923f-8287-4765-e4f5-64b35225e7c1"
      },
      "execution_count": null,
      "outputs": [
        {
          "output_type": "stream",
          "name": "stdout",
          "text": [
            "Enter the number of elements: 7\n",
            "Enter element 1: 1\n",
            "Enter element 2: 4\n",
            "Enter element 3: 7\n",
            "Enter element 4: 7\n",
            "Enter element 5: 8\n",
            "Enter element 6: 9\n",
            "Enter element 7: 3\n",
            "Prime numbers in the array:\n",
            "7\n",
            "7\n",
            "3\n"
          ]
        }
      ]
    },
    {
      "cell_type": "markdown",
      "source": [
        "Problem Statement:\n",
        "Consider yourself to be Sam who is a data scientist. He has been invited as a\n",
        "guest lecturer at a college to take an introductory session on Python.\n",
        "Tasks To Be Performed:\n",
        "1. Create a list containing squares of numbers from 1 to 10 (HINT: use List\n",
        "Comprehension).\n",
        "2. Write a function to check if the year number is a leap year.\n",
        "3. Write a function to take an array and return another array that contains the\n",
        "members of the first array that are even.\n",
        "4. Write a function that takes 2 arrays and prints the members of the first\n",
        "array that are present in the second array. (HINT: use Membership\n",
        "Comprehension)\n"
      ],
      "metadata": {
        "id": "SOU6mWw1zZ0S"
      }
    },
    {
      "cell_type": "code",
      "source": [
        "a = [i**2 for i in range(1,11)]\n",
        "print(a)"
      ],
      "metadata": {
        "colab": {
          "base_uri": "https://localhost:8080/"
        },
        "id": "CzlylI8nzZ8w",
        "outputId": "76730dad-cd6b-4f54-c58c-96a56ad9523b"
      },
      "execution_count": null,
      "outputs": [
        {
          "output_type": "stream",
          "name": "stdout",
          "text": [
            "[1, 4, 9, 16, 25, 36, 49, 64, 81, 100]\n"
          ]
        }
      ]
    },
    {
      "cell_type": "code",
      "source": [
        "def is_leap_year(year):\n",
        "    if (year % 4 == 0 and year % 100 != 0) or (year % 400 == 0):\n",
        "        return True\n",
        "    else:\n",
        "        return False\n",
        "\n",
        "print(is_leap_year(2024))\n",
        "print(is_leap_year(2023))\n"
      ],
      "metadata": {
        "colab": {
          "base_uri": "https://localhost:8080/"
        },
        "id": "xS_5m8YRzaXX",
        "outputId": "192b17df-1466-49bf-a756-77eb2f8654c0"
      },
      "execution_count": null,
      "outputs": [
        {
          "output_type": "stream",
          "name": "stdout",
          "text": [
            "True\n",
            "False\n"
          ]
        }
      ]
    },
    {
      "cell_type": "code",
      "source": [
        "def get_even_numbers(array):\n",
        "    even_numbers = [x for x in array if x % 2 == 0]\n",
        "    return even_numbers\n",
        "\n",
        "\n",
        "print(get_even_numbers([1, 2, 3, 4, 5, 6]))\n"
      ],
      "metadata": {
        "colab": {
          "base_uri": "https://localhost:8080/"
        },
        "id": "_94_X1KC8LRk",
        "outputId": "85181a39-31ca-4d98-f134-0566c2a74ec7"
      },
      "execution_count": null,
      "outputs": [
        {
          "output_type": "stream",
          "name": "stdout",
          "text": [
            "[2, 4, 6]\n"
          ]
        }
      ]
    },
    {
      "cell_type": "code",
      "source": [
        "def common_members(array1, array2):\n",
        "    common = [x for x in array1 if x in array2]\n",
        "    print(common)\n",
        "\n",
        "\n",
        "common_members([1, 2, 3, 4, 5], [4, 5, 6, 7, 8])\n"
      ],
      "metadata": {
        "colab": {
          "base_uri": "https://localhost:8080/"
        },
        "id": "haoYuKVv8Nd8",
        "outputId": "0a4c4b49-91d1-4acd-9c8a-b90dd4b0b1ed"
      },
      "execution_count": null,
      "outputs": [
        {
          "output_type": "stream",
          "name": "stdout",
          "text": [
            "[4, 5]\n"
          ]
        }
      ]
    },
    {
      "cell_type": "code",
      "source": [],
      "metadata": {
        "id": "Skl2Q-QC8qzg"
      },
      "execution_count": null,
      "outputs": []
    },
    {
      "cell_type": "markdown",
      "source": [],
      "metadata": {
        "id": "cG6uLheezaO_"
      }
    },
    {
      "cell_type": "markdown",
      "source": [],
      "metadata": {
        "id": "EcDUuTvdzafT"
      }
    },
    {
      "cell_type": "code",
      "source": [],
      "metadata": {
        "id": "vukAvz9uzamH"
      },
      "execution_count": null,
      "outputs": []
    }
  ]
}