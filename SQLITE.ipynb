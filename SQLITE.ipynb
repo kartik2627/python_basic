{
  "nbformat": 4,
  "nbformat_minor": 0,
  "metadata": {
    "colab": {
      "provenance": [],
      "authorship_tag": "ABX9TyNZ1Nc0iCdUdIeFpAcTFKm5",
      "include_colab_link": true
    },
    "kernelspec": {
      "name": "python3",
      "display_name": "Python 3"
    },
    "language_info": {
      "name": "python"
    }
  },
  "cells": [
    {
      "cell_type": "markdown",
      "metadata": {
        "id": "view-in-github",
        "colab_type": "text"
      },
      "source": [
        "<a href=\"https://colab.research.google.com/github/kartik2627/python_basic/blob/main/SQLITE.ipynb\" target=\"_parent\"><img src=\"https://colab.research.google.com/assets/colab-badge.svg\" alt=\"Open In Colab\"/></a>"
      ]
    },
    {
      "cell_type": "code",
      "execution_count": 2,
      "metadata": {
        "id": "cTfay--1Z_Q9"
      },
      "outputs": [],
      "source": [
        "import sqlite3\n"
      ]
    },
    {
      "cell_type": "code",
      "source": [
        "connection =  sqlite3.connect('example.db')\n",
        "connection"
      ],
      "metadata": {
        "colab": {
          "base_uri": "https://localhost:8080/"
        },
        "id": "kERHkATIaGGA",
        "outputId": "8908595b-a92f-4870-d981-9288147e931d"
      },
      "execution_count": 3,
      "outputs": [
        {
          "output_type": "execute_result",
          "data": {
            "text/plain": [
              "<sqlite3.Connection at 0x79af9da54940>"
            ]
          },
          "metadata": {},
          "execution_count": 3
        }
      ]
    },
    {
      "cell_type": "code",
      "source": [
        "from sqlite3.dbapi2 import Cursor\n",
        "Cursor = connection.cursor()\n",
        "Cursor"
      ],
      "metadata": {
        "colab": {
          "base_uri": "https://localhost:8080/"
        },
        "id": "Z_EkNd0ia-0g",
        "outputId": "8d86b04e-dfe9-4f0b-93c9-42322e4f2545"
      },
      "execution_count": 4,
      "outputs": [
        {
          "output_type": "execute_result",
          "data": {
            "text/plain": [
              "<sqlite3.Cursor at 0x79af8511d5c0>"
            ]
          },
          "metadata": {},
          "execution_count": 4
        }
      ]
    },
    {
      "cell_type": "code",
      "source": [
        "import sqlite3\n",
        "\n",
        "# Connect to SQLite database (creates the database if it doesn't exist)\n",
        "conn = sqlite3.connect('example.db')\n",
        "\n",
        "# Create a cursor object\n",
        "cursor = conn.cursor()\n",
        "\n",
        "# Create table\n",
        "cursor.execute('''\n",
        "CREATE TABLE IF NOT EXISTS users (\n",
        "    id INTEGER PRIMARY KEY,\n",
        "    name TEXT,\n",
        "    age INTEGER\n",
        ")\n",
        "''')\n",
        "\n",
        "# Commit the changes\n",
        "conn.commit()\n",
        "\n",
        "# Close the connection\n",
        "conn.close()\n",
        "\n",
        "print(\"Table created successfully!\")\n"
      ],
      "metadata": {
        "colab": {
          "base_uri": "https://localhost:8080/"
        },
        "id": "qe41NLreboWj",
        "outputId": "a00a9e21-3350-4970-ac5f-185438c0b354"
      },
      "execution_count": 6,
      "outputs": [
        {
          "output_type": "stream",
          "name": "stdout",
          "text": [
            "Table created successfully!\n"
          ]
        }
      ]
    },
    {
      "cell_type": "code",
      "source": [
        "import sqlite3\n",
        "\n",
        "# Connect to SQLite database\n",
        "conn = sqlite3.connect('example.db')\n",
        "cursor = conn.cursor()\n",
        "\n",
        "# Insert a record\n",
        "cursor.execute(\"INSERT INTO users (name, age) VALUES (?, ?)\", ('John', 25))\n",
        "\n",
        "# Commit the changes\n",
        "conn.commit()\n",
        "\n",
        "# Now, let's fetch and print the data to verify the insertion\n",
        "cursor.execute(\"SELECT * FROM users\")\n",
        "rows = cursor.fetchall()\n",
        "print(rows)  # This will display all rows from the 'users' table\n",
        "\n",
        "# Close the connection\n",
        "conn.close()\n"
      ],
      "metadata": {
        "colab": {
          "base_uri": "https://localhost:8080/"
        },
        "id": "miMOJlZBbzBd",
        "outputId": "ab70a28d-4e36-4dce-b9b9-98c2ec0fe4fb"
      },
      "execution_count": 9,
      "outputs": [
        {
          "output_type": "stream",
          "name": "stdout",
          "text": [
            "[(1, 'John', 25)]\n"
          ]
        }
      ]
    },
    {
      "cell_type": "code",
      "source": [
        "import sqlite3\n",
        "\n",
        "# Connect to SQLite database (creates the database if it doesn't exist)\n",
        "conn = sqlite3.connect('example.db')\n",
        "cursor = conn.cursor()\n",
        "\n",
        "# 1. Create a table\n",
        "cursor.execute('''\n",
        "CREATE TABLE IF NOT EXISTS users (\n",
        "    id INTEGER PRIMARY KEY AUTOINCREMENT,\n",
        "    name TEXT NOT NULL,\n",
        "    age INTEGER NOT NULL\n",
        ")\n",
        "''')\n",
        "conn.commit()\n",
        "print(\"Table 'users' created successfully.\")\n",
        "\n",
        "# 2. Insert data into the table\n",
        "users = [('John', 25), ('Alice', 30), ('Bob', 22), ('Emma', 28)]\n",
        "cursor.executemany(\"INSERT INTO users (name, age) VALUES (?, ?)\", users)\n",
        "conn.commit()\n",
        "print(\"Data inserted successfully.\")\n",
        "\n",
        "# 3. Query data from the table (read)\n",
        "cursor.execute(\"SELECT * FROM users\")\n",
        "rows = cursor.fetchall()\n",
        "print(\"\\nUsers in the table after insertion:\")\n",
        "for row in rows:\n",
        "    print(row)\n",
        "\n",
        "\n"
      ],
      "metadata": {
        "colab": {
          "base_uri": "https://localhost:8080/"
        },
        "id": "2VJdi5PIcgVZ",
        "outputId": "d82529aa-998b-41d5-a691-07d09d1bd3a7"
      },
      "execution_count": 10,
      "outputs": [
        {
          "output_type": "stream",
          "name": "stdout",
          "text": [
            "Table 'users' created successfully.\n",
            "Data inserted successfully.\n",
            "\n",
            "Users in the table after insertion:\n",
            "(1, 'John', 25)\n",
            "(2, 'John', 25)\n",
            "(3, 'Alice', 30)\n",
            "(4, 'Bob', 22)\n",
            "(5, 'Emma', 28)\n"
          ]
        }
      ]
    },
    {
      "cell_type": "code",
      "source": [
        "# 4. Update data in the table\n",
        "cursor.execute(\"UPDATE users SET age = ? WHERE name = ?\", (26, 'John'))\n",
        "conn.commit()\n",
        "print(\"\\nUpdated John's age to 26.\")\n",
        "\n",
        "# Query the updated data\n",
        "cursor.execute(\"SELECT * FROM users WHERE name = ?\", ('John',))\n",
        "updated_row = cursor.fetchone()\n",
        "print(f\"John's updated record: {updated_row}\")\n",
        "\n",
        "# 5. Delete data from the table\n",
        "cursor.execute(\"DELETE FROM users WHERE name = ?\", ('Bob',))\n",
        "conn.commit()\n",
        "print(\"\\nDeleted Bob from the table.\")\n",
        "\n",
        "# Query data after deletion\n",
        "cursor.execute(\"SELECT * FROM users\")\n",
        "rows = cursor.fetchall()\n",
        "print(\"\\nUsers in the table after deletion:\")\n",
        "for row in rows:\n",
        "    print(row)\n",
        "\n",
        "# 6. Drop the table (optional)\n",
        "cursor.execute(\"DROP TABLE IF EXISTS users\")\n",
        "conn.commit()\n",
        "print(\"\\nTable 'users' dropped successfully.\")\n",
        "\n",
        "# Close the connection\n",
        "conn.close()"
      ],
      "metadata": {
        "colab": {
          "base_uri": "https://localhost:8080/"
        },
        "id": "9zny7Ny3dHDC",
        "outputId": "8e18f531-5514-42c6-dfb7-bb19bf307349"
      },
      "execution_count": 11,
      "outputs": [
        {
          "output_type": "stream",
          "name": "stdout",
          "text": [
            "\n",
            "Updated John's age to 26.\n",
            "John's updated record: (1, 'John', 26)\n",
            "\n",
            "Deleted Bob from the table.\n",
            "\n",
            "Users in the table after deletion:\n",
            "(1, 'John', 26)\n",
            "(2, 'John', 26)\n",
            "(3, 'Alice', 30)\n",
            "(5, 'Emma', 28)\n",
            "\n",
            "Table 'users' dropped successfully.\n"
          ]
        }
      ]
    },
    {
      "cell_type": "code",
      "source": [
        "import sqlite3\n",
        "\n",
        "# Connect to SQLite database (creates the database if it doesn't exist)\n",
        "conn = sqlite3.connect('sales.db')\n",
        "cursor = conn.cursor()\n",
        "\n",
        "# 1. Create a table for sales data\n",
        "cursor.execute('''\n",
        "CREATE TABLE IF NOT EXISTS sales (\n",
        "    id INTEGER PRIMARY KEY AUTOINCREMENT,\n",
        "    product_name TEXT NOT NULL,\n",
        "    sale_amount REAL NOT NULL,\n",
        "    sale_date TEXT NOT NULL,\n",
        "    customer_name TEXT\n",
        ")\n",
        "''')\n",
        "conn.commit()\n",
        "print(\"Table 'sales' created successfully.\")\n",
        "\n",
        "# 2. Insert sales data into the table\n",
        "sales_data = [\n",
        "    ('Laptop', 1200.50, '2024-10-01', 'John Doe'),\n",
        "    ('Phone', 800.75, '2024-10-02', 'Alice Smith'),\n",
        "    ('Tablet', 400.99, '2024-10-02', 'Bob Johnson'),\n",
        "    ('Monitor', 300.45, '2024-10-03', 'Emma Wilson'),\n",
        "]\n",
        "cursor.executemany(\"INSERT INTO sales (product_name, sale_amount, sale_date, customer_name) VALUES (?, ?, ?, ?)\", sales_data)\n",
        "conn.commit()\n",
        "print(\"Sales data inserted successfully.\")\n",
        "\n",
        "# 3. Query data from the sales table\n",
        "cursor.execute(\"SELECT * FROM sales\")\n",
        "rows = cursor.fetchall()\n",
        "print(\"\\nSales Data after insertion:\")\n",
        "for row in rows:\n",
        "    print(row)\n",
        "\n",
        "# 4. Update a sale's data\n",
        "cursor.execute(\"UPDATE sales SET sale_amount = ? WHERE product_name = ?\", (1300.00, 'Laptop'))\n",
        "conn.commit()\n",
        "print(\"\\nUpdated the sale amount of 'Laptop' to 1300.00.\")\n",
        "\n",
        "# Query the updated data\n",
        "cursor.execute(\"SELECT * FROM sales WHERE product_name = ?\", ('Laptop',))\n",
        "updated_row = cursor.fetchone()\n",
        "print(f\"Laptop's updated record: {updated_row}\")\n",
        "\n",
        "# 5. Delete a sale's data\n",
        "cursor.execute(\"DELETE FROM sales WHERE product_name = ?\", ('Tablet',))\n",
        "conn.commit()\n",
        "print(\"\\nDeleted 'Tablet' from the sales data.\")\n",
        "\n",
        "# Query data after deletion\n",
        "cursor.execute(\"SELECT * FROM sales\")\n",
        "rows = cursor.fetchall()\n",
        "print(\"\\nSales Data after deletion:\")\n",
        "for row in rows:\n",
        "    print(row)\n",
        "\n",
        "# 6. Drop the table (optional)\n",
        "cursor.execute(\"DROP TABLE IF EXISTS sales\")\n",
        "conn.commit()\n",
        "print(\"\\nTable 'sales' dropped successfully.\")\n",
        "\n",
        "# Close the connection\n",
        "conn.close()\n"
      ],
      "metadata": {
        "colab": {
          "base_uri": "https://localhost:8080/"
        },
        "id": "V2nVJg6kdOVw",
        "outputId": "e311e45f-a8e8-41d0-c7e3-6aac3471861f"
      },
      "execution_count": 12,
      "outputs": [
        {
          "output_type": "stream",
          "name": "stdout",
          "text": [
            "Table 'sales' created successfully.\n",
            "Sales data inserted successfully.\n",
            "\n",
            "Sales Data after insertion:\n",
            "(1, 'Laptop', 1200.5, '2024-10-01', 'John Doe')\n",
            "(2, 'Phone', 800.75, '2024-10-02', 'Alice Smith')\n",
            "(3, 'Tablet', 400.99, '2024-10-02', 'Bob Johnson')\n",
            "(4, 'Monitor', 300.45, '2024-10-03', 'Emma Wilson')\n",
            "\n",
            "Updated the sale amount of 'Laptop' to 1300.00.\n",
            "Laptop's updated record: (1, 'Laptop', 1300.0, '2024-10-01', 'John Doe')\n",
            "\n",
            "Deleted 'Tablet' from the sales data.\n",
            "\n",
            "Sales Data after deletion:\n",
            "(1, 'Laptop', 1300.0, '2024-10-01', 'John Doe')\n",
            "(2, 'Phone', 800.75, '2024-10-02', 'Alice Smith')\n",
            "(4, 'Monitor', 300.45, '2024-10-03', 'Emma Wilson')\n",
            "\n",
            "Table 'sales' dropped successfully.\n"
          ]
        }
      ]
    },
    {
      "cell_type": "code",
      "source": [
        "import sqlite3\n",
        "\n",
        "# Connect to SQLite database (creates the database if it doesn't exist)\n",
        "conn = sqlite3.connect('school.db')\n",
        "cursor = conn.cursor()\n",
        "\n",
        "# 1. Create a table for student data\n",
        "cursor.execute('''\n",
        "CREATE TABLE IF NOT EXISTS students (\n",
        "    id INTEGER PRIMARY KEY AUTOINCREMENT,\n",
        "    name TEXT NOT NULL,\n",
        "    age INTEGER NOT NULL,\n",
        "    grade TEXT NOT NULL,\n",
        "    enrollment_date TEXT NOT NULL\n",
        ")\n",
        "''')\n",
        "conn.commit()\n",
        "print(\"Table 'students' created successfully.\")\n",
        "\n",
        "# 2. Insert student data into the table\n",
        "students_data = [\n",
        "    ('John Doe', 14, '8th', '2023-09-01'),\n",
        "    ('Alice Smith', 12, '7th', '2023-09-01'),\n",
        "    ('Bob Johnson', 15, '9th', '2023-09-01'),\n",
        "    ('Emma Wilson', 13, '7th', '2023-09-01'),\n",
        "]\n",
        "cursor.executemany(\"INSERT INTO students (name, age, grade, enrollment_date) VALUES (?, ?, ?, ?)\", students_data)\n",
        "conn.commit()\n",
        "print(\"Student data inserted successfully.\")\n",
        "\n",
        "# 3. Query data from the students table\n",
        "cursor.execute(\"SELECT * FROM students\")\n",
        "rows = cursor.fetchall()\n",
        "print(\"\\nStudent Data after insertion:\")\n",
        "for row in rows:\n",
        "    print(row)\n",
        "\n",
        "# 4. Update a student's data\n",
        "cursor.execute(\"UPDATE students SET grade = ? WHERE name = ?\", ('10th', 'Bob Johnson'))\n",
        "conn.commit()\n",
        "print(\"\\nUpdated Bob Johnson's grade to 10th.\")\n",
        "\n",
        "# Query the updated data\n",
        "cursor.execute(\"SELECT * FROM students WHERE name = ?\", ('Bob Johnson',))\n",
        "updated_row = cursor.fetchone()\n",
        "print(f\"Bob Johnson's updated record: {updated_row}\")\n",
        "\n",
        "# 5. Delete a student's data\n",
        "cursor.execute(\"DELETE FROM students WHERE name = ?\", ('Alice Smith',))\n",
        "conn.commit()\n",
        "print(\"\\nDeleted 'Alice Smith' from the students data.\")\n",
        "\n",
        "# Query data after deletion\n",
        "cursor.execute(\"SELECT * FROM students\")\n",
        "rows = cursor.fetchall()\n",
        "print(\"\\nStudent Data after deletion:\")\n",
        "for row in rows:\n",
        "    print(row)\n",
        "\n",
        "# 6. Drop the table (optional)\n",
        "cursor.execute(\"DROP TABLE IF EXISTS students\")\n",
        "conn.commit()\n",
        "print(\"\\nTable 'students' dropped successfully.\")\n",
        "\n",
        "# Close the connection\n",
        "conn.close()\n"
      ],
      "metadata": {
        "colab": {
          "base_uri": "https://localhost:8080/"
        },
        "id": "aicgG4jjdaUC",
        "outputId": "9957d12f-bcf2-4174-d032-c023b77df2c8"
      },
      "execution_count": 13,
      "outputs": [
        {
          "output_type": "stream",
          "name": "stdout",
          "text": [
            "Table 'students' created successfully.\n",
            "Student data inserted successfully.\n",
            "\n",
            "Student Data after insertion:\n",
            "(1, 'John Doe', 14, '8th', '2023-09-01')\n",
            "(2, 'Alice Smith', 12, '7th', '2023-09-01')\n",
            "(3, 'Bob Johnson', 15, '9th', '2023-09-01')\n",
            "(4, 'Emma Wilson', 13, '7th', '2023-09-01')\n",
            "\n",
            "Updated Bob Johnson's grade to 10th.\n",
            "Bob Johnson's updated record: (3, 'Bob Johnson', 15, '10th', '2023-09-01')\n",
            "\n",
            "Deleted 'Alice Smith' from the students data.\n",
            "\n",
            "Student Data after deletion:\n",
            "(1, 'John Doe', 14, '8th', '2023-09-01')\n",
            "(3, 'Bob Johnson', 15, '10th', '2023-09-01')\n",
            "(4, 'Emma Wilson', 13, '7th', '2023-09-01')\n",
            "\n",
            "Table 'students' dropped successfully.\n"
          ]
        }
      ]
    }
  ]
}