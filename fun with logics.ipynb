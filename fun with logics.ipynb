{
 "cells": [
  {
   "cell_type": "code",
   "execution_count": 1,
   "id": "9a3018ce",
   "metadata": {},
   "outputs": [
    {
     "data": {
      "text/plain": [
       "0"
      ]
     },
     "execution_count": 1,
     "metadata": {},
     "output_type": "execute_result"
    }
   ],
   "source": [
    "2%2"
   ]
  },
  {
   "cell_type": "code",
   "execution_count": 2,
   "id": "94ca644f",
   "metadata": {},
   "outputs": [
    {
     "data": {
      "text/plain": [
       "1"
      ]
     },
     "execution_count": 2,
     "metadata": {},
     "output_type": "execute_result"
    }
   ],
   "source": [
    "3%2"
   ]
  },
  {
   "cell_type": "code",
   "execution_count": 3,
   "id": "9779c744",
   "metadata": {},
   "outputs": [
    {
     "data": {
      "text/plain": [
       "1"
      ]
     },
     "execution_count": 3,
     "metadata": {},
     "output_type": "execute_result"
    }
   ],
   "source": [
    "41%40"
   ]
  },
  {
   "cell_type": "code",
   "execution_count": 4,
   "id": "8a7fe0d6",
   "metadata": {},
   "outputs": [],
   "source": [
    "'''NUMBER IS EVEN'''\n",
    "def even(number):\n",
    "    result = number % 2 ==0\n",
    "    return result"
   ]
  },
  {
   "cell_type": "code",
   "execution_count": 5,
   "id": "147adfeb",
   "metadata": {},
   "outputs": [
    {
     "data": {
      "text/plain": [
       "True"
      ]
     },
     "execution_count": 5,
     "metadata": {},
     "output_type": "execute_result"
    }
   ],
   "source": [
    "even(20\n",
    ")"
   ]
  },
  {
   "cell_type": "code",
   "execution_count": 6,
   "id": "913ade0c",
   "metadata": {},
   "outputs": [],
   "source": [
    "def even(number):\n",
    "    return number % 2 ==0"
   ]
  },
  {
   "cell_type": "code",
   "execution_count": 7,
   "id": "690f836b",
   "metadata": {},
   "outputs": [
    {
     "data": {
      "text/plain": [
       "True"
      ]
     },
     "execution_count": 7,
     "metadata": {},
     "output_type": "execute_result"
    }
   ],
   "source": [
    "even(22)"
   ]
  },
  {
   "cell_type": "code",
   "execution_count": 8,
   "id": "b77d030b",
   "metadata": {},
   "outputs": [
    {
     "data": {
      "text/plain": [
       "list"
      ]
     },
     "execution_count": 8,
     "metadata": {},
     "output_type": "execute_result"
    }
   ],
   "source": [
    "#return true if number is even inside a\n",
    "list"
   ]
  },
  {
   "cell_type": "code",
   "execution_count": 9,
   "id": "d4dcf615",
   "metadata": {},
   "outputs": [],
   "source": [
    "def even_list(num_list):\n",
    "    for number in num_list:\n",
    "        if number%2 == 0:\n",
    "            return True\n",
    "        else:\n",
    "            pass\n",
    "        # only going to check one condition "
   ]
  },
  {
   "cell_type": "code",
   "execution_count": 12,
   "id": "539b6449",
   "metadata": {},
   "outputs": [
    {
     "data": {
      "text/plain": [
       "True"
      ]
     },
     "execution_count": 12,
     "metadata": {},
     "output_type": "execute_result"
    }
   ],
   "source": [
    "even_list([1,2,3,4,5,6,7,8,9])"
   ]
  },
  {
   "cell_type": "code",
   "execution_count": 13,
   "id": "3d2136e9",
   "metadata": {},
   "outputs": [],
   "source": [
    "def even_list(num_list):\n",
    "   \n",
    "    for number in num_list:\n",
    "        if number%2 == 0:\n",
    "            return True\n",
    "        else:\n",
    "            pass\n",
    "        \n",
    "    return False"
   ]
  },
  {
   "cell_type": "code",
   "execution_count": 14,
   "id": "0f119c28",
   "metadata": {},
   "outputs": [
    {
     "data": {
      "text/plain": [
       "True"
      ]
     },
     "execution_count": 14,
     "metadata": {},
     "output_type": "execute_result"
    }
   ],
   "source": [
    "even_list([1,2,3,4,5,6,7,8,9])"
   ]
  },
  {
   "cell_type": "code",
   "execution_count": 19,
   "id": "a30dc1c9",
   "metadata": {},
   "outputs": [],
   "source": [
    "def even_list(num_list):\n",
    "     \n",
    "    # return all even number in list\n",
    "    even_number = []#place holder variables\n",
    "    for number in num_list:\n",
    "        if number % 2 == 0:\n",
    "            even_number.append(number)\n",
    "            \n",
    "        else:\n",
    "            pass\n",
    "    return even_number"
   ]
  },
  {
   "cell_type": "code",
   "execution_count": 20,
   "id": "0545f2b9",
   "metadata": {},
   "outputs": [],
   "source": [
    "even_list = ([2,3,4,5])"
   ]
  },
  {
   "cell_type": "code",
   "execution_count": 1,
   "id": "3bd7ebc2",
   "metadata": {},
   "outputs": [],
   "source": [
    "def check_even_list(num_list):\n",
    "    # Go through each number\n",
    "    for number in num_list:\n",
    "        # Once we get a \"hit\" on an even number, we return True\n",
    "        if number % 2 == 0:\n",
    "            return True\n",
    "        # Otherwise we don't do anything\n",
    "        else:\n",
    "            pass"
   ]
  },
  {
   "cell_type": "code",
   "execution_count": 2,
   "id": "31376803",
   "metadata": {},
   "outputs": [
    {
     "data": {
      "text/plain": [
       "True"
      ]
     },
     "execution_count": 2,
     "metadata": {},
     "output_type": "execute_result"
    }
   ],
   "source": [
    "check_even_list([1,2,3,4,5])"
   ]
  },
  {
   "cell_type": "code",
   "execution_count": 3,
   "id": "62014332",
   "metadata": {},
   "outputs": [
    {
     "data": {
      "text/plain": [
       "False"
      ]
     },
     "execution_count": 3,
     "metadata": {},
     "output_type": "execute_result"
    }
   ],
   "source": [
    "def check_even_list(num_list):\n",
    "    # Go through each number\n",
    "    for number in num_list:\n",
    "        # Once we get a \"hit\" on an even number, we return True\n",
    "        if number % 2 == 0:\n",
    "            return True\n",
    "        # This is WRONG! This returns False at the very first odd number!\n",
    "        # It doesn't end up checking the other numbers in the list!\n",
    "        else:\n",
    "            return False\n",
    "# UH OH! It is returning False after hitting the first 1\n",
    "check_even_list([1,2,3])"
   ]
  },
  {
   "cell_type": "code",
   "execution_count": 9,
   "id": "49fb8b5a",
   "metadata": {},
   "outputs": [
    {
     "data": {
      "text/plain": [
       "[2, 4, 6]"
      ]
     },
     "execution_count": 9,
     "metadata": {},
     "output_type": "execute_result"
    }
   ],
   "source": [
    "# all even number in a function numbers\n",
    "def check_even_list(num_list):\n",
    "    # Go through each number\n",
    "    # place holder variable \n",
    "    even_number = []\n",
    "    for number in num_list:\n",
    "        # Once we get a \"hit\" on an even number, we return True\n",
    "        if number % 2 == 0:\n",
    "            even_number.append(number)\n",
    "        # This is WRONG! This returns False at the very first odd number!\n",
    "        # It doesn't end up checking the other numbers in the list!\n",
    "        else:\n",
    "            pass\n",
    "    return even_number\n",
    "check_even_list([1,2,3,4,5,6])"
   ]
  },
  {
   "cell_type": "code",
   "execution_count": 6,
   "id": "ffafa36e",
   "metadata": {},
   "outputs": [
    {
     "ename": "NameError",
     "evalue": "name 'even_number' is not defined",
     "output_type": "error",
     "traceback": [
      "\u001b[1;31m---------------------------------------------------------------------------\u001b[0m",
      "\u001b[1;31mNameError\u001b[0m                                 Traceback (most recent call last)",
      "Cell \u001b[1;32mIn[6], line 1\u001b[0m\n\u001b[1;32m----> 1\u001b[0m \u001b[43mcheck_even_list\u001b[49m\u001b[43m(\u001b[49m\u001b[43m[\u001b[49m\u001b[38;5;241;43m1\u001b[39;49m\u001b[43m,\u001b[49m\u001b[38;5;241;43m2\u001b[39;49m\u001b[43m,\u001b[49m\u001b[38;5;241;43m3\u001b[39;49m\u001b[43m,\u001b[49m\u001b[38;5;241;43m4\u001b[39;49m\u001b[43m,\u001b[49m\u001b[38;5;241;43m5\u001b[39;49m\u001b[43m,\u001b[49m\u001b[38;5;241;43m6\u001b[39;49m\u001b[43m]\u001b[49m\u001b[43m)\u001b[49m\n",
      "Cell \u001b[1;32mIn[4], line 14\u001b[0m, in \u001b[0;36mcheck_even_list\u001b[1;34m(num_list)\u001b[0m\n\u001b[0;32m     10\u001b[0m     \u001b[38;5;66;03m# This is WRONG! This returns False at the very first odd number!\u001b[39;00m\n\u001b[0;32m     11\u001b[0m     \u001b[38;5;66;03m# It doesn't end up checking the other numbers in the list!\u001b[39;00m\n\u001b[0;32m     12\u001b[0m     \u001b[38;5;28;01melse\u001b[39;00m:\n\u001b[0;32m     13\u001b[0m         \u001b[38;5;28;01mpass\u001b[39;00m\n\u001b[1;32m---> 14\u001b[0m \u001b[38;5;28;01mreturn\u001b[39;00m \u001b[43meven_number\u001b[49m\n",
      "\u001b[1;31mNameError\u001b[0m: name 'even_number' is not defined"
     ]
    }
   ],
   "source": [
    "check_even_list([1,2,3,4,5,6])"
   ]
  },
  {
   "cell_type": "code",
   "execution_count": 10,
   "id": "3b48e58e",
   "metadata": {},
   "outputs": [],
   "source": [
    "#packing value of tupke\n",
    "stock_prices =[('aapl',200),('goog',4004),('msft',1010)]"
   ]
  },
  {
   "cell_type": "code",
   "execution_count": 11,
   "id": "1ae1de45",
   "metadata": {},
   "outputs": [
    {
     "name": "stdout",
     "output_type": "stream",
     "text": [
      "('aapl', 200)\n",
      "('goog', 4004)\n",
      "('msft', 1010)\n"
     ]
    }
   ],
   "source": [
    "for item in stock_prices:\n",
    "    print(item)"
   ]
  },
  {
   "cell_type": "code",
   "execution_count": 14,
   "id": "5f8d258c",
   "metadata": {},
   "outputs": [
    {
     "name": "stdout",
     "output_type": "stream",
     "text": [
      "aapl\n",
      "goog\n",
      "msft\n"
     ]
    }
   ],
   "source": [
    "for ticker ,price in stock_prices:\n",
    "    print(ticker)"
   ]
  },
  {
   "cell_type": "code",
   "execution_count": 16,
   "id": "230b13d8",
   "metadata": {},
   "outputs": [
    {
     "name": "stdout",
     "output_type": "stream",
     "text": [
      "220.0\n",
      "4404.4\n",
      "1111.0\n"
     ]
    }
   ],
   "source": [
    "for ticker ,price in stock_prices:\n",
    "    print(price +(0.1*price))"
   ]
  },
  {
   "cell_type": "code",
   "execution_count": 17,
   "id": "72e6473f",
   "metadata": {},
   "outputs": [],
   "source": [
    "work_hrs = [('kat',100),('koko', 101), ('ron',200)]"
   ]
  },
  {
   "cell_type": "code",
   "execution_count": 18,
   "id": "b6c256b6",
   "metadata": {},
   "outputs": [],
   "source": [
    "def employee_check(work_hrs):\n",
    "    current_max = 0\n",
    "    employee_of_month = ''\n",
    "    \n",
    "    for employee,hrs in work_hrs:\n",
    "        if hrs > current_max:\n",
    "            current_max = hrs\n",
    "            employee_of_month = employee\n",
    "            \n",
    "        else:\n",
    "            pass\n",
    "    #return\n",
    "    return(employee_of_month,current_max)"
   ]
  },
  {
   "cell_type": "code",
   "execution_count": 20,
   "id": "dea50eb3",
   "metadata": {},
   "outputs": [
    {
     "data": {
      "text/plain": [
       "('ron', 200)"
      ]
     },
     "execution_count": 20,
     "metadata": {},
     "output_type": "execute_result"
    }
   ],
   "source": [
    "employee_check(work_hrs)"
   ]
  },
  {
   "cell_type": "code",
   "execution_count": null,
   "id": "0f1e32a1",
   "metadata": {},
   "outputs": [],
   "source": []
  }
 ],
 "metadata": {
  "kernelspec": {
   "display_name": "Python 3 (ipykernel)",
   "language": "python",
   "name": "python3"
  },
  "language_info": {
   "codemirror_mode": {
    "name": "ipython",
    "version": 3
   },
   "file_extension": ".py",
   "mimetype": "text/x-python",
   "name": "python",
   "nbconvert_exporter": "python",
   "pygments_lexer": "ipython3",
   "version": "3.10.9"
  }
 },
 "nbformat": 4,
 "nbformat_minor": 5
}
