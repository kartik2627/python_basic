{
  "nbformat": 4,
  "nbformat_minor": 0,
  "metadata": {
    "colab": {
      "provenance": [],
      "authorship_tag": "ABX9TyMxlFBYltnCvbX2ehvbZP+K",
      "include_colab_link": true
    },
    "kernelspec": {
      "name": "python3",
      "display_name": "Python 3"
    },
    "language_info": {
      "name": "python"
    }
  },
  "cells": [
    {
      "cell_type": "markdown",
      "metadata": {
        "id": "view-in-github",
        "colab_type": "text"
      },
      "source": [
        "<a href=\"https://colab.research.google.com/github/kartik2627/python_basic/blob/main/oops_class.ipynb\" target=\"_parent\"><img src=\"https://colab.research.google.com/assets/colab-badge.svg\" alt=\"Open In Colab\"/></a>"
      ]
    },
    {
      "cell_type": "code",
      "execution_count": null,
      "metadata": {
        "id": "3Gc8RplC12VB",
        "colab": {
          "base_uri": "https://localhost:8080/"
        },
        "outputId": "73193088-dfc6-46f0-b434-02ed6cd8bb19"
      },
      "outputs": [
        {
          "output_type": "stream",
          "name": "stdout",
          "text": [
            "<class '__main__.Car'>\n"
          ]
        }
      ],
      "source": [
        "# Class is a blue print for creating objects . attribute , methods.\n",
        "class Car:\n",
        "    pass\n",
        "\n",
        "audi = Car()\n",
        "bmw = Car()\n",
        "\n",
        "print(type(audi))\n"
      ]
    },
    {
      "cell_type": "code",
      "source": [
        "print(Car.mro())"
      ],
      "metadata": {
        "colab": {
          "base_uri": "https://localhost:8080/"
        },
        "id": "x6GOpb4YEsGr",
        "outputId": "6e61401e-6c24-49b4-a56a-a7c102716669"
      },
      "execution_count": null,
      "outputs": [
        {
          "output_type": "stream",
          "name": "stdout",
          "text": [
            "[<class '__main__.Car'>, <class 'object'>]\n"
          ]
        }
      ]
    },
    {
      "cell_type": "code",
      "source": [
        "audi.windows = 5\n",
        "audi.doors = 4\n",
        "#attributes\n",
        "print(audi.windows)\n",
        "print(audi.doors)"
      ],
      "metadata": {
        "colab": {
          "base_uri": "https://localhost:8080/"
        },
        "id": "NpOh50YFFdIo",
        "outputId": "0e1833c3-2f04-4188-a75e-ecd9cc736a47"
      },
      "execution_count": null,
      "outputs": [
        {
          "output_type": "stream",
          "name": "stdout",
          "text": [
            "5\n",
            "4\n"
          ]
        }
      ]
    },
    {
      "cell_type": "code",
      "source": [
        "audi.enginetype = \"petrol\"\n",
        "print(audi.enginetype)"
      ],
      "metadata": {
        "colab": {
          "base_uri": "https://localhost:8080/"
        },
        "id": "Zu0lrZD_FveH",
        "outputId": "c52a1b4d-5d1b-4491-df8b-770d289a1b26"
      },
      "execution_count": null,
      "outputs": [
        {
          "output_type": "stream",
          "name": "stdout",
          "text": [
            "petrol\n"
          ]
        }
      ]
    },
    {
      "cell_type": "code",
      "source": [
        "hyundai = Car()\n",
        "hyundai.windows = 2\n",
        "hyundai.doors = 2\n",
        "print(hyundai.windows)"
      ],
      "metadata": {
        "colab": {
          "base_uri": "https://localhost:8080/"
        },
        "id": "csXvB1KGFvhf",
        "outputId": "5e209107-13be-4f92-d207-eb3aa62f87f4"
      },
      "execution_count": null,
      "outputs": [
        {
          "output_type": "stream",
          "name": "stdout",
          "text": [
            "2\n"
          ]
        }
      ]
    },
    {
      "cell_type": "code",
      "source": [
        "class animals:\n",
        "    def __init__(self,name,age):\n",
        "        self.name = name\n",
        "        self.age = age\n",
        "mamals = animals(\"dog\",10)\n",
        "print(mamals.name)"
      ],
      "metadata": {
        "colab": {
          "base_uri": "https://localhost:8080/"
        },
        "id": "S6oHWrmiFvkl",
        "outputId": "3fde72e3-8fe6-43f4-d504-c737e8bfbf4a"
      },
      "execution_count": null,
      "outputs": [
        {
          "output_type": "stream",
          "name": "stdout",
          "text": [
            "dog\n"
          ]
        }
      ]
    },
    {
      "cell_type": "code",
      "source": [
        "class Dogs():\n",
        "        def __init__(self,name,age):\n",
        "            self.name = name\n",
        "            self.age = age\n",
        "    #instance method\n",
        "dog1 = Dogs('lucy',4)\n",
        "dog2 = Dogs('tommy',5)\n",
        "print(dog1.name)\n",
        "print(dog2.age)"
      ],
      "metadata": {
        "colab": {
          "base_uri": "https://localhost:8080/"
        },
        "id": "4IBCQUWjFvn8",
        "outputId": "1da5afc9-a71c-4662-e08d-88671ef1d581"
      },
      "execution_count": null,
      "outputs": [
        {
          "output_type": "stream",
          "name": "stdout",
          "text": [
            "lucy\n",
            "5\n"
          ]
        }
      ]
    },
    {
      "cell_type": "code",
      "source": [
        "class Dogs():\n",
        "        def __init__(self,name,age):\n",
        "            self.name = name\n",
        "            self.age = age\n",
        "    #instance method\n",
        "        def bark(self):\n",
        "            print(\"bark\")\n",
        "        def run(self):\n",
        "            print(\"run\")\n",
        "    #instance method\n",
        "        def jump(self):\n",
        "            print(\"jump\")\n",
        "    #instance method\n",
        "        def sleep(self):\n",
        "            print(\"sleep\")\n",
        "    #instance method\n",
        "dog1 = Dogs('lucy',4)\n",
        "dog2 = Dogs('tommy',5)\n",
        "print(dog1.name)\n",
        "print(dog2.age)\n",
        "dog1.bark()\n",
        "dog1.run()\n",
        "dog1.jump()\n",
        "dog1.sleep()"
      ],
      "metadata": {
        "colab": {
          "base_uri": "https://localhost:8080/"
        },
        "id": "9ecUtBXNFvrX",
        "outputId": "edfaa04b-c149-4f30-bdea-a6f070fc97bf"
      },
      "execution_count": null,
      "outputs": [
        {
          "output_type": "stream",
          "name": "stdout",
          "text": [
            "lucy\n",
            "5\n",
            "bark\n",
            "run\n",
            "jump\n",
            "sleep\n"
          ]
        }
      ]
    },
    {
      "cell_type": "code",
      "source": [
        "class BankAcount:\n",
        "    def __init__(self,owner,balance=0):\n",
        "        self.owner = owner\n",
        "        self.balance = balance\n",
        "    def deposit(self,dep_amt):\n",
        "        self.balance = self.balance + dep_amt\n",
        "        print(f\"Added {dep_amt} to the balance.{self.balance}\")\n",
        "    def widhdrawl(self,wd_amt):\n",
        "        if self.balance >= wd_amt:\n",
        "            self.balance = self.balance - wd_amt\n",
        "            print(\"Withdrawal accepted\")\n",
        "        else:\n",
        "            print(\"sorry not enough funds\")\n",
        "    def get_balance(self):\n",
        "        print(f\"Your balance is {self.balance}\")\n",
        "acc =BankAcount(\"jose\",1000)\n",
        "print(acc.deposit(500))\n",
        "print(acc.widhdrawl(2000))\n",
        "print(acc.get_balance())\n"
      ],
      "metadata": {
        "colab": {
          "base_uri": "https://localhost:8080/"
        },
        "id": "kZki-ojPIG3R",
        "outputId": "0ec025da-f822-4ef1-f828-b9b969143466"
      },
      "execution_count": null,
      "outputs": [
        {
          "output_type": "stream",
          "name": "stdout",
          "text": [
            "Added 500 to the balance.1500\n",
            "None\n",
            "sorry not enough funds\n",
            "None\n",
            "Your balance is 1500\n",
            "None\n"
          ]
        }
      ]
    },
    {
      "cell_type": "code",
      "source": [
        "class Car:\n",
        "  def __init__(self,make,model,year):\n",
        "    self.make = make\n",
        "    self.model = model\n",
        "    self.year = year\n",
        "car1 = Car(\"Bmw\",\"x5\",2018)\n",
        "print(car1.make)\n",
        "print(car1.model)\n",
        "print(car1.year)"
      ],
      "metadata": {
        "id": "5ujGY_xZIG9m",
        "colab": {
          "base_uri": "https://localhost:8080/"
        },
        "outputId": "1f9b7e36-c857-4247-9b7d-b0a5765c7f8c"
      },
      "execution_count": null,
      "outputs": [
        {
          "output_type": "stream",
          "name": "stdout",
          "text": [
            "Bmw\n",
            "x5\n",
            "2018\n"
          ]
        }
      ]
    },
    {
      "cell_type": "code",
      "source": [
        "class Car:\n",
        "  def __init__(self,make,model,year):\n",
        "    self.make = make\n",
        "    self.model = model\n",
        "    self.year = year\n",
        "  def start_engine(self):\n",
        "    print(\"engine started\")\n",
        "  def stop_engine(self):\n",
        "    print(\"engine stopped\")\n",
        "car1 = Car(\"Bmw\",\"x5\",2018)\n",
        "print(car1.make)\n",
        "print(car1.model)\n",
        "print(car1.year)\n",
        "car1.start_engine()\n",
        "car1.stop_engine()\n"
      ],
      "metadata": {
        "colab": {
          "base_uri": "https://localhost:8080/"
        },
        "id": "zMDOMs5Jk-zR",
        "outputId": "c1e17236-01cb-4021-d0a4-295e48130b10"
      },
      "execution_count": null,
      "outputs": [
        {
          "output_type": "stream",
          "name": "stdout",
          "text": [
            "Bmw\n",
            "x5\n",
            "2018\n",
            "engine started\n",
            "engine stopped\n"
          ]
        }
      ]
    },
    {
      "cell_type": "code",
      "source": [
        "class  student:\n",
        "  def __init__ (self, name , age ):\n",
        "    self.name = name\n",
        "    self.age = age\n",
        "  def get_name(self):\n",
        "    print(self.name)\n",
        "  def get_age(self):\n",
        "    print(self.age)\n",
        "student = student(\"john\",20)\n",
        "student.get_name()\n",
        "student.get_age()"
      ],
      "metadata": {
        "colab": {
          "base_uri": "https://localhost:8080/"
        },
        "id": "cIMAHAmclLRQ",
        "outputId": "a0f2eec6-3d4a-4171-ff49-92a3218599f0"
      },
      "execution_count": null,
      "outputs": [
        {
          "output_type": "stream",
          "name": "stdout",
          "text": [
            "john\n",
            "20\n"
          ]
        }
      ]
    },
    {
      "cell_type": "code",
      "source": [
        "class person:\n",
        "  def __init__(self,name,age):\n",
        "    self.name = name\n",
        "    self.age = age\n",
        "class employee(person):\n",
        "  def __init__(self,name,age,salary,position):\n",
        "    super().__init__(name,age)\n",
        "    self.salary = salary\n",
        "    self.position = position\n",
        "employee = employee(\"kartikay\",21,1000000,\"developer\")\n",
        "print(employee.name)\n",
        "print(employee.age)\n",
        "print(employee.salary)\n",
        "print(employee.position)"
      ],
      "metadata": {
        "colab": {
          "base_uri": "https://localhost:8080/"
        },
        "id": "nh4WfivTlnt4",
        "outputId": "08c4739d-b47c-486b-cfe1-4c4b7aee8c2d"
      },
      "execution_count": null,
      "outputs": [
        {
          "output_type": "stream",
          "name": "stdout",
          "text": [
            "kartikay\n",
            "21\n",
            "1000000\n",
            "developer\n"
          ]
        }
      ]
    },
    {
      "cell_type": "code",
      "source": [
        "class employee(person):\n",
        "  def __init__(self,name,age,salary,position):\n",
        "    super().__init__(name,age)\n",
        "    self.salary = salary\n",
        "    self.position = position\n",
        "  def __str__(self) -> str:\n",
        "     return super().__str__()+f\"salary:{self.salary},position:{self.position}\"\n",
        "employeee = employee(\"kartikay\",21,1000000,\"developer\")\n",
        "print(employeee)"
      ],
      "metadata": {
        "colab": {
          "base_uri": "https://localhost:8080/"
        },
        "id": "FhOaujuYmsa5",
        "outputId": "024ada3b-462c-4096-9d1b-9381830e9cec"
      },
      "execution_count": null,
      "outputs": [
        {
          "output_type": "stream",
          "name": "stdout",
          "text": [
            "<__main__.employee object at 0x7a10d3525690>salary:1000000,position:developer\n"
          ]
        }
      ]
    },
    {
      "cell_type": "code",
      "source": [
        "class Address:\n",
        "    def __init__(self, street, city, zipcode):\n",
        "        self.street = street\n",
        "        self.city = city\n",
        "        self.zipcode = zipcode\n",
        "\n",
        "class Person:\n",
        "    def __init__(self, name, age, address):\n",
        "        self.name = name\n",
        "        self.age = age\n",
        "        self.address = address\n",
        "\n",
        "address = Address('123 Main St', 'New York', '10001')\n",
        "person = Person('Kartikay', 21, address)\n",
        "print(person.address.street, person.address.city, person.address.zipcode)"
      ],
      "metadata": {
        "colab": {
          "base_uri": "https://localhost:8080/"
        },
        "id": "KwJKhz-enKPw",
        "outputId": "bbe85944-2da7-4490-e696-51bf7adea708"
      },
      "execution_count": null,
      "outputs": [
        {
          "output_type": "stream",
          "name": "stdout",
          "text": [
            "123 Main St New York 10001\n"
          ]
        }
      ]
    },
    {
      "cell_type": "code",
      "source": [
        "class counter:\n",
        "  count = 0\n",
        "  def __init__(self):\n",
        "    counter.count += 1\n",
        "  def get_count(self):\n",
        "    return counter.count\n",
        "\n",
        "counter1 = counter()\n",
        "counter2 = counter()\n",
        "counter3 = counter()\n",
        "print(counter.get_count(self=counter1))\n",
        "print(counter.get_count(self=counter2))\n",
        "print(counter.get_count(self=counter3))"
      ],
      "metadata": {
        "colab": {
          "base_uri": "https://localhost:8080/"
        },
        "id": "CJsmy2yInhdd",
        "outputId": "82bf5321-de14-4c30-c396-2e44babd0729"
      },
      "execution_count": null,
      "outputs": [
        {
          "output_type": "stream",
          "name": "stdout",
          "text": [
            "3\n",
            "3\n",
            "3\n"
          ]
        }
      ]
    },
    {
      "cell_type": "code",
      "source": [
        "class Car:\n",
        "  def __init__ (self, window , door , enginetype):\n",
        "    self.__window = window\n",
        "    self.__door = door\n",
        "    self.__enginetype = enginetype\n",
        "  def get_window(self):\n",
        "    return self.__window\n",
        "  def get_door(self):\n",
        "    return self.__door\n",
        "  def get_enginetype(self):\n",
        "    return self.__enginetype\n",
        "car1 = Car(4,4,\"petrol\")\n",
        "print(car1.get_window())\n",
        "print(car1.get_door())\n",
        "print(car1.get_enginetype())"
      ],
      "metadata": {
        "colab": {
          "base_uri": "https://localhost:8080/"
        },
        "id": "tCJkXNk3n4lP",
        "outputId": "c86191d1-3a1d-4dd7-9e89-bd162388e057"
      },
      "execution_count": null,
      "outputs": [
        {
          "output_type": "stream",
          "name": "stdout",
          "text": [
            "4\n",
            "4\n",
            "petrol\n"
          ]
        }
      ]
    },
    {
      "cell_type": "code",
      "source": [
        "car2 = Car(3,4,\"diesel\")\n",
        "print(car2.get_window())\n",
        "print(car2.get_door())\n",
        "print(car2.get_enginetype())"
      ],
      "metadata": {
        "colab": {
          "base_uri": "https://localhost:8080/"
        },
        "id": "IyrVfwIBpJN4",
        "outputId": "5740459e-ab53-4e23-9b9e-6ade56ee7f3c"
      },
      "execution_count": null,
      "outputs": [
        {
          "output_type": "stream",
          "name": "stdout",
          "text": [
            "3\n",
            "4\n",
            "diesel\n"
          ]
        }
      ]
    },
    {
      "cell_type": "code",
      "source": [
        "class Tesla(Car):\n",
        "  def __init__(self,window,door,enginetype,enable_auto_start,speed):\n",
        "    super().__init__(window,door,enginetype)\n",
        "    # super is used to call parent class\n",
        "    self.enable_auto_start = enable_auto_start\n",
        "    self.speed = 0\n",
        "  def start(self):\n",
        "    self.speed = 10\n",
        "    print(\"started\")\n",
        "  def stop(self):\n",
        "    self.speed = 0\n",
        "    print(\"stopped\")\n",
        "  def self_driving(self):\n",
        "    print(\"this is a self driving car\")\n",
        "    return True\n",
        "\n",
        "tesla = Tesla(4,4,\"petrol\",True,0)\n",
        "print(tesla.self_driving())\n",
        "\n"
      ],
      "metadata": {
        "colab": {
          "base_uri": "https://localhost:8080/"
        },
        "id": "K5ntgPfbpJS2",
        "outputId": "08707d60-a591-4734-f649-3d8f0755406e"
      },
      "execution_count": null,
      "outputs": [
        {
          "output_type": "stream",
          "name": "stdout",
          "text": [
            "this is a self driving car\n",
            "True\n"
          ]
        }
      ]
    },
    {
      "cell_type": "code",
      "source": [
        "class Animal:\n",
        "    def __init__(self, name, age):\n",
        "        self.name = name\n",
        "        self.age = age\n",
        "\n",
        "class Dog(Animal):\n",
        "    def __init__(self, name, age, breed):\n",
        "        super().__init__(name, age)\n",
        "        self.breed = breed\n",
        "    def bark(self):\n",
        "        print(\"Woof!\")\n",
        "class Cat(Animal):\n",
        "    def __init__(self, name, age, color):\n",
        "        super().__init__(name, age)\n",
        "        self.color = color\n",
        "    def meow(self):\n",
        "        print(\"Meow!\")\n",
        "\n",
        "dog = Dog(\"Buddy\", 3, \"Golden Retriever\")\n",
        "print(dog.name)\n",
        "print(dog.age)\n",
        "print(dog.breed)\n",
        "dog.bark()"
      ],
      "metadata": {
        "colab": {
          "base_uri": "https://localhost:8080/"
        },
        "id": "tCMumLD6pJYq",
        "outputId": "fe9de107-4678-463c-c3cf-22362ff56f16"
      },
      "execution_count": null,
      "outputs": [
        {
          "output_type": "stream",
          "name": "stdout",
          "text": [
            "Buddy\n",
            "3\n",
            "Golden Retriever\n",
            "Woof!\n"
          ]
        }
      ]
    },
    {
      "cell_type": "code",
      "source": [
        "cat = Cat(\"Whiskers\", 2, \"Gray\")\n",
        "print(cat.name)\n",
        "print(cat.age)\n",
        "print(cat.color)\n",
        "cat.meow()"
      ],
      "metadata": {
        "colab": {
          "base_uri": "https://localhost:8080/"
        },
        "id": "qkadJ31mpJby",
        "outputId": "c10fa71d-69da-4828-f69a-e262437764f8"
      },
      "execution_count": null,
      "outputs": [
        {
          "output_type": "stream",
          "name": "stdout",
          "text": [
            "Whiskers\n",
            "2\n",
            "Gray\n",
            "Meow!\n"
          ]
        }
      ]
    },
    {
      "cell_type": "code",
      "source": [
        "class Education:\n",
        "    def __init__(self, name, age):\n",
        "        self.name = name\n",
        "        self.age = age\n",
        "\n",
        "    def get_name(self):\n",
        "        print(self.name)\n",
        "\n",
        "    def get_age(self):\n",
        "        print(self.age)\n",
        "\n",
        "\n",
        "class Teacher(Education):\n",
        "    def __init__(self, name, age, salary, position):\n",
        "        super().__init__(name, age)\n",
        "        self.salary = salary\n",
        "        self.position = position\n",
        "\n",
        "    def get_salary(self):\n",
        "        print(self.salary)\n",
        "\n",
        "    def get_position(self):\n",
        "        print(self.position)\n",
        "\n",
        "\n",
        "class Student(Education):\n",
        "    def __init__(self, name, age, rollno, grade):\n",
        "        super().__init__(name, age)\n",
        "        self.rollno = rollno\n",
        "        self.grade = grade\n",
        "\n",
        "    def get_rollno(self):\n",
        "        print(self.rollno)\n",
        "\n",
        "    def get_grade(self):\n",
        "        print(self.grade)\n",
        "\n",
        "\n",
        "# Create objects for student and teacher\n",
        "student = Student(\"Kartikay\", 21, 32, \"AI Developer\")\n",
        "teacher = Teacher(\"Ragav\", 25, 1000000, \"Developer\")\n",
        "\n",
        "# Print student details\n",
        "print(student.name)\n",
        "print(student.age)\n",
        "print(student.rollno)\n",
        "print(student.grade)\n",
        "\n",
        "# Print teacher details\n",
        "print(teacher.name)\n",
        "print(teacher.age)\n",
        "print(teacher.salary)\n",
        "print(teacher.position)\n"
      ],
      "metadata": {
        "colab": {
          "base_uri": "https://localhost:8080/"
        },
        "id": "LOzlVQSVsHSl",
        "outputId": "1e68272b-8b3e-4b26-f7ee-45a985445cdc"
      },
      "execution_count": null,
      "outputs": [
        {
          "output_type": "stream",
          "name": "stdout",
          "text": [
            "Kartikay\n",
            "21\n",
            "32\n",
            "AI Developer\n",
            "Ragav\n",
            "25\n",
            "1000000\n",
            "Developer\n"
          ]
        }
      ]
    },
    {
      "cell_type": "code",
      "source": [
        "class Animal():\n",
        "  def speak(self):\n",
        "    print(\"animal speaking\")\n",
        "class Dog(Animal):\n",
        "  def speak(self):\n",
        "    print(\"dog speaking\")\n",
        "class Cat(Animal):\n",
        "  def speak(self):\n",
        "    print(\"cat speaking\")\n",
        "dog = Dog()\n",
        "cat = Cat()\n",
        "dog.speak()\n",
        "cat.speak()"
      ],
      "metadata": {
        "colab": {
          "base_uri": "https://localhost:8080/"
        },
        "id": "4Xdjt9WxsUpD",
        "outputId": "a5357394-9dc8-4f37-89c5-19d1f60a35d9"
      },
      "execution_count": null,
      "outputs": [
        {
          "output_type": "stream",
          "name": "stdout",
          "text": [
            "dog speaking\n",
            "cat speaking\n"
          ]
        }
      ]
    },
    {
      "cell_type": "code",
      "source": [
        "class Animal:\n",
        "    def __init__(self, name):\n",
        "        self.name = name\n",
        "\n",
        "    def speak(self):\n",
        "        print(f\"{self.name} is speaking (generic animal sound).\")\n",
        "\n",
        "\n",
        "class Dog(Animal):\n",
        "    def __init__(self, name, breed):\n",
        "        super().__init__(name)\n",
        "        self.breed = breed\n",
        "\n",
        "    def speak(self):\n",
        "        super().speak()  # Call the parent class's speak method\n",
        "        print(f\"{self.name} (the {self.breed}) says: Woof!\")\n",
        "\n",
        "\n",
        "class Cat(Animal):\n",
        "    def __init__(self, name, color):\n",
        "        super().__init__(name)\n",
        "        self.color = color\n",
        "\n",
        "    def speak(self):\n",
        "        super().speak()\n",
        "        print(f\"{self.name} (the {self.color} cat) says: Meow!\")\n",
        "\n",
        "\n",
        "dog = Dog(\"Buddy\", \"Golden Retriever\")\n",
        "cat = Cat(\"Whiskers\", \"Gray\")\n",
        "\n",
        "dog.speak()\n",
        "cat.speak()"
      ],
      "metadata": {
        "colab": {
          "base_uri": "https://localhost:8080/"
        },
        "id": "XrqPIUFcs-r4",
        "outputId": "16ab8e07-f8cd-4c0a-b1a0-2a7a6bbb1c64"
      },
      "execution_count": null,
      "outputs": [
        {
          "output_type": "stream",
          "name": "stdout",
          "text": [
            "Buddy is speaking (generic animal sound).\n",
            "Buddy (the Golden Retriever) says: Woof!\n",
            "Whiskers is speaking (generic animal sound).\n",
            "Whiskers (the Gray cat) says: Meow!\n"
          ]
        }
      ]
    },
    {
      "cell_type": "code",
      "source": [
        "import math\n",
        "\n",
        "# Base class for shapes\n",
        "class Shape:\n",
        "    def __init__(self, name):\n",
        "        self.name = name\n",
        "\n",
        "    def area(self):\n",
        "        print(f\"Area calculation is not defined for {self.name}.\")\n",
        "\n",
        "\n",
        "# Subclass for Circle\n",
        "class Circle(Shape):\n",
        "    def __init__(self, radius):\n",
        "        super().__init__(\"Circle\")\n",
        "        self.radius = radius\n",
        "\n",
        "    def area(self):\n",
        "        circle_area = math.pi * (self.radius ** 2)\n",
        "        print(f\"The area of the {self.name} with radius {self.radius} is {circle_area:.2f}.\")\n",
        "\n",
        "\n",
        "# Subclass for Rectangle\n",
        "class Rectangle(Shape):\n",
        "    def __init__(self, width, height):\n",
        "        super().__init__(\"Rectangle\")\n",
        "        self.width = width\n",
        "        self.height = height\n",
        "\n",
        "    def area(self):\n",
        "        rectangle_area = self.width * self.height\n",
        "        print(f\"The area of the {self.name} with width {self.width} and height {self.height} is {rectangle_area:.2f}.\")\n",
        "\n",
        "\n",
        "# Subclass for Triangle\n",
        "class Triangle(Shape):\n",
        "    def __init__(self, base, height):\n",
        "        super().__init__(\"Triangle\")\n",
        "        self.base = base\n",
        "        self.height = height\n",
        "\n",
        "    def area(self):\n",
        "        triangle_area = 0.5 * self.base * self.height\n",
        "        print(f\"The area of the {self.name} with base {self.base} and height {self.height} is {triangle_area:.2f}.\")\n",
        "\n",
        "\n",
        "# Create instances of shapes\n",
        "shapes = [\n",
        "    Circle(5),            # Circle with radius 5\n",
        "    Rectangle(4, 7),       # Rectangle with width 4 and height 7\n",
        "    Triangle(6, 8)         # Triangle with base 6 and height 8\n",
        "]\n",
        "\n",
        "# Calculate the area of each shape using polymorphism\n",
        "for shape in shapes:\n",
        "    shape.area()\n",
        "    print()  # For better readability\n"
      ],
      "metadata": {
        "colab": {
          "base_uri": "https://localhost:8080/"
        },
        "id": "_T9IZYIbtCEw",
        "outputId": "452e2b2b-d84a-4b7e-9071-4bd60f7f1843"
      },
      "execution_count": null,
      "outputs": [
        {
          "output_type": "stream",
          "name": "stdout",
          "text": [
            "The area of the Circle with radius 5 is 78.54.\n",
            "\n",
            "The area of the Rectangle with width 4 and height 7 is 28.00.\n",
            "\n",
            "The area of the Triangle with base 6 and height 8 is 24.00.\n",
            "\n"
          ]
        }
      ]
    },
    {
      "cell_type": "code",
      "source": [
        "class person:\n",
        "  def __init__(self,name,age):\n",
        "    self.name = name\n",
        "    self.age = age\n",
        "  def __str__(self):\n",
        "    return f\"name:{self.name},age:{self.age}\"\n",
        "person = person(\"kartikay\",21)\n",
        "print(person)"
      ],
      "metadata": {
        "colab": {
          "base_uri": "https://localhost:8080/"
        },
        "id": "OV-kjD0htsDs",
        "outputId": "42641dae-0ea4-47f1-9f93-a720e5ebd09d"
      },
      "execution_count": null,
      "outputs": [
        {
          "output_type": "stream",
          "name": "stdout",
          "text": [
            "name:kartikay,age:21\n"
          ]
        }
      ]
    },
    {
      "cell_type": "code",
      "source": [
        "dir(person)"
      ],
      "metadata": {
        "colab": {
          "base_uri": "https://localhost:8080/"
        },
        "id": "E77vV3q1vlf1",
        "outputId": "82545e1a-502c-4818-fc4e-6bc96a7f0d76"
      },
      "execution_count": null,
      "outputs": [
        {
          "output_type": "execute_result",
          "data": {
            "text/plain": [
              "['__class__',\n",
              " '__delattr__',\n",
              " '__dict__',\n",
              " '__dir__',\n",
              " '__doc__',\n",
              " '__eq__',\n",
              " '__format__',\n",
              " '__ge__',\n",
              " '__getattribute__',\n",
              " '__gt__',\n",
              " '__hash__',\n",
              " '__init__',\n",
              " '__init_subclass__',\n",
              " '__le__',\n",
              " '__lt__',\n",
              " '__module__',\n",
              " '__ne__',\n",
              " '__new__',\n",
              " '__reduce__',\n",
              " '__reduce_ex__',\n",
              " '__repr__',\n",
              " '__setattr__',\n",
              " '__sizeof__',\n",
              " '__str__',\n",
              " '__subclasshook__',\n",
              " '__weakref__',\n",
              " 'age',\n",
              " 'name']"
            ]
          },
          "metadata": {},
          "execution_count": 28
        }
      ]
    },
    {
      "cell_type": "code",
      "source": [
        "class Car:\n",
        "\n",
        "    def __init__(self, window, door, enginetype):\n",
        "        self.window = window\n",
        "        self._door = door\n",
        "        self.__enginetype = enginetype\n",
        "\n",
        "    def get_engine_type(self):\n",
        "        return self.__enginetype\n",
        "\n",
        "\n",
        "my_car = Car(4, 4, \"Petrol\")\n",
        "\n",
        "print(my_car.window)\n",
        "print(my_car._door)\n",
        "print(my_car.get_engine_type())\n",
        "\n"
      ],
      "metadata": {
        "colab": {
          "base_uri": "https://localhost:8080/"
        },
        "id": "EPQTX_C9vuZ1",
        "outputId": "46c78749-5272-465d-df0a-0310bdbcf7c3"
      },
      "execution_count": null,
      "outputs": [
        {
          "output_type": "stream",
          "name": "stdout",
          "text": [
            "4\n",
            "4\n",
            "Petrol\n"
          ]
        }
      ]
    },
    {
      "cell_type": "code",
      "source": [
        "class BankAccount:\n",
        "\n",
        "    def __init__(self, account_number, account_holder, balance):\n",
        "        # Public attribute: can be accessed from anywhere\n",
        "        self.account_number = account_number\n",
        "\n",
        "        # Protected attribute: can be accessed within the class and subclasses (by convention)\n",
        "        self._account_holder = account_holder\n",
        "\n",
        "        # Private attribute: can only be accessed within the class\n",
        "        self.__balance = balance\n",
        "\n",
        "    # Public method to get the account holder (protected attribute)\n",
        "    def get_account_holder(self):\n",
        "        return self._account_holder\n",
        "\n",
        "    # Public method to access the private balance attribute\n",
        "    def get_balance(self):\n",
        "        return self.__balance\n",
        "\n",
        "    # Public method to deposit money (modifies private balance)\n",
        "    def deposit(self, amount):\n",
        "        if amount > 0:\n",
        "            self.__balance += amount\n",
        "            print(f\"Deposit successful! New balance: {self.__balance}\")\n",
        "        else:\n",
        "            print(\"Deposit amount must be greater than zero.\")\n",
        "\n",
        "    # Public method to withdraw money (modifies private balance)\n",
        "    def withdraw(self, amount):\n",
        "        if 0 < amount <= self.__balance:\n",
        "            self.__balance -= amount\n",
        "            print(f\"Withdrawal successful! New balance: {self.__balance}\")\n",
        "        else:\n",
        "            print(\"Invalid withdrawal amount. Insufficient balance or invalid value.\")\n",
        "\n",
        "\n",
        "# Create a BankAccount object\n",
        "account = BankAccount(\"123456789\", \"John Doe\", 5000)\n",
        "\n",
        "# Access public attribute\n",
        "print(f\"Account Number: {account.account_number}\")\n",
        "\n",
        "# Access protected attribute via method (discouraged to access directly)\n",
        "print(f\"Account Holder: {account.get_account_holder()}\")\n",
        "\n",
        "# Access private attribute via getter method\n",
        "print(f\"Initial Balance: {account.get_balance()}\")\n",
        "\n",
        "# Deposit money\n",
        "account.deposit(1500)\n",
        "\n",
        "# Withdraw money\n",
        "account.withdraw(2000)\n",
        "\n",
        "# Attempt to withdraw more than the available balance\n",
        "account.withdraw(6000)\n"
      ],
      "metadata": {
        "colab": {
          "base_uri": "https://localhost:8080/"
        },
        "id": "So2adnWEwe9U",
        "outputId": "dafb599f-b5c7-4cab-b8b4-f9d167b64619"
      },
      "execution_count": null,
      "outputs": [
        {
          "output_type": "stream",
          "name": "stdout",
          "text": [
            "Account Number: 123456789\n",
            "Account Holder: John Doe\n",
            "Initial Balance: 5000\n",
            "Deposit successful! New balance: 6500\n",
            "Withdrawal successful! New balance: 4500\n",
            "Invalid withdrawal amount. Insufficient balance or invalid value.\n"
          ]
        }
      ]
    },
    {
      "cell_type": "code",
      "source": [
        "from abc import ABC, abstractmethod\n",
        "\n",
        "class Shape(ABC):\n",
        "\n",
        "    @abstractmethod\n",
        "    def area(self):\n",
        "        pass\n",
        "\n",
        "    @abstractmethod\n",
        "    def perimeter(self):\n",
        "        pass\n",
        "\n",
        "\n",
        "class Rectangle(Shape):\n",
        "\n",
        "    def __init__(self, width, height):\n",
        "        self.width = width\n",
        "        self.height = height\n",
        "\n",
        "    def area(self):\n",
        "        return self.width * self.height\n",
        "\n",
        "    def perimeter(self):\n",
        "        return 2 * (self.width + self.height)\n",
        "\n",
        "\n",
        "class Circle(Shape):\n",
        "\n",
        "    def __init__(self, radius):\n",
        "        self.radius = radius\n",
        "\n",
        "    def area(self):\n",
        "        return 3.14 * self.radius ** 2\n",
        "\n",
        "    def perimeter(self):\n",
        "        return 2 * 3.14 * self.radius\n",
        "\n",
        "\n",
        "rectangle = Rectangle(5, 10)\n",
        "circle = Circle(7)\n",
        "\n",
        "print(f\"Rectangle Area: {rectangle.area()}\")\n",
        "print(f\"Rectangle Perimeter: {rectangle.perimeter()}\")\n",
        "\n",
        "print(f\"Circle Area: {circle.area()}\")\n",
        "print(f\"Circle Perimeter: {circle.perimeter()}\")\n"
      ],
      "metadata": {
        "colab": {
          "base_uri": "https://localhost:8080/"
        },
        "id": "PO892ekJwhUj",
        "outputId": "8cc129d0-0d3b-4382-ad6b-3f22081d77e8"
      },
      "execution_count": null,
      "outputs": [
        {
          "output_type": "stream",
          "name": "stdout",
          "text": [
            "Rectangle Area: 50\n",
            "Rectangle Perimeter: 30\n",
            "Circle Area: 153.86\n",
            "Circle Perimeter: 43.96\n"
          ]
        }
      ]
    },
    {
      "cell_type": "code",
      "source": [
        "class ComplexNumber:\n",
        "    def __init__(self, real, imag):\n",
        "        self.real = real\n",
        "        self.imag = imag\n",
        "\n",
        "    def __add__(self, other):\n",
        "        return ComplexNumber(self.real + other.real, self.imag + other.imag)\n",
        "\n",
        "    def __sub__(self, other):\n",
        "        return ComplexNumber(self.real - other.real, self.imag - other.imag)\n",
        "\n",
        "    def __mul__(self, other):\n",
        "        return ComplexNumber(self.real * other.real - self.imag * other.imag,\n",
        "                             self.real * other.imag + self.imag * other.real)\n",
        "\n",
        "    def __str__(self):\n",
        "        return f\"{self.real} + {self.imag}i\"\n",
        "\n",
        "\n",
        "# Create complex numbers\n",
        "c1 = ComplexNumber(3, 2)\n",
        "c2 = ComplexNumber(1, 7)\n",
        "\n",
        "# Using the magic methods for addition, subtraction, and multiplication\n",
        "print(f\"Addition: {c1 + c2}\")\n",
        "print(f\"Subtraction: {c1 - c2}\")\n",
        "print(f\"Multiplication: {c1 * c2}\")\n"
      ],
      "metadata": {
        "id": "ted6lKGPxl2j",
        "colab": {
          "base_uri": "https://localhost:8080/"
        },
        "outputId": "0161c46f-f1bf-490a-d31a-e0ddb1032819"
      },
      "execution_count": 32,
      "outputs": [
        {
          "output_type": "stream",
          "name": "stdout",
          "text": [
            "Addition: 4 + 9i\n",
            "Subtraction: 2 + -5i\n",
            "Multiplication: -11 + 23i\n"
          ]
        }
      ]
    },
    {
      "cell_type": "code",
      "source": [
        "class Book:\n",
        "    def __init__(self, title, pages):\n",
        "        self.title = title\n",
        "        self.pages = pages\n",
        "\n",
        "    def __eq__(self, other):\n",
        "        return self.pages == other.pages\n",
        "\n",
        "    def __lt__(self, other):\n",
        "        return self.pages < other.pages\n",
        "\n",
        "    def __gt__(self, other):\n",
        "        return self.pages > other.pages\n",
        "\n",
        "    def __str__(self):\n",
        "        return f\"'{self.title}' with {self.pages} pages\"\n",
        "\n",
        "\n",
        "# Create book objects\n",
        "book1 = Book(\"Python Basics\", 300)\n",
        "book2 = Book(\"Advanced Python\", 500)\n",
        "\n",
        "# Using the magic methods for comparison\n",
        "print(f\"Is book1 equal to book2? {book1 == book2}\")\n",
        "print(f\"Is book1 smaller than book2? {book1 < book2}\")\n",
        "print(f\"Is book1 greater than book2? {book1 > book2}\")\n"
      ],
      "metadata": {
        "colab": {
          "base_uri": "https://localhost:8080/"
        },
        "id": "ZkRor2ggykqA",
        "outputId": "29d528d9-613c-4642-a1e6-90551f504063"
      },
      "execution_count": 33,
      "outputs": [
        {
          "output_type": "stream",
          "name": "stdout",
          "text": [
            "Is book1 equal to book2? False\n",
            "Is book1 smaller than book2? True\n",
            "Is book1 greater than book2? False\n"
          ]
        }
      ]
    },
    {
      "cell_type": "code",
      "source": [
        "class Employee:\n",
        "    def __init__(self, name, salary):\n",
        "        self.name = name\n",
        "        self.salary = salary\n",
        "\n",
        "    def __str__(self):\n",
        "        return f\"Employee: {self.name}, Salary: ${self.salary}\"\n",
        "\n",
        "    def __repr__(self):\n",
        "        return f\"Employee('{self.name}', {self.salary})\"\n",
        "\n",
        "\n",
        "# Create an employee object\n",
        "emp = Employee(\"Alice\", 70000)\n",
        "\n",
        "# Using __str__ and __repr__\n",
        "print(str(emp))  # Calls __str__\n",
        "print(repr(emp))  # Calls __repr__\n"
      ],
      "metadata": {
        "colab": {
          "base_uri": "https://localhost:8080/"
        },
        "id": "jMJEcjSLyv1R",
        "outputId": "0163f7a6-b7f5-4bed-9276-585bb905439e"
      },
      "execution_count": 34,
      "outputs": [
        {
          "output_type": "stream",
          "name": "stdout",
          "text": [
            "Employee: Alice, Salary: $70000\n",
            "Employee('Alice', 70000)\n"
          ]
        }
      ]
    },
    {
      "cell_type": "code",
      "source": [
        "class CustomList:\n",
        "    def __init__(self, items):\n",
        "        self.items = items\n",
        "\n",
        "    def __len__(self):\n",
        "        return len(self.items)\n",
        "\n",
        "    def __getitem__(self, index):\n",
        "        return self.items[index]\n",
        "\n",
        "\n",
        "# Create a custom list\n",
        "my_list = CustomList([1, 2, 3, 4, 5])\n",
        "\n",
        "# Using __len__ and __getitem__\n",
        "print(f\"Length of custom list: {len(my_list)}\")\n",
        "print(f\"Element at index 2: {my_list[2]}\")\n"
      ],
      "metadata": {
        "colab": {
          "base_uri": "https://localhost:8080/"
        },
        "id": "wo0aKk5vyyw_",
        "outputId": "19ce42da-82a6-4608-b9e9-63c0f266be98"
      },
      "execution_count": 35,
      "outputs": [
        {
          "output_type": "stream",
          "name": "stdout",
          "text": [
            "Length of custom list: 5\n",
            "Element at index 2: 3\n"
          ]
        }
      ]
    },
    {
      "cell_type": "code",
      "source": [
        "class Vector:\n",
        "    def __init__(self, x, y):\n",
        "        self.x = x\n",
        "        self.y = y\n",
        "\n",
        "    def __add__(self, other):\n",
        "        return Vector(self.x + other.x, self.y + other.y)\n",
        "\n",
        "    def __sub__(self, other):\n",
        "        return Vector(self.x - other.x, self.y - other.y)\n",
        "\n",
        "    def __mul__(self, scalar):\n",
        "        return Vector(self.x * scalar, self.y * scalar)\n",
        "\n",
        "    def __str__(self):\n",
        "        return f\"({self.x}, {self.y})\"\n",
        "\n",
        "\n",
        "v1 = Vector(2, 3)\n",
        "v2 = Vector(4, 5)\n",
        "\n",
        "print(v1 + v2)\n",
        "print(v1 - v2)\n",
        "print(v1 * 3)\n"
      ],
      "metadata": {
        "colab": {
          "base_uri": "https://localhost:8080/"
        },
        "id": "Ad8E6kATy0-v",
        "outputId": "fd9959cc-63f7-4c8e-81b4-2548926fb62c"
      },
      "execution_count": 36,
      "outputs": [
        {
          "output_type": "stream",
          "name": "stdout",
          "text": [
            "(6, 8)\n",
            "(-2, -2)\n",
            "(6, 9)\n"
          ]
        }
      ]
    },
    {
      "cell_type": "code",
      "source": [
        "def divide_numbers(num1, num2):\n",
        "    try:\n",
        "        result = num1 / num2\n",
        "    except ZeroDivisionError:\n",
        "        return \"Error: Cannot divide by zero.\"\n",
        "    except TypeError:\n",
        "        return \"Error: Invalid input type. Please provide numbers.\"\n",
        "    else:\n",
        "        return f\"Result: {result}\"\n",
        "\n",
        "print(divide_numbers(10, 2))\n",
        "print(divide_numbers(10, 0))\n",
        "print(divide_numbers(10, \"a\"))\n"
      ],
      "metadata": {
        "colab": {
          "base_uri": "https://localhost:8080/"
        },
        "id": "xNZ5OPAmz3o1",
        "outputId": "48aa51a7-3fea-4442-edb8-db017c53da75"
      },
      "execution_count": 37,
      "outputs": [
        {
          "output_type": "stream",
          "name": "stdout",
          "text": [
            "Result: 5.0\n",
            "Error: Cannot divide by zero.\n",
            "Error: Invalid input type. Please provide numbers.\n"
          ]
        }
      ]
    },
    {
      "cell_type": "code",
      "source": [],
      "metadata": {
        "id": "JxamdjMK0GJq"
      },
      "execution_count": null,
      "outputs": []
    }
  ]
}