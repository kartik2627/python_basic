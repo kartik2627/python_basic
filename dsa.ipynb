{
  "nbformat": 4,
  "nbformat_minor": 0,
  "metadata": {
    "colab": {
      "provenance": [],
      "authorship_tag": "ABX9TyOcklv+mfutsWOIz4wBPSs0",
      "include_colab_link": true
    },
    "kernelspec": {
      "name": "python3",
      "display_name": "Python 3"
    },
    "language_info": {
      "name": "python"
    }
  },
  "cells": [
    {
      "cell_type": "markdown",
      "metadata": {
        "id": "view-in-github",
        "colab_type": "text"
      },
      "source": [
        "<a href=\"https://colab.research.google.com/github/kartik2627/python_basic/blob/main/dsa.ipynb\" target=\"_parent\"><img src=\"https://colab.research.google.com/assets/colab-badge.svg\" alt=\"Open In Colab\"/></a>"
      ]
    },
    {
      "cell_type": "code",
      "execution_count": null,
      "metadata": {
        "id": "cMCfDlJMwlKI"
      },
      "outputs": [],
      "source": [
        "graph = {\n",
        "    'A': ['B', 'C'],\n",
        "    'B': ['D', 'E'],\n",
        "    'C': ['F'],\n",
        "    'D': [],\n",
        "    'E': ['F'],\n",
        "    'F': []\n",
        "}"
      ]
    },
    {
      "cell_type": "code",
      "source": [
        "from collections import deque"
      ],
      "metadata": {
        "id": "5T991qNfw-7B"
      },
      "execution_count": null,
      "outputs": []
    },
    {
      "cell_type": "code",
      "source": [
        "def bfs(graph,node):\n",
        "  visited = set()\n",
        "  queue = deque([node])\n",
        "  while queue:\n",
        "    node = queue.popleft()\n",
        "    if node not in visited:\n",
        "      print(node,\" \")\n",
        "      visited.add(node)\n",
        "      queue.extend(graph[node])"
      ],
      "metadata": {
        "id": "1f51ciKixD9h"
      },
      "execution_count": null,
      "outputs": []
    },
    {
      "cell_type": "code",
      "source": [
        "bfs(graph,'A')"
      ],
      "metadata": {
        "colab": {
          "base_uri": "https://localhost:8080/"
        },
        "id": "X96eSz1mxG_T",
        "outputId": "fe847297-cafd-47fc-a24d-7d75e8447c9c"
      },
      "execution_count": null,
      "outputs": [
        {
          "output_type": "stream",
          "name": "stdout",
          "text": [
            "A  \n",
            "B  \n",
            "C  \n",
            "D  \n",
            "E  \n",
            "F  \n"
          ]
        }
      ]
    },
    {
      "cell_type": "code",
      "source": [
        "def bfs(graph,start,goal):\n",
        "  visited  = set()\n",
        "  queue = deque([[start]])\n",
        "  while queue:\n",
        "    path = queue.popleft()\n",
        "    node = path[-1]\n",
        "    if node == goal:\n",
        "      return path\n",
        "    if node not in visited:\n",
        "      visited.add(node)\n",
        "      for neighbor  in graph[node]:\n",
        "        queue.append(path+[neighbor])\n",
        "\n"
      ],
      "metadata": {
        "id": "1iAkCBLlyTY8"
      },
      "execution_count": null,
      "outputs": []
    },
    {
      "cell_type": "code",
      "source": [
        "def dfs(graph,start,goal):\n",
        "  visited = set()\n",
        "  stack = [[start]]\n",
        "  while stack:\n",
        "     path = stack.pop()\n",
        "     node =path[-1]\n",
        "     if node == goal:\n",
        "      return path\n",
        "      if  node not in visited:\n",
        "        visited.add(node)\n",
        "        for neighbor  in  graph[node]:\n",
        "          stack.append(path+[neighbor])\n"
      ],
      "metadata": {
        "id": "YJJu3R1i20DA"
      },
      "execution_count": null,
      "outputs": []
    },
    {
      "cell_type": "code",
      "source": [
        "graph = {    'A': ['B', 'C'],\n",
        "    'B': ['A', 'D', 'E'],\n",
        "    'C': ['A', 'F'],\n",
        "    'D': ['B'],\n",
        "    'E': ['B', 'F'],\n",
        "    'F': ['C', 'E']\n",
        " }"
      ],
      "metadata": {
        "id": "OV6Rrn-D4G2_"
      },
      "execution_count": null,
      "outputs": []
    },
    {
      "cell_type": "code",
      "source": [
        " print(\"bFS  A->F:\", bfs(graph,'A','F'))\n",
        " print(\"DFS Iterative A->F:\", dfs(graph,'A','F'))"
      ],
      "metadata": {
        "colab": {
          "base_uri": "https://localhost:8080/"
        },
        "id": "EpKR7my_4Pez",
        "outputId": "2a771d2a-f7fc-465b-88bd-119693f80f83"
      },
      "execution_count": null,
      "outputs": [
        {
          "output_type": "stream",
          "name": "stdout",
          "text": [
            "bFS  A->F: ['A', 'C', 'F']\n",
            "DFS Iterative A->F: None\n"
          ]
        }
      ]
    },
    {
      "cell_type": "code",
      "source": [
        "\n",
        " graph = {\n",
        "    'A': ['B', 'C'],\n",
        "    'B': ['A', 'D', 'E'],\n",
        "    'C': ['A', 'F'],\n",
        "    'D': ['B'],\n",
        "    'E': ['B', 'F'],\n",
        "    'F': ['C', 'E']\n",
        " }\n",
        " # BFS\n",
        " def bfs(graph, start, goal):\n",
        "    visited, queue = set(), deque([[start]])\n",
        "    while queue:\n",
        "        path = queue.popleft()\n",
        "        node = path[-1]\n",
        "        if node == goal:\n",
        "            return path\n",
        "        if node not in visited:\n",
        "            visited.add(node)\n",
        "            for neighbor in graph[node]:\n",
        "                queue.append(path + [neighbor])\n",
        " # DFS recursive\n",
        " def dfs_recursive(graph, node, goal, visited=None, path=None):\n",
        "    if visited is None: visited=set()\n",
        "    if path is None: path=[]\n",
        "    visited.add(node)\n",
        "    path.append(node)\n",
        "    if node == goal:\n",
        "        return path\n",
        "    for neighbor in graph[node]:\n",
        "        if neighbor not in visited:\n",
        "            result = dfs_recursive(graph, neighbor, goal, visited, path[:])\n",
        "            if result: return result\n",
        " # DFS iterative\n",
        " def dfs_iterative(graph, start, goal):\n",
        "    visited, stack = set(), [[start]]\n",
        "    while stack:\n",
        "        path = stack.pop()\n",
        "        node = path[-1]\n",
        "        if node == goal:\n",
        "            return path\n",
        "        if node not in visited:\n",
        "            visited.add(node)\n",
        "            for neighbor in graph[node]:\n",
        "                stack.append(path + [neighbor])\n",
        " print(\"BFS A->F:\", bfs(graph,'A','F'))\n",
        " print(\"DFS Recursive A->F:\", dfs_recursive(graph,'A','F'))"
      ],
      "metadata": {
        "colab": {
          "base_uri": "https://localhost:8080/"
        },
        "id": "L0I5g2qY4Y5n",
        "outputId": "b65a271c-2e6a-49fc-9ff0-ae6435a39744"
      },
      "execution_count": null,
      "outputs": [
        {
          "output_type": "stream",
          "name": "stdout",
          "text": [
            "BFS A->F: ['A', 'C', 'F']\n",
            "DFS Recursive A->F: ['A', 'B', 'E', 'F']\n"
          ]
        }
      ]
    },
    {
      "cell_type": "code",
      "source": [
        "goal = (1,2,3,4,5,6,7,8,0)\n",
        " moves = {0:[1,3],1:[0,2,4],2:[1,5],3:[0,4,6],4:[1,3,5,7],5:[2,4,8],6:[3,7],7:[4,6,8],8:[5,7]}\n",
        " def bfs_8puzzle(start):\n",
        "    queue = deque([(start, [])])\n",
        "    visited = set([start])\n",
        "    while queue:\n",
        "        state, path = queue.popleft()\n",
        "        if state == goal:\n",
        "            return path + [state]\n",
        "        zero = state.index(0)\n",
        "        for m in moves[zero]:\n",
        "            new_state = list(state)\n",
        "            new_state[zero], new_state[m] = new_state[m], new_state[zero]\n",
        "            new_state = tuple(new_state)\n",
        "            if new_state not in visited:\n",
        "                visited.add(new_state)\n",
        "                queue.append((new_state, path + [state]))\n",
        " start=(1,2,3,4,5,6,0,7,8)\n",
        " solution = bfs_8puzzle(start)\n",
        " for s in solution: print(s)"
      ],
      "metadata": {
        "colab": {
          "base_uri": "https://localhost:8080/"
        },
        "id": "_CO2zef25keh",
        "outputId": "4669edc4-c4bc-4c27-9eda-22d9f78fd5ca"
      },
      "execution_count": null,
      "outputs": [
        {
          "output_type": "stream",
          "name": "stdout",
          "text": [
            "(1, 2, 3, 4, 5, 6, 0, 7, 8)\n",
            "(1, 2, 3, 4, 5, 6, 7, 0, 8)\n",
            "(1, 2, 3, 4, 5, 6, 7, 8, 0)\n"
          ]
        }
      ]
    },
    {
      "cell_type": "code",
      "source": [
        "from collections import deque"
      ],
      "metadata": {
        "id": "RT7f5TrxL9hc"
      },
      "execution_count": null,
      "outputs": []
    },
    {
      "cell_type": "code",
      "source": [
        "def bfs(graph,start,goal):\n",
        "  visited = set()\n",
        "  queue = deque([[start]])\n",
        "  while queue:\n",
        "    path = queue.popleft()\n",
        "    node = path[-1]\n",
        "    if node == goal:\n",
        "      return path\n",
        "    if node not in visited:\n",
        "      visited.add(node)\n",
        "      for neighbor  in graph[node]:\n",
        "        queue.append(path+[neighbor])"
      ],
      "metadata": {
        "id": "5z7Ok8X08l8y"
      },
      "execution_count": null,
      "outputs": []
    },
    {
      "cell_type": "code",
      "source": [
        "def  BFS(graph,start):\n",
        "  visited = set()\n",
        "  queue = deque([start])\n",
        "  while queue:\n",
        "    node = queue.popleft()\n",
        "    if node not in visited:\n",
        "      print(node,\" \")\n",
        "      visited.add(node)\n",
        "      queue.extend(graph[node])"
      ],
      "metadata": {
        "id": "l9Anc1jJIWlF"
      },
      "execution_count": null,
      "outputs": []
    },
    {
      "cell_type": "code",
      "source": [
        "# Sample Graph\n",
        "graph = {\n",
        "    'A': ['B', 'C'],\n",
        "    'B': ['A', 'D', 'E'],\n",
        "    'C': ['A', 'F'],\n",
        "    'D': ['B'],\n",
        "    'E': ['B', 'F'],\n",
        "    'F': ['C', 'E']\n",
        "}\n"
      ],
      "metadata": {
        "id": "e-Z7UwXMLEtT"
      },
      "execution_count": null,
      "outputs": []
    },
    {
      "cell_type": "code",
      "source": [
        "BFS(graph,'A')"
      ],
      "metadata": {
        "colab": {
          "base_uri": "https://localhost:8080/"
        },
        "id": "nAL1DxabLlgD",
        "outputId": "947dbc65-cde4-44d5-ae6e-74a7efe7f5a7"
      },
      "execution_count": null,
      "outputs": [
        {
          "output_type": "stream",
          "name": "stdout",
          "text": [
            "A  \n",
            "B  \n",
            "C  \n",
            "D  \n",
            "E  \n",
            "F  \n"
          ]
        }
      ]
    },
    {
      "cell_type": "code",
      "source": [
        "bfs(graph,'A','E')"
      ],
      "metadata": {
        "colab": {
          "base_uri": "https://localhost:8080/"
        },
        "id": "rcAhtDbdL6-a",
        "outputId": "de26fbf6-65b9-4ba6-b088-b657992ddb31"
      },
      "execution_count": null,
      "outputs": [
        {
          "output_type": "execute_result",
          "data": {
            "text/plain": [
              "['A', 'B', 'E']"
            ]
          },
          "metadata": {},
          "execution_count": 13
        }
      ]
    },
    {
      "cell_type": "code",
      "source": [],
      "metadata": {
        "id": "39B33XMsMR25"
      },
      "execution_count": null,
      "outputs": []
    }
  ]
}