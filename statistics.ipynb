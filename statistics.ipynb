{
  "nbformat": 4,
  "nbformat_minor": 0,
  "metadata": {
    "colab": {
      "provenance": [],
      "authorship_tag": "ABX9TyMiAd8loflInYUIMZ30YFiu",
      "include_colab_link": true
    },
    "kernelspec": {
      "name": "python3",
      "display_name": "Python 3"
    },
    "language_info": {
      "name": "python"
    }
  },
  "cells": [
    {
      "cell_type": "markdown",
      "metadata": {
        "id": "view-in-github",
        "colab_type": "text"
      },
      "source": [
        "<a href=\"https://colab.research.google.com/github/kartik2627/python_basic/blob/main/statistics.ipynb\" target=\"_parent\"><img src=\"https://colab.research.google.com/assets/colab-badge.svg\" alt=\"Open In Colab\"/></a>"
      ]
    },
    {
      "cell_type": "code",
      "execution_count": 1,
      "metadata": {
        "id": "dERagpwHuUYF"
      },
      "outputs": [],
      "source": [
        "num_friends = [100,49,41,76,47,27,89,24,39,41,97,10,33,66,78]\n"
      ]
    },
    {
      "cell_type": "code",
      "source": [
        "from collections import Counter\n",
        "import matplotlib.pyplot as plt"
      ],
      "metadata": {
        "id": "Nw_l1oMPuq4j"
      },
      "execution_count": 2,
      "outputs": []
    },
    {
      "cell_type": "code",
      "source": [
        "friends_count = Counter(num_friends)"
      ],
      "metadata": {
        "id": "fAHIXfHBu1Kl"
      },
      "execution_count": 3,
      "outputs": []
    },
    {
      "cell_type": "code",
      "source": [
        "friends_count"
      ],
      "metadata": {
        "colab": {
          "base_uri": "https://localhost:8080/"
        },
        "id": "bepMdd1Iu7X0",
        "outputId": "1ab072bc-1174-4033-aeac-a49d1fc42263"
      },
      "execution_count": 4,
      "outputs": [
        {
          "output_type": "execute_result",
          "data": {
            "text/plain": [
              "Counter({100: 1,\n",
              "         49: 1,\n",
              "         41: 2,\n",
              "         76: 1,\n",
              "         47: 1,\n",
              "         27: 1,\n",
              "         89: 1,\n",
              "         24: 1,\n",
              "         39: 1,\n",
              "         97: 1,\n",
              "         10: 1,\n",
              "         33: 1,\n",
              "         66: 1,\n",
              "         78: 1})"
            ]
          },
          "metadata": {},
          "execution_count": 4
        }
      ]
    },
    {
      "cell_type": "code",
      "source": [
        "friends_count.most_common(10)"
      ],
      "metadata": {
        "colab": {
          "base_uri": "https://localhost:8080/"
        },
        "id": "z2hvo-76u-Ig",
        "outputId": "e3daae44-e91a-499b-8211-fc1f2121edbf"
      },
      "execution_count": 5,
      "outputs": [
        {
          "output_type": "execute_result",
          "data": {
            "text/plain": [
              "[(41, 2),\n",
              " (100, 1),\n",
              " (49, 1),\n",
              " (76, 1),\n",
              " (47, 1),\n",
              " (27, 1),\n",
              " (89, 1),\n",
              " (24, 1),\n",
              " (39, 1),\n",
              " (97, 1)]"
            ]
          },
          "metadata": {},
          "execution_count": 5
        }
      ]
    },
    {
      "cell_type": "code",
      "source": [
        "xs = range(101)\n",
        "ys =[friends_count[x] for x in xs]\n",
        "plt.bar(xs,ys)\n",
        "plt.axis([0,101,0,2])\n",
        "plt.title(\" histogram of friend counts \")\n",
        "plt.xlabel(\"# of friends\")\n",
        "plt.ylabel(\"# of people\")\n",
        "plt.show()"
      ],
      "metadata": {
        "colab": {
          "base_uri": "https://localhost:8080/",
          "height": 472
        },
        "id": "Ig_l_V2jvEJF",
        "outputId": "c3082f7f-87fc-4b69-8832-a40658dcd2c3"
      },
      "execution_count": 7,
      "outputs": [
        {
          "output_type": "display_data",
          "data": {
            "text/plain": [
              "<Figure size 640x480 with 1 Axes>"
            ],
            "image/png": "[encoded data removed]"
          },
          "metadata": {}
        }
      ]
    },
    {
      "cell_type": "code",
      "source": [
        "num_points = len(num_friends)\n",
        "num_friends\n",
        "num_points"
      ],
      "metadata": {
        "colab": {
          "base_uri": "https://localhost:8080/"
        },
        "id": "d_G_FtCLv2ZF",
        "outputId": "c5eed7d7-41b0-4c70-e799-782ac1bc4582"
      },
      "execution_count": 9,
      "outputs": [
        {
          "output_type": "execute_result",
          "data": {
            "text/plain": [
              "15"
            ]
          },
          "metadata": {},
          "execution_count": 9
        }
      ]
    },
    {
      "cell_type": "code",
      "source": [
        "largest_num = max(num_friends)\n",
        "smallest_num = min(num_friends)"
      ],
      "metadata": {
        "id": "LZbX9jj-wVOI"
      },
      "execution_count": 10,
      "outputs": []
    },
    {
      "cell_type": "code",
      "source": [
        "sorted_value = sorted(num_friends)\n",
        "smallest_value = sorted_value[0]\n",
        "largest_value = sorted_value[-1]"
      ],
      "metadata": {
        "id": "XnPIceqdwh09"
      },
      "execution_count": 11,
      "outputs": []
    },
    {
      "cell_type": "code",
      "source": [
        "second_largest_value = sorted_value[-2]\n",
        "second_smallest_value = sorted_value[1]"
      ],
      "metadata": {
        "id": "FW96L-_awxMv"
      },
      "execution_count": 12,
      "outputs": []
    },
    {
      "cell_type": "code",
      "source": [
        "print(largest_value)\n",
        "print(smallest_value)\n",
        "print(second_largest_value)\n",
        "print(second_smallest_value)"
      ],
      "metadata": {
        "colab": {
          "base_uri": "https://localhost:8080/"
        },
        "id": "c--iGuotwzuZ",
        "outputId": "90a3e773-860d-4169-ae56-a40e66333828"
      },
      "execution_count": 14,
      "outputs": [
        {
          "output_type": "stream",
          "name": "stdout",
          "text": [
            "100\n",
            "10\n",
            "97\n",
            "24\n"
          ]
        }
      ]
    },
    {
      "cell_type": "code",
      "source": [
        "# We want to some notion where our data is centered.we will use mean or average.\n",
        "def mean(xs :list[float]):\n",
        "  return sum(xs)/len(xs)\n",
        "mean(num_friends)"
      ],
      "metadata": {
        "colab": {
          "base_uri": "https://localhost:8080/"
        },
        "id": "4AGkaHfUw2Eg",
        "outputId": "54e320a2-f1ef-495f-ff65-df551277bf7c"
      },
      "execution_count": 15,
      "outputs": [
        {
          "output_type": "execute_result",
          "data": {
            "text/plain": [
              "54.46666666666667"
            ]
          },
          "metadata": {},
          "execution_count": 15
        }
      ]
    },
    {
      "cell_type": "code",
      "source": [
        "def median_odd(xs : list[float]):\n",
        "  return sorted(xs)[len(xs)//2]\n",
        "def median_even(xs : list[float]):\n",
        "  sorted_xs = sorted(xs)\n",
        "  mid = len(xs)//2\n",
        "  return (sorted_xs[mid-1]+sorted_xs[mid])/2\n",
        "def median(v:list[float]):\n",
        "  if len(v)%2==1:\n",
        "    return median_odd(v)\n",
        "  else:\n",
        "    return median_even(v)\n",
        "median(num_friends)"
      ],
      "metadata": {
        "colab": {
          "base_uri": "https://localhost:8080/"
        },
        "id": "5EpmExKvxlw4",
        "outputId": "bd3dd72a-b01b-46d8-e134-3b926f065ed8"
      },
      "execution_count": 17,
      "outputs": [
        {
          "output_type": "execute_result",
          "data": {
            "text/plain": [
              "47"
            ]
          },
          "metadata": {},
          "execution_count": 17
        }
      ]
    },
    {
      "cell_type": "code",
      "source": [
        "def quantile(xs : list[float],p:float):\n",
        "  \"\"\"Its help in returning the pth percentile of the  X\"\"\"\n",
        "  p_index = int(p*len(xs)) ### like 0.25 * 15 = 3.75\n",
        "  return sorted(xs)[p_index]\n",
        "print(quantile(num_friends,0.10))\n",
        "print(quantile(num_friends,0.25))\n",
        "print(quantile(num_friends,0.75))\n",
        "print(quantile(num_friends,0.90))"
      ],
      "metadata": {
        "colab": {
          "base_uri": "https://localhost:8080/"
        },
        "id": "2pr58QPxz2Fy",
        "outputId": "5cdfecdd-6ab6-45b4-e3c2-d82b4c5ed33d"
      },
      "execution_count": 21,
      "outputs": [
        {
          "output_type": "stream",
          "name": "stdout",
          "text": [
            "24\n",
            "33\n",
            "78\n",
            "97\n"
          ]
        }
      ]
    },
    {
      "cell_type": "code",
      "source": [
        "###    MODE\n",
        "def mode(xs : list[float]):\n",
        "  counts = Counter(xs)\n",
        "  max_count = max(counts.values())\n",
        "  return [x_i for x_i,count in counts.items() if count == max_count]\n",
        "mode(num_friends)"
      ],
      "metadata": {
        "colab": {
          "base_uri": "https://localhost:8080/"
        },
        "id": "9eaF6K8o1eZK",
        "outputId": "85ed14b7-e6b1-4073-d4f2-613198076e8a"
      },
      "execution_count": 23,
      "outputs": [
        {
          "output_type": "execute_result",
          "data": {
            "text/plain": [
              "[41]"
            ]
          },
          "metadata": {},
          "execution_count": 23
        }
      ]
    },
    {
      "cell_type": "code",
      "source": [
        "def data_range(xs : list[float]):\n",
        "  return max(xs)-min(xs)\n",
        "data_range(num_friends)"
      ],
      "metadata": {
        "colab": {
          "base_uri": "https://localhost:8080/"
        },
        "id": "QUn9eCsw18MJ",
        "outputId": "631aa587-9091-471f-82c1-7a159b56c53c"
      },
      "execution_count": 24,
      "outputs": [
        {
          "output_type": "execute_result",
          "data": {
            "text/plain": [
              "90"
            ]
          },
          "metadata": {},
          "execution_count": 24
        }
      ]
    },
    {
      "cell_type": "code",
      "source": [
        "# from scratch.linear_algebra import sum_of_squares\n",
        "\n",
        "def sum_of_squares(v: list[float]) -> float:\n",
        "  \"\"\"Computes the sum of squared elements in v.\"\"\"\n",
        "  return sum(v_i * v_i for v_i in v)\n",
        "\n",
        "def de_mean(xs:list[float]):\n",
        "  x_bar = mean(xs)\n",
        "  return [x-x_bar for x in xs]\n",
        "def variance(xs: list[float]):\n",
        "  len(xs)>=2\n",
        "  n = len(xs)\n",
        "  deviations = de_mean(xs)\n",
        "  return sum_of_squares(deviations)/(n-1)\n",
        "print(variance(num_friends))"
      ],
      "metadata": {
        "colab": {
          "base_uri": "https://localhost:8080/"
        },
        "id": "MCooRsKx2gun",
        "outputId": "ba5a7e4e-e73a-4b19-b0c9-0bfd188dedda"
      },
      "execution_count": 26,
      "outputs": [
        {
          "output_type": "stream",
          "name": "stdout",
          "text": [
            "788.1238095238095\n"
          ]
        }
      ]
    },
    {
      "cell_type": "code",
      "source": [
        "from statistics import mean\n",
        "\n",
        "def sum_of_squares(v: list[float]) -> float:\n",
        "    \"\"\"Computes the sum of squared elements in v.\"\"\"\n",
        "    return sum(v_i * v_i for v_i in v)\n",
        "\n",
        "def de_mean(xs: list[float]):\n",
        "    \"\"\"Return deviations from the mean.\"\"\"\n",
        "    x_bar = mean(xs)\n",
        "    return [x - x_bar for x in xs]\n",
        "\n",
        "def variance(xs: list[float]) -> float:\n",
        "    \"\"\"Return variance of a list of numbers.\"\"\"\n",
        "    assert len(xs) >= 2, \"variance requires at least two elements\"\n",
        "    n = len(xs)\n",
        "    deviations = de_mean(xs)\n",
        "    return sum_of_squares(deviations) / (n - 1)\n",
        "\n",
        "# Example usage:\n",
        "num_friends = [100, 49, 41, 40, 25]  # Example dataset\n",
        "print(\"Variance:\", variance(num_friends))\n"
      ],
      "metadata": {
        "colab": {
          "base_uri": "https://localhost:8080/"
        },
        "id": "znWmhZgV5Bwi",
        "outputId": "db13fadd-4eb3-4217-fd38-12c7b9bf18b3"
      },
      "execution_count": 27,
      "outputs": [
        {
          "output_type": "stream",
          "name": "stdout",
          "text": [
            "Variance: 825.5\n"
          ]
        }
      ]
    },
    {
      "cell_type": "code",
      "source": [],
      "metadata": {
        "id": "wK7xTR5a5wRU"
      },
      "execution_count": null,
      "outputs": []
    }
  ]
}