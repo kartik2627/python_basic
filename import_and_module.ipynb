{
  "nbformat": 4,
  "nbformat_minor": 0,
  "metadata": {
    "colab": {
      "provenance": [],
      "authorship_tag": "ABX9TyNMFVMSe4D0guswY5Fao8pI",
      "include_colab_link": true
    },
    "kernelspec": {
      "name": "python3",
      "display_name": "Python 3"
    },
    "language_info": {
      "name": "python"
    }
  },
  "cells": [
    {
      "cell_type": "markdown",
      "metadata": {
        "id": "view-in-github",
        "colab_type": "text"
      },
      "source": [
        "<a href=\"https://colab.research.google.com/github/kartik2627/python_basic/blob/main/import_and_module.ipynb\" target=\"_parent\"><img src=\"https://colab.research.google.com/assets/colab-badge.svg\" alt=\"Open In Colab\"/></a>"
      ]
    },
    {
      "cell_type": "code",
      "execution_count": null,
      "metadata": {
        "id": "7syB6K5l01Ld"
      },
      "outputs": [],
      "source": [
        "import math"
      ]
    },
    {
      "cell_type": "code",
      "source": [
        "math.sqrt(56)"
      ],
      "metadata": {
        "colab": {
          "base_uri": "https://localhost:8080/"
        },
        "id": "9ZXd-D4q1IBH",
        "outputId": "87e9432a-0d79-4957-c1e2-676cb3f43a84"
      },
      "execution_count": null,
      "outputs": [
        {
          "output_type": "execute_result",
          "data": {
            "text/plain": [
              "7.483314773547883"
            ]
          },
          "metadata": {},
          "execution_count": 2
        }
      ]
    },
    {
      "cell_type": "code",
      "source": [
        "from math import sqrt , pi\n",
        "math.sqrt(56)"
      ],
      "metadata": {
        "colab": {
          "base_uri": "https://localhost:8080/"
        },
        "id": "vV0u4DLr1Toq",
        "outputId": "865fa5d4-5c82-437c-e979-b753fa161147"
      },
      "execution_count": null,
      "outputs": [
        {
          "output_type": "execute_result",
          "data": {
            "text/plain": [
              "7.483314773547883"
            ]
          },
          "metadata": {},
          "execution_count": 3
        }
      ]
    },
    {
      "cell_type": "code",
      "source": [
        "math.pi"
      ],
      "metadata": {
        "colab": {
          "base_uri": "https://localhost:8080/"
        },
        "id": "p6xUqVFk1xD-",
        "outputId": "9793cb92-4bc1-43fb-f032-5d93ab57523b"
      },
      "execution_count": null,
      "outputs": [
        {
          "output_type": "execute_result",
          "data": {
            "text/plain": [
              "3.141592653589793"
            ]
          },
          "metadata": {},
          "execution_count": 4
        }
      ]
    },
    {
      "cell_type": "code",
      "source": [
        "import numpy as np\n",
        "a = np.array([1,2,3,4,5])\n",
        "print(a)"
      ],
      "metadata": {
        "colab": {
          "base_uri": "https://localhost:8080/"
        },
        "id": "IWs5dyiD12E3",
        "outputId": "1e3f9198-f114-41d3-a400-30bbab175360"
      },
      "execution_count": null,
      "outputs": [
        {
          "output_type": "stream",
          "name": "stdout",
          "text": [
            "[1 2 3 4 5]\n"
          ]
        }
      ]
    },
    {
      "cell_type": "code",
      "source": [
        "import numpy as np\n",
        "a = np.array([[1,2,3],[4,5,6]])\n",
        "print(a)"
      ],
      "metadata": {
        "colab": {
          "base_uri": "https://localhost:8080/"
        },
        "id": "Crdpc_zL2Ibp",
        "outputId": "9263af6e-5dd2-4bb9-e16d-42466665367b"
      },
      "execution_count": null,
      "outputs": [
        {
          "output_type": "stream",
          "name": "stdout",
          "text": [
            "[[1 2 3]\n",
            " [4 5 6]]\n"
          ]
        }
      ]
    },
    {
      "cell_type": "code",
      "source": [
        "import pandas as pd\n",
        "a = pd.Series([1,2,3,4,5])\n",
        "print(a)"
      ],
      "metadata": {
        "colab": {
          "base_uri": "https://localhost:8080/"
        },
        "id": "Li3bGYRv2Xbp",
        "outputId": "80550081-6c44-4819-b872-03d8e9bf35d8"
      },
      "execution_count": null,
      "outputs": [
        {
          "output_type": "stream",
          "name": "stdout",
          "text": [
            "0    1\n",
            "1    2\n",
            "2    3\n",
            "3    4\n",
            "4    5\n",
            "dtype: int64\n"
          ]
        }
      ]
    },
    {
      "cell_type": "code",
      "source": [
        "b=pd.Series([1,2,3,4,5],index=['a','b','c','d','e'])\n",
        "print(b)\n"
      ],
      "metadata": {
        "colab": {
          "base_uri": "https://localhost:8080/"
        },
        "id": "wQA0btCX2ZbT",
        "outputId": "42a30708-4283-4cf8-bf37-71742b2ec693"
      },
      "execution_count": null,
      "outputs": [
        {
          "output_type": "stream",
          "name": "stdout",
          "text": [
            "a    1\n",
            "b    2\n",
            "c    3\n",
            "d    4\n",
            "e    5\n",
            "dtype: int64\n"
          ]
        }
      ]
    },
    {
      "cell_type": "code",
      "source": [
        "c = pd.Series({'a':1,'b':2,'c':3,'d':4,'e':5})\n",
        "print(c)"
      ],
      "metadata": {
        "colab": {
          "base_uri": "https://localhost:8080/"
        },
        "id": "sNyaFjRg2fmF",
        "outputId": "f2c6490e-f942-43d2-fcfa-929654c6ef45"
      },
      "execution_count": null,
      "outputs": [
        {
          "output_type": "stream",
          "name": "stdout",
          "text": [
            "a    1\n",
            "b    2\n",
            "c    3\n",
            "d    4\n",
            "e    5\n",
            "dtype: int64\n"
          ]
        }
      ]
    },
    {
      "cell_type": "code",
      "source": [
        "import array as arr\n",
        "a = arr.array('i',[1,2,3,4,5])\n",
        "print(a)"
      ],
      "metadata": {
        "colab": {
          "base_uri": "https://localhost:8080/"
        },
        "id": "qaVImOZ33G-5",
        "outputId": "425b25ca-3462-49ed-acce-d377d63087cf"
      },
      "execution_count": null,
      "outputs": [
        {
          "output_type": "stream",
          "name": "stdout",
          "text": [
            "array('i', [1, 2, 3, 4, 5])\n"
          ]
        }
      ]
    },
    {
      "cell_type": "code",
      "source": [
        "import random as rd\n",
        "print(rd.randint(1,10))\n",
        "print(rd.randint(1,10))\n",
        "print(rd.randrange(1,10))\n",
        "print(rd.choice([1,2,3,4,5]))"
      ],
      "metadata": {
        "colab": {
          "base_uri": "https://localhost:8080/"
        },
        "id": "e43M63Pt403o",
        "outputId": "aca7f789-6eab-4db3-a6a2-5b741b2c5dda"
      },
      "execution_count": null,
      "outputs": [
        {
          "output_type": "stream",
          "name": "stdout",
          "text": [
            "4\n",
            "7\n",
            "1\n",
            "5\n"
          ]
        }
      ]
    },
    {
      "cell_type": "code",
      "source": [
        "import os\n",
        "print(os.getcwd())"
      ],
      "metadata": {
        "colab": {
          "base_uri": "https://localhost:8080/"
        },
        "id": "jlIfktdH4_OM",
        "outputId": "dd08ced3-40fc-4fcf-ad12-e72d2bc96f62"
      },
      "execution_count": null,
      "outputs": [
        {
          "output_type": "stream",
          "name": "stdout",
          "text": [
            "/content\n"
          ]
        }
      ]
    },
    {
      "cell_type": "code",
      "source": [
        "import json\n",
        "data={'name ':'kartikay','age':' 21'}\n",
        "json_data=json.dumps(data)\n",
        "print(json_data)\n",
        "print(type(json_data))\n",
        "parsed_data=json.loads(json_data)\n",
        "print(parsed_data)\n",
        "print(type(parsed_data))"
      ],
      "metadata": {
        "colab": {
          "base_uri": "https://localhost:8080/"
        },
        "id": "UmalExmt5SUH",
        "outputId": "3628e871-172b-4430-c44d-85900723e1b0"
      },
      "execution_count": null,
      "outputs": [
        {
          "output_type": "stream",
          "name": "stdout",
          "text": [
            "{\"name \": \"kartikay\", \"age\": \" 21\"}\n",
            "<class 'str'>\n",
            "{'name ': 'kartikay', 'age': ' 21'}\n",
            "<class 'dict'>\n"
          ]
        }
      ]
    },
    {
      "cell_type": "code",
      "source": [
        "import csv\n",
        "\n",
        "with open('example.csv',mode='w',newline='') as file:\n",
        "    writer=csv.writer(file)\n",
        "    writer.writerow(['name','age'])\n",
        "    writer.writerow(['Kartikay',21])\n",
        "\n",
        "with open('example.csv',mode='r') as file:\n",
        "    reader=csv.reader(file)\n",
        "    for row in reader:\n",
        "        print(row)"
      ],
      "metadata": {
        "colab": {
          "base_uri": "https://localhost:8080/"
        },
        "id": "EDMsEmx75tIl",
        "outputId": "fe64ae76-c4c8-4a97-bd1d-44e1632ca698"
      },
      "execution_count": null,
      "outputs": [
        {
          "output_type": "stream",
          "name": "stdout",
          "text": [
            "['name', 'age']\n",
            "['Kartikay', '21']\n"
          ]
        }
      ]
    },
    {
      "cell_type": "code",
      "source": [
        "import datetime as dt\n",
        "today=dt.date.today()\n",
        "print(today)\n",
        "print(today.day)\n",
        "print(today.month)\n",
        "print(today.year)"
      ],
      "metadata": {
        "colab": {
          "base_uri": "https://localhost:8080/"
        },
        "id": "Xw8nv3Ub5ywX",
        "outputId": "7752e4d0-016a-4c39-cd56-f329593c3ccf"
      },
      "execution_count": null,
      "outputs": [
        {
          "output_type": "stream",
          "name": "stdout",
          "text": [
            "2024-10-01\n",
            "1\n",
            "10\n",
            "2024\n"
          ]
        }
      ]
    },
    {
      "cell_type": "code",
      "source": [
        "import time\n",
        "print(time.time())\n",
        "time.sleep(2)\n",
        "print(time.time())"
      ],
      "metadata": {
        "colab": {
          "base_uri": "https://localhost:8080/"
        },
        "id": "qfk0f3i96FfL",
        "outputId": "0325ad2c-6416-440a-8a8b-da71937ce045"
      },
      "execution_count": null,
      "outputs": [
        {
          "output_type": "stream",
          "name": "stdout",
          "text": [
            "1727766501.6548004\n",
            "1727766503.6635687\n"
          ]
        }
      ]
    },
    {
      "cell_type": "code",
      "source": [
        "\n",
        "f = open(\"myfile.txt\", \"w\")\n",
        "f.write(\"Now the file has more content!\")\n",
        "f.close()\n"
      ],
      "metadata": {
        "id": "_wEByX_JktTw"
      },
      "execution_count": 3,
      "outputs": []
    },
    {
      "cell_type": "code",
      "source": [
        "with open(\"myfile.txt\", \"r\") as f:\n",
        "    print(f.read())"
      ],
      "metadata": {
        "colab": {
          "base_uri": "https://localhost:8080/"
        },
        "id": "gGNgvILKlAP3",
        "outputId": "54a5e48e-d03c-46d1-a1af-e4b43dd3690e"
      },
      "execution_count": 4,
      "outputs": [
        {
          "output_type": "stream",
          "name": "stdout",
          "text": [
            "Now the file has more content!\n"
          ]
        }
      ]
    },
    {
      "cell_type": "code",
      "source": [
        "with open(\"myfile.txt\", \"w\") as f :\n",
        "    f.write(\"Hello, world!\")"
      ],
      "metadata": {
        "id": "qKt27KtklVyU"
      },
      "execution_count": 6,
      "outputs": []
    },
    {
      "cell_type": "code",
      "source": [
        "with open(\"myfile.txt\", \"r\") as f:\n",
        "    print(f.read())"
      ],
      "metadata": {
        "colab": {
          "base_uri": "https://localhost:8080/"
        },
        "id": "7aiyvDgClV1f",
        "outputId": "2723ef5a-38ed-42c2-f8fa-0cae01b76040"
      },
      "execution_count": 7,
      "outputs": [
        {
          "output_type": "stream",
          "name": "stdout",
          "text": [
            "Hello, world!\n"
          ]
        }
      ]
    },
    {
      "cell_type": "code",
      "source": [
        "with open(\"myfile.txt\", \"a\") as f:\n",
        "    f.write(\"\\nNow the file has more content!\")"
      ],
      "metadata": {
        "id": "v3rO_xqhlV4c"
      },
      "execution_count": 8,
      "outputs": []
    },
    {
      "cell_type": "code",
      "source": [
        "with open(\"myfile.txt\", \"r\") as f:\n",
        "    print(f.read())"
      ],
      "metadata": {
        "colab": {
          "base_uri": "https://localhost:8080/"
        },
        "id": "OttPV4brlV7V",
        "outputId": "72b2fa75-9177-4048-eadc-9380053c3a5f"
      },
      "execution_count": 10,
      "outputs": [
        {
          "output_type": "stream",
          "name": "stdout",
          "text": [
            "Hello, world!\n",
            "Now the file has more content!\n"
          ]
        }
      ]
    },
    {
      "cell_type": "code",
      "source": [
        "lines = ('student : ragav\\n', 'student : sahil\\n', 'student : ritik\\n')\n"
      ],
      "metadata": {
        "id": "OGPEHFkZlV-d"
      },
      "execution_count": 18,
      "outputs": []
    },
    {
      "cell_type": "code",
      "source": [
        "with open(\"myfile.txt\", \"a\") as f:\n",
        "    f.writelines(lines)\n",
        "    f.close()"
      ],
      "metadata": {
        "id": "6pBgPzE7lWBo"
      },
      "execution_count": 19,
      "outputs": []
    },
    {
      "cell_type": "code",
      "source": [
        "with open('myfile.txt', 'rb') as f:\n",
        "    content = f.read()\n",
        "    print(content)\n"
      ],
      "metadata": {
        "colab": {
          "base_uri": "https://localhost:8080/"
        },
        "id": "xzCsYEATlWEv",
        "outputId": "08505bef-13e9-4d47-b158-d4578b222421"
      },
      "execution_count": 23,
      "outputs": [
        {
          "output_type": "stream",
          "name": "stdout",
          "text": [
            "b'student : ragavstudent : sahilstudent : ritikstudent : ragavstudent : sahilstudent : ritikstudent : ragavstudent : sahilstudent : ritikstudent : ragav\\nstudent : sahil\\nstudent : ritik\\n'\n"
          ]
        }
      ]
    },
    {
      "cell_type": "code",
      "source": [
        "def count_words(filename):\n",
        "    with open(filename, 'r') as f:\n",
        "        content = f.read()\n",
        "        words = content.split()\n",
        "        return len(words)"
      ],
      "metadata": {
        "id": "YIy4AQPKlWHy"
      },
      "execution_count": 21,
      "outputs": []
    },
    {
      "cell_type": "code",
      "source": [
        "with open('newfile.txt', 'w') as f:\n",
        "    f.write('This is a new file')"
      ],
      "metadata": {
        "id": "xF9gwBNylWLW"
      },
      "execution_count": 22,
      "outputs": []
    },
    {
      "cell_type": "code",
      "source": [
        "with open('newfile.txt', 'w+') as f:\n",
        "    f.write('This is a new file \\n')\n",
        "    f.write('This is the second line \\n')\n",
        "    f.write('This is the third line \\n')\n",
        "\n",
        "    f.seek(0)  # Move the file pointer to the beginning\n",
        "    content = f.read()  # Read the entire content of\n",
        "    print(content)"
      ],
      "metadata": {
        "colab": {
          "base_uri": "https://localhost:8080/"
        },
        "id": "9VCmY5orpa2u",
        "outputId": "b5b37420-3d2c-4fbf-e43e-0b953c5a4170"
      },
      "execution_count": 26,
      "outputs": [
        {
          "output_type": "stream",
          "name": "stdout",
          "text": [
            "This is a new file \n",
            "This is the second line \n",
            "This is the third line \n",
            "\n"
          ]
        }
      ]
    },
    {
      "cell_type": "code",
      "source": [
        "import os\n",
        "new_directory = 'package'\n",
        "os.mkdir(new_directory)\n",
        "print(f'Directory {new_directory} created successfully')"
      ],
      "metadata": {
        "colab": {
          "base_uri": "https://localhost:8080/"
        },
        "id": "geIbqhDOpxar",
        "outputId": "b811d318-43b7-4a3a-8e56-653f17cbc1c5"
      },
      "execution_count": 27,
      "outputs": [
        {
          "output_type": "stream",
          "name": "stdout",
          "text": [
            "Directory package created successfully\n"
          ]
        }
      ]
    },
    {
      "cell_type": "code",
      "source": [
        "item = os.listdir()\n",
        "print(item)"
      ],
      "metadata": {
        "colab": {
          "base_uri": "https://localhost:8080/"
        },
        "id": "UW2DxNz5qo2s",
        "outputId": "e29e1c5d-31e4-4801-f169-6c70eb1493a7"
      },
      "execution_count": 28,
      "outputs": [
        {
          "output_type": "stream",
          "name": "stdout",
          "text": [
            "['.config', 'package', 'myfile.txt', 'newfile.txt', 'sample_data']\n"
          ]
        }
      ]
    },
    {
      "cell_type": "code",
      "source": [
        "dir_name = 'package'\n",
        "os.rmdir(dir_name)\n",
        "print(f'Directory {dir_name} removed successfully')"
      ],
      "metadata": {
        "colab": {
          "base_uri": "https://localhost:8080/"
        },
        "id": "nliGAy4zq6Nn",
        "outputId": "f6c925eb-ecc5-43cd-e67b-6153dae71a38"
      },
      "execution_count": 29,
      "outputs": [
        {
          "output_type": "stream",
          "name": "stdout",
          "text": [
            "Directory package removed successfully\n"
          ]
        }
      ]
    },
    {
      "cell_type": "code",
      "source": [
        "dir_name = 'Folder'\n",
        "file_name = 'file.txt'\n",
        "full_path = os.path.join(dir_name, file_name)\n",
        "print(full_path)\n"
      ],
      "metadata": {
        "colab": {
          "base_uri": "https://localhost:8080/"
        },
        "id": "cKIswPnjrLTR",
        "outputId": "bd24f616-b8f6-405d-b2a5-ddbd0ed4d820"
      },
      "execution_count": 30,
      "outputs": [
        {
          "output_type": "stream",
          "name": "stdout",
          "text": [
            "Folder/file.txt\n"
          ]
        }
      ]
    },
    {
      "cell_type": "code",
      "source": [
        "import os\n",
        "path = \"example.txt\"\n",
        "if os.path.exists(path):\n",
        "    print(f\"{path} exists\")\n",
        "else:\n",
        "    print(f\"{path} does not exist\")"
      ],
      "metadata": {
        "colab": {
          "base_uri": "https://localhost:8080/"
        },
        "id": "Asoo-LNSr3To",
        "outputId": "7e2b474d-8fad-4431-cae0-c7f9daa0152d"
      },
      "execution_count": 31,
      "outputs": [
        {
          "output_type": "stream",
          "name": "stdout",
          "text": [
            "example.txt does not exist\n"
          ]
        }
      ]
    },
    {
      "cell_type": "code",
      "source": [
        "def read_file(filename):\n",
        "    try:\n",
        "        with open('newfile.txt', 'r') as f:\n",
        "            content = f.read()\n",
        "            print(content)\n",
        "    except FileNotFoundError:\n",
        "        print(f\"File '{filename}' not found\")\n"
      ],
      "metadata": {
        "id": "nqD-GWSVsaRG"
      },
      "execution_count": 36,
      "outputs": []
    },
    {
      "cell_type": "code",
      "source": [
        "with open('file1.txt', 'w') as f:\n",
        "    f.write('This is a new file/n')\n",
        "    f.write('This is the second line/n')"
      ],
      "metadata": {
        "id": "3mXRfyRKt9ss"
      },
      "execution_count": 37,
      "outputs": []
    },
    {
      "cell_type": "code",
      "source": [
        "def write_file(lines,file1):\n",
        "    with open(file1, 'w') as f:\n",
        "        for line in lines:\n",
        "            f.write(line)"
      ],
      "metadata": {
        "id": "vtjFLHQ6ulb2"
      },
      "execution_count": 42,
      "outputs": []
    },
    {
      "cell_type": "code",
      "source": [
        "write_file(['Hello', 'World'], 'file1')"
      ],
      "metadata": {
        "id": "LbjKY3CAu0Xe"
      },
      "execution_count": 43,
      "outputs": []
    },
    {
      "cell_type": "code",
      "source": [],
      "metadata": {
        "id": "Ix1zufcPvA94"
      },
      "execution_count": null,
      "outputs": []
    }
  ]
}