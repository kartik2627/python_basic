{
  "nbformat": 4,
  "nbformat_minor": 0,
  "metadata": {
    "colab": {
      "provenance": [],
      "authorship_tag": "ABX9TyM5ePlwCQIpZgeUs0mtWXGy",
      "include_colab_link": true
    },
    "kernelspec": {
      "name": "python3",
      "display_name": "Python 3"
    },
    "language_info": {
      "name": "python"
    }
  },
  "cells": [
    {
      "cell_type": "markdown",
      "metadata": {
        "id": "view-in-github",
        "colab_type": "text"
      },
      "source": [
        "<a href=\"https://colab.research.google.com/github/kartik2627/python_basic/blob/main/Dsa.ipynb\" target=\"_parent\"><img src=\"https://colab.research.google.com/assets/colab-badge.svg\" alt=\"Open In Colab\"/></a>"
      ]
    },
    {
      "cell_type": "code",
      "execution_count": null,
      "metadata": {
        "id": "XFBbFCp8qiey"
      },
      "outputs": [],
      "source": [
        "#You are given an array of Integers in which each subsequent value is not less than the previous value. Write a function that takes this array as an input and returns a new array with the squares of each number sorted in ascending order.\n",
        "def sorted_squared(array):\n",
        "    n = len(array)\n",
        "    r = [0] * n\n",
        "    for i in range(n):\n",
        "        r[i] = array[i]**2\n",
        "    r.sort()\n",
        "    return r\n"
      ]
    },
    {
      "cell_type": "code",
      "source": [
        "sorted_squared([-5, -3, -2, -1, 0, 1, 2, 3, 4, 5])"
      ],
      "metadata": {
        "colab": {
          "base_uri": "https://localhost:8080/"
        },
        "id": "CFqeMMk6sb25",
        "outputId": "22f1eaf5-c1cd-4b91-ca77-7ec58a93c097"
      },
      "execution_count": null,
      "outputs": [
        {
          "output_type": "execute_result",
          "data": {
            "text/plain": [
              "[0, 1, 1, 4, 4, 9, 9, 16, 25, 25]"
            ]
          },
          "metadata": {},
          "execution_count": 2
        }
      ]
    },
    {
      "cell_type": "code",
      "source": [
        "def sorted_square(array):\n",
        "  n = len(array)\n",
        "  i,j = 0,n-1\n",
        "  res = [0]*n\n",
        "  for k in reversed(range(n)):\n",
        "    if array[i]**2 > array[j]**2:\n",
        "      res[k] = array[i]**2\n",
        "      i += 1\n",
        "    else:\n",
        "      res[k] = array[j]**2\n",
        "      j -= 1\n",
        "  return res\n",
        "\n",
        "sorted_square([-5, -3, -2, -1, 0, 1, 2, 3, 4, 5])\n"
      ],
      "metadata": {
        "id": "hX3sLpq3sfJ6",
        "colab": {
          "base_uri": "https://localhost:8080/"
        },
        "outputId": "fe604a06-1ef9-4871-fcd7-11b1ca576aa0"
      },
      "execution_count": null,
      "outputs": [
        {
          "output_type": "execute_result",
          "data": {
            "text/plain": [
              "[0, 1, 1, 4, 4, 9, 9, 16, 25, 25]"
            ]
          },
          "metadata": {},
          "execution_count": 1
        }
      ]
    },
    {
      "cell_type": "code",
      "source": [
        "\n",
        "\n",
        "def monotonic_array(array):\n",
        "    n = len(array)\n",
        "    if n <= 1:\n",
        "        return True\n",
        "\n",
        "    is_increasing = is_decreasing = True\n",
        "\n",
        "    for k in range(1, n):\n",
        "        if array[k] > array[k - 1]:\n",
        "            is_decreasing = False\n",
        "        if array[k] < array[k - 1]:\n",
        "            is_increasing = False\n",
        "\n",
        "    return is_increasing or is_decreasing\n",
        "\n",
        "# Example usage\n",
        "print(monotonic_array([-1, -5, -10, -1100, -1100, -1101, -1102, -9001]))  # Should return True\n"
      ],
      "metadata": {
        "id": "J9scqF9HSWHv",
        "colab": {
          "base_uri": "https://localhost:8080/"
        },
        "outputId": "f5a55ef8-0385-4cfa-ee51-c6c4fda47583"
      },
      "execution_count": null,
      "outputs": [
        {
          "output_type": "stream",
          "name": "stdout",
          "text": [
            "True\n"
          ]
        }
      ]
    },
    {
      "cell_type": "code",
      "source": [
        "def monotonic_array(array):\n",
        "    first = array[0]\n",
        "    last = array[len(array)-1]\n",
        "    if first > last:\n",
        "        for i in range(len(array)-1):\n",
        "            if array[i] < array[i+1]:\n",
        "                return False\n",
        "    elif first == last:\n",
        "        for i in range(len(array)-1):\n",
        "            if array[i] != array[i+1]:\n",
        "                return False\n",
        "    else:\n",
        "        for i in range(len(array)-1):\n",
        "            if array[i] > array[i+1]:\n",
        "                return False\n",
        "    return True\n",
        "\n",
        "\n",
        "print(monotonic_array([1]))\n",
        "\n"
      ],
      "metadata": {
        "colab": {
          "base_uri": "https://localhost:8080/"
        },
        "id": "KsucMDvOjEsK",
        "outputId": "4bd493b5-93c1-4190-cfcf-421fb812e70f"
      },
      "execution_count": null,
      "outputs": [
        {
          "output_type": "stream",
          "name": "stdout",
          "text": [
            "True\n"
          ]
        }
      ]
    },
    {
      "cell_type": "code",
      "source": [
        "def monotonic_array(array):\n",
        "    n = len(array)\n",
        "    if n <= 1:\n",
        "        return True\n",
        "\n",
        "    first = array[0]\n",
        "    last = array[-1]\n",
        "\n",
        "    if first > last:\n",
        "        for i in range(n - 1):\n",
        "            if array[i] < array[i + 1]:\n",
        "                return False\n",
        "    elif first == last:\n",
        "        for i in range(n - 1):\n",
        "            if array[i] != array[i + 1]:\n",
        "                return False\n",
        "    else:\n",
        "        for i in range(n - 1):\n",
        "            if array[i] > array[i + 1]:\n",
        "                return False\n",
        "\n",
        "    return True\n",
        "\n",
        "# Example usage\n",
        "print(monotonic_array([1]))  # Should return True\n",
        "print(monotonic_array([1, 2, 2, 3]))  # Should return True\n",
        "print(monotonic_array([3, 2, 2, 1]))  # Should return True\n",
        "print(monotonic_array([1, 3, 2]))  # Should return False\n"
      ],
      "metadata": {
        "colab": {
          "base_uri": "https://localhost:8080/"
        },
        "id": "ZrcTW55-okFK",
        "outputId": "855da833-9da3-4716-bd8b-bdf44ff3c2c1"
      },
      "execution_count": null,
      "outputs": [
        {
          "output_type": "stream",
          "name": "stdout",
          "text": [
            "True\n",
            "True\n",
            "True\n",
            "False\n"
          ]
        }
      ]
    },
    {
      "cell_type": "code",
      "source": [
        "def recursion(n):\n",
        "   if n == 1 or n ==0:\n",
        "    return 1\n",
        "   else :\n",
        "      return n * recursion(n-1)\n",
        "recursion(5)\n",
        "print(recursion(5))"
      ],
      "metadata": {
        "id": "nEdbZC2mqSeO",
        "colab": {
          "base_uri": "https://localhost:8080/"
        },
        "outputId": "05bf3556-4d91-45db-c5f0-29577e155694"
      },
      "execution_count": null,
      "outputs": [
        {
          "output_type": "stream",
          "name": "stdout",
          "text": [
            "120\n"
          ]
        }
      ]
    },
    {
      "cell_type": "code",
      "source": [
        "def factorial(n):\n",
        "    result = 1\n",
        "    for i in range(1, n + 1):\n",
        "        result *= i\n",
        "    return result\n",
        "\n",
        "print(factorial(5))"
      ],
      "metadata": {
        "colab": {
          "base_uri": "https://localhost:8080/"
        },
        "id": "9eBjZln1y2ZI",
        "outputId": "465ff1bc-6536-4f83-840c-ef9342cf868c"
      },
      "execution_count": null,
      "outputs": [
        {
          "output_type": "stream",
          "name": "stdout",
          "text": [
            "120\n"
          ]
        }
      ]
    },
    {
      "cell_type": "code",
      "source": [
        "def sum(current , n):\n",
        "  if current == n:\n",
        "      return 0\n",
        "  return current + sum(current + 1, n)\n",
        "\n",
        "# Example usage\n",
        "result = sum(0, 100)\n",
        "print(result)  # Should return 5050 (sum of numbers from 0 to 100)\n"
      ],
      "metadata": {
        "colab": {
          "base_uri": "https://localhost:8080/"
        },
        "id": "GbJ_nUxd7sHJ",
        "outputId": "5745f6f8-6665-42e5-aae7-d49236a34d6d"
      },
      "execution_count": null,
      "outputs": [
        {
          "output_type": "stream",
          "name": "stdout",
          "text": [
            "4950\n"
          ]
        }
      ]
    },
    {
      "cell_type": "code",
      "source": [
        "def sum_natural_numbers(n):\n",
        "    total = 0\n",
        "    for i in range(1, n + 1):\n",
        "        total += i\n",
        "    return total\n",
        "\n",
        "# Example usage\n",
        "n = 5\n",
        "print(sum_natural_numbers(n))  # Should return 15 (1 + 2 + 3 + 4 + 5)\n",
        "\n"
      ],
      "metadata": {
        "colab": {
          "base_uri": "https://localhost:8080/"
        },
        "id": "BOieoWr7Dkzu",
        "outputId": "38cdbe8d-d254-475a-c1c7-3cd83dbf5fc2"
      },
      "execution_count": null,
      "outputs": [
        {
          "output_type": "stream",
          "name": "stdout",
          "text": [
            "15\n"
          ]
        }
      ]
    },
    {
      "cell_type": "markdown",
      "source": [
        "0 n = 1\n",
        "01 n = 2\n",
        "0110 n = 3\n",
        "01101001 n = 4\n",
        "\n",
        "---\n",
        "\n",
        "\n",
        "reursion Base case\n",
        "\n",
        "---\n",
        "\n",
        "\n",
        "Recursion Relation\n",
        "\n",
        "---\n",
        "\n"
      ],
      "metadata": {
        "id": "qj6DcleSbfMo"
      }
    },
    {
      "cell_type": "code",
      "source": [
        "def kmean(n,k):\n",
        "  if n == 1:\n",
        "    return 0\n",
        "  length = 2 **( n-1 )\n",
        "  mid = length //2\n",
        "  if k<=mid :\n",
        "    return kmean(n-1,k)\n",
        "  else :\n",
        "    return int(not(kmean(n-1,k-mid)))\n",
        "kmean(3,5)\n",
        "\n"
      ],
      "metadata": {
        "id": "BjeN-sO4EDlv",
        "colab": {
          "base_uri": "https://localhost:8080/"
        },
        "outputId": "f29a85b2-2fc2-4ca2-fe2f-6297fe2f1b75"
      },
      "execution_count": null,
      "outputs": [
        {
          "output_type": "execute_result",
          "data": {
            "text/plain": [
              "0"
            ]
          },
          "metadata": {},
          "execution_count": 1
        }
      ]
    },
    {
      "cell_type": "code",
      "source": [
        "kmean(4,8)"
      ],
      "metadata": {
        "colab": {
          "base_uri": "https://localhost:8080/"
        },
        "id": "0ENyY5_3_jyT",
        "outputId": "87b01bc1-f870-4176-fd18-585067de3e14"
      },
      "execution_count": null,
      "outputs": [
        {
          "output_type": "execute_result",
          "data": {
            "text/plain": [
              "1"
            ]
          },
          "metadata": {},
          "execution_count": 2
        }
      ]
    },
    {
      "cell_type": "code",
      "source": [
        "def index_winner(n, k):\n",
        "  \"\"\"\n",
        "  Finds the index of the winner in a circular elimination game with n players and k eliminations per round.\n",
        "\n",
        "  Args:\n",
        "      n: The number of players (must be non-negative).\n",
        "      k: The number of players to eliminate per round (must be positive).\n",
        "\n",
        "  Returns:\n",
        "      The index (0-based) of the winning player.\n",
        "\n",
        "  Raises:\n",
        "      ValueError: If n is negative or k is non-positive.\n",
        "  \"\"\"\n",
        "\n",
        "  if n < 0:\n",
        "    raise ValueError(\"n (number of players) must be non-negative.\")\n",
        "  if k <= 0:\n",
        "    raise ValueError(\"k (number of eliminations per round) must be positive.\")\n",
        "\n",
        "  # Create a circular linked list representation using a dictionary\n",
        "  players = {i: (i + 1) % n for i in range(n)}  # Initialize next pointers\n",
        "\n",
        "  # Handle base cases (n=0 or n=1)\n",
        "  if n == 0:\n",
        "    return None  # No winner for 0 players\n",
        "  elif n == 1:\n",
        "    return 0  # Only player 0 wins (index 0)\n",
        "\n",
        "  # Simulate the elimination game using the circular linked list\n",
        "  current = 0\n",
        "  for _ in range(n - 1):  # Eliminate n-1 players\n",
        "    for _ in range(k - 1):  # Skip k-1 players\n",
        "      current = players[current]\n",
        "    players[current] = players[players[current]]  # Remove player after current\n",
        "\n",
        "  return current  # The remaining player wins\n",
        "\n",
        "# Example usage\n",
        "try:\n",
        "  winner_index = index_winner(5, 2)\n",
        "  print(\"Winner index:\", winner_index)\n",
        "except ValueError as e:\n",
        "  print(e)\n"
      ],
      "metadata": {
        "id": "225WISgXAUtE",
        "colab": {
          "base_uri": "https://localhost:8080/"
        },
        "outputId": "da033042-4536-48d7-f5a9-9e0ab86805ce"
      },
      "execution_count": null,
      "outputs": [
        {
          "output_type": "stream",
          "name": "stdout",
          "text": [
            "Winner index: 3\n"
          ]
        }
      ]
    },
    {
      "cell_type": "code",
      "source": [
        "def winner(n,k):\n",
        "  arr = [i+1 for i in range(n)]\n",
        "  def helper(arr,start_index):\n",
        "    if len(arr) == 1:\n",
        "      return 0\n",
        "    index_remove =(start_index + k -1)%len(arr)\n",
        "    del arr[index_remove]\n",
        "    return helper(arr,index_remove)\n",
        "  return helper(arr,0)\n",
        "winner(5,7)"
      ],
      "metadata": {
        "id": "sEDdLLg9vqMU",
        "colab": {
          "base_uri": "https://localhost:8080/"
        },
        "outputId": "527b4b39-2cc2-4f06-846e-396f519dc2a1"
      },
      "execution_count": null,
      "outputs": [
        {
          "output_type": "execute_result",
          "data": {
            "text/plain": [
              "0"
            ]
          },
          "metadata": {},
          "execution_count": 1
        }
      ]
    },
    {
      "cell_type": "code",
      "source": [
        "def toh(n ,fromm , to ,aux):\n",
        "  count = 0\n",
        "  def helper(n,fromm,to,aux):\n",
        "    #base case\n",
        "    nonlocal count\n",
        "    if n == 1:\n",
        "      print(f\"Move disk 1 from {fromm} to {to}\")\n",
        "      count += 1\n",
        "      return\n",
        "    #recursive case\n",
        "    helper(n-1,fromm,aux,to)\n",
        "    print(f\"Move disk {n} from {fromm} to {to}\")\n",
        "    count += 1\n",
        "    helper(n-1,aux,to,fromm)\n",
        "  helper(n,fromm,to,aux)\n",
        "  return count\n",
        "\n",
        "toh(3,\"A\",\"C\",\"B\")"
      ],
      "metadata": {
        "colab": {
          "base_uri": "https://localhost:8080/"
        },
        "id": "_Um5V22g7-P0",
        "outputId": "17e14ef4-8c99-44f8-db6e-fbade55979ad"
      },
      "execution_count": 2,
      "outputs": [
        {
          "output_type": "stream",
          "name": "stdout",
          "text": [
            "Move disk 1 from A to C\n",
            "Move disk 2 from A to B\n",
            "Move disk 1 from C to B\n",
            "Move disk 3 from A to C\n",
            "Move disk 1 from B to A\n",
            "Move disk 2 from B to C\n",
            "Move disk 1 from A to C\n"
          ]
        },
        {
          "output_type": "execute_result",
          "data": {
            "text/plain": [
              "7"
            ]
          },
          "metadata": {},
          "execution_count": 2
        }
      ]
    },
    {
      "cell_type": "code",
      "source": [
        "9+6"
      ],
      "metadata": {
        "colab": {
          "base_uri": "https://localhost:8080/"
        },
        "id": "sjtyJXoj7-TO",
        "outputId": "8ea719e2-6472-4207-bede-cb485dd175d6"
      },
      "execution_count": 3,
      "outputs": [
        {
          "output_type": "execute_result",
          "data": {
            "text/plain": [
              "15"
            ]
          },
          "metadata": {},
          "execution_count": 3
        }
      ]
    }
  ]
}