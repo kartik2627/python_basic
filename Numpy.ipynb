{
  "cells": [
    {
      "cell_type": "markdown",
      "metadata": {
        "id": "view-in-github",
        "colab_type": "text"
      },
      "source": [
        "<a href=\"https://colab.research.google.com/github/kartik2627/python_basic/blob/main/Numpy.ipynb\" target=\"_parent\"><img src=\"https://colab.research.google.com/assets/colab-badge.svg\" alt=\"Open In Colab\"/></a>"
      ]
    },
    {
      "cell_type": "markdown",
      "id": "48b602a1",
      "metadata": {
        "id": "48b602a1"
      },
      "source": [
        "# NumPy\n",
        "- Short for Numerical Python\n",
        "- Foundational Package for Numerical computing in python\n",
        "- Provides an ndarray object which is an efficient multidimensional array providing fast array oriented operations\n",
        "- Provides a lot of functions"
      ]
    },
    {
      "cell_type": "code",
      "execution_count": null,
      "id": "a20d2dcd",
      "metadata": {
        "id": "a20d2dcd"
      },
      "outputs": [],
      "source": [
        "import numpy as np"
      ]
    },
    {
      "cell_type": "markdown",
      "id": "b698a534",
      "metadata": {
        "id": "b698a534"
      },
      "source": [
        "# Creating ndarrays"
      ]
    },
    {
      "cell_type": "markdown",
      "id": "930b97de",
      "metadata": {
        "id": "930b97de"
      },
      "source": [
        "##### Creating ndarray from an object"
      ]
    },
    {
      "cell_type": "code",
      "execution_count": null,
      "id": "0ec6c73f",
      "metadata": {
        "id": "0ec6c73f",
        "outputId": "52b87410-8772-49e5-b97c-614b67320059"
      },
      "outputs": [
        {
          "data": {
            "text/plain": [
              "array([1, 2, 3, 4, 5])"
            ]
          },
          "execution_count": 6,
          "metadata": {},
          "output_type": "execute_result"
        }
      ],
      "source": [
        "l1 = [1,2,3,4,5]\n",
        "a1 = np.array(l1)\n",
        "a1"
      ]
    },
    {
      "cell_type": "code",
      "execution_count": null,
      "id": "1b128006",
      "metadata": {
        "id": "1b128006",
        "outputId": "def5f5e2-cc9e-4457-d273-af48ba71b1c6"
      },
      "outputs": [
        {
          "data": {
            "text/plain": [
              "numpy.ndarray"
            ]
          },
          "execution_count": 3,
          "metadata": {},
          "output_type": "execute_result"
        }
      ],
      "source": [
        "type(a1)"
      ]
    },
    {
      "cell_type": "code",
      "execution_count": null,
      "id": "158049fb",
      "metadata": {
        "id": "158049fb",
        "outputId": "f26fb3a7-061b-4613-e963-64ac8269ba8d"
      },
      "outputs": [
        {
          "data": {
            "text/plain": [
              "array([1, 2, 3, 4, 5])"
            ]
          },
          "execution_count": 4,
          "metadata": {},
          "output_type": "execute_result"
        }
      ],
      "source": [
        "t1 = (1,2,3,4,5)\n",
        "a1 = np.array(t1)\n",
        "a1"
      ]
    },
    {
      "cell_type": "code",
      "execution_count": null,
      "id": "3c581b56",
      "metadata": {
        "id": "3c581b56",
        "outputId": "8e54183c-8e1a-4d60-c8de-6b8b7fd9d595"
      },
      "outputs": [
        {
          "data": {
            "text/plain": [
              "array([ 1,  2,  3,  4,  5,  6,  7,  8,  9, 10])"
            ]
          },
          "execution_count": 5,
          "metadata": {},
          "output_type": "execute_result"
        }
      ],
      "source": [
        "a1 = np.array(range(1,11))\n",
        "a1"
      ]
    },
    {
      "cell_type": "code",
      "execution_count": null,
      "id": "fa14a09c",
      "metadata": {
        "id": "fa14a09c",
        "outputId": "544fde75-59bc-41bd-951e-96ba452c9c99"
      },
      "outputs": [
        {
          "data": {
            "text/plain": [
              "(10,)"
            ]
          },
          "execution_count": 6,
          "metadata": {},
          "output_type": "execute_result"
        }
      ],
      "source": [
        "a1.shape"
      ]
    },
    {
      "cell_type": "code",
      "execution_count": null,
      "id": "5b8c4d5c",
      "metadata": {
        "id": "5b8c4d5c",
        "outputId": "eafe5e09-4a36-475a-c258-671dd236e568"
      },
      "outputs": [
        {
          "data": {
            "text/plain": [
              "dtype('int32')"
            ]
          },
          "execution_count": 8,
          "metadata": {},
          "output_type": "execute_result"
        }
      ],
      "source": [
        "a1.dtype"
      ]
    },
    {
      "cell_type": "code",
      "execution_count": null,
      "id": "b4481db3",
      "metadata": {
        "id": "b4481db3",
        "outputId": "ed0b2c08-3222-44f8-d02d-d1d31fcf02d6"
      },
      "outputs": [
        {
          "data": {
            "text/plain": [
              "1"
            ]
          },
          "execution_count": 10,
          "metadata": {},
          "output_type": "execute_result"
        }
      ],
      "source": [
        "a1.ndim"
      ]
    },
    {
      "cell_type": "code",
      "execution_count": null,
      "id": "f27eb8c9",
      "metadata": {
        "id": "f27eb8c9",
        "outputId": "ef574f0c-777f-4d2d-f933-7cf3e0d19bde"
      },
      "outputs": [
        {
          "data": {
            "text/plain": [
              "array([[1, 2, 3],\n",
              "       [4, 5, 6]])"
            ]
          },
          "execution_count": 12,
          "metadata": {},
          "output_type": "execute_result"
        }
      ],
      "source": [
        "a1 = np.array([[1,2,3], [4,5,6]])\n",
        "a1"
      ]
    },
    {
      "cell_type": "code",
      "execution_count": null,
      "id": "9438e890",
      "metadata": {
        "id": "9438e890",
        "outputId": "cd8295f0-0923-4663-d39c-bb45adb3da9c"
      },
      "outputs": [
        {
          "data": {
            "text/plain": [
              "(2, 3)"
            ]
          },
          "execution_count": 13,
          "metadata": {},
          "output_type": "execute_result"
        }
      ],
      "source": [
        "a1.shape"
      ]
    },
    {
      "cell_type": "code",
      "execution_count": null,
      "id": "41f7c058",
      "metadata": {
        "id": "41f7c058",
        "outputId": "d83f59c8-4b42-4f60-98df-59f35f438e9e"
      },
      "outputs": [
        {
          "data": {
            "text/plain": [
              "2"
            ]
          },
          "execution_count": 14,
          "metadata": {},
          "output_type": "execute_result"
        }
      ],
      "source": [
        "a1.ndim"
      ]
    },
    {
      "cell_type": "code",
      "execution_count": null,
      "id": "de27d121",
      "metadata": {
        "id": "de27d121",
        "outputId": "128cc6ad-37cc-4ccc-e2b2-7e0b21955e5b"
      },
      "outputs": [
        {
          "data": {
            "text/plain": [
              "array([[[1, 2],\n",
              "        [3, 4]],\n",
              "\n",
              "       [[5, 6],\n",
              "        [7, 8]]])"
            ]
          },
          "execution_count": 16,
          "metadata": {},
          "output_type": "execute_result"
        }
      ],
      "source": [
        "a1 = np.array([[[1,2],[3,4]], [[5,6], [7,8]]])\n",
        "a1"
      ]
    },
    {
      "cell_type": "code",
      "execution_count": null,
      "id": "edf1bb80",
      "metadata": {
        "id": "edf1bb80",
        "outputId": "f5a90c53-57c3-41a1-9cf9-d6959d7c49c3"
      },
      "outputs": [
        {
          "data": {
            "text/plain": [
              "(2, 2, 2)"
            ]
          },
          "execution_count": 17,
          "metadata": {},
          "output_type": "execute_result"
        }
      ],
      "source": [
        "a1.shape"
      ]
    },
    {
      "cell_type": "code",
      "execution_count": null,
      "id": "d332ed1d",
      "metadata": {
        "id": "d332ed1d",
        "outputId": "c1509a78-b814-470b-ff55-9ccd8def5caf"
      },
      "outputs": [
        {
          "data": {
            "text/plain": [
              "3"
            ]
          },
          "execution_count": 18,
          "metadata": {},
          "output_type": "execute_result"
        }
      ],
      "source": [
        "a1.ndim"
      ]
    },
    {
      "cell_type": "code",
      "execution_count": null,
      "id": "947fe253",
      "metadata": {
        "id": "947fe253",
        "outputId": "efe415c2-1b94-45e6-ef44-03b0ebf9b90e"
      },
      "outputs": [
        {
          "data": {
            "text/plain": [
              "array([1., 2., 3., 4., 5.])"
            ]
          },
          "execution_count": 19,
          "metadata": {},
          "output_type": "execute_result"
        }
      ],
      "source": [
        "a = np.array([1,2,3,4,5], dtype = float)\n",
        "a"
      ]
    },
    {
      "cell_type": "code",
      "execution_count": null,
      "id": "994d3467",
      "metadata": {
        "id": "994d3467",
        "outputId": "bed36b6d-597b-4b0f-e36c-24594f088964"
      },
      "outputs": [
        {
          "data": {
            "text/plain": [
              "dtype('float64')"
            ]
          },
          "execution_count": 20,
          "metadata": {},
          "output_type": "execute_result"
        }
      ],
      "source": [
        "a.dtype"
      ]
    },
    {
      "cell_type": "code",
      "execution_count": null,
      "id": "2897ad65",
      "metadata": {
        "id": "2897ad65",
        "outputId": "9afb4e10-f9ef-4799-8009-f4f7b512559a"
      },
      "outputs": [
        {
          "data": {
            "text/plain": [
              "array([1, 2, 3, 4, 5])"
            ]
          },
          "execution_count": 21,
          "metadata": {},
          "output_type": "execute_result"
        }
      ],
      "source": [
        "a = np.array([1.5,2.6,3.1,4.8,5.2], dtype = int)\n",
        "a"
      ]
    },
    {
      "cell_type": "code",
      "execution_count": null,
      "id": "2d9f48a5",
      "metadata": {
        "id": "2d9f48a5",
        "outputId": "e524212a-65a3-4779-c3e6-d65b56feb301"
      },
      "outputs": [
        {
          "data": {
            "text/plain": [
              "dtype('int32')"
            ]
          },
          "execution_count": 22,
          "metadata": {},
          "output_type": "execute_result"
        }
      ],
      "source": [
        "a.dtype"
      ]
    },
    {
      "cell_type": "markdown",
      "id": "a19bafa4",
      "metadata": {
        "id": "a19bafa4"
      },
      "source": [
        "### Typecasting ndarrays"
      ]
    },
    {
      "cell_type": "code",
      "execution_count": null,
      "id": "bfd7f8ea",
      "metadata": {
        "id": "bfd7f8ea",
        "outputId": "b70d41de-5d81-4b1e-cbdd-bc8a8176e133"
      },
      "outputs": [
        {
          "data": {
            "text/plain": [
              "array([1, 2, 3, 4, 5])"
            ]
          },
          "execution_count": 20,
          "metadata": {},
          "output_type": "execute_result"
        }
      ],
      "source": [
        "a = np.array([1,2,3,4,5])\n",
        "a"
      ]
    },
    {
      "cell_type": "code",
      "execution_count": null,
      "id": "2c3b485a",
      "metadata": {
        "id": "2c3b485a",
        "outputId": "7e6a1634-12dd-41d2-ab3b-781231007bfe"
      },
      "outputs": [
        {
          "data": {
            "text/plain": [
              "array([1., 2., 3., 4., 5.])"
            ]
          },
          "execution_count": 23,
          "metadata": {},
          "output_type": "execute_result"
        }
      ],
      "source": [
        "a = a.astype(float)\n",
        "a"
      ]
    },
    {
      "cell_type": "code",
      "execution_count": null,
      "id": "1b37b7a0",
      "metadata": {
        "id": "1b37b7a0",
        "outputId": "54ee9cc9-e949-4ee1-b6a8-48bf2731f0db"
      },
      "outputs": [
        {
          "data": {
            "text/plain": [
              "array([1, 2, 3, 4, 5])"
            ]
          },
          "execution_count": 24,
          "metadata": {},
          "output_type": "execute_result"
        }
      ],
      "source": [
        "a = a.astype(int)\n",
        "a"
      ]
    },
    {
      "cell_type": "markdown",
      "id": "d65a4787",
      "metadata": {
        "id": "d65a4787"
      },
      "source": [
        "### Creating ndarrays by specifying a range"
      ]
    },
    {
      "cell_type": "code",
      "execution_count": null,
      "id": "5accb3c3",
      "metadata": {
        "id": "5accb3c3",
        "outputId": "c361fb7f-4877-43b4-9d92-8aa955f185e4"
      },
      "outputs": [
        {
          "data": {
            "text/plain": [
              "array([0, 1, 2, 3, 4, 5, 6, 7, 8, 9])"
            ]
          },
          "execution_count": 20,
          "metadata": {},
          "output_type": "execute_result"
        }
      ],
      "source": [
        "a1 = np.arange(0,10)\n",
        "a1"
      ]
    },
    {
      "cell_type": "code",
      "execution_count": null,
      "id": "931de951",
      "metadata": {
        "id": "931de951",
        "outputId": "bd90a59d-7446-40b5-d224-a97e0125dce9"
      },
      "outputs": [
        {
          "data": {
            "text/plain": [
              "array([ 0,  2,  4,  6,  8, 10, 12, 14, 16, 18, 20])"
            ]
          },
          "execution_count": 21,
          "metadata": {},
          "output_type": "execute_result"
        }
      ],
      "source": [
        "a1 = np.arange(0,21,2)\n",
        "a1"
      ]
    },
    {
      "cell_type": "code",
      "execution_count": null,
      "id": "e42e6e5c",
      "metadata": {
        "id": "e42e6e5c",
        "outputId": "c24f6c66-7765-4299-f72b-96aa8b6164c2"
      },
      "outputs": [
        {
          "data": {
            "text/plain": [
              "array([0, 1, 2, 3, 4, 5, 6, 7, 8, 9])"
            ]
          },
          "execution_count": 22,
          "metadata": {},
          "output_type": "execute_result"
        }
      ],
      "source": [
        "a1 = np.arange(10)       # (0,10,1)\n",
        "a1"
      ]
    },
    {
      "cell_type": "code",
      "execution_count": null,
      "id": "929265bb",
      "metadata": {
        "id": "929265bb",
        "outputId": "e6a7982c-076c-4f7d-b2c3-fe8203e745c1"
      },
      "outputs": [
        {
          "data": {
            "text/plain": [
              "array([0., 1., 2., 3., 4., 5., 6., 7., 8., 9.])"
            ]
          },
          "execution_count": 23,
          "metadata": {},
          "output_type": "execute_result"
        }
      ],
      "source": [
        "a1 = np.arange(10, dtype = float)\n",
        "a1"
      ]
    },
    {
      "cell_type": "markdown",
      "id": "f6faed38",
      "metadata": {
        "id": "f6faed38"
      },
      "source": [
        "### Creating ndarrays of ones"
      ]
    },
    {
      "cell_type": "code",
      "execution_count": null,
      "id": "0865c257",
      "metadata": {
        "id": "0865c257",
        "outputId": "b91ebdc8-2d3a-4066-cf6b-379f89f1bd33"
      },
      "outputs": [
        {
          "data": {
            "text/plain": [
              "array([[1., 1., 1., 1., 1.],\n",
              "       [1., 1., 1., 1., 1.],\n",
              "       [1., 1., 1., 1., 1.],\n",
              "       [1., 1., 1., 1., 1.],\n",
              "       [1., 1., 1., 1., 1.]])"
            ]
          },
          "execution_count": 26,
          "metadata": {},
          "output_type": "execute_result"
        }
      ],
      "source": [
        "np.ones((5,5))"
      ]
    },
    {
      "cell_type": "code",
      "execution_count": null,
      "id": "d2271a49",
      "metadata": {
        "id": "d2271a49",
        "outputId": "b0595fc3-94a6-4f82-8208-a668cd73abf6"
      },
      "outputs": [
        {
          "data": {
            "text/plain": [
              "array([[[1., 1., 1., 1.],\n",
              "        [1., 1., 1., 1.]],\n",
              "\n",
              "       [[1., 1., 1., 1.],\n",
              "        [1., 1., 1., 1.]],\n",
              "\n",
              "       [[1., 1., 1., 1.],\n",
              "        [1., 1., 1., 1.]]])"
            ]
          },
          "execution_count": 27,
          "metadata": {},
          "output_type": "execute_result"
        }
      ],
      "source": [
        "np.ones((3,2,4))"
      ]
    },
    {
      "cell_type": "code",
      "execution_count": null,
      "id": "a65193f3",
      "metadata": {
        "id": "a65193f3",
        "outputId": "616d28f6-5dc5-4d93-ea2b-4d0d28460b3b"
      },
      "outputs": [
        {
          "data": {
            "text/plain": [
              "array([[1, 1, 1, 1, 1],\n",
              "       [1, 1, 1, 1, 1],\n",
              "       [1, 1, 1, 1, 1],\n",
              "       [1, 1, 1, 1, 1],\n",
              "       [1, 1, 1, 1, 1]])"
            ]
          },
          "execution_count": 28,
          "metadata": {},
          "output_type": "execute_result"
        }
      ],
      "source": [
        "np.ones((5,5), dtype = int)"
      ]
    },
    {
      "cell_type": "markdown",
      "id": "184c418c",
      "metadata": {
        "id": "184c418c"
      },
      "source": [
        "### Creating ndarray of zeros"
      ]
    },
    {
      "cell_type": "code",
      "execution_count": null,
      "id": "ed7ce00e",
      "metadata": {
        "id": "ed7ce00e",
        "outputId": "2008041e-f2d3-4ff6-882c-6842a4f8ac5c"
      },
      "outputs": [
        {
          "data": {
            "text/plain": [
              "array([[0., 0., 0., 0.],\n",
              "       [0., 0., 0., 0.],\n",
              "       [0., 0., 0., 0.]])"
            ]
          },
          "execution_count": 26,
          "metadata": {},
          "output_type": "execute_result"
        }
      ],
      "source": [
        "np.zeros((3,4))"
      ]
    },
    {
      "cell_type": "markdown",
      "id": "559c9cc0",
      "metadata": {
        "id": "559c9cc0"
      },
      "source": [
        "### Creating ndarray of a specific value"
      ]
    },
    {
      "cell_type": "code",
      "execution_count": null,
      "id": "b31eb642",
      "metadata": {
        "id": "b31eb642",
        "outputId": "9b16b82a-eebb-4b79-c251-dee563913d36"
      },
      "outputs": [
        {
          "data": {
            "text/plain": [
              "array([[6, 6, 6, 6, 6],\n",
              "       [6, 6, 6, 6, 6],\n",
              "       [6, 6, 6, 6, 6],\n",
              "       [6, 6, 6, 6, 6]])"
            ]
          },
          "execution_count": 30,
          "metadata": {},
          "output_type": "execute_result"
        }
      ],
      "source": [
        "np.full((4,5), fill_value = 6)"
      ]
    },
    {
      "cell_type": "markdown",
      "id": "b5a1be10",
      "metadata": {
        "id": "b5a1be10"
      },
      "source": [
        "### Creating an identity matrix"
      ]
    },
    {
      "cell_type": "code",
      "execution_count": null,
      "id": "4632d45e",
      "metadata": {
        "id": "4632d45e",
        "outputId": "6857830a-8bc3-4646-ee44-dff9d251291f"
      },
      "outputs": [
        {
          "data": {
            "text/plain": [
              "array([[1., 0., 0.],\n",
              "       [0., 1., 0.],\n",
              "       [0., 0., 1.]])"
            ]
          },
          "execution_count": 29,
          "metadata": {},
          "output_type": "execute_result"
        }
      ],
      "source": [
        "np.eye(3)"
      ]
    },
    {
      "cell_type": "markdown",
      "id": "c64e365d",
      "metadata": {
        "id": "c64e365d"
      },
      "source": [
        "# --------------------------------------------------------------------------------------\n",
        "# Operations on ndarrays"
      ]
    },
    {
      "cell_type": "code",
      "execution_count": null,
      "id": "f39f1c9f",
      "metadata": {
        "id": "f39f1c9f",
        "outputId": "4e3170d5-a8f7-4403-975d-9008f3c2764d"
      },
      "outputs": [
        {
          "data": {
            "text/plain": [
              "array([1, 2, 3, 4, 5, 6])"
            ]
          },
          "execution_count": 30,
          "metadata": {},
          "output_type": "execute_result"
        }
      ],
      "source": [
        "a1 = np.array([1,2,3,4,5,6])\n",
        "a1"
      ]
    },
    {
      "cell_type": "code",
      "execution_count": null,
      "id": "3e6e9c18",
      "metadata": {
        "id": "3e6e9c18",
        "outputId": "af373012-4908-4539-8985-a78c7dd871d8"
      },
      "outputs": [
        {
          "ename": "TypeError",
          "evalue": "can only concatenate list (not \"int\") to list",
          "output_type": "error",
          "traceback": [
            "\u001b[1;31m---------------------------------------------------------------------------\u001b[0m",
            "\u001b[1;31mTypeError\u001b[0m                                 Traceback (most recent call last)",
            "\u001b[1;32m~\\AppData\\Local\\Temp/ipykernel_10040/79704895.py\u001b[0m in \u001b[0;36m<module>\u001b[1;34m\u001b[0m\n\u001b[0;32m      1\u001b[0m \u001b[1;31m# list\u001b[0m\u001b[1;33m\u001b[0m\u001b[1;33m\u001b[0m\u001b[0m\n\u001b[0;32m      2\u001b[0m \u001b[0ml\u001b[0m \u001b[1;33m=\u001b[0m \u001b[1;33m[\u001b[0m\u001b[1;36m1\u001b[0m\u001b[1;33m,\u001b[0m\u001b[1;36m2\u001b[0m\u001b[1;33m,\u001b[0m\u001b[1;36m3\u001b[0m\u001b[1;33m,\u001b[0m\u001b[1;36m4\u001b[0m\u001b[1;33m,\u001b[0m\u001b[1;36m5\u001b[0m\u001b[1;33m,\u001b[0m\u001b[1;36m6\u001b[0m\u001b[1;33m]\u001b[0m\u001b[1;33m\u001b[0m\u001b[1;33m\u001b[0m\u001b[0m\n\u001b[1;32m----> 3\u001b[1;33m \u001b[0ml\u001b[0m \u001b[1;33m+\u001b[0m \u001b[1;36m2\u001b[0m\u001b[1;33m\u001b[0m\u001b[1;33m\u001b[0m\u001b[0m\n\u001b[0m",
            "\u001b[1;31mTypeError\u001b[0m: can only concatenate list (not \"int\") to list"
          ]
        }
      ],
      "source": [
        "# list\n",
        "l = [1,2,3,4,5,6]\n",
        "l + 2"
      ]
    },
    {
      "cell_type": "code",
      "execution_count": null,
      "id": "c80ac025",
      "metadata": {
        "id": "c80ac025",
        "outputId": "0add247d-5a7b-4bda-8454-805f78229ede"
      },
      "outputs": [
        {
          "data": {
            "text/plain": [
              "array([3, 4, 5, 6, 7, 8])"
            ]
          },
          "execution_count": 34,
          "metadata": {},
          "output_type": "execute_result"
        }
      ],
      "source": [
        "a1 + 2"
      ]
    },
    {
      "cell_type": "code",
      "execution_count": null,
      "id": "592d45b4",
      "metadata": {
        "id": "592d45b4",
        "outputId": "c907833b-d786-4b3d-d18f-6ca8420879c7"
      },
      "outputs": [
        {
          "data": {
            "text/plain": [
              "[1, 2, 3, 4, 5, 6, 7, 8, 9, 9]"
            ]
          },
          "execution_count": 35,
          "metadata": {},
          "output_type": "execute_result"
        }
      ],
      "source": [
        "l1 = [1,2,3,4,5]\n",
        "l2 = [6,7,8,9,9]\n",
        "l1 + l2         # concatenation"
      ]
    },
    {
      "cell_type": "code",
      "execution_count": null,
      "id": "f933fa79",
      "metadata": {
        "id": "f933fa79"
      },
      "outputs": [],
      "source": [
        "a1 = np.array([1,2,3,4,5,6])\n",
        "a2 = np.array([4,5,6,7,8,9])"
      ]
    },
    {
      "cell_type": "code",
      "execution_count": null,
      "id": "75add5ce",
      "metadata": {
        "id": "75add5ce",
        "outputId": "e2a2b542-1af4-4b76-bca7-c3577a614863"
      },
      "outputs": [
        {
          "data": {
            "text/plain": [
              "array([ 5,  7,  9, 11, 13, 15])"
            ]
          },
          "execution_count": 39,
          "metadata": {},
          "output_type": "execute_result"
        }
      ],
      "source": [
        "a1 + a2"
      ]
    },
    {
      "cell_type": "code",
      "execution_count": null,
      "id": "235c4769",
      "metadata": {
        "id": "235c4769",
        "outputId": "7b9e7c85-1d2d-47e7-c0cd-953bd16e874f"
      },
      "outputs": [
        {
          "data": {
            "text/plain": [
              "array([ 3,  5,  7,  9, 11, 13])"
            ]
          },
          "execution_count": 35,
          "metadata": {},
          "output_type": "execute_result"
        }
      ],
      "source": [
        "a1 + [2,3,4,5,6,7]"
      ]
    },
    {
      "cell_type": "code",
      "execution_count": null,
      "id": "9d2b2438",
      "metadata": {
        "id": "9d2b2438",
        "outputId": "3b6118d1-c0a5-4dd2-8ab6-a6f3cc7fcafb"
      },
      "outputs": [
        {
          "data": {
            "text/plain": [
              "array([ 2,  4,  6,  8, 10, 12])"
            ]
          },
          "execution_count": 40,
          "metadata": {},
          "output_type": "execute_result"
        }
      ],
      "source": [
        "a1 * 2"
      ]
    },
    {
      "cell_type": "code",
      "execution_count": null,
      "id": "8466f03c",
      "metadata": {
        "id": "8466f03c",
        "outputId": "4c698711-851c-4321-aa90-9f0a2dc44ac4"
      },
      "outputs": [
        {
          "name": "stdout",
          "output_type": "stream",
          "text": [
            "[1 2 3 4 5 6]\n",
            "[4 5 6 7 8 9]\n"
          ]
        }
      ],
      "source": [
        "print(a1)\n",
        "print(a2)"
      ]
    },
    {
      "cell_type": "code",
      "execution_count": null,
      "id": "ec59a0ac",
      "metadata": {
        "id": "ec59a0ac",
        "outputId": "71989034-fa2f-439a-9210-051057987b13"
      },
      "outputs": [
        {
          "data": {
            "text/plain": [
              "array([ 4, 10, 18, 28, 40, 54])"
            ]
          },
          "execution_count": 42,
          "metadata": {},
          "output_type": "execute_result"
        }
      ],
      "source": [
        "a1 * a2"
      ]
    },
    {
      "cell_type": "code",
      "execution_count": null,
      "id": "8224ec6e",
      "metadata": {
        "id": "8224ec6e",
        "outputId": "1715eea6-804c-4630-ea3c-28982ad150b5"
      },
      "outputs": [
        {
          "data": {
            "text/plain": [
              "array([1., 2., 3., 4., 5.])"
            ]
          },
          "execution_count": 43,
          "metadata": {},
          "output_type": "execute_result"
        }
      ],
      "source": [
        "a1 = np.array([2,4,6,8,10])\n",
        "a1 / 2"
      ]
    },
    {
      "cell_type": "code",
      "execution_count": null,
      "id": "8ae890e4",
      "metadata": {
        "id": "8ae890e4",
        "outputId": "70a984be-f78c-46a5-bfa9-885126b78c06"
      },
      "outputs": [
        {
          "data": {
            "text/plain": [
              "array([1, 2, 3, 4, 5], dtype=int32)"
            ]
          },
          "execution_count": 44,
          "metadata": {},
          "output_type": "execute_result"
        }
      ],
      "source": [
        "a1 // 2"
      ]
    },
    {
      "cell_type": "code",
      "execution_count": null,
      "id": "4e6e2943",
      "metadata": {
        "id": "4e6e2943",
        "outputId": "6eb37f4e-da2e-434e-98d9-17b0adf28ddb"
      },
      "outputs": [
        {
          "data": {
            "text/plain": [
              "array([2, 1, 0, 2, 1], dtype=int32)"
            ]
          },
          "execution_count": 45,
          "metadata": {},
          "output_type": "execute_result"
        }
      ],
      "source": [
        "a1 % 3"
      ]
    },
    {
      "cell_type": "code",
      "execution_count": null,
      "id": "6e6ae6be",
      "metadata": {
        "id": "6e6ae6be",
        "outputId": "523ad96c-f8b9-43af-9e75-ee24427e26cd"
      },
      "outputs": [
        {
          "data": {
            "text/plain": [
              "array([  4,  16,  36,  64, 100])"
            ]
          },
          "execution_count": 46,
          "metadata": {},
          "output_type": "execute_result"
        }
      ],
      "source": [
        "a1 ** 2"
      ]
    },
    {
      "cell_type": "code",
      "execution_count": null,
      "id": "213977a7",
      "metadata": {
        "id": "213977a7",
        "outputId": "e694a65f-6786-41df-e338-8bd92de56b81"
      },
      "outputs": [
        {
          "data": {
            "text/plain": [
              "array([      4,      64,    1296,   32768, 1000000], dtype=int32)"
            ]
          },
          "execution_count": 51,
          "metadata": {},
          "output_type": "execute_result"
        }
      ],
      "source": [
        "a2 = np.array([2,3,4,5,6])\n",
        "a1 ** a2"
      ]
    },
    {
      "cell_type": "code",
      "execution_count": null,
      "id": "8a2c1cc1",
      "metadata": {
        "id": "8a2c1cc1",
        "outputId": "dd5e08ec-8563-465c-a775-fcb6a46815bc"
      },
      "outputs": [
        {
          "data": {
            "text/plain": [
              "array([ 2,  4,  6,  8, 10])"
            ]
          },
          "execution_count": 41,
          "metadata": {},
          "output_type": "execute_result"
        }
      ],
      "source": [
        "a1"
      ]
    },
    {
      "cell_type": "code",
      "execution_count": null,
      "id": "9d2e049a",
      "metadata": {
        "id": "9d2e049a",
        "outputId": "64a7dc34-7226-48fa-e4ff-c9edae5ed655"
      },
      "outputs": [
        {
          "data": {
            "text/plain": [
              "array([1.        , 0.5       , 0.33333333, 0.25      , 0.2       ])"
            ]
          },
          "execution_count": 52,
          "metadata": {},
          "output_type": "execute_result"
        }
      ],
      "source": [
        "2 / a1"
      ]
    },
    {
      "cell_type": "code",
      "execution_count": null,
      "id": "276ce36b",
      "metadata": {
        "id": "276ce36b",
        "outputId": "5184ca52-b740-4a98-f727-bf8ce11bc147"
      },
      "outputs": [
        {
          "ename": "TypeError",
          "evalue": "'<' not supported between instances of 'list' and 'int'",
          "output_type": "error",
          "traceback": [
            "\u001b[1;31m---------------------------------------------------------------------------\u001b[0m",
            "\u001b[1;31mTypeError\u001b[0m                                 Traceback (most recent call last)",
            "\u001b[1;32m~\\AppData\\Local\\Temp/ipykernel_10040/3975955830.py\u001b[0m in \u001b[0;36m<module>\u001b[1;34m\u001b[0m\n\u001b[0;32m      1\u001b[0m \u001b[0ml1\u001b[0m \u001b[1;33m=\u001b[0m \u001b[1;33m[\u001b[0m\u001b[1;36m1\u001b[0m\u001b[1;33m,\u001b[0m\u001b[1;36m2\u001b[0m\u001b[1;33m,\u001b[0m\u001b[1;36m3\u001b[0m\u001b[1;33m,\u001b[0m\u001b[1;36m4\u001b[0m\u001b[1;33m,\u001b[0m\u001b[1;36m5\u001b[0m\u001b[1;33m,\u001b[0m\u001b[1;36m6\u001b[0m\u001b[1;33m]\u001b[0m\u001b[1;33m\u001b[0m\u001b[1;33m\u001b[0m\u001b[0m\n\u001b[1;32m----> 2\u001b[1;33m \u001b[0ml1\u001b[0m \u001b[1;33m<\u001b[0m \u001b[1;36m4\u001b[0m\u001b[1;33m\u001b[0m\u001b[1;33m\u001b[0m\u001b[0m\n\u001b[0m",
            "\u001b[1;31mTypeError\u001b[0m: '<' not supported between instances of 'list' and 'int'"
          ]
        }
      ],
      "source": [
        "l1 = [1,2,3,4,5,6]\n",
        "l1 < 4"
      ]
    },
    {
      "cell_type": "code",
      "execution_count": null,
      "id": "f97975cd",
      "metadata": {
        "id": "f97975cd",
        "outputId": "5265ba99-31c7-4731-9bd3-a30b983b2367"
      },
      "outputs": [
        {
          "data": {
            "text/plain": [
              "array([ True,  True,  True, False, False, False])"
            ]
          },
          "execution_count": 52,
          "metadata": {},
          "output_type": "execute_result"
        }
      ],
      "source": [
        "a1 = np.array([1,2,3,4,5,6])\n",
        "a1 < 4"
      ]
    },
    {
      "cell_type": "code",
      "execution_count": null,
      "id": "81f91756",
      "metadata": {
        "id": "81f91756",
        "outputId": "b1bcbe46-83d8-4c41-df15-9adc0195b093"
      },
      "outputs": [
        {
          "data": {
            "text/plain": [
              "True"
            ]
          },
          "execution_count": 48,
          "metadata": {},
          "output_type": "execute_result"
        }
      ],
      "source": [
        "# list\n",
        "l1 = [5,1,4,5,3,6]\n",
        "l2 = [7,4,2,1,6,7]\n",
        "l1 < l2"
      ]
    },
    {
      "cell_type": "code",
      "execution_count": null,
      "id": "7311118b",
      "metadata": {
        "id": "7311118b"
      },
      "outputs": [],
      "source": [
        "a1 = np.array([2,1,4,5,3,6])\n",
        "a2 = np.array([3,4,2,1,6,7])"
      ]
    },
    {
      "cell_type": "code",
      "execution_count": null,
      "id": "8ae763c4",
      "metadata": {
        "id": "8ae763c4",
        "outputId": "f9f4812a-18fc-4eff-da3f-2367aa49dd38"
      },
      "outputs": [
        {
          "data": {
            "text/plain": [
              "array([ True,  True, False, False,  True,  True])"
            ]
          },
          "execution_count": 50,
          "metadata": {},
          "output_type": "execute_result"
        }
      ],
      "source": [
        "a1 < a2"
      ]
    },
    {
      "cell_type": "code",
      "execution_count": null,
      "id": "58a3e420",
      "metadata": {
        "id": "58a3e420",
        "outputId": "e0d5021d-c04c-45ac-9e44-17583ea8e50e"
      },
      "outputs": [
        {
          "data": {
            "text/plain": [
              "array([False, False,  True,  True, False, False])"
            ]
          },
          "execution_count": 51,
          "metadata": {},
          "output_type": "execute_result"
        }
      ],
      "source": [
        "a1 > a2"
      ]
    },
    {
      "cell_type": "code",
      "execution_count": null,
      "id": "ebbb7afc",
      "metadata": {
        "id": "ebbb7afc",
        "outputId": "8621553f-4b03-4922-c87e-000e7999b699"
      },
      "outputs": [
        {
          "data": {
            "text/plain": [
              "array([ True,  True, False, False,  True,  True])"
            ]
          },
          "execution_count": 52,
          "metadata": {},
          "output_type": "execute_result"
        }
      ],
      "source": [
        "a1 <= a2"
      ]
    },
    {
      "cell_type": "code",
      "execution_count": null,
      "id": "f006c6bc",
      "metadata": {
        "id": "f006c6bc",
        "outputId": "715129e5-7c16-4da0-b404-13bcc9a4d460"
      },
      "outputs": [
        {
          "data": {
            "text/plain": [
              "array([False, False, False, False, False, False])"
            ]
          },
          "execution_count": 53,
          "metadata": {},
          "output_type": "execute_result"
        }
      ],
      "source": [
        "a1 == a2"
      ]
    },
    {
      "cell_type": "code",
      "execution_count": null,
      "id": "667fc681",
      "metadata": {
        "id": "667fc681",
        "outputId": "6e5f9b74-4dd4-4ad2-de64-c14e5007cd7a"
      },
      "outputs": [
        {
          "ename": "ValueError",
          "evalue": "operands could not be broadcast together with shapes (5,) (6,) ",
          "output_type": "error",
          "traceback": [
            "\u001b[1;31m---------------------------------------------------------------------------\u001b[0m",
            "\u001b[1;31mValueError\u001b[0m                                Traceback (most recent call last)",
            "\u001b[1;32m~\\AppData\\Local\\Temp/ipykernel_10040/2352425448.py\u001b[0m in \u001b[0;36m<module>\u001b[1;34m\u001b[0m\n\u001b[0;32m      3\u001b[0m \u001b[0ma2\u001b[0m \u001b[1;33m=\u001b[0m \u001b[0mnp\u001b[0m\u001b[1;33m.\u001b[0m\u001b[0marray\u001b[0m\u001b[1;33m(\u001b[0m\u001b[1;33m[\u001b[0m\u001b[1;36m2\u001b[0m\u001b[1;33m,\u001b[0m\u001b[1;36m3\u001b[0m\u001b[1;33m,\u001b[0m\u001b[1;36m4\u001b[0m\u001b[1;33m,\u001b[0m\u001b[1;36m5\u001b[0m\u001b[1;33m,\u001b[0m\u001b[1;36m6\u001b[0m\u001b[1;33m,\u001b[0m\u001b[1;36m7\u001b[0m\u001b[1;33m]\u001b[0m\u001b[1;33m)\u001b[0m\u001b[1;33m\u001b[0m\u001b[1;33m\u001b[0m\u001b[0m\n\u001b[0;32m      4\u001b[0m \u001b[1;33m\u001b[0m\u001b[0m\n\u001b[1;32m----> 5\u001b[1;33m \u001b[0ma1\u001b[0m \u001b[1;33m+\u001b[0m \u001b[0ma2\u001b[0m\u001b[1;33m\u001b[0m\u001b[1;33m\u001b[0m\u001b[0m\n\u001b[0m",
            "\u001b[1;31mValueError\u001b[0m: operands could not be broadcast together with shapes (5,) (6,) "
          ]
        }
      ],
      "source": [
        "# Operation between two ndarrays is not possible if shapes are not same\n",
        "a1 = np.array([1,2,3,4,5])\n",
        "a2 = np.array([2,3,4,5,6,7])\n",
        "\n",
        "a1 + a2"
      ]
    },
    {
      "cell_type": "markdown",
      "id": "26ef4c45",
      "metadata": {
        "id": "26ef4c45"
      },
      "source": [
        "## Indexing and Slicing ndarrays"
      ]
    },
    {
      "cell_type": "code",
      "execution_count": null,
      "id": "c677352f",
      "metadata": {
        "id": "c677352f",
        "outputId": "2db55e25-c71f-44d5-a5cb-9afaea47ffea"
      },
      "outputs": [
        {
          "data": {
            "text/plain": [
              "array([11, 12, 13, 14, 15, 16, 17, 18, 19, 20])"
            ]
          },
          "execution_count": 58,
          "metadata": {},
          "output_type": "execute_result"
        }
      ],
      "source": [
        "a = np.arange(11,21)\n",
        "a"
      ]
    },
    {
      "cell_type": "code",
      "execution_count": null,
      "id": "3cbe5227",
      "metadata": {
        "id": "3cbe5227",
        "outputId": "a088341f-909c-4499-89bb-188817193e80"
      },
      "outputs": [
        {
          "data": {
            "text/plain": [
              "11"
            ]
          },
          "execution_count": 59,
          "metadata": {},
          "output_type": "execute_result"
        }
      ],
      "source": [
        "a[0]"
      ]
    },
    {
      "cell_type": "code",
      "execution_count": null,
      "id": "c653bb1c",
      "metadata": {
        "id": "c653bb1c",
        "outputId": "f7725865-63dc-44d6-f438-de8c2544ff4f"
      },
      "outputs": [
        {
          "data": {
            "text/plain": [
              "12"
            ]
          },
          "execution_count": 60,
          "metadata": {},
          "output_type": "execute_result"
        }
      ],
      "source": [
        "a[1]"
      ]
    },
    {
      "cell_type": "code",
      "execution_count": null,
      "id": "ca62ed75",
      "metadata": {
        "id": "ca62ed75",
        "outputId": "6bd38dea-3a9a-4d08-e2b4-1790d0e14fa1"
      },
      "outputs": [
        {
          "data": {
            "text/plain": [
              "17"
            ]
          },
          "execution_count": 61,
          "metadata": {},
          "output_type": "execute_result"
        }
      ],
      "source": [
        "a[6]"
      ]
    },
    {
      "cell_type": "code",
      "execution_count": null,
      "id": "c8f9af86",
      "metadata": {
        "id": "c8f9af86",
        "outputId": "8bd7621c-f2d1-477a-f05a-2c4178bfa261"
      },
      "outputs": [
        {
          "data": {
            "text/plain": [
              "20"
            ]
          },
          "execution_count": 62,
          "metadata": {},
          "output_type": "execute_result"
        }
      ],
      "source": [
        "a[-1]"
      ]
    },
    {
      "cell_type": "code",
      "execution_count": null,
      "id": "d12aaba9",
      "metadata": {
        "id": "d12aaba9",
        "outputId": "0194bbce-860c-4e1c-bbb0-64f6c8d27932"
      },
      "outputs": [
        {
          "data": {
            "text/plain": [
              "19"
            ]
          },
          "execution_count": 63,
          "metadata": {},
          "output_type": "execute_result"
        }
      ],
      "source": [
        "a[-2]"
      ]
    },
    {
      "cell_type": "code",
      "execution_count": null,
      "id": "45a2aecf",
      "metadata": {
        "id": "45a2aecf",
        "outputId": "15a02681-e256-48f4-b009-ce02525f8b1a"
      },
      "outputs": [
        {
          "data": {
            "text/plain": [
              "array([11, 12, 13, 14, 15, 16, 17, 18])"
            ]
          },
          "execution_count": 64,
          "metadata": {},
          "output_type": "execute_result"
        }
      ],
      "source": [
        "a[0:8]"
      ]
    },
    {
      "cell_type": "code",
      "execution_count": null,
      "id": "f8cc27c9",
      "metadata": {
        "id": "f8cc27c9",
        "outputId": "4fddb5b5-c58d-480a-8350-8c9e5adc3f6c"
      },
      "outputs": [
        {
          "data": {
            "text/plain": [
              "array([11, 12, 13, 14, 15, 16, 17, 18, 19, 20])"
            ]
          },
          "execution_count": 65,
          "metadata": {},
          "output_type": "execute_result"
        }
      ],
      "source": [
        "a[::]          # By default start = 0, end = len(a), step = 1"
      ]
    },
    {
      "cell_type": "code",
      "execution_count": null,
      "id": "427d369d",
      "metadata": {
        "id": "427d369d",
        "outputId": "92be5697-223c-47d1-d39b-f65482f57c8c"
      },
      "outputs": [
        {
          "data": {
            "text/plain": [
              "array([13, 14, 15, 16, 17])"
            ]
          },
          "execution_count": 66,
          "metadata": {},
          "output_type": "execute_result"
        }
      ],
      "source": [
        "a[-8:-3]"
      ]
    },
    {
      "cell_type": "code",
      "execution_count": null,
      "id": "811ab553",
      "metadata": {
        "id": "811ab553",
        "outputId": "7b1f2410-c329-422c-deb9-39b144c30f9e"
      },
      "outputs": [
        {
          "data": {
            "text/plain": [
              "array([20, 19, 18, 17, 16, 15, 14, 13, 12, 11])"
            ]
          },
          "execution_count": 67,
          "metadata": {},
          "output_type": "execute_result"
        }
      ],
      "source": [
        "a[::-1]"
      ]
    },
    {
      "cell_type": "markdown",
      "id": "5a7fcf10",
      "metadata": {
        "id": "5a7fcf10"
      },
      "source": [
        "## Reshape and Transpose"
      ]
    },
    {
      "cell_type": "code",
      "execution_count": null,
      "id": "693fd4ad",
      "metadata": {
        "id": "693fd4ad",
        "outputId": "f076a0e5-4b4d-4141-e410-eef9c01293b6"
      },
      "outputs": [
        {
          "data": {
            "text/plain": [
              "array([ 0,  1,  2,  3,  4,  5,  6,  7,  8,  9, 10, 11, 12, 13, 14, 15])"
            ]
          },
          "execution_count": 68,
          "metadata": {},
          "output_type": "execute_result"
        }
      ],
      "source": [
        "a = np.arange(16)\n",
        "a"
      ]
    },
    {
      "cell_type": "code",
      "execution_count": null,
      "id": "00679360",
      "metadata": {
        "id": "00679360",
        "outputId": "d39e0868-1f68-466c-8f8f-b274b10befd4"
      },
      "outputs": [
        {
          "data": {
            "text/plain": [
              "(16,)"
            ]
          },
          "execution_count": 69,
          "metadata": {},
          "output_type": "execute_result"
        }
      ],
      "source": [
        "a.shape"
      ]
    },
    {
      "cell_type": "code",
      "execution_count": null,
      "id": "5b5c06cc",
      "metadata": {
        "id": "5b5c06cc",
        "outputId": "798f5f59-8af3-49ca-d41b-aebf52e8e3a8"
      },
      "outputs": [
        {
          "data": {
            "text/plain": [
              "1"
            ]
          },
          "execution_count": 70,
          "metadata": {},
          "output_type": "execute_result"
        }
      ],
      "source": [
        "a.ndim"
      ]
    },
    {
      "cell_type": "code",
      "execution_count": null,
      "id": "b2e87f54",
      "metadata": {
        "id": "b2e87f54",
        "outputId": "1d36ffa6-f42c-4a4f-9bf4-334908b62d8f"
      },
      "outputs": [
        {
          "data": {
            "text/plain": [
              "array([[ 0],\n",
              "       [ 1],\n",
              "       [ 2],\n",
              "       [ 3],\n",
              "       [ 4],\n",
              "       [ 5],\n",
              "       [ 6],\n",
              "       [ 7],\n",
              "       [ 8],\n",
              "       [ 9],\n",
              "       [10],\n",
              "       [11],\n",
              "       [12],\n",
              "       [13],\n",
              "       [14],\n",
              "       [15]])"
            ]
          },
          "execution_count": 71,
          "metadata": {},
          "output_type": "execute_result"
        }
      ],
      "source": [
        "a = a.reshape((16,1))\n",
        "a"
      ]
    },
    {
      "cell_type": "code",
      "execution_count": null,
      "id": "bdb24952",
      "metadata": {
        "id": "bdb24952",
        "outputId": "becbbd44-a24b-4b42-dd6c-59cc43dfbd71"
      },
      "outputs": [
        {
          "data": {
            "text/plain": [
              "(16, 1)"
            ]
          },
          "execution_count": 72,
          "metadata": {},
          "output_type": "execute_result"
        }
      ],
      "source": [
        "a.shape"
      ]
    },
    {
      "cell_type": "code",
      "execution_count": null,
      "id": "f6cba212",
      "metadata": {
        "id": "f6cba212",
        "outputId": "d377ab5c-87fc-4bdb-f7d0-a330108ee38a"
      },
      "outputs": [
        {
          "data": {
            "text/plain": [
              "2"
            ]
          },
          "execution_count": 73,
          "metadata": {},
          "output_type": "execute_result"
        }
      ],
      "source": [
        "a.ndim"
      ]
    },
    {
      "cell_type": "code",
      "execution_count": null,
      "id": "fae44b4d",
      "metadata": {
        "id": "fae44b4d",
        "outputId": "99517238-ca68-4c5e-b2dc-214b3b86822b"
      },
      "outputs": [
        {
          "data": {
            "text/plain": [
              "array([[ 0,  1,  2,  3,  4,  5,  6,  7,  8,  9, 10, 11, 12, 13, 14, 15]])"
            ]
          },
          "execution_count": 74,
          "metadata": {},
          "output_type": "execute_result"
        }
      ],
      "source": [
        "a = a.reshape((1,16))\n",
        "a"
      ]
    },
    {
      "cell_type": "code",
      "execution_count": null,
      "id": "ab523a04",
      "metadata": {
        "id": "ab523a04",
        "outputId": "c02b8fa0-bdd7-42b8-b221-3af2a80d103b"
      },
      "outputs": [
        {
          "data": {
            "text/plain": [
              "(1, 16)"
            ]
          },
          "execution_count": 75,
          "metadata": {},
          "output_type": "execute_result"
        }
      ],
      "source": [
        "a.shape"
      ]
    },
    {
      "cell_type": "code",
      "execution_count": null,
      "id": "7e32c6c0",
      "metadata": {
        "id": "7e32c6c0",
        "outputId": "9522a6f7-8b7a-4852-fc29-cb26639fb4e0"
      },
      "outputs": [
        {
          "data": {
            "text/plain": [
              "2"
            ]
          },
          "execution_count": 76,
          "metadata": {},
          "output_type": "execute_result"
        }
      ],
      "source": [
        "a.ndim"
      ]
    },
    {
      "cell_type": "code",
      "execution_count": null,
      "id": "9696387d",
      "metadata": {
        "id": "9696387d",
        "outputId": "dc3cd765-8a48-4ab6-d79f-44b500274a9b"
      },
      "outputs": [
        {
          "data": {
            "text/plain": [
              "array([[ 0,  1,  2,  3],\n",
              "       [ 4,  5,  6,  7],\n",
              "       [ 8,  9, 10, 11],\n",
              "       [12, 13, 14, 15]])"
            ]
          },
          "execution_count": 77,
          "metadata": {},
          "output_type": "execute_result"
        }
      ],
      "source": [
        "a.reshape((4,4))"
      ]
    },
    {
      "cell_type": "code",
      "execution_count": null,
      "id": "dafe49de",
      "metadata": {
        "id": "dafe49de",
        "outputId": "0f23bc0f-6abd-4239-bea0-00cbc3d74997"
      },
      "outputs": [
        {
          "data": {
            "text/plain": [
              "array([[[ 0,  1,  2,  3],\n",
              "        [ 4,  5,  6,  7]],\n",
              "\n",
              "       [[ 8,  9, 10, 11],\n",
              "        [12, 13, 14, 15]]])"
            ]
          },
          "execution_count": 78,
          "metadata": {},
          "output_type": "execute_result"
        }
      ],
      "source": [
        "a.reshape((2,2,4))"
      ]
    },
    {
      "cell_type": "code",
      "execution_count": null,
      "id": "a7ae6071",
      "metadata": {
        "id": "a7ae6071",
        "outputId": "161ad5ae-b08e-4abb-a82c-4ef6264f8964"
      },
      "outputs": [
        {
          "name": "stdout",
          "output_type": "stream",
          "text": [
            "Total possible 2d shapes :  9\n"
          ]
        }
      ],
      "source": [
        "a = np.arange(36)\n",
        "a.reshape((1,36))\n",
        "a.reshape((2,18))\n",
        "a.reshape((3,12))\n",
        "a.reshape((4,9))\n",
        "a.reshape((6,6))\n",
        "a.reshape((9,4))\n",
        "a.reshape((12,3))\n",
        "a.reshape((18,2))\n",
        "a.reshape((36,1))\n",
        "print('Total possible 2d shapes : ', 9)"
      ]
    },
    {
      "cell_type": "code",
      "execution_count": null,
      "id": "1dca10b3",
      "metadata": {
        "id": "1dca10b3",
        "outputId": "f3390f8e-0e0e-4762-fd41-2850be4c8b4f"
      },
      "outputs": [
        {
          "data": {
            "text/plain": [
              "array([[ 0,  1,  2,  3],\n",
              "       [ 4,  5,  6,  7],\n",
              "       [ 8,  9, 10, 11],\n",
              "       [12, 13, 14, 15]])"
            ]
          },
          "execution_count": 80,
          "metadata": {},
          "output_type": "execute_result"
        }
      ],
      "source": [
        "a = np.arange(16).reshape((4,4))\n",
        "a"
      ]
    },
    {
      "cell_type": "code",
      "execution_count": null,
      "id": "52ae59d0",
      "metadata": {
        "id": "52ae59d0",
        "outputId": "89ea7194-3850-4727-a7a9-58b3326daf26"
      },
      "outputs": [
        {
          "data": {
            "text/plain": [
              "array([[ 0,  4,  8, 12],\n",
              "       [ 1,  5,  9, 13],\n",
              "       [ 2,  6, 10, 14],\n",
              "       [ 3,  7, 11, 15]])"
            ]
          },
          "execution_count": 81,
          "metadata": {},
          "output_type": "execute_result"
        }
      ],
      "source": [
        "a.T"
      ]
    },
    {
      "cell_type": "markdown",
      "id": "2ea09b5b",
      "metadata": {
        "id": "2ea09b5b"
      },
      "source": [
        "# ----------------------------------------------------------------------------------"
      ]
    },
    {
      "cell_type": "markdown",
      "id": "576dfd6d",
      "metadata": {
        "id": "576dfd6d"
      },
      "source": [
        "# Functions"
      ]
    },
    {
      "cell_type": "code",
      "execution_count": null,
      "id": "370b3d64",
      "metadata": {
        "id": "370b3d64",
        "outputId": "ab4d6709-dfef-4575-eea5-3e72799dfa6f"
      },
      "outputs": [
        {
          "data": {
            "text/plain": [
              "array([2, 4, 3, 6, 5, 8, 7, 9, 1, 0])"
            ]
          },
          "execution_count": 3,
          "metadata": {},
          "output_type": "execute_result"
        }
      ],
      "source": [
        "a = np.array([2,4,3,6,5,8,7,9,1,0])\n",
        "a"
      ]
    },
    {
      "cell_type": "code",
      "execution_count": null,
      "id": "210b04b8",
      "metadata": {
        "id": "210b04b8",
        "outputId": "2513b9c4-42ea-44d4-af35-ad8840aa3cd0"
      },
      "outputs": [
        {
          "data": {
            "text/plain": [
              "array([0, 1, 2, 3, 4, 5, 6, 7, 8, 9])"
            ]
          },
          "execution_count": 4,
          "metadata": {},
          "output_type": "execute_result"
        }
      ],
      "source": [
        "a.sort()\n",
        "a"
      ]
    },
    {
      "cell_type": "code",
      "execution_count": null,
      "id": "2900e4f7",
      "metadata": {
        "id": "2900e4f7",
        "outputId": "19b1c546-03b1-477c-d112-45279012111f"
      },
      "outputs": [
        {
          "data": {
            "text/plain": [
              "array([ 0,  1,  4,  9, 16, 25, 36, 49, 64, 81])"
            ]
          },
          "execution_count": 5,
          "metadata": {},
          "output_type": "execute_result"
        }
      ],
      "source": [
        "s = np.square(a)\n",
        "s"
      ]
    },
    {
      "cell_type": "code",
      "execution_count": null,
      "id": "ddd2b6d2",
      "metadata": {
        "id": "ddd2b6d2",
        "outputId": "af0de579-60a7-4d29-de71-a3dab0ea1893"
      },
      "outputs": [
        {
          "data": {
            "text/plain": [
              "array([0., 1., 2., 3., 4., 5., 6., 7., 8., 9.])"
            ]
          },
          "execution_count": 6,
          "metadata": {},
          "output_type": "execute_result"
        }
      ],
      "source": [
        "np.sqrt(s)"
      ]
    },
    {
      "cell_type": "code",
      "execution_count": null,
      "id": "baca7100",
      "metadata": {
        "id": "baca7100",
        "outputId": "8c531895-79d7-495e-b68d-42fc3b7dca37"
      },
      "outputs": [
        {
          "data": {
            "text/plain": [
              "array([2., 3., 4.])"
            ]
          },
          "execution_count": 7,
          "metadata": {},
          "output_type": "execute_result"
        }
      ],
      "source": [
        "a = np.array([8,27,64])\n",
        "np.cbrt(a)"
      ]
    },
    {
      "cell_type": "code",
      "execution_count": null,
      "id": "2dff2db0",
      "metadata": {
        "id": "2dff2db0",
        "outputId": "a94cd102-61b2-4ee1-d164-3844939996cb"
      },
      "outputs": [
        {
          "data": {
            "text/plain": [
              "array([1, 2, 3, 5, 6, 2, 6])"
            ]
          },
          "execution_count": 8,
          "metadata": {},
          "output_type": "execute_result"
        }
      ],
      "source": [
        "np.abs([-1,2,3,-5,-6,-2,6])"
      ]
    },
    {
      "cell_type": "code",
      "execution_count": null,
      "id": "a5eda266",
      "metadata": {
        "id": "a5eda266",
        "outputId": "4057097b-e919-43d4-8d76-749eac20546e"
      },
      "outputs": [
        {
          "data": {
            "text/plain": [
              "array([5, 7, 9])"
            ]
          },
          "execution_count": 9,
          "metadata": {},
          "output_type": "execute_result"
        }
      ],
      "source": [
        "np.add([1,2,3],[4,5,6])"
      ]
    },
    {
      "cell_type": "code",
      "execution_count": null,
      "id": "e27643e9",
      "metadata": {
        "id": "e27643e9",
        "outputId": "9128a57a-f8a1-4581-d3ff-c9804d93fbbd"
      },
      "outputs": [
        {
          "data": {
            "text/plain": [
              "array([3, 3, 3])"
            ]
          },
          "execution_count": 10,
          "metadata": {},
          "output_type": "execute_result"
        }
      ],
      "source": [
        "np.subtract([4,5,6],[1,2,3])"
      ]
    },
    {
      "cell_type": "code",
      "execution_count": null,
      "id": "44d92db2",
      "metadata": {
        "id": "44d92db2",
        "outputId": "1c34053e-3fdd-4860-8419-41a4ac8cfd05"
      },
      "outputs": [
        {
          "data": {
            "text/plain": [
              "array([ 2,  6, 12])"
            ]
          },
          "execution_count": 11,
          "metadata": {},
          "output_type": "execute_result"
        }
      ],
      "source": [
        "np.multiply([1,2,3],[2,3,4])"
      ]
    },
    {
      "cell_type": "code",
      "execution_count": null,
      "id": "bb2a0af0",
      "metadata": {
        "id": "bb2a0af0"
      },
      "outputs": [],
      "source": [
        "a1 = np.array([2,1,4,5,3,6])\n",
        "a2 = np.array([3,4,2,1,6,5])"
      ]
    },
    {
      "cell_type": "code",
      "execution_count": null,
      "id": "960b547b",
      "metadata": {
        "id": "960b547b",
        "outputId": "f28f2d15-c468-4a93-980f-e74d5c331397"
      },
      "outputs": [
        {
          "data": {
            "text/plain": [
              "array([3, 4, 4, 5, 6, 6])"
            ]
          },
          "execution_count": 13,
          "metadata": {},
          "output_type": "execute_result"
        }
      ],
      "source": [
        "np.maximum(a1,a2)"
      ]
    },
    {
      "cell_type": "code",
      "execution_count": null,
      "id": "075bac58",
      "metadata": {
        "id": "075bac58",
        "outputId": "c0fc05e1-1b1c-4e24-84a7-71f66cffff98"
      },
      "outputs": [
        {
          "data": {
            "text/plain": [
              "array([2, 1, 2, 1, 3, 5])"
            ]
          },
          "execution_count": 14,
          "metadata": {},
          "output_type": "execute_result"
        }
      ],
      "source": [
        "np.minimum(a1,a2)"
      ]
    },
    {
      "cell_type": "code",
      "execution_count": null,
      "id": "fc0e683d",
      "metadata": {
        "id": "fc0e683d",
        "outputId": "cbf71963-b9a0-4186-cf74-58b67556d73b"
      },
      "outputs": [
        {
          "data": {
            "text/plain": [
              "array([False, False,  True,  True, False,  True])"
            ]
          },
          "execution_count": 15,
          "metadata": {},
          "output_type": "execute_result"
        }
      ],
      "source": [
        "np.greater(a1,a2)"
      ]
    },
    {
      "cell_type": "code",
      "execution_count": null,
      "id": "a0e7ee9a",
      "metadata": {
        "id": "a0e7ee9a",
        "outputId": "8e4a578e-d346-4064-b99a-8677352f3cef"
      },
      "outputs": [
        {
          "data": {
            "text/plain": [
              "array([ True,  True, False, False,  True, False])"
            ]
          },
          "execution_count": 16,
          "metadata": {},
          "output_type": "execute_result"
        }
      ],
      "source": [
        "np.less(a1,a2)"
      ]
    },
    {
      "cell_type": "code",
      "execution_count": null,
      "id": "41231386",
      "metadata": {
        "id": "41231386",
        "outputId": "d99a0eba-8afa-4e7c-99ac-4f0dc3737b92"
      },
      "outputs": [
        {
          "data": {
            "text/plain": [
              "array([ 0,  1,  2,  3,  4,  5,  6,  7,  8,  9, 10, 11, 12, 13, 14, 15, 16,\n",
              "       17, 18, 19, 20])"
            ]
          },
          "execution_count": 21,
          "metadata": {},
          "output_type": "execute_result"
        }
      ],
      "source": [
        "a1 = np.arange(21)\n",
        "a1"
      ]
    },
    {
      "cell_type": "code",
      "execution_count": null,
      "id": "68cc3f56",
      "metadata": {
        "id": "68cc3f56",
        "outputId": "df08657f-1425-4b60-dc3d-b27cd0ca54b8"
      },
      "outputs": [
        {
          "data": {
            "text/plain": [
              "5.0"
            ]
          },
          "execution_count": 22,
          "metadata": {},
          "output_type": "execute_result"
        }
      ],
      "source": [
        "np.mean([1,2,3,4,5,6,7,8,9])"
      ]
    },
    {
      "cell_type": "code",
      "execution_count": null,
      "id": "721548be",
      "metadata": {
        "id": "721548be",
        "outputId": "360517c3-2370-49c1-de8f-c84c3d1f1508"
      },
      "outputs": [
        {
          "data": {
            "text/plain": [
              "6.666666666666667"
            ]
          },
          "execution_count": 23,
          "metadata": {},
          "output_type": "execute_result"
        }
      ],
      "source": [
        "np.var([1,2,3,4,5,6,7,8,9])"
      ]
    },
    {
      "cell_type": "code",
      "execution_count": null,
      "id": "e86cd22f",
      "metadata": {
        "id": "e86cd22f",
        "outputId": "0166ebfc-764e-48f8-8d01-d62b974a4b88"
      },
      "outputs": [
        {
          "data": {
            "text/plain": [
              "2.581988897471611"
            ]
          },
          "execution_count": 24,
          "metadata": {},
          "output_type": "execute_result"
        }
      ],
      "source": [
        "np.std([1,2,3,4,5,6,7,8,9])"
      ]
    },
    {
      "cell_type": "code",
      "execution_count": null,
      "id": "42a97f0a",
      "metadata": {
        "id": "42a97f0a",
        "outputId": "5cb94c7d-ef18-405f-fd6d-2cb3fc2f2544"
      },
      "outputs": [
        {
          "data": {
            "text/plain": [
              "10.0"
            ]
          },
          "execution_count": 25,
          "metadata": {},
          "output_type": "execute_result"
        }
      ],
      "source": [
        "np.median(a1)"
      ]
    },
    {
      "cell_type": "code",
      "execution_count": null,
      "id": "02efe84b",
      "metadata": {
        "id": "02efe84b",
        "outputId": "ab2b114a-282e-4245-bb0f-ef015e123eee"
      },
      "outputs": [
        {
          "data": {
            "text/plain": [
              "10.0"
            ]
          },
          "execution_count": 26,
          "metadata": {},
          "output_type": "execute_result"
        }
      ],
      "source": [
        "a1.mean()"
      ]
    },
    {
      "cell_type": "code",
      "execution_count": null,
      "id": "036fb37d",
      "metadata": {
        "id": "036fb37d",
        "outputId": "9f16aad9-b152-4ab6-e48b-ae112b1aa57f"
      },
      "outputs": [
        {
          "data": {
            "text/plain": [
              "36.666666666666664"
            ]
          },
          "execution_count": 27,
          "metadata": {},
          "output_type": "execute_result"
        }
      ],
      "source": [
        "a1.var()"
      ]
    },
    {
      "cell_type": "code",
      "execution_count": null,
      "id": "c5b14ccf",
      "metadata": {
        "id": "c5b14ccf",
        "outputId": "0217a113-4e03-4ae6-d57d-4cfd4f8a0267"
      },
      "outputs": [
        {
          "data": {
            "text/plain": [
              "6.0553007081949835"
            ]
          },
          "execution_count": 28,
          "metadata": {},
          "output_type": "execute_result"
        }
      ],
      "source": [
        "a1.std()"
      ]
    },
    {
      "cell_type": "code",
      "execution_count": null,
      "id": "4418604c",
      "metadata": {
        "id": "4418604c",
        "outputId": "54207be5-b9aa-4428-bc05-62d37923a453"
      },
      "outputs": [
        {
          "data": {
            "text/plain": [
              "array([ 1,  2,  3,  4,  5,  6,  7,  8,  9, 10])"
            ]
          },
          "execution_count": 29,
          "metadata": {},
          "output_type": "execute_result"
        }
      ],
      "source": [
        "a = np.arange(1,11)\n",
        "a"
      ]
    },
    {
      "cell_type": "code",
      "execution_count": null,
      "id": "7aa2041e",
      "metadata": {
        "id": "7aa2041e",
        "outputId": "9991ff23-80dc-4ced-fce7-cd5a86ba7ec2"
      },
      "outputs": [
        {
          "data": {
            "text/plain": [
              "array([ 1,  3,  6, 10, 15, 21, 28, 36, 45, 55], dtype=int32)"
            ]
          },
          "execution_count": 98,
          "metadata": {},
          "output_type": "execute_result"
        }
      ],
      "source": [
        "a.cumsum()"
      ]
    },
    {
      "cell_type": "code",
      "execution_count": null,
      "id": "fae0b1e0",
      "metadata": {
        "id": "fae0b1e0",
        "outputId": "03728dd2-3a6d-4c97-b43b-39f6a2bb2561"
      },
      "outputs": [
        {
          "data": {
            "text/plain": [
              "array([      1,       2,       6,      24,     120,     720,    5040,\n",
              "         40320,  362880, 3628800], dtype=int32)"
            ]
          },
          "execution_count": 22,
          "metadata": {},
          "output_type": "execute_result"
        }
      ],
      "source": [
        "a.cumprod()"
      ]
    },
    {
      "cell_type": "code",
      "execution_count": null,
      "id": "7260d6f4",
      "metadata": {
        "id": "7260d6f4",
        "outputId": "248d6e4d-eed7-43a5-eccb-c1d21cecd87b"
      },
      "outputs": [
        {
          "data": {
            "text/plain": [
              "1"
            ]
          },
          "execution_count": 30,
          "metadata": {},
          "output_type": "execute_result"
        }
      ],
      "source": [
        "a.min()"
      ]
    },
    {
      "cell_type": "code",
      "execution_count": null,
      "id": "a680529c",
      "metadata": {
        "id": "a680529c",
        "outputId": "c1a81228-be3f-4ffb-aaf9-6b535bb39129"
      },
      "outputs": [
        {
          "data": {
            "text/plain": [
              "10"
            ]
          },
          "execution_count": 31,
          "metadata": {},
          "output_type": "execute_result"
        }
      ],
      "source": [
        "a.max()"
      ]
    },
    {
      "cell_type": "code",
      "execution_count": null,
      "id": "b656c403",
      "metadata": {
        "id": "b656c403",
        "outputId": "5bfc0d08-9c24-430f-ca2a-de75eea520aa"
      },
      "outputs": [
        {
          "data": {
            "text/plain": [
              "55"
            ]
          },
          "execution_count": 32,
          "metadata": {},
          "output_type": "execute_result"
        }
      ],
      "source": [
        "a.sum()"
      ]
    },
    {
      "cell_type": "code",
      "execution_count": null,
      "id": "1e8e893f",
      "metadata": {
        "id": "1e8e893f",
        "outputId": "f44109db-54b8-4524-9e5b-2fa381892031"
      },
      "outputs": [
        {
          "data": {
            "text/plain": [
              "array([[ 0,  1,  2,  3,  4,  5,  6,  7],\n",
              "       [ 8,  9, 10, 11, 12, 13, 14, 15],\n",
              "       [16, 17, 18, 19, 20, 21, 22, 23],\n",
              "       [24, 25, 26, 27, 28, 29, 30, 31],\n",
              "       [32, 33, 34, 35, 36, 37, 38, 39],\n",
              "       [40, 41, 42, 43, 44, 45, 46, 47],\n",
              "       [48, 49, 50, 51, 52, 53, 54, 55],\n",
              "       [56, 57, 58, 59, 60, 61, 62, 63]])"
            ]
          },
          "execution_count": 33,
          "metadata": {},
          "output_type": "execute_result"
        }
      ],
      "source": [
        "a = np.arange(64).reshape(8,8)\n",
        "a"
      ]
    },
    {
      "cell_type": "code",
      "execution_count": null,
      "id": "3b41dd9d",
      "metadata": {
        "id": "3b41dd9d",
        "outputId": "3bb04b14-79a7-4217-864e-de230694b21d"
      },
      "outputs": [
        {
          "data": {
            "text/plain": [
              "(8, 8)"
            ]
          },
          "execution_count": 34,
          "metadata": {},
          "output_type": "execute_result"
        }
      ],
      "source": [
        "a.shape"
      ]
    },
    {
      "cell_type": "code",
      "execution_count": null,
      "id": "60d43055",
      "metadata": {
        "id": "60d43055",
        "outputId": "8fbe7bc1-76ca-4768-a851-1a63c6b80f5b"
      },
      "outputs": [
        {
          "data": {
            "text/plain": [
              "31.5"
            ]
          },
          "execution_count": 35,
          "metadata": {},
          "output_type": "execute_result"
        }
      ],
      "source": [
        "a.mean()"
      ]
    },
    {
      "cell_type": "code",
      "execution_count": null,
      "id": "b4c5cc4e",
      "metadata": {
        "id": "b4c5cc4e",
        "outputId": "0d2c84b6-417b-4f4b-8fbc-b96cabbdaa57"
      },
      "outputs": [
        {
          "data": {
            "text/plain": [
              "array([28., 29., 30., 31., 32., 33., 34., 35.])"
            ]
          },
          "execution_count": 36,
          "metadata": {},
          "output_type": "execute_result"
        }
      ],
      "source": [
        "a.mean(axis = 0)"
      ]
    },
    {
      "cell_type": "code",
      "execution_count": null,
      "id": "f5db6a3c",
      "metadata": {
        "id": "f5db6a3c",
        "outputId": "1321e84f-56d7-4fb1-a60b-2d70859e11f0"
      },
      "outputs": [
        {
          "data": {
            "text/plain": [
              "array([ 3.5, 11.5, 19.5, 27.5, 35.5, 43.5, 51.5, 59.5])"
            ]
          },
          "execution_count": 37,
          "metadata": {},
          "output_type": "execute_result"
        }
      ],
      "source": [
        "a.mean(axis = 1)"
      ]
    },
    {
      "cell_type": "code",
      "execution_count": null,
      "id": "96baaa7a",
      "metadata": {
        "id": "96baaa7a",
        "outputId": "98b25a2a-4683-46df-81f4-200fbc1d1842"
      },
      "outputs": [
        {
          "data": {
            "text/plain": [
              "18.472953201911167"
            ]
          },
          "execution_count": 38,
          "metadata": {},
          "output_type": "execute_result"
        }
      ],
      "source": [
        "a.std()"
      ]
    },
    {
      "cell_type": "code",
      "execution_count": null,
      "id": "a5e64af2",
      "metadata": {
        "id": "a5e64af2",
        "outputId": "ff019f9c-4eb8-4c66-a3bf-3514fde5af0d"
      },
      "outputs": [
        {
          "data": {
            "text/plain": [
              "array([18.33030278, 18.33030278, 18.33030278, 18.33030278, 18.33030278,\n",
              "       18.33030278, 18.33030278, 18.33030278])"
            ]
          },
          "execution_count": 39,
          "metadata": {},
          "output_type": "execute_result"
        }
      ],
      "source": [
        "a.std(axis = 0)"
      ]
    },
    {
      "cell_type": "code",
      "execution_count": null,
      "id": "2e44f90b",
      "metadata": {
        "id": "2e44f90b",
        "outputId": "de433cdc-e616-4f51-d84e-c4bc7500fe42"
      },
      "outputs": [
        {
          "data": {
            "text/plain": [
              "array([2.29128785, 2.29128785, 2.29128785, 2.29128785, 2.29128785,\n",
              "       2.29128785, 2.29128785, 2.29128785])"
            ]
          },
          "execution_count": 40,
          "metadata": {},
          "output_type": "execute_result"
        }
      ],
      "source": [
        "a.std(axis = 1)"
      ]
    },
    {
      "cell_type": "code",
      "execution_count": null,
      "id": "fbefba36",
      "metadata": {
        "id": "fbefba36",
        "outputId": "1ef71b37-71d1-45e8-c360-286c8e5d9875"
      },
      "outputs": [
        {
          "data": {
            "text/plain": [
              "63"
            ]
          },
          "execution_count": 41,
          "metadata": {},
          "output_type": "execute_result"
        }
      ],
      "source": [
        "a.max()"
      ]
    },
    {
      "cell_type": "code",
      "execution_count": null,
      "id": "fbfbc6c1",
      "metadata": {
        "id": "fbfbc6c1",
        "outputId": "9432ba21-e94f-44a2-a727-1038eef9b1c5"
      },
      "outputs": [
        {
          "data": {
            "text/plain": [
              "array([56, 57, 58, 59, 60, 61, 62, 63])"
            ]
          },
          "execution_count": 42,
          "metadata": {},
          "output_type": "execute_result"
        }
      ],
      "source": [
        "a.max(axis = 0)"
      ]
    },
    {
      "cell_type": "code",
      "execution_count": null,
      "id": "fda4526e",
      "metadata": {
        "id": "fda4526e",
        "outputId": "d9cb5ff0-7341-45d1-faf8-d2af70a7f379"
      },
      "outputs": [
        {
          "data": {
            "text/plain": [
              "array([ 7, 15, 23, 31, 39, 47, 55, 63])"
            ]
          },
          "execution_count": 43,
          "metadata": {},
          "output_type": "execute_result"
        }
      ],
      "source": [
        "a.max(axis = 1)"
      ]
    },
    {
      "cell_type": "code",
      "execution_count": null,
      "id": "967a3fa2",
      "metadata": {
        "id": "967a3fa2",
        "outputId": "ad58b2f7-aa35-4a9e-e802-c5eaa89b538a"
      },
      "outputs": [
        {
          "data": {
            "text/plain": [
              "27.5"
            ]
          },
          "execution_count": 45,
          "metadata": {},
          "output_type": "execute_result"
        }
      ],
      "source": [
        "# For a specific row\n",
        "a[3].mean()"
      ]
    },
    {
      "cell_type": "code",
      "execution_count": null,
      "id": "90b0974d",
      "metadata": {
        "id": "90b0974d",
        "outputId": "4b62cb70-de1f-4d31-c9b6-0ad396b5ab1b"
      },
      "outputs": [
        {
          "data": {
            "text/plain": [
              "28.0"
            ]
          },
          "execution_count": 47,
          "metadata": {},
          "output_type": "execute_result"
        }
      ],
      "source": [
        "# For a specific column\n",
        "a[:,0].mean()"
      ]
    },
    {
      "cell_type": "code",
      "execution_count": null,
      "id": "417193a0",
      "metadata": {
        "id": "417193a0",
        "outputId": "b672e3b6-4fc2-412d-f4dc-841ba6d2b7e6"
      },
      "outputs": [
        {
          "data": {
            "text/plain": [
              "array([10, 30, 80, 20, 40])"
            ]
          },
          "execution_count": 48,
          "metadata": {},
          "output_type": "execute_result"
        }
      ],
      "source": [
        "x = np.array([10,30,80,20,40])\n",
        "x"
      ]
    },
    {
      "cell_type": "code",
      "execution_count": null,
      "id": "9cc43061",
      "metadata": {
        "id": "9cc43061",
        "outputId": "5fda44e5-7d99-41d9-ce5e-f90192959a41"
      },
      "outputs": [
        {
          "data": {
            "text/plain": [
              "2"
            ]
          },
          "execution_count": 49,
          "metadata": {},
          "output_type": "execute_result"
        }
      ],
      "source": [
        "np.argmax(x)"
      ]
    },
    {
      "cell_type": "code",
      "execution_count": null,
      "id": "39d83d52",
      "metadata": {
        "id": "39d83d52",
        "outputId": "e33bf62a-a013-4bb9-b5de-541ca45ee89c"
      },
      "outputs": [
        {
          "data": {
            "text/plain": [
              "0"
            ]
          },
          "execution_count": 50,
          "metadata": {},
          "output_type": "execute_result"
        }
      ],
      "source": [
        "np.argmin(x)"
      ]
    },
    {
      "cell_type": "code",
      "execution_count": null,
      "id": "374f99c7",
      "metadata": {
        "id": "374f99c7",
        "outputId": "b3915aa1-139a-45f3-e300-6d3039c88002"
      },
      "outputs": [
        {
          "data": {
            "text/plain": [
              "array([[ 2,  1,  5,  4],\n",
              "       [ 3,  5,  6,  7],\n",
              "       [ 3, 10,  2,  3]])"
            ]
          },
          "execution_count": 51,
          "metadata": {},
          "output_type": "execute_result"
        }
      ],
      "source": [
        "a1 = np.array([2,1,5,4,3,5,6,7,3,10,2,3]).reshape(3,4)\n",
        "a1"
      ]
    },
    {
      "cell_type": "code",
      "execution_count": null,
      "id": "c4f7a7c0",
      "metadata": {
        "id": "c4f7a7c0",
        "outputId": "6bfbcfd2-7528-4382-b419-63971e47022b"
      },
      "outputs": [
        {
          "data": {
            "text/plain": [
              "9"
            ]
          },
          "execution_count": 52,
          "metadata": {},
          "output_type": "execute_result"
        }
      ],
      "source": [
        "np.argmax(a1)"
      ]
    },
    {
      "cell_type": "code",
      "execution_count": null,
      "id": "751f052e",
      "metadata": {
        "id": "751f052e",
        "outputId": "2c1c7dd8-621c-48e4-e807-2d0f229a05ee"
      },
      "outputs": [
        {
          "data": {
            "text/plain": [
              "array([1, 2, 1, 1], dtype=int64)"
            ]
          },
          "execution_count": 53,
          "metadata": {},
          "output_type": "execute_result"
        }
      ],
      "source": [
        "np.argmax(a1, axis = 0)"
      ]
    },
    {
      "cell_type": "code",
      "execution_count": null,
      "id": "35428bdd",
      "metadata": {
        "id": "35428bdd",
        "outputId": "d70c8e8e-ef2c-4dee-9a39-bdc01fa79246"
      },
      "outputs": [
        {
          "data": {
            "text/plain": [
              "array([2, 3, 1], dtype=int64)"
            ]
          },
          "execution_count": 54,
          "metadata": {},
          "output_type": "execute_result"
        }
      ],
      "source": [
        "np.argmax(a1, axis = 1)"
      ]
    },
    {
      "cell_type": "code",
      "execution_count": null,
      "id": "af54c2e7",
      "metadata": {
        "id": "af54c2e7",
        "outputId": "d5953298-abdb-452a-9112-f5ab9076dea7"
      },
      "outputs": [
        {
          "data": {
            "text/plain": [
              "array([0, 0, 2, 2], dtype=int64)"
            ]
          },
          "execution_count": 55,
          "metadata": {},
          "output_type": "execute_result"
        }
      ],
      "source": [
        "np.argmin(a1, axis = 0)"
      ]
    },
    {
      "cell_type": "code",
      "execution_count": null,
      "id": "db03dcf8",
      "metadata": {
        "id": "db03dcf8",
        "outputId": "ad8fa41e-57e2-4496-e98d-822d60742f90"
      },
      "outputs": [
        {
          "data": {
            "text/plain": [
              "array([1, 0, 2], dtype=int64)"
            ]
          },
          "execution_count": 56,
          "metadata": {},
          "output_type": "execute_result"
        }
      ],
      "source": [
        "np.argmin(a1, axis = 1)"
      ]
    },
    {
      "cell_type": "code",
      "execution_count": null,
      "id": "e3a626fe",
      "metadata": {
        "id": "e3a626fe",
        "outputId": "a72d7f9a-0e40-425b-bb58-994236d15f5b"
      },
      "outputs": [
        {
          "data": {
            "text/plain": [
              "array([[ 2,  1,  5,  4],\n",
              "       [ 3,  5,  6,  7],\n",
              "       [ 3, 10,  2,  3]])"
            ]
          },
          "execution_count": 57,
          "metadata": {},
          "output_type": "execute_result"
        }
      ],
      "source": [
        "a1"
      ]
    },
    {
      "cell_type": "code",
      "execution_count": null,
      "id": "f3b823f2",
      "metadata": {
        "id": "f3b823f2",
        "outputId": "9c36851d-2174-4fc5-9b07-fc9397af1b00"
      },
      "outputs": [
        {
          "data": {
            "text/plain": [
              "array([ 2,  1,  5,  4,  3,  5,  6,  7,  3, 10,  2,  3])"
            ]
          },
          "execution_count": 58,
          "metadata": {},
          "output_type": "execute_result"
        }
      ],
      "source": [
        "a1.ravel()"
      ]
    },
    {
      "cell_type": "code",
      "execution_count": null,
      "id": "db188bae",
      "metadata": {
        "id": "db188bae",
        "outputId": "d23aecfa-bfe7-4db0-fd8a-19f59ccba702"
      },
      "outputs": [
        {
          "data": {
            "text/plain": [
              "array([[[ 2,  1,  5,  4],\n",
              "        [ 3,  5,  6,  7],\n",
              "        [ 3, 10,  2,  3]]])"
            ]
          },
          "execution_count": 59,
          "metadata": {},
          "output_type": "execute_result"
        }
      ],
      "source": [
        "a2 = a1.reshape(1,3,4)\n",
        "a2"
      ]
    },
    {
      "cell_type": "code",
      "execution_count": null,
      "id": "c6052d51",
      "metadata": {
        "id": "c6052d51",
        "outputId": "fa901aa0-ff6d-4a36-9cf5-fab9c14841b0"
      },
      "outputs": [
        {
          "data": {
            "text/plain": [
              "(1, 3, 4)"
            ]
          },
          "execution_count": 60,
          "metadata": {},
          "output_type": "execute_result"
        }
      ],
      "source": [
        "a2.shape"
      ]
    },
    {
      "cell_type": "code",
      "execution_count": null,
      "id": "31a15d76",
      "metadata": {
        "id": "31a15d76",
        "outputId": "6fa7b6d9-4f93-4f9e-bc81-8cc0d8f72646"
      },
      "outputs": [
        {
          "data": {
            "text/plain": [
              "array([[ 2,  1,  5,  4],\n",
              "       [ 3,  5,  6,  7],\n",
              "       [ 3, 10,  2,  3]])"
            ]
          },
          "execution_count": 61,
          "metadata": {},
          "output_type": "execute_result"
        }
      ],
      "source": [
        "a2 = a2.squeeze()\n",
        "a2"
      ]
    },
    {
      "cell_type": "code",
      "execution_count": null,
      "id": "3507f871",
      "metadata": {
        "id": "3507f871",
        "outputId": "65cbae39-cd29-494a-fd72-f8ffdc046b19"
      },
      "outputs": [
        {
          "data": {
            "text/plain": [
              "(3, 4)"
            ]
          },
          "execution_count": 62,
          "metadata": {},
          "output_type": "execute_result"
        }
      ],
      "source": [
        "a2.shape"
      ]
    },
    {
      "cell_type": "code",
      "execution_count": null,
      "id": "b330904d",
      "metadata": {
        "id": "b330904d",
        "outputId": "34c0e10c-00e9-4c52-8e82-15ba51f3f346"
      },
      "outputs": [
        {
          "data": {
            "text/plain": [
              "array([[[ 2],\n",
              "        [ 1],\n",
              "        [ 5],\n",
              "        [ 4]],\n",
              "\n",
              "       [[ 3],\n",
              "        [ 5],\n",
              "        [ 6],\n",
              "        [ 7]],\n",
              "\n",
              "       [[ 3],\n",
              "        [10],\n",
              "        [ 2],\n",
              "        [ 3]]])"
            ]
          },
          "execution_count": 63,
          "metadata": {},
          "output_type": "execute_result"
        }
      ],
      "source": [
        "a2 = a2.reshape(3,4,1)\n",
        "a2"
      ]
    },
    {
      "cell_type": "code",
      "execution_count": null,
      "id": "f1245b36",
      "metadata": {
        "id": "f1245b36",
        "outputId": "7cda8c50-16ee-44e5-8ae4-e2b44121f5ee"
      },
      "outputs": [
        {
          "data": {
            "text/plain": [
              "array([[ 2,  1,  5,  4],\n",
              "       [ 3,  5,  6,  7],\n",
              "       [ 3, 10,  2,  3]])"
            ]
          },
          "execution_count": 64,
          "metadata": {},
          "output_type": "execute_result"
        }
      ],
      "source": [
        "a2 = a2.squeeze()\n",
        "a2"
      ]
    },
    {
      "cell_type": "code",
      "execution_count": null,
      "id": "f7ceed77",
      "metadata": {
        "id": "f7ceed77",
        "outputId": "9caeb404-6931-478a-f17a-82c4aa12df1c"
      },
      "outputs": [
        {
          "data": {
            "text/plain": [
              "(3, 4)"
            ]
          },
          "execution_count": 65,
          "metadata": {},
          "output_type": "execute_result"
        }
      ],
      "source": [
        "a2.shape"
      ]
    },
    {
      "cell_type": "code",
      "execution_count": null,
      "id": "1ea99216",
      "metadata": {
        "id": "1ea99216",
        "outputId": "d2e1048d-64ec-4879-87da-794768b20660"
      },
      "outputs": [
        {
          "data": {
            "text/plain": [
              "array([ 10.,  20.,  30.,  40.,  50.,  60.,  70.,  80.,  90., 100.])"
            ]
          },
          "execution_count": 142,
          "metadata": {},
          "output_type": "execute_result"
        }
      ],
      "source": [
        "np.linspace(10,100,10)"
      ]
    },
    {
      "cell_type": "markdown",
      "id": "051705b6",
      "metadata": {
        "id": "051705b6"
      },
      "source": [
        "### Determinant and Inverse"
      ]
    },
    {
      "cell_type": "code",
      "execution_count": null,
      "id": "d04df7bc",
      "metadata": {
        "id": "d04df7bc",
        "outputId": "4a968b9b-7aeb-4bee-bf38-f192a4a83e12"
      },
      "outputs": [
        {
          "data": {
            "text/plain": [
              "array([[ 4,  3,  7,  9],\n",
              "       [ 2,  3,  9,  6],\n",
              "       [ 1,  4,  7,  6],\n",
              "       [11,  4,  8,  7]])"
            ]
          },
          "execution_count": 66,
          "metadata": {},
          "output_type": "execute_result"
        }
      ],
      "source": [
        "from numpy.linalg import det, inv, eig\n",
        "a = np.array([4,3,7,9,2,3,9,6,1,4,7,6,11,4,8,7]).reshape((4,4))\n",
        "a"
      ]
    },
    {
      "cell_type": "code",
      "execution_count": null,
      "id": "ef0f929d",
      "metadata": {
        "id": "ef0f929d",
        "outputId": "21145309-0657-4133-9b81-0428ad967b89"
      },
      "outputs": [
        {
          "data": {
            "text/plain": [
              "527.0000000000006"
            ]
          },
          "execution_count": 67,
          "metadata": {},
          "output_type": "execute_result"
        }
      ],
      "source": [
        "det(a)"
      ]
    },
    {
      "cell_type": "code",
      "execution_count": null,
      "id": "f1bf731d",
      "metadata": {
        "id": "f1bf731d",
        "outputId": "69e13b79-dd38-4d7e-e3df-5b53d30ead2a"
      },
      "outputs": [
        {
          "data": {
            "text/plain": [
              "array([[-0.0170778 , -0.02087287, -0.07969639,  0.10815939],\n",
              "       [-0.22580645, -0.38709677,  0.61290323,  0.09677419],\n",
              "       [-0.10436433,  0.31688805, -0.15370019, -0.0056926 ],\n",
              "       [ 0.27514231, -0.10815939, -0.04933586, -0.07590133]])"
            ]
          },
          "execution_count": 68,
          "metadata": {},
          "output_type": "execute_result"
        }
      ],
      "source": [
        "inv(a)"
      ]
    },
    {
      "cell_type": "code",
      "execution_count": null,
      "id": "0c5be4a1",
      "metadata": {
        "id": "0c5be4a1",
        "outputId": "c3abdef0-b3bc-4de0-eea3-545d1771ff77"
      },
      "outputs": [
        {
          "data": {
            "text/plain": [
              "(array([22.97864964,  3.76499269, -4.34011564, -1.40352668]),\n",
              " array([[-0.51289911, -0.39468612,  0.5270535 ,  0.05108621],\n",
              "        [-0.41676444,  0.52758299,  0.07812217, -0.85784205],\n",
              "        [-0.37954612,  0.5045306 ,  0.33673147,  0.494701  ],\n",
              "        [-0.64744625, -0.55796767, -0.77635266, -0.12949184]]))"
            ]
          },
          "execution_count": 69,
          "metadata": {},
          "output_type": "execute_result"
        }
      ],
      "source": [
        "eig(a)"
      ]
    },
    {
      "cell_type": "markdown",
      "id": "288f8b82",
      "metadata": {
        "id": "288f8b82"
      },
      "source": [
        "### Concatenation"
      ]
    },
    {
      "cell_type": "code",
      "execution_count": null,
      "id": "6e341856",
      "metadata": {
        "id": "6e341856"
      },
      "outputs": [],
      "source": [
        "a1 = np.arange(6)\n",
        "a2 = np.arange(6,12)"
      ]
    },
    {
      "cell_type": "code",
      "execution_count": null,
      "id": "bcc37097",
      "metadata": {
        "id": "bcc37097",
        "outputId": "1bb1710f-7feb-4d63-e1ac-d929b2776653"
      },
      "outputs": [
        {
          "data": {
            "text/plain": [
              "array([ 0,  1,  2,  3,  4,  5,  6,  7,  8,  9, 10, 11])"
            ]
          },
          "execution_count": 73,
          "metadata": {},
          "output_type": "execute_result"
        }
      ],
      "source": [
        "np.concatenate((a1,a2))"
      ]
    },
    {
      "cell_type": "code",
      "execution_count": null,
      "id": "011feb55",
      "metadata": {
        "id": "011feb55",
        "outputId": "9e08d09d-6a52-48bb-8b39-046e1f5f6f70"
      },
      "outputs": [
        {
          "name": "stdout",
          "output_type": "stream",
          "text": [
            "[[0 1 2]\n",
            " [3 4 5]]\n",
            "[[ 6  7  8]\n",
            " [ 9 10 11]]\n"
          ]
        }
      ],
      "source": [
        "a1 = a1.reshape(2,3)\n",
        "a2 = a2.reshape(2,3)\n",
        "print(a1)\n",
        "print(a2)"
      ]
    },
    {
      "cell_type": "code",
      "execution_count": null,
      "id": "ad1363cb",
      "metadata": {
        "id": "ad1363cb",
        "outputId": "ce777fc4-6c55-4712-8741-b7a7b89f67b2"
      },
      "outputs": [
        {
          "data": {
            "text/plain": [
              "array([[ 0,  1,  2],\n",
              "       [ 3,  4,  5],\n",
              "       [ 6,  7,  8],\n",
              "       [ 9, 10, 11]])"
            ]
          },
          "execution_count": 75,
          "metadata": {},
          "output_type": "execute_result"
        }
      ],
      "source": [
        "np.concatenate((a1,a2))"
      ]
    },
    {
      "cell_type": "code",
      "execution_count": null,
      "id": "a8fc4e36",
      "metadata": {
        "id": "a8fc4e36",
        "outputId": "021117e9-3fbd-4de1-da5d-8e0f136443a9"
      },
      "outputs": [
        {
          "data": {
            "text/plain": [
              "array([[ 0,  1,  2],\n",
              "       [ 3,  4,  5],\n",
              "       [ 6,  7,  8],\n",
              "       [ 9, 10, 11]])"
            ]
          },
          "execution_count": 77,
          "metadata": {},
          "output_type": "execute_result"
        }
      ],
      "source": [
        "np.concatenate((a1,a2), axis = 0)"
      ]
    },
    {
      "cell_type": "code",
      "execution_count": null,
      "id": "e7f31e14",
      "metadata": {
        "id": "e7f31e14",
        "outputId": "18f354b0-fcca-4d67-ac8f-6e02c57ad37f"
      },
      "outputs": [
        {
          "data": {
            "text/plain": [
              "array([[ 0,  1,  2,  6,  7,  8],\n",
              "       [ 3,  4,  5,  9, 10, 11]])"
            ]
          },
          "execution_count": 78,
          "metadata": {},
          "output_type": "execute_result"
        }
      ],
      "source": [
        "np.concatenate((a1,a2), axis = 1)"
      ]
    },
    {
      "cell_type": "code",
      "execution_count": null,
      "id": "c4352d54",
      "metadata": {
        "id": "c4352d54",
        "outputId": "06c66ad1-dc40-4358-f820-18766f33b6a4"
      },
      "outputs": [
        {
          "name": "stdout",
          "output_type": "stream",
          "text": [
            "[[ 4  3  7  9]\n",
            " [ 2  3  9  6]\n",
            " [ 1  4  7  6]\n",
            " [11  4  8  7]]\n",
            "\n",
            "[[ 4  2  1 11]\n",
            " [ 3  3  4  4]\n",
            " [ 7  9  7  8]\n",
            " [ 9  6  6  7]]\n"
          ]
        }
      ],
      "source": [
        "a1 = a\n",
        "a2 = a.T\n",
        "print(a1)\n",
        "print()\n",
        "print(a2)"
      ]
    },
    {
      "cell_type": "code",
      "execution_count": null,
      "id": "58806c00",
      "metadata": {
        "id": "58806c00",
        "outputId": "c4f673b6-44cc-42b4-eb60-1375a7b92f34"
      },
      "outputs": [
        {
          "data": {
            "text/plain": [
              "array([[ 4,  3,  7,  9],\n",
              "       [ 2,  3,  9,  6],\n",
              "       [ 1,  4,  7,  6],\n",
              "       [11,  4,  8,  7],\n",
              "       [ 4,  2,  1, 11],\n",
              "       [ 3,  3,  4,  4],\n",
              "       [ 7,  9,  7,  8],\n",
              "       [ 9,  6,  6,  7]])"
            ]
          },
          "execution_count": 80,
          "metadata": {},
          "output_type": "execute_result"
        }
      ],
      "source": [
        "np.concatenate((a1,a2), axis = 0)"
      ]
    },
    {
      "cell_type": "code",
      "execution_count": null,
      "id": "14ef33cf",
      "metadata": {
        "id": "14ef33cf",
        "outputId": "c32463da-011a-402e-f37e-d0c32a42b0ec"
      },
      "outputs": [
        {
          "data": {
            "text/plain": [
              "array([[ 4,  3,  7,  9,  4,  2,  1, 11],\n",
              "       [ 2,  3,  9,  6,  3,  3,  4,  4],\n",
              "       [ 1,  4,  7,  6,  7,  9,  7,  8],\n",
              "       [11,  4,  8,  7,  9,  6,  6,  7]])"
            ]
          },
          "execution_count": 81,
          "metadata": {},
          "output_type": "execute_result"
        }
      ],
      "source": [
        "np.concatenate((a1,a2), axis = 1)"
      ]
    },
    {
      "cell_type": "markdown",
      "id": "98ac79e8",
      "metadata": {
        "id": "98ac79e8"
      },
      "source": [
        "# Random numbers"
      ]
    },
    {
      "cell_type": "code",
      "execution_count": null,
      "id": "6ff4a5ff",
      "metadata": {
        "id": "6ff4a5ff",
        "outputId": "320640b4-510e-4dbc-8ac6-d7f09da02b7d"
      },
      "outputs": [
        {
          "data": {
            "text/plain": [
              "9"
            ]
          },
          "execution_count": 92,
          "metadata": {},
          "output_type": "execute_result"
        }
      ],
      "source": [
        "np.random.randint(1,10)"
      ]
    },
    {
      "cell_type": "code",
      "execution_count": null,
      "id": "15da97e2",
      "metadata": {
        "id": "15da97e2",
        "outputId": "8f3caecf-ffcb-4de0-b0fc-e525acf4ff9c"
      },
      "outputs": [
        {
          "data": {
            "text/plain": [
              "3"
            ]
          },
          "execution_count": 101,
          "metadata": {},
          "output_type": "execute_result"
        }
      ],
      "source": [
        "np.random.randint(50)"
      ]
    },
    {
      "cell_type": "code",
      "execution_count": null,
      "id": "99619dc2",
      "metadata": {
        "id": "99619dc2",
        "outputId": "89c94498-0437-4c21-bd4b-a0c499623154"
      },
      "outputs": [
        {
          "data": {
            "text/plain": [
              "array([94, 17, 81, 24, 44, 66, 27, 14, 84, 36])"
            ]
          },
          "execution_count": 109,
          "metadata": {},
          "output_type": "execute_result"
        }
      ],
      "source": [
        "np.random.randint(1,100,10)"
      ]
    },
    {
      "cell_type": "code",
      "execution_count": null,
      "id": "9a865e87",
      "metadata": {
        "id": "9a865e87",
        "outputId": "6c7237f8-d7c5-4a3e-a794-798bcf8a8c89"
      },
      "outputs": [
        {
          "data": {
            "text/plain": [
              "array([[42, 60, 58, 43, 65, 34, 20, 72, 57, 56],\n",
              "       [68, 89, 98, 70, 65, 95, 18, 37, 11, 99],\n",
              "       [81, 12, 71, 83, 62, 43, 74, 20, 33, 60],\n",
              "       [48, 67, 65, 86, 86, 39, 65, 55, 84, 75],\n",
              "       [36, 34, 73, 78, 99, 73, 33, 47, 30, 84],\n",
              "       [41, 44, 79, 78, 57, 52, 24, 74, 34, 90],\n",
              "       [78, 31, 21, 86, 66, 98, 66, 79, 44, 70],\n",
              "       [84, 70, 14, 80, 21, 13, 64, 80, 49, 74],\n",
              "       [85, 25, 70, 97, 39, 81, 70, 85, 28, 32],\n",
              "       [73, 73, 43, 89, 41, 33, 40, 60, 82, 97]])"
            ]
          },
          "execution_count": 116,
          "metadata": {},
          "output_type": "execute_result"
        }
      ],
      "source": [
        "np.random.randint(11,100,(10,10))"
      ]
    },
    {
      "cell_type": "code",
      "execution_count": null,
      "id": "12bca6ae",
      "metadata": {
        "id": "12bca6ae",
        "outputId": "306a4156-659b-4fa4-bc22-5bbda664761f"
      },
      "outputs": [
        {
          "data": {
            "text/plain": [
              "array([1.76814114e-01, 7.39295657e-01, 2.19638173e-01, 6.10844819e-01,\n",
              "       1.12657851e-01, 5.96218820e-01, 3.00841592e-04, 1.61929926e-01,\n",
              "       1.85025322e-01, 9.49693806e-01])"
            ]
          },
          "execution_count": 156,
          "metadata": {},
          "output_type": "execute_result"
        }
      ],
      "source": [
        "np.random.rand(10)"
      ]
    },
    {
      "cell_type": "code",
      "execution_count": null,
      "id": "3918b779",
      "metadata": {
        "id": "3918b779",
        "outputId": "bf44897f-1282-48f3-ca6e-6fa9307b8ec1"
      },
      "outputs": [
        {
          "data": {
            "text/plain": [
              "array([ 0.53311173,  1.51772831,  0.15965479, -0.64174755,  0.68166702,\n",
              "        1.60969144, -0.26903086, -0.36577269,  0.30886807,  0.10466335])"
            ]
          },
          "execution_count": 157,
          "metadata": {},
          "output_type": "execute_result"
        }
      ],
      "source": [
        "np.random.randn(10)"
      ]
    },
    {
      "cell_type": "code",
      "execution_count": null,
      "id": "9740b7ea",
      "metadata": {
        "id": "9740b7ea",
        "outputId": "defdd04e-cbbb-4d63-fbea-456ae314bb9e"
      },
      "outputs": [
        {
          "data": {
            "text/plain": [
              "array([[ 0.26637228, -1.38833156,  0.23230733, -2.1458538 ],\n",
              "       [-0.97378295,  2.1201828 ,  0.05121573,  0.80329421],\n",
              "       [ 1.02198845,  1.21912687, -0.34324688, -0.16104361]])"
            ]
          },
          "execution_count": 158,
          "metadata": {},
          "output_type": "execute_result"
        }
      ],
      "source": [
        "np.random.randn(3,4)"
      ]
    },
    {
      "cell_type": "markdown",
      "id": "b1b3c309",
      "metadata": {
        "id": "b1b3c309"
      },
      "source": [
        "# Conditional Indexing"
      ]
    },
    {
      "cell_type": "code",
      "execution_count": null,
      "id": "0c1ca7bc",
      "metadata": {
        "id": "0c1ca7bc",
        "outputId": "5f73e837-84a3-4055-d145-98d39ec5ab66"
      },
      "outputs": [
        {
          "data": {
            "text/plain": [
              "array([[97, 68, 73, 35, 62, 32, 98, 66],\n",
              "       [19, 14, 52, 25, 93, 20, 76, 26],\n",
              "       [56, 38, 37, 45, 88, 88, 22, 35],\n",
              "       [96, 56, 77, 53, 44, 25, 89, 42],\n",
              "       [69, 81, 13, 49, 72, 73, 79, 27],\n",
              "       [78, 20, 73, 46, 27, 60, 60, 36],\n",
              "       [59, 86, 41, 37, 89, 94, 27, 29],\n",
              "       [67, 92, 52, 35, 60, 86, 98, 91]])"
            ]
          },
          "execution_count": 117,
          "metadata": {},
          "output_type": "execute_result"
        }
      ],
      "source": [
        "a = np.random.randint(11,100,(8,8))\n",
        "a"
      ]
    },
    {
      "cell_type": "code",
      "execution_count": null,
      "id": "b9f55b08",
      "metadata": {
        "id": "b9f55b08",
        "outputId": "96e7bd23-e759-42ae-f73f-f780ff028a53"
      },
      "outputs": [
        {
          "data": {
            "text/plain": [
              "array([[ True,  True,  True, False,  True, False,  True,  True],\n",
              "       [False, False,  True, False,  True, False,  True, False],\n",
              "       [ True, False, False, False,  True,  True, False, False],\n",
              "       [ True,  True,  True,  True, False, False,  True, False],\n",
              "       [ True,  True, False, False,  True,  True,  True, False],\n",
              "       [ True, False,  True, False, False,  True,  True, False],\n",
              "       [ True,  True, False, False,  True,  True, False, False],\n",
              "       [ True,  True,  True, False,  True,  True,  True,  True]])"
            ]
          },
          "execution_count": 118,
          "metadata": {},
          "output_type": "execute_result"
        }
      ],
      "source": [
        "a > 50"
      ]
    },
    {
      "cell_type": "code",
      "execution_count": null,
      "id": "9bc3a791",
      "metadata": {
        "id": "9bc3a791",
        "outputId": "ccafa0de-3dff-4d1e-c90f-13a3bf56976a"
      },
      "outputs": [
        {
          "data": {
            "text/plain": [
              "array([97, 68, 73, 62, 98, 66, 52, 93, 76, 56, 88, 88, 96, 56, 77, 53, 89,\n",
              "       69, 81, 72, 73, 79, 78, 73, 60, 60, 59, 86, 89, 94, 67, 92, 52, 60,\n",
              "       86, 98, 91])"
            ]
          },
          "execution_count": 119,
          "metadata": {},
          "output_type": "execute_result"
        }
      ],
      "source": [
        "a[a > 50]"
      ]
    },
    {
      "cell_type": "code",
      "execution_count": null,
      "id": "6dcac578",
      "metadata": {
        "id": "6dcac578",
        "outputId": "f3475c3d-b5e3-430a-9a58-4b87ba9e2896"
      },
      "outputs": [
        {
          "data": {
            "text/plain": [
              "array([35, 32, 19, 14, 25, 20, 26, 38, 37, 45, 22, 35, 44, 25, 42, 13, 49,\n",
              "       27, 20, 46, 27, 36, 41, 37, 27, 29, 35])"
            ]
          },
          "execution_count": 120,
          "metadata": {},
          "output_type": "execute_result"
        }
      ],
      "source": [
        "a[a < 50]"
      ]
    },
    {
      "cell_type": "code",
      "execution_count": null,
      "id": "d59dd7fd",
      "metadata": {
        "id": "d59dd7fd",
        "outputId": "cf9fa76d-5aad-4cd8-95a6-0d7567c7c1b6"
      },
      "outputs": [
        {
          "data": {
            "text/plain": [
              "array([35, 32, 19, 14, 25, 20, 26, 38, 37, 22, 35, 25, 13, 27, 20, 27, 36,\n",
              "       37, 27, 29, 35])"
            ]
          },
          "execution_count": 121,
          "metadata": {},
          "output_type": "execute_result"
        }
      ],
      "source": [
        "a[a <= 40]"
      ]
    },
    {
      "cell_type": "code",
      "execution_count": null,
      "id": "e3f25d25",
      "metadata": {
        "id": "e3f25d25",
        "outputId": "6b526de6-9e37-4bd7-f743-7aa04c5422fc"
      },
      "outputs": [
        {
          "data": {
            "text/plain": [
              "array([20, 20])"
            ]
          },
          "execution_count": 123,
          "metadata": {},
          "output_type": "execute_result"
        }
      ],
      "source": [
        "a[a == 20]"
      ]
    },
    {
      "cell_type": "markdown",
      "id": "15d7d204",
      "metadata": {
        "id": "15d7d204"
      },
      "source": [
        "# Slicing in Multidimensional Arrays"
      ]
    },
    {
      "cell_type": "code",
      "execution_count": null,
      "id": "0112373f",
      "metadata": {
        "id": "0112373f",
        "outputId": "44fd8100-1e25-4ae7-ffaa-a2228612ff0e"
      },
      "outputs": [
        {
          "data": {
            "text/plain": [
              "array([[71, 77, 81, 98, 26, 45, 20, 33, 52, 62],\n",
              "       [48, 77, 72, 40, 50, 80, 44, 18, 94, 90],\n",
              "       [99, 89, 95, 56, 81, 26, 94, 90, 66, 97],\n",
              "       [32, 89, 33, 98, 14, 58, 27, 97, 56, 59],\n",
              "       [19, 11, 14, 11, 62, 67, 34, 49, 30, 65],\n",
              "       [80, 78, 42, 62, 12, 92, 33, 75, 27, 47],\n",
              "       [97, 93, 98, 40, 53, 87, 28, 65, 54, 44],\n",
              "       [86, 71, 53, 61, 63, 70, 88, 29, 41, 98],\n",
              "       [62, 71, 23, 43, 95, 69, 49, 94, 82, 91],\n",
              "       [44, 80, 93, 27, 73, 11, 41, 90, 95, 93]])"
            ]
          },
          "execution_count": 124,
          "metadata": {},
          "output_type": "execute_result"
        }
      ],
      "source": [
        "a = np.random.randint(10,100,(10,10))\n",
        "a"
      ]
    },
    {
      "cell_type": "code",
      "execution_count": null,
      "id": "cd4d237c",
      "metadata": {
        "id": "cd4d237c",
        "outputId": "3069d3a8-874e-44b4-c1a8-e676bb4db7be"
      },
      "outputs": [
        {
          "data": {
            "text/plain": [
              "array([71, 77, 81, 98, 26, 45, 20, 33, 52, 62])"
            ]
          },
          "execution_count": 128,
          "metadata": {},
          "output_type": "execute_result"
        }
      ],
      "source": [
        "a[0]"
      ]
    },
    {
      "cell_type": "code",
      "execution_count": null,
      "id": "8fee322d",
      "metadata": {
        "id": "8fee322d",
        "outputId": "7cbfb02f-d4dd-4fda-badf-608025b25c6c"
      },
      "outputs": [
        {
          "data": {
            "text/plain": [
              "array([[71, 77, 81, 98, 26, 45, 20, 33, 52, 62],\n",
              "       [48, 77, 72, 40, 50, 80, 44, 18, 94, 90],\n",
              "       [99, 89, 95, 56, 81, 26, 94, 90, 66, 97],\n",
              "       [32, 89, 33, 98, 14, 58, 27, 97, 56, 59],\n",
              "       [19, 11, 14, 11, 62, 67, 34, 49, 30, 65]])"
            ]
          },
          "execution_count": 129,
          "metadata": {},
          "output_type": "execute_result"
        }
      ],
      "source": [
        "a[0:5]"
      ]
    },
    {
      "cell_type": "code",
      "execution_count": null,
      "id": "7638068e",
      "metadata": {
        "id": "7638068e",
        "outputId": "faa68329-473a-45c1-dd5f-b41390f259b7"
      },
      "outputs": [
        {
          "data": {
            "text/plain": [
              "array([[71, 77, 81, 98],\n",
              "       [48, 77, 72, 40],\n",
              "       [99, 89, 95, 56],\n",
              "       [32, 89, 33, 98],\n",
              "       [19, 11, 14, 11]])"
            ]
          },
          "execution_count": 130,
          "metadata": {},
          "output_type": "execute_result"
        }
      ],
      "source": [
        "a[0:5 , 0:4]"
      ]
    },
    {
      "cell_type": "code",
      "execution_count": null,
      "id": "b37f665e",
      "metadata": {
        "id": "b37f665e",
        "outputId": "3cee1bf9-84ea-4b49-d1ba-e3bcf74c18ba"
      },
      "outputs": [
        {
          "data": {
            "text/plain": [
              "array([[98, 26, 45, 20, 33],\n",
              "       [40, 50, 80, 44, 18],\n",
              "       [56, 81, 26, 94, 90],\n",
              "       [98, 14, 58, 27, 97],\n",
              "       [11, 62, 67, 34, 49],\n",
              "       [62, 12, 92, 33, 75]])"
            ]
          },
          "execution_count": 131,
          "metadata": {},
          "output_type": "execute_result"
        }
      ],
      "source": [
        "a[0:6, 3:8]"
      ]
    },
    {
      "cell_type": "code",
      "execution_count": null,
      "id": "43c26b59",
      "metadata": {
        "id": "43c26b59"
      },
      "outputs": [],
      "source": []
    }
  ],
  "metadata": {
    "kernelspec": {
      "display_name": "Python 3 (ipykernel)",
      "language": "python",
      "name": "python3"
    },
    "language_info": {
      "codemirror_mode": {
        "name": "ipython",
        "version": 3
      },
      "file_extension": ".py",
      "mimetype": "text/x-python",
      "name": "python",
      "nbconvert_exporter": "python",
      "pygments_lexer": "ipython3",
      "version": "3.9.7"
    },
    "colab": {
      "provenance": [],
      "include_colab_link": true
    }
  },
  "nbformat": 4,
  "nbformat_minor": 5
}