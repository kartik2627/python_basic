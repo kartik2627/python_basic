{
 "cells": [
  {
   "cell_type": "code",
   "execution_count": 6,
   "id": "40c61e01",
   "metadata": {},
   "outputs": [],
   "source": [
    " class Dog():\n",
    "        def __init__(self,breed,name,sports):\n",
    "            self.breed = breed\n",
    "            self.name = name\n",
    "            self.sports =spots"
   ]
  },
  {
   "cell_type": "code",
   "execution_count": 7,
   "id": "404a089c",
   "metadata": {},
   "outputs": [
    {
     "ename": "TypeError",
     "evalue": "Dog.__init__() missing 2 required positional arguments: 'name' and 'sports'",
     "output_type": "error",
     "traceback": [
      "\u001b[1;31m---------------------------------------------------------------------------\u001b[0m",
      "\u001b[1;31mTypeError\u001b[0m                                 Traceback (most recent call last)",
      "Cell \u001b[1;32mIn[7], line 1\u001b[0m\n\u001b[1;32m----> 1\u001b[0m my_dog \u001b[38;5;241m=\u001b[39m\u001b[43mDog\u001b[49m\u001b[43m(\u001b[49m\u001b[43mbreed\u001b[49m\u001b[43m \u001b[49m\u001b[38;5;241;43m=\u001b[39;49m\u001b[38;5;124;43m\"\u001b[39;49m\u001b[38;5;124;43mlab\u001b[39;49m\u001b[38;5;124;43m\"\u001b[39;49m\u001b[43m)\u001b[49m\n\u001b[0;32m      2\u001b[0m my_dog \u001b[38;5;241m=\u001b[39mDog(name \u001b[38;5;241m=\u001b[39m\u001b[38;5;124m\"\u001b[39m\u001b[38;5;124msam\u001b[39m\u001b[38;5;124m\"\u001b[39m)\n\u001b[0;32m      3\u001b[0m my_dog \u001b[38;5;241m=\u001b[39mDog(spots \u001b[38;5;241m=\u001b[39m\u001b[38;5;124m\"\u001b[39m\u001b[38;5;124mnone\u001b[39m\u001b[38;5;124m\"\u001b[39m)\n",
      "\u001b[1;31mTypeError\u001b[0m: Dog.__init__() missing 2 required positional arguments: 'name' and 'sports'"
     ]
    }
   ],
   "source": [
    "my_dog =Dog(breed =\"lab\")\n",
    "my_dog =Dog(name =\"sam\")\n",
    "my_dog =Dog(spots =\"none\")"
   ]
  },
  {
   "cell_type": "code",
   "execution_count": 8,
   "id": "9a1f8403",
   "metadata": {},
   "outputs": [],
   "source": [
    "class Dog():\n",
    "    def __init__(self, breed, name, spots):\n",
    "        self.breed = breed\n",
    "        self.name = name\n",
    "        self.spots = spots\n",
    "\n",
    "my_dog = Dog(breed=\"lab\", name=\"sam\", spots=\"none\")\n"
   ]
  },
  {
   "cell_type": "code",
   "execution_count": 10,
   "id": "34975eed",
   "metadata": {},
   "outputs": [
    {
     "data": {
      "text/plain": [
       "'lab'"
      ]
     },
     "execution_count": 10,
     "metadata": {},
     "output_type": "execute_result"
    }
   ],
   "source": [
    "my_dog.breed"
   ]
  },
  {
   "cell_type": "code",
   "execution_count": 12,
   "id": "599f24e8",
   "metadata": {},
   "outputs": [
    {
     "data": {
      "text/plain": [
       "'none'"
      ]
     },
     "execution_count": 12,
     "metadata": {},
     "output_type": "execute_result"
    }
   ],
   "source": [
    "my_dog.spots"
   ]
  },
  {
   "cell_type": "code",
   "execution_count": 20,
   "id": "15201b90",
   "metadata": {},
   "outputs": [],
   "source": [
    "# method we perforn on \n",
    "c\n",
    "    #class obj attribute\n",
    "    species =\"mammal\"\n",
    "    def __init__(self, breed, name, spots):\n",
    "        self.breed = breed\n",
    "        self.name = name\n",
    "        self.spots = spots\n",
    "\n",
    "my_dog = Dog(breed=\"lab\", name=\"sam\", spots=\"none\")\n",
    "\n",
    "  \n"
   ]
  },
  {
   "cell_type": "code",
   "execution_count": 21,
   "id": "9c6a7e8a",
   "metadata": {},
   "outputs": [
    {
     "data": {
      "text/plain": [
       "'none'"
      ]
     },
     "execution_count": 21,
     "metadata": {},
     "output_type": "execute_result"
    }
   ],
   "source": [
    "my_dog.spots"
   ]
  },
  {
   "cell_type": "code",
   "execution_count": 22,
   "id": "f3850602",
   "metadata": {},
   "outputs": [
    {
     "data": {
      "text/plain": [
       "'mammal'"
      ]
     },
     "execution_count": 22,
     "metadata": {},
     "output_type": "execute_result"
    }
   ],
   "source": [
    "my_dog.species"
   ]
  },
  {
   "cell_type": "code",
   "execution_count": 15,
   "id": "a9c9c6ae",
   "metadata": {},
   "outputs": [],
   "source": [
    "#method fun define inside the class\n",
    "#operation/actionclass Dog():\n",
    "class Dog():\n",
    "    #class obj attribute\n",
    "    species =\"mammal\"\n",
    "    def __init__(self, breed, name ):\n",
    "        self.breed = breed\n",
    "        self.name = name\n",
    "   \n",
    "    def bark(self , number):\n",
    "        print(\"wooof ! dog name is {} and number is {}\".format(self.name, number))"
   ]
  },
  {
   "cell_type": "code",
   "execution_count": 16,
   "id": "1539cd51",
   "metadata": {},
   "outputs": [],
   "source": [
    "my_dog = Dog(\"lab\", \"framkie\")"
   ]
  },
  {
   "cell_type": "code",
   "execution_count": 17,
   "id": "2a678b0c",
   "metadata": {},
   "outputs": [
    {
     "data": {
      "text/plain": [
       "'mammal'"
      ]
     },
     "execution_count": 17,
     "metadata": {},
     "output_type": "execute_result"
    }
   ],
   "source": [
    "my_dog.species"
   ]
  },
  {
   "cell_type": "code",
   "execution_count": 18,
   "id": "500cdb1d",
   "metadata": {},
   "outputs": [
    {
     "data": {
      "text/plain": [
       "'framkie'"
      ]
     },
     "execution_count": 18,
     "metadata": {},
     "output_type": "execute_result"
    }
   ],
   "source": [
    "my_dog.name"
   ]
  },
  {
   "cell_type": "code",
   "execution_count": 21,
   "id": "8c8ebc5b",
   "metadata": {},
   "outputs": [
    {
     "name": "stdout",
     "output_type": "stream",
     "text": [
      "wooof ! dog name is framkie and number is 2\n"
     ]
    }
   ],
   "source": [
    "my_dog.bark(2)# method is it we use ( )"
   ]
  },
  {
   "cell_type": "code",
   "execution_count": 20,
   "id": "bd54482d",
   "metadata": {},
   "outputs": [
    {
     "data": {
      "text/plain": [
       "<bound method Dog.bark of <__main__.Dog object at 0x00000195EDCE11E0>>"
      ]
     },
     "execution_count": 20,
     "metadata": {},
     "output_type": "execute_result"
    }
   ],
   "source": [
    "my_dog.bark"
   ]
  },
  {
   "cell_type": "code",
   "execution_count": 42,
   "id": "a750b780",
   "metadata": {},
   "outputs": [],
   "source": [
    "class Circle():\n",
    "    pi = 3.14\n",
    "    def __init__(self, radius = 1):\n",
    "        self.radius = radius\n",
    "    def get_circumference(self):\n",
    "        return self.radius  * self.pi * 2\n",
    "\n",
    "     "
   ]
  },
  {
   "cell_type": "code",
   "execution_count": 48,
   "id": "4d0223a1",
   "metadata": {},
   "outputs": [],
   "source": [
    "my_circle = Circle(30)"
   ]
  },
  {
   "cell_type": "code",
   "execution_count": 49,
   "id": "04af95d4",
   "metadata": {},
   "outputs": [
    {
     "data": {
      "text/plain": [
       "30"
      ]
     },
     "execution_count": 49,
     "metadata": {},
     "output_type": "execute_result"
    }
   ],
   "source": [
    "my_circle.radius"
   ]
  },
  {
   "cell_type": "code",
   "execution_count": 54,
   "id": "cec8b8c5",
   "metadata": {},
   "outputs": [
    {
     "data": {
      "text/plain": [
       "30"
      ]
     },
     "execution_count": 54,
     "metadata": {},
     "output_type": "execute_result"
    }
   ],
   "source": [
    "class Circle():\n",
    "    pi = 3.14\n",
    "    def __init__(self, radius=1):\n",
    "        self.radius = radius\n",
    "    def get_circumference(self):\n",
    "        return self.radius * self.pi * 2\n",
    "     \n",
    "my_circle = Circle(30)\n",
    "my_circle.radius\n"
   ]
  },
  {
   "cell_type": "code",
   "execution_count": 56,
   "id": "347bb54d",
   "metadata": {},
   "outputs": [
    {
     "data": {
      "text/plain": [
       "188.4"
      ]
     },
     "execution_count": 56,
     "metadata": {},
     "output_type": "execute_result"
    }
   ],
   "source": [
    "my_circle.get_circumference()"
   ]
  },
  {
   "cell_type": "code",
   "execution_count": 57,
   "id": "ab68d02c",
   "metadata": {},
   "outputs": [],
   "source": [
    "#inheritence"
   ]
  },
  {
   "cell_type": "code",
   "execution_count": 85,
   "id": "437e4089",
   "metadata": {},
   "outputs": [],
   "source": [
    "class Animal():\n",
    "    def __init__(self):\n",
    "        print(\"Animal Created\")\n",
    "    def Who_Am_I(self):\n",
    "        print(\"I am an animal\")\n",
    "    def Eat(self):\n",
    "        print(\" iam getting slim\")"
   ]
  },
  {
   "cell_type": "code",
   "execution_count": 86,
   "id": "33dd83d2",
   "metadata": {
    "scrolled": false
   },
   "outputs": [
    {
     "name": "stdout",
     "output_type": "stream",
     "text": [
      "Animal Created\n"
     ]
    }
   ],
   "source": [
    "myanimal = Animal()"
   ]
  },
  {
   "cell_type": "code",
   "execution_count": 87,
   "id": "c50cfa61",
   "metadata": {},
   "outputs": [
    {
     "name": "stdout",
     "output_type": "stream",
     "text": [
      " iam getting slim\n"
     ]
    }
   ],
   "source": [
    "myanimal.Eat()"
   ]
  },
  {
   "cell_type": "code",
   "execution_count": 93,
   "id": "1cbf17d9",
   "metadata": {},
   "outputs": [],
   "source": [
    "class Dog(Animal):\n",
    "    def __init__(self):\n",
    "        Animal.__init__(self)\n",
    "        print(\"dog created\")\n",
    "    def Who_Am_I(self):\n",
    "        print(\"I am an dog\")"
   ]
  },
  {
   "cell_type": "code",
   "execution_count": 94,
   "id": "d97ebd3c",
   "metadata": {},
   "outputs": [
    {
     "name": "stdout",
     "output_type": "stream",
     "text": [
      "Animal Created\n",
      "dog created\n"
     ]
    }
   ],
   "source": [
    "mydog = Dog()"
   ]
  },
  {
   "cell_type": "code",
   "execution_count": 95,
   "id": "4b048663",
   "metadata": {},
   "outputs": [
    {
     "name": "stdout",
     "output_type": "stream",
     "text": [
      " iam getting slim\n"
     ]
    }
   ],
   "source": [
    "mydog.Eat()"
   ]
  },
  {
   "cell_type": "code",
   "execution_count": 96,
   "id": "e07bf315",
   "metadata": {},
   "outputs": [
    {
     "name": "stdout",
     "output_type": "stream",
     "text": [
      "I am an dog\n"
     ]
    }
   ],
   "source": [
    "mydog.Who_Am_I()"
   ]
  },
  {
   "cell_type": "code",
   "execution_count": 97,
   "id": "18b5aebf",
   "metadata": {},
   "outputs": [],
   "source": [
    " #polymorphism"
   ]
  },
  {
   "cell_type": "code",
   "execution_count": 106,
   "id": "a8663820",
   "metadata": {},
   "outputs": [],
   "source": [
    "class dog():\n",
    "    def __init__(self,name):\n",
    "        self.name = name\n",
    "    def speak (self):\n",
    "        return self.name + \" \"+\"says woofs!\""
   ]
  },
  {
   "cell_type": "code",
   "execution_count": 114,
   "id": "c6019f7c",
   "metadata": {},
   "outputs": [],
   "source": [
    "class cat():\n",
    "    def __init__(self,name):\n",
    "        self.name = name\n",
    "    def speak (self):\n",
    "        return self.name +\" \"+\"says meowww\""
   ]
  },
  {
   "cell_type": "code",
   "execution_count": 115,
   "id": "a7cf8644",
   "metadata": {},
   "outputs": [],
   "source": [
    "niko =dog(\"puma\")\n",
    "faty = cat(\"lateee\")"
   ]
  },
  {
   "cell_type": "code",
   "execution_count": 116,
   "id": "29c04b38",
   "metadata": {},
   "outputs": [
    {
     "name": "stdout",
     "output_type": "stream",
     "text": [
      "puma says woofs!\n"
     ]
    }
   ],
   "source": [
    "print(niko.speak())"
   ]
  },
  {
   "cell_type": "code",
   "execution_count": 117,
   "id": "dd748ac7",
   "metadata": {},
   "outputs": [
    {
     "name": "stdout",
     "output_type": "stream",
     "text": [
      "lateee says meowww\n"
     ]
    }
   ],
   "source": [
    "print(faty.speak())"
   ]
  },
  {
   "cell_type": "code",
   "execution_count": 118,
   "id": "e3417fac",
   "metadata": {},
   "outputs": [
    {
     "name": "stdout",
     "output_type": "stream",
     "text": [
      "<class '__main__.dog'>\n",
      "<class '__main__.cat'>\n"
     ]
    }
   ],
   "source": [
    "for pet in [niko,faty]:\n",
    "    print(type(pet))"
   ]
  },
  {
   "cell_type": "code",
   "execution_count": 119,
   "id": "47213562",
   "metadata": {},
   "outputs": [
    {
     "name": "stdout",
     "output_type": "stream",
     "text": [
      "lateee says meowww\n"
     ]
    }
   ],
   "source": [
    "print(pet.speak())"
   ]
  },
  {
   "cell_type": "code",
   "execution_count": 120,
   "id": "1bb4f9d6",
   "metadata": {},
   "outputs": [],
   "source": [
    "#abstract class serve as base class"
   ]
  },
  {
   "cell_type": "code",
   "execution_count": 1,
   "id": "ceba7a79",
   "metadata": {},
   "outputs": [],
   "source": [
    "#special method\n",
    "mylist = [1,23,4,3]"
   ]
  },
  {
   "cell_type": "code",
   "execution_count": 2,
   "id": "b588130e",
   "metadata": {},
   "outputs": [
    {
     "data": {
      "text/plain": [
       "4"
      ]
     },
     "execution_count": 2,
     "metadata": {},
     "output_type": "execute_result"
    }
   ],
   "source": [
    "len(mylist)"
   ]
  },
  {
   "cell_type": "code",
   "execution_count": 3,
   "id": "835af637",
   "metadata": {},
   "outputs": [],
   "source": [
    "class sample():\n",
    "    pass"
   ]
  },
  {
   "cell_type": "code",
   "execution_count": 4,
   "id": "19b921df",
   "metadata": {},
   "outputs": [],
   "source": [
    "mysample = sample()"
   ]
  },
  {
   "cell_type": "code",
   "execution_count": 6,
   "id": "bad270f5",
   "metadata": {},
   "outputs": [
    {
     "name": "stdout",
     "output_type": "stream",
     "text": [
      "<__main__.sample object at 0x000001A623B831F0>\n"
     ]
    }
   ],
   "source": [
    "print(mysample)"
   ]
  },
  {
   "cell_type": "code",
   "execution_count": 21,
   "id": "382d8cff",
   "metadata": {},
   "outputs": [],
   "source": [
    "class book():\n",
    "    def __init__(self,title, author,pages):\n",
    "        self.title = title\n",
    "        self.author = author\n",
    "        self.pages = pages\n",
    "    def __str__(self):\n",
    "        return f\"{self.title } by {self.author}\"\n",
    "    def __len__(self):\n",
    "        return self.pages\n",
    "    "
   ]
  },
  {
   "cell_type": "code",
   "execution_count": 22,
   "id": "afef6628",
   "metadata": {},
   "outputs": [],
   "source": [
    "b = book(\"python\", \"kaat\",200)"
   ]
  },
  {
   "cell_type": "code",
   "execution_count": 23,
   "id": "960c1ec0",
   "metadata": {},
   "outputs": [
    {
     "name": "stdout",
     "output_type": "stream",
     "text": [
      "python by kaat\n"
     ]
    }
   ],
   "source": [
    "print(b)"
   ]
  },
  {
   "cell_type": "code",
   "execution_count": 24,
   "id": "ca9911d9",
   "metadata": {},
   "outputs": [
    {
     "data": {
      "text/plain": [
       "'python by kaat'"
      ]
     },
     "execution_count": 24,
     "metadata": {},
     "output_type": "execute_result"
    }
   ],
   "source": [
    "str(b)"
   ]
  },
  {
   "cell_type": "code",
   "execution_count": 25,
   "id": "2548bf3c",
   "metadata": {},
   "outputs": [
    {
     "data": {
      "text/plain": [
       "200"
      ]
     },
     "execution_count": 25,
     "metadata": {},
     "output_type": "execute_result"
    }
   ],
   "source": [
    "len(b)"
   ]
  },
  {
   "cell_type": "code",
   "execution_count": 26,
   "id": "554fffcb",
   "metadata": {},
   "outputs": [],
   "source": [
    "del b"
   ]
  },
  {
   "cell_type": "code",
   "execution_count": 34,
   "id": "3aefdfd6",
   "metadata": {},
   "outputs": [],
   "source": [
    "class Line:\n",
    "    \n",
    "    def __init__(self,coor1,coor2):\n",
    "        self.coor1 = coor1\n",
    "        self.coor2 = coor2\n",
    "        \n",
    "    \n",
    "    def distance(self):\n",
    "        x1,y1 = self.coor1\n",
    "        x2,y2 = self.coor2\n",
    "        return ((x2 - x1)**2 + (y2-y1)**2)**0.5\n",
    "        \n",
    "    \n",
    "    def slope(self):\n",
    "        x1,y1 = self.coor1\n",
    "        x2,y2 = self.coor2\n",
    "        return (y2-y1)/(x2-x1)\n",
    "        "
   ]
  },
  {
   "cell_type": "code",
   "execution_count": 35,
   "id": "4bce85b3",
   "metadata": {},
   "outputs": [],
   "source": [
    "c1 =(3,2)\n",
    "c2 =(4,1)"
   ]
  },
  {
   "cell_type": "code",
   "execution_count": 36,
   "id": "f52ce3d8",
   "metadata": {},
   "outputs": [],
   "source": [
    "myline = Line(c1,c2)"
   ]
  },
  {
   "cell_type": "code",
   "execution_count": 37,
   "id": "f7171d30",
   "metadata": {},
   "outputs": [
    {
     "data": {
      "text/plain": [
       "1.4142135623730951"
      ]
     },
     "execution_count": 37,
     "metadata": {},
     "output_type": "execute_result"
    }
   ],
   "source": [
    "myline.distance()"
   ]
  },
  {
   "cell_type": "code",
   "execution_count": 39,
   "id": "83d76b89",
   "metadata": {},
   "outputs": [
    {
     "data": {
      "text/plain": [
       "<bound method Line.slope of <__main__.Line object at 0x000001A623B9CF70>>"
      ]
     },
     "execution_count": 39,
     "metadata": {},
     "output_type": "execute_result"
    }
   ],
   "source": [
    "myline.slope"
   ]
  },
  {
   "cell_type": "code",
   "execution_count": 41,
   "id": "770167a3",
   "metadata": {},
   "outputs": [],
   "source": [
    "class Account:\n",
    "    def __init__(self,owner,balance=0):\n",
    "        self.owner = owner\n",
    "        self.balance = balance\n",
    "        \n",
    "    def __str__(self):\n",
    "        return f'Account owner:   {self.owner}\\nAccount balance: ${self.balance}'\n",
    "        \n",
    "    def deposit(self,dep_amt):\n",
    "        self.balance += dep_amt\n",
    "        print('Deposit Accepted')\n",
    "        \n",
    "    def withdraw(self,wd_amt):\n",
    "        if self.balance >= wd_amt:\n",
    "            self.balance -= wd_amt\n",
    "            print('Withdrawal Accepted')\n",
    "        else:\n",
    "            print('Funds Unavailable!')"
   ]
  },
  {
   "cell_type": "code",
   "execution_count": null,
   "id": "8aa14103",
   "metadata": {},
   "outputs": [],
   "source": []
  },
  {
   "cell_type": "code",
   "execution_count": null,
   "id": "f6c98ad6",
   "metadata": {},
   "outputs": [],
   "source": []
  }
 ],
 "metadata": {
  "kernelspec": {
   "display_name": "Python 3 (ipykernel)",
   "language": "python",
   "name": "python3"
  },
  "language_info": {
   "codemirror_mode": {
    "name": "ipython",
    "version": 3
   },
   "file_extension": ".py",
   "mimetype": "text/x-python",
   "name": "python",
   "nbconvert_exporter": "python",
   "pygments_lexer": "ipython3",
   "version": "3.10.9"
  }
 },
 "nbformat": 4,
 "nbformat_minor": 5
}
