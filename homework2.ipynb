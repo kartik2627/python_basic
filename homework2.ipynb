{
 "cells": [
  {
   "cell_type": "code",
   "execution_count": 2,
   "id": "8ee3f113",
   "metadata": {},
   "outputs": [
    {
     "name": "stdout",
     "output_type": "stream",
     "text": [
      "Enter a five digit number:56436\n",
      "The original and reversed numbers are not equal.\n"
     ]
    }
   ],
   "source": [
    "number = input(\"Enter a five digit number:\")\n",
    "if len(number) != 5 or not number.isdigit():\n",
    "    print(\"Invalid input. Please enter a valid five-digit number.\")\n",
    "else:\n",
    "   \n",
    "    reversed_number = number[::-1]\n",
    "    number = int(number)\n",
    "    reversed_number = int(reversed_number)\n",
    "\n",
    "    if number == reversed_number:\n",
    "        print(\"The original and reversed numbers are equal.\")\n",
    "    else:\n",
    "        print(\"The original and reversed numbers are not equal.\")\n",
    "    "
   ]
  },
  {
   "cell_type": "code",
   "execution_count": 7,
   "id": "90049ab1",
   "metadata": {},
   "outputs": [
    {
     "name": "stdout",
     "output_type": "stream",
     "text": [
      "enter age1: 33\n",
      "enter age2: 23\n",
      "enter age3: 44\n",
      "Ajay has highest age\n"
     ]
    }
   ],
   "source": [
    "x=int(input('enter age1: '))\n",
    "y=int(input('enter age2: '))\n",
    "z=int(input('enter age3: '))\n",
    "if x>y and x>z:\n",
    "    print(\"Ram has highest age\")\n",
    "elif y>x and y>z:\n",
    "    print(\"Shayam has highest age\")\n",
    "else:\n",
    "    print(\"Ajay has highest age\")"
   ]
  },
  {
   "cell_type": "code",
   "execution_count": 8,
   "id": "01df9272",
   "metadata": {},
   "outputs": [
    {
     "name": "stdout",
     "output_type": "stream",
     "text": [
      "Enter the cost of item:2000\n",
      "Enter the selling price of item :12000\n",
      "profit happen to seller 10000\n"
     ]
    }
   ],
   "source": [
    "cost= int(input(\"Enter the cost of item:\"))\n",
    "selling = int(input(\"Enter the selling price of item :\"))\n",
    "profit = int(selling -cost)\n",
    "loss =int(cost - selling)\n",
    "if cost < selling:\n",
    "    print(\"profit happen to seller\",profit)\n",
    "else:\n",
    "    print(\"loss happen to seller\",loss)"
   ]
  },
  {
   "cell_type": "code",
   "execution_count": 3,
   "id": "1cebcc37",
   "metadata": {},
   "outputs": [
    {
     "name": "stdout",
     "output_type": "stream",
     "text": [
      "Enter 1 angle of traingle:45\n",
      "Enter 2 angle of traingle:45\n",
      "Enter 3 angle of traingle:90\n",
      "It is an valid Triangle   😳⃤   \n"
     ]
    }
   ],
   "source": [
    "A = int(input(\"Enter 1 angle of traingle:\"))\n",
    "B = int(input(\"Enter 2 angle of traingle:\"))\n",
    "C = int(input(\"Enter 3 angle of traingle:\"))\n",
    "if A+B+C == 180:\n",
    "    print(\"It is an valid Triangle   😳⃤   \")\n",
    "else :\n",
    "    print (\"It is not a valid Triangle 🦋 | 🌹 ⃤ | 🧿👁️⃤. \")"
   ]
  },
  {
   "cell_type": "code",
   "execution_count": 1,
   "id": "e3533918",
   "metadata": {},
   "outputs": [
    {
     "name": "stdout",
     "output_type": "stream",
     "text": [
      "enter the number:2\n",
      "even number 2\n"
     ]
    }
   ],
   "source": [
    "num = int(input(\"enter the number:\"))\n",
    "if num %2 == 0:\n",
    "    print (\"even number:\",num)\n",
    "    #if num =0 then it remain same\n",
    "else:\n",
    "    print(\"odd number:\", num)"
   ]
  },
  {
   "cell_type": "code",
   "execution_count": 11,
   "id": "6213f532",
   "metadata": {},
   "outputs": [
    {
     "name": "stdout",
     "output_type": "stream",
     "text": [
      "enter your name:nanu\n",
      "ooooh stupid person nanu\n"
     ]
    }
   ],
   "source": [
    "name = input(\"enter your name:\")\n",
    "if name[0] == (\"n\"):\n",
    "\n",
    "    print(\"ooooh stupid person\",name)\n",
    "else: \n",
    "    print(\"you are more stupideeeeeeeeeeee person\",name)"
   ]
  },
  {
   "cell_type": "code",
   "execution_count": 12,
   "id": "b6f95aa8",
   "metadata": {},
   "outputs": [
    {
     "name": "stderr",
     "output_type": "stream",
     "text": [
      "Exception in Tkinter callback\n",
      "Traceback (most recent call last):\n",
      "  File \"D:\\Anaconda d drive\\lib\\tkinter\\__init__.py\", line 1921, in __call__\n",
      "    return self.func(*args)\n",
      "  File \"D:\\Anaconda d drive\\lib\\turtle.py\", line 673, in eventfun\n",
      "    fun(x, y)\n",
      "  File \"C:\\Users\\Karti\\AppData\\Local\\Temp\\ipykernel_12968\\3713847190.py\", line 26, in triangle\n",
      "    tess.forward(100)\n",
      "  File \"D:\\Anaconda d drive\\lib\\turtle.py\", line 1637, in forward\n",
      "    self._go(distance)\n",
      "  File \"D:\\Anaconda d drive\\lib\\turtle.py\", line 1605, in _go\n",
      "    self._goto(ende)\n",
      "  File \"D:\\Anaconda d drive\\lib\\turtle.py\", line 3177, in _goto\n",
      "    screen._drawline(self.drawingLineItem,\n",
      "  File \"D:\\Anaconda d drive\\lib\\turtle.py\", line 544, in _drawline\n",
      "    self.cv.coords(lineitem, *cl)\n",
      "  File \"<string>\", line 1, in coords\n",
      "  File \"D:\\Anaconda d drive\\lib\\tkinter\\__init__.py\", line 2795, in coords\n",
      "    self.tk.call((self._w, 'coords') + args))]\n",
      "_tkinter.TclError: invalid command name \".!canvas\"\n",
      "Exception in Tkinter callback\n",
      "Traceback (most recent call last):\n",
      "  File \"D:\\Anaconda d drive\\lib\\tkinter\\__init__.py\", line 1921, in __call__\n",
      "    return self.func(*args)\n",
      "  File \"D:\\Anaconda d drive\\lib\\turtle.py\", line 673, in eventfun\n",
      "    fun(x, y)\n",
      "  File \"C:\\Users\\Karti\\AppData\\Local\\Temp\\ipykernel_12968\\3713847190.py\", line 26, in triangle\n",
      "    tess.forward(100)\n",
      "  File \"D:\\Anaconda d drive\\lib\\turtle.py\", line 1637, in forward\n",
      "    self._go(distance)\n",
      "  File \"D:\\Anaconda d drive\\lib\\turtle.py\", line 1605, in _go\n",
      "    self._goto(ende)\n",
      "  File \"D:\\Anaconda d drive\\lib\\turtle.py\", line 3177, in _goto\n",
      "    screen._drawline(self.drawingLineItem,\n",
      "  File \"D:\\Anaconda d drive\\lib\\turtle.py\", line 544, in _drawline\n",
      "    self.cv.coords(lineitem, *cl)\n",
      "  File \"<string>\", line 1, in coords\n",
      "  File \"D:\\Anaconda d drive\\lib\\tkinter\\__init__.py\", line 2795, in coords\n",
      "    self.tk.call((self._w, 'coords') + args))]\n",
      "_tkinter.TclError: invalid command name \".!canvas\"\n",
      "Exception in Tkinter callback\n",
      "Traceback (most recent call last):\n",
      "  File \"D:\\Anaconda d drive\\lib\\tkinter\\__init__.py\", line 1921, in __call__\n",
      "    return self.func(*args)\n",
      "  File \"D:\\Anaconda d drive\\lib\\turtle.py\", line 673, in eventfun\n",
      "    fun(x, y)\n",
      "  File \"C:\\Users\\Karti\\AppData\\Local\\Temp\\ipykernel_12968\\3713847190.py\", line 33, in triangle\n",
      "    tess.forward(100)\n",
      "  File \"D:\\Anaconda d drive\\lib\\turtle.py\", line 1637, in forward\n",
      "    self._go(distance)\n",
      "  File \"D:\\Anaconda d drive\\lib\\turtle.py\", line 1605, in _go\n",
      "    self._goto(ende)\n",
      "  File \"D:\\Anaconda d drive\\lib\\turtle.py\", line 3177, in _goto\n",
      "    screen._drawline(self.drawingLineItem,\n",
      "  File \"D:\\Anaconda d drive\\lib\\turtle.py\", line 544, in _drawline\n",
      "    self.cv.coords(lineitem, *cl)\n",
      "  File \"<string>\", line 1, in coords\n",
      "  File \"D:\\Anaconda d drive\\lib\\tkinter\\__init__.py\", line 2795, in coords\n",
      "    self.tk.call((self._w, 'coords') + args))]\n",
      "_tkinter.TclError: invalid command name \".!canvas\"\n"
     ]
    }
   ],
   "source": [
    "\n",
    "import turtle\n",
    " \n",
    " \n",
    "# Screen() method to get screen\n",
    "wn=turtle.Screen() \n",
    " \n",
    "# creating tess object\n",
    "tess=turtle.Turtle() \n",
    " \n",
    " \n",
    "def triangle(x,y):\n",
    "   \n",
    "    # it is used to draw out the pen\n",
    "    tess.penup()\n",
    "     \n",
    "    # it is used to move cursor at x\n",
    "    # and y position\n",
    "    tess.goto(x,y)\n",
    "     \n",
    "    # it is used to draw in the pen\n",
    "    tess.pendown()\n",
    "    for i in range(3):\n",
    "       \n",
    "          # move cursor 100 unit\n",
    "        # digit forward\n",
    "        tess.forward(100)\n",
    "         \n",
    "        # turn cursor 120 degree left\n",
    "        tess.left(120)\n",
    "         \n",
    "        # Again,move cursor 100 unit\n",
    "        # digit forward\n",
    "        tess.forward(100)\n",
    "         \n",
    "# special built in function to send current\n",
    "# position of cursor to triangle\n",
    "turtle.onscreenclick(triangle,1)\n",
    " \n",
    "turtle.listen()\n",
    " \n",
    "# hold the screen\n",
    "turtle.done()\n"
   ]
  },
  {
   "cell_type": "code",
   "execution_count": null,
   "id": "390f0f4f",
   "metadata": {},
   "outputs": [],
   "source": []
  }
 ],
 "metadata": {
  "kernelspec": {
   "display_name": "Python 3 (ipykernel)",
   "language": "python",
   "name": "python3"
  },
  "language_info": {
   "codemirror_mode": {
    "name": "ipython",
    "version": 3
   },
   "file_extension": ".py",
   "mimetype": "text/x-python",
   "name": "python",
   "nbconvert_exporter": "python",
   "pygments_lexer": "ipython3",
   "version": "3.10.9"
  }
 },
 "nbformat": 4,
 "nbformat_minor": 5
}
