{
 "cells": [
  {
   "cell_type": "code",
   "execution_count": 1,
   "id": "1cde617f",
   "metadata": {},
   "outputs": [],
   "source": [
    "#0 array"
   ]
  },
  {
   "cell_type": "code",
   "execution_count": 2,
   "id": "e8bbee06",
   "metadata": {},
   "outputs": [
    {
     "name": "stdout",
     "output_type": "stream",
     "text": [
      "[0. 0. 0. 0.]\n"
     ]
    }
   ],
   "source": [
    "import numpy as np\n",
    "ar_zero =np.zeros(4)\n",
    "print(ar_zero)"
   ]
  },
  {
   "cell_type": "code",
   "execution_count": 4,
   "id": "b5531118",
   "metadata": {},
   "outputs": [
    {
     "name": "stdout",
     "output_type": "stream",
     "text": [
      "[0. 0. 0. 0.]\n",
      "[0. 0. 0. 0.]\n",
      "[[0. 0. 0. 0.]\n",
      " [0. 0. 0. 0.]\n",
      " [0. 0. 0. 0.]]\n"
     ]
    }
   ],
   "source": [
    "import numpy as np\n",
    "ar_zero =np.zeros(4)\n",
    "ar_zero1 =np.zeros((3,4))\n",
    "print(ar_zero)\n",
    "print(ar_zero)\n",
    "print(ar_zero1)"
   ]
  },
  {
   "cell_type": "code",
   "execution_count": 5,
   "id": "aab111dc",
   "metadata": {},
   "outputs": [],
   "source": [
    "#ones"
   ]
  },
  {
   "cell_type": "code",
   "execution_count": 6,
   "id": "012b42b2",
   "metadata": {},
   "outputs": [
    {
     "name": "stdout",
     "output_type": "stream",
     "text": [
      "[1. 1. 1. 1.]\n"
     ]
    }
   ],
   "source": [
    "ar_one = np.ones(4)\n",
    "print(ar_one)"
   ]
  },
  {
   "cell_type": "markdown",
   "id": "77743119",
   "metadata": {},
   "source": [
    "# empty\n"
   ]
  },
  {
   "cell_type": "code",
   "execution_count": 7,
   "id": "eb6f51f9",
   "metadata": {},
   "outputs": [
    {
     "name": "stdout",
     "output_type": "stream",
     "text": [
      "[1. 1. 1. 1.]\n"
     ]
    }
   ],
   "source": [
    "ar_emp =np.empty(4)\n",
    "print(ar_emp)"
   ]
  },
  {
   "cell_type": "markdown",
   "id": "1069a95f",
   "metadata": {},
   "source": [
    "# range"
   ]
  },
  {
   "cell_type": "code",
   "execution_count": 8,
   "id": "766f6b63",
   "metadata": {},
   "outputs": [
    {
     "name": "stdout",
     "output_type": "stream",
     "text": [
      "[0 1 2 3]\n"
     ]
    }
   ],
   "source": [
    "ar_range = np.arange(4)\n",
    "print(ar_range)"
   ]
  },
  {
   "cell_type": "markdown",
   "id": "7f57bc0d",
   "metadata": {},
   "source": [
    "# diagonal element fill ho jaya "
   ]
  },
  {
   "cell_type": "code",
   "execution_count": 9,
   "id": "a7d847e9",
   "metadata": {},
   "outputs": [],
   "source": [
    "ar_dia = np.eye(3)"
   ]
  },
  {
   "cell_type": "code",
   "execution_count": 10,
   "id": "69de4d33",
   "metadata": {},
   "outputs": [
    {
     "name": "stdout",
     "output_type": "stream",
     "text": [
      "[[1. 0. 0.]\n",
      " [0. 1. 0.]\n",
      " [0. 0. 1.]]\n"
     ]
    }
   ],
   "source": [
    "print(ar_dia)"
   ]
  },
  {
   "cell_type": "code",
   "execution_count": 11,
   "id": "b9c43151",
   "metadata": {},
   "outputs": [
    {
     "name": "stdout",
     "output_type": "stream",
     "text": [
      "[[1. 0. 0. 0. 0.]\n",
      " [0. 1. 0. 0. 0.]\n",
      " [0. 0. 1. 0. 0.]]\n"
     ]
    }
   ],
   "source": [
    "ar_dia = np.eye(3,5)\n",
    "print(ar_dia)"
   ]
  },
  {
   "cell_type": "markdown",
   "id": "c06a295d",
   "metadata": {},
   "source": [
    "# creat an array with special interval"
   ]
  },
  {
   "cell_type": "markdown",
   "id": "4f36020c",
   "metadata": {},
   "source": [
    "# lins space"
   ]
  },
  {
   "cell_type": "code",
   "execution_count": 14,
   "id": "a8eae0bb",
   "metadata": {},
   "outputs": [
    {
     "name": "stdout",
     "output_type": "stream",
     "text": [
      "[ 1.    3.25  5.5   7.75 10.  ]\n"
     ]
    }
   ],
   "source": [
    "ar_lin = np.linspace(1,10,num=5)\n",
    "print(ar_lin)"
   ]
  },
  {
   "cell_type": "code",
   "execution_count": null,
   "id": "8bc3a037",
   "metadata": {},
   "outputs": [],
   "source": []
  }
 ],
 "metadata": {
  "kernelspec": {
   "display_name": "Python 3 (ipykernel)",
   "language": "python",
   "name": "python3"
  },
  "language_info": {
   "codemirror_mode": {
    "name": "ipython",
    "version": 3
   },
   "file_extension": ".py",
   "mimetype": "text/x-python",
   "name": "python",
   "nbconvert_exporter": "python",
   "pygments_lexer": "ipython3",
   "version": "3.10.9"
  }
 },
 "nbformat": 4,
 "nbformat_minor": 5
}
