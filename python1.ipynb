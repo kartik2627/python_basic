{
 "cells": [
  {
   "cell_type": "code",
   "execution_count": 7,
   "id": "f0f92cc5",
   "metadata": {},
   "outputs": [
    {
     "name": "stdout",
     "output_type": "stream",
     "text": [
      "Ram's basic salary :27300\n",
      "the gross salary  43680.0\n"
     ]
    }
   ],
   "source": [
    "basic_salary = float(input(\"Ram's basic salary :\"))\n",
    "allowance = basic_salary * 0.4\n",
    "house_rent_allowance = basic_salary*0.2\n",
    "gross_salary = basic_salary + allowance +house_rent_allowance\n",
    "print(\"The gross salary \",gross_salary)"
   ]
  },
  {
   "cell_type": "code",
   "execution_count": null,
   "id": "a590d042",
   "metadata": {},
   "outputs": [],
   "source": [
    "\n",
    "\n"
   ]
  },
  {
   "cell_type": "code",
   "execution_count": null,
   "id": "9a681771",
   "metadata": {},
   "outputs": [],
   "source": [
    "number =float( input(\"Enter a five digit number:\"))\n",
    "if len(number) != 5 or not number.isdigit():\n",
    "    print(\"Invalid input. Please enter a valid five-digit number.\")\n",
    "else:\n",
    "   \n",
    "    reversed_number = number[::-1]\n",
    "    number = int(number)\n",
    "    reversed_number = int(reversed_number)\n",
    "\n",
    "    if number == reversed_number:\n",
    "        print(\"The original and reversed numbers are equal.\")\n",
    "    else:\n",
    "        print(\"The original and reversed numbers are not equal.\")\n",
    "    \n"
   ]
  },
  {
   "cell_type": "code",
   "execution_count": null,
   "id": "c59d1eb9",
   "metadata": {},
   "outputs": [],
   "source": [
    "#try except finally\n"
   ]
  },
  {
   "cell_type": "code",
   "execution_count": 1,
   "id": "9cd31d6b",
   "metadata": {},
   "outputs": [],
   "source": [
    "def add(n1,n2):\n",
    "    print(n1+n2)"
   ]
  },
  {
   "cell_type": "code",
   "execution_count": 2,
   "id": "72954864",
   "metadata": {},
   "outputs": [
    {
     "name": "stdout",
     "output_type": "stream",
     "text": [
      "30\n"
     ]
    }
   ],
   "source": [
    "add(10,20)"
   ]
  },
  {
   "cell_type": "code",
   "execution_count": 3,
   "id": "f38c6c03",
   "metadata": {},
   "outputs": [],
   "source": [
    "num1=10\n"
   ]
  },
  {
   "cell_type": "code",
   "execution_count": 4,
   "id": "bddfe82b",
   "metadata": {},
   "outputs": [
    {
     "name": "stdout",
     "output_type": "stream",
     "text": [
      "please provide a number :20\n"
     ]
    }
   ],
   "source": [
    "num2 = input(\"please provide a number :\")"
   ]
  },
  {
   "cell_type": "code",
   "execution_count": 5,
   "id": "58199260",
   "metadata": {},
   "outputs": [
    {
     "ename": "TypeError",
     "evalue": "unsupported operand type(s) for +: 'int' and 'str'",
     "output_type": "error",
     "traceback": [
      "\u001b[1;31m---------------------------------------------------------------------------\u001b[0m",
      "\u001b[1;31mTypeError\u001b[0m                                 Traceback (most recent call last)",
      "Cell \u001b[1;32mIn[5], line 1\u001b[0m\n\u001b[1;32m----> 1\u001b[0m \u001b[43madd\u001b[49m\u001b[43m(\u001b[49m\u001b[43mnum1\u001b[49m\u001b[43m,\u001b[49m\u001b[43mnum2\u001b[49m\u001b[43m)\u001b[49m\n",
      "Cell \u001b[1;32mIn[1], line 2\u001b[0m, in \u001b[0;36madd\u001b[1;34m(n1, n2)\u001b[0m\n\u001b[0;32m      1\u001b[0m \u001b[38;5;28;01mdef\u001b[39;00m \u001b[38;5;21madd\u001b[39m(n1,n2):\n\u001b[1;32m----> 2\u001b[0m     \u001b[38;5;28mprint\u001b[39m(\u001b[43mn1\u001b[49m\u001b[38;5;241;43m+\u001b[39;49m\u001b[43mn2\u001b[49m)\n",
      "\u001b[1;31mTypeError\u001b[0m: unsupported operand type(s) for +: 'int' and 'str'"
     ]
    }
   ],
   "source": [
    "add(num1,num2)"
   ]
  },
  {
   "cell_type": "code",
   "execution_count": 10,
   "id": "dc246706",
   "metadata": {},
   "outputs": [
    {
     "name": "stdout",
     "output_type": "stream",
     "text": [
      "add went well\n",
      "20\n"
     ]
    }
   ],
   "source": [
    "try:\n",
    "    #want to attempt this code\n",
    "    #may have an error\n",
    "    \n",
    "    result = 10+10\n",
    "except:\n",
    "    print(\"hey ! it look like you aren't adding correctly\")\n",
    "else:\n",
    "    print(\"add went well\")\n",
    "    print(result)"
   ]
  },
  {
   "cell_type": "raw",
   "id": "2f3430c4",
   "metadata": {},
   "source": [
    "result\n"
   ]
  },
  {
   "cell_type": "code",
   "execution_count": 8,
   "id": "58fb7acb",
   "metadata": {},
   "outputs": [
    {
     "data": {
      "text/plain": [
       "20"
      ]
     },
     "execution_count": 8,
     "metadata": {},
     "output_type": "execute_result"
    }
   ],
   "source": [
    "result"
   ]
  },
  {
   "cell_type": "code",
   "execution_count": null,
   "id": "c976e1d8",
   "metadata": {},
   "outputs": [],
   "source": []
  },
  {
   "cell_type": "code",
   "execution_count": null,
   "id": "26814f14",
   "metadata": {},
   "outputs": [],
   "source": []
  },
  {
   "cell_type": "code",
   "execution_count": null,
   "id": "b6bb9e43",
   "metadata": {},
   "outputs": [],
   "source": []
  },
  {
   "cell_type": "code",
   "execution_count": null,
   "id": "79a13a31",
   "metadata": {},
   "outputs": [],
   "source": []
  },
  {
   "cell_type": "code",
   "execution_count": 13,
   "id": "c2b8c4c2",
   "metadata": {},
   "outputs": [
    {
     "name": "stdout",
     "output_type": "stream",
     "text": [
      "i always run\n"
     ]
    }
   ],
   "source": [
    "try:\n",
    "    f = open(\"testfile\",\"w\")\n",
    "    f.write(\"hi lol\")\n",
    "except TypeError:\n",
    "    print(\"there is an type error in your code\")\n",
    "except OSError:\n",
    "    print(\"code has os error\")\n",
    "finally:\n",
    "    print(\"i always run\")\n",
    "    \n",
    "    "
   ]
  },
  {
   "cell_type": "code",
   "execution_count": 14,
   "id": "1e0ce995",
   "metadata": {},
   "outputs": [
    {
     "name": "stdout",
     "output_type": "stream",
     "text": [
      "code has os error\n",
      "i always run\n"
     ]
    }
   ],
   "source": [
    "try:\n",
    "    f = open(\"testfile\",\"r\")\n",
    "    f.write(\"hi lol\")\n",
    "except TypeError:\n",
    "    print(\"there is an type error in your code\")\n",
    "except OSError:\n",
    "    print(\"code has os error\")\n",
    "finally:\n",
    "    print(\"i always run\")\n",
    "    \n",
    "    "
   ]
  },
  {
   "cell_type": "code",
   "execution_count": 15,
   "id": "94e8c342",
   "metadata": {},
   "outputs": [],
   "source": [
    "def ask_for_int():\n",
    "    try:\n",
    "        result = int(input(\"please provide number:\"))\n",
    "    except:\n",
    "        print(\"whooops! that's not an number\")\n",
    "    finally:\n",
    "        print(\"end of try ?except\")"
   ]
  },
  {
   "cell_type": "code",
   "execution_count": 16,
   "id": "e5b81a35",
   "metadata": {},
   "outputs": [
    {
     "name": "stdout",
     "output_type": "stream",
     "text": [
      "please provide number:12\n",
      "end of try ?except\n"
     ]
    }
   ],
   "source": [
    "ask_for_int()"
   ]
  },
  {
   "cell_type": "code",
   "execution_count": 17,
   "id": "87e69a59",
   "metadata": {},
   "outputs": [],
   "source": [
    "def ask_for_int():\n",
    "    while  True :\n",
    "        try:\n",
    "            result = int(input(\"please provide number:\"))\n",
    "        except:\n",
    "            print(\"whooops! that's not an number\")\n",
    "            continue\n",
    "        else:\n",
    "            print(\"yes thanku\")\n",
    "            break\n",
    "\n",
    "        finally:\n",
    "            print(\"end of try ?except\")"
   ]
  },
  {
   "cell_type": "code",
   "execution_count": 18,
   "id": "b58185de",
   "metadata": {},
   "outputs": [
    {
     "name": "stdout",
     "output_type": "stream",
     "text": [
      "please provide number:20\n",
      "yes thanku\n",
      "end of try ?except\n"
     ]
    }
   ],
   "source": [
    "ask_for_int()"
   ]
  },
  {
   "cell_type": "code",
   "execution_count": 21,
   "id": "0891d76c",
   "metadata": {},
   "outputs": [
    {
     "name": "stdout",
     "output_type": "stream",
     "text": [
      "some type of error\n"
     ]
    }
   ],
   "source": [
    "try:\n",
    "    for i in ['a','b','c']:\n",
    "        print(i**2)\n",
    "except:\n",
    "    print(\"some type of error\")\n",
    "    "
   ]
  },
  {
   "cell_type": "code",
   "execution_count": 22,
   "id": "27fd0d51",
   "metadata": {},
   "outputs": [
    {
     "name": "stdout",
     "output_type": "stream",
     "text": [
      "error!\n",
      "all done\n"
     ]
    }
   ],
   "source": [
    "try:\n",
    "    x = 5\n",
    "    y = 0\n",
    "\n",
    "    z = x/y\n",
    "except:\n",
    "    print(\"error!\")\n",
    "finally:\n",
    "    print(\"all done\")\n",
    "    "
   ]
  },
  {
   "cell_type": "code",
   "execution_count": null,
   "id": "b61c22ce",
   "metadata": {},
   "outputs": [],
   "source": [
    "def ask():\n",
    "    \n",
    "    while True:\n",
    "        try:\n",
    "            n = int(input('Input an integer: '))\n",
    "        except:\n",
    "            print('An error occurred! Please try again!')\n",
    "            continue\n",
    "        else:\n",
    "            break\n",
    "            \n",
    "        \n",
    "    print('Thank you, your number squared is: ',n**2)\n",
    "ask()"
   ]
  },
  {
   "cell_type": "code",
   "execution_count": 1,
   "id": "6770d7e3",
   "metadata": {},
   "outputs": [],
   "source": [
    "#card class \n",
    "# suit of class , rank , value\n",
    "#deck\n",
    "#player\n"
   ]
  },
  {
   "cell_type": "code",
   "execution_count": 2,
   "id": "26eb4e91",
   "metadata": {},
   "outputs": [],
   "source": [
    "class card:\n",
    "    \n",
    "    \n",
    "    def __init__(self,suit,rank):\n",
    "        self.suit = suit\n",
    "        self.rank = rank\n",
    "        \n",
    "    def _str_(self):\n",
    "        return self.rank + \" \" + self.suit"
   ]
  },
  {
   "cell_type": "code",
   "execution_count": 3,
   "id": "a9c5d6f2",
   "metadata": {},
   "outputs": [],
   "source": [
    "two_hearts = card(\"heart\",\"two\")"
   ]
  },
  {
   "cell_type": "code",
   "execution_count": 4,
   "id": "6dbf73c5",
   "metadata": {},
   "outputs": [
    {
     "data": {
      "text/plain": [
       "<__main__.card at 0x2adae639690>"
      ]
     },
     "execution_count": 4,
     "metadata": {},
     "output_type": "execute_result"
    }
   ],
   "source": [
    "two_hearts"
   ]
  },
  {
   "cell_type": "code",
   "execution_count": null,
   "id": "5f963f27",
   "metadata": {},
   "outputs": [],
   "source": []
  },
  {
   "cell_type": "code",
   "execution_count": null,
   "id": "ea6d90f0",
   "metadata": {},
   "outputs": [],
   "source": []
  }
 ],
 "metadata": {
  "kernelspec": {
   "display_name": "Python 3 (ipykernel)",
   "language": "python",
   "name": "python3"
  },
  "language_info": {
   "codemirror_mode": {
    "name": "ipython",
    "version": 3
   },
   "file_extension": ".py",
   "mimetype": "text/x-python",
   "name": "python",
   "nbconvert_exporter": "python",
   "pygments_lexer": "ipython3",
   "version": "3.10.9"
  }
 },
 "nbformat": 4,
 "nbformat_minor": 5
}
