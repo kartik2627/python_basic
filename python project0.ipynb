{
 "cells": [
  {
   "cell_type": "code",
   "execution_count": 1,
   "id": "4cf7e4ae",
   "metadata": {},
   "outputs": [
    {
     "name": "stdout",
     "output_type": "stream",
     "text": [
      "[1, 2, 3]\n"
     ]
    }
   ],
   "source": [
    "print([1,2,3])"
   ]
  },
  {
   "cell_type": "code",
   "execution_count": 2,
   "id": "1d446d48",
   "metadata": {},
   "outputs": [
    {
     "name": "stdout",
     "output_type": "stream",
     "text": [
      "[1, 2, 3]\n",
      "[1, 2, 3]\n",
      "[1, 2, 3]\n"
     ]
    }
   ],
   "source": [
    "print([1,2,3,])\n",
    "print([1,2,3,])\n",
    "print([1,2,3,])"
   ]
  },
  {
   "cell_type": "code",
   "execution_count": 6,
   "id": "1651efd1",
   "metadata": {},
   "outputs": [],
   "source": [
    "def display(row1,row2,row3):\n",
    "    print(row1)\n",
    "    print(row2)\n",
    "    print(row3)    "
   ]
  },
  {
   "cell_type": "raw",
   "id": "2686131a",
   "metadata": {},
   "source": []
  },
  {
   "cell_type": "code",
   "execution_count": 7,
   "id": "e1048692",
   "metadata": {},
   "outputs": [
    {
     "name": "stdout",
     "output_type": "stream",
     "text": [
      "[1, 2, 3]\n",
      "[1, 2, 3]\n",
      "[1, 2, 3]\n"
     ]
    }
   ],
   "source": [
    "example_row = [1,2,3]\n",
    "\n",
    "display (example_row , example_row ,example_row)"
   ]
  },
  {
   "cell_type": "code",
   "execution_count": 8,
   "id": "d2e9f2de",
   "metadata": {},
   "outputs": [],
   "source": [
    "def display(row1,row2,row3):\n",
    "    print(row1)\n",
    "    print(row2)\n",
    "    print(row3)    \n",
    "    "
   ]
  },
  {
   "cell_type": "code",
   "execution_count": 9,
   "id": "a006cd0c",
   "metadata": {},
   "outputs": [],
   "source": [
    "row1 = ['','','']\n",
    "row2 = ['','','']\n",
    "row3 = ['','','']"
   ]
  },
  {
   "cell_type": "code",
   "execution_count": 11,
   "id": "edf90ef4",
   "metadata": {},
   "outputs": [
    {
     "name": "stdout",
     "output_type": "stream",
     "text": [
      "['', '', '']\n",
      "['', '', '']\n",
      "['', '', '']\n"
     ]
    }
   ],
   "source": [
    "display(row1,row2,row3)"
   ]
  },
  {
   "cell_type": "code",
   "execution_count": 12,
   "id": "9a842765",
   "metadata": {},
   "outputs": [
    {
     "name": "stdout",
     "output_type": "stream",
     "text": [
      "pls enter a value:2\n"
     ]
    },
    {
     "data": {
      "text/plain": [
       "'2'"
      ]
     },
     "execution_count": 12,
     "metadata": {},
     "output_type": "execute_result"
    }
   ],
   "source": [
    "#accepting user input\n",
    "#keything\n",
    "input(\"pls enter a value:\")\n"
   ]
  },
  {
   "cell_type": "code",
   "execution_count": 15,
   "id": "cbfb358d",
   "metadata": {},
   "outputs": [
    {
     "name": "stdout",
     "output_type": "stream",
     "text": [
      "pls enter a value:2\n"
     ]
    }
   ],
   "source": [
    "result =input(\"pls enter a value:\")"
   ]
  },
  {
   "cell_type": "raw",
   "id": "ab1ed802",
   "metadata": {},
   "source": [
    "result"
   ]
  },
  {
   "cell_type": "code",
   "execution_count": 16,
   "id": "bc9b08f1",
   "metadata": {},
   "outputs": [
    {
     "data": {
      "text/plain": [
       "'2'"
      ]
     },
     "execution_count": 16,
     "metadata": {},
     "output_type": "execute_result"
    }
   ],
   "source": [
    "result"
   ]
  },
  {
   "cell_type": "code",
   "execution_count": 17,
   "id": "835bac5e",
   "metadata": {},
   "outputs": [
    {
     "name": "stdout",
     "output_type": "stream",
     "text": [
      "enter value:2\n"
     ]
    }
   ],
   "source": [
    "result = input (\"enter value:\")"
   ]
  },
  {
   "cell_type": "code",
   "execution_count": 18,
   "id": "331c69cf",
   "metadata": {},
   "outputs": [],
   "source": [
    "result_int =int(result)"
   ]
  },
  {
   "cell_type": "code",
   "execution_count": 19,
   "id": "fb17d233",
   "metadata": {},
   "outputs": [
    {
     "data": {
      "text/plain": [
       "str"
      ]
     },
     "execution_count": 19,
     "metadata": {},
     "output_type": "execute_result"
    }
   ],
   "source": [
    "type(result)"
   ]
  },
  {
   "cell_type": "code",
   "execution_count": 20,
   "id": "60a4f52a",
   "metadata": {},
   "outputs": [
    {
     "data": {
      "text/plain": [
       "int"
      ]
     },
     "execution_count": 20,
     "metadata": {},
     "output_type": "execute_result"
    }
   ],
   "source": [
    "type(result_int)"
   ]
  },
  {
   "cell_type": "code",
   "execution_count": 21,
   "id": "d0cf6cd0",
   "metadata": {},
   "outputs": [
    {
     "name": "stdout",
     "output_type": "stream",
     "text": [
      "choose a index :1\n"
     ]
    }
   ],
   "source": [
    "position_index = int(input(\"choose a index :\"))"
   ]
  },
  {
   "cell_type": "code",
   "execution_count": 23,
   "id": "f3877a6d",
   "metadata": {},
   "outputs": [
    {
     "data": {
      "text/plain": [
       "''"
      ]
     },
     "execution_count": 23,
     "metadata": {},
     "output_type": "execute_result"
    }
   ],
   "source": [
    "row1[position_index]"
   ]
  },
  {
   "cell_type": "code",
   "execution_count": 24,
   "id": "05841c69",
   "metadata": {},
   "outputs": [],
   "source": [
    "#validating input fun"
   ]
  },
  {
   "cell_type": "code",
   "execution_count": 3,
   "id": "3a8300d4",
   "metadata": {},
   "outputs": [],
   "source": [
    " def user_choice():\n",
    "        choice =\"wrong\"\n",
    "        while choice.isdigit() == False: \n",
    "            choice = input (\"enter a number (0-10)\")\n",
    "            \n",
    "        \n",
    "        return int(choice)"
   ]
  },
  {
   "cell_type": "markdown",
   "id": "8c2c49d0",
   "metadata": {},
   "source": [
    "user_choice()"
   ]
  },
  {
   "cell_type": "code",
   "execution_count": 31,
   "id": "0a711cb0",
   "metadata": {},
   "outputs": [],
   "source": [
    "some_value = \"100\""
   ]
  },
  {
   "cell_type": "code",
   "execution_count": 32,
   "id": "a5600c12",
   "metadata": {},
   "outputs": [
    {
     "data": {
      "text/plain": [
       "True"
      ]
     },
     "execution_count": 32,
     "metadata": {},
     "output_type": "execute_result"
    }
   ],
   "source": [
    "some_value.isdigit()"
   ]
  },
  {
   "cell_type": "code",
   "execution_count": 6,
   "id": "f63a5825",
   "metadata": {},
   "outputs": [],
   "source": [
    " def user_choice():\n",
    "        choice =\"wrong\"\n",
    "        accetable_range = range (0,10)\n",
    "        within_range = False\n",
    "        while choice.isdigit() == False or within_range = False: \n",
    "            choice = input (\"enter a number (0-10)\")\n",
    "            if choice.isdigit() == False:\n",
    "                print(\"its not a digit\")\n",
    "        \n",
    "        return int(choice)"
   ]
  },
  {
   "cell_type": "code",
   "execution_count": 4,
   "id": "8c685621",
   "metadata": {},
   "outputs": [
    {
     "name": "stdout",
     "output_type": "stream",
     "text": [
      "enter a number (0-10)two\n",
      "enter a number (0-10)\n",
      "enter a number (0-10)3\n"
     ]
    },
    {
     "data": {
      "text/plain": [
       "3"
      ]
     },
     "execution_count": 4,
     "metadata": {},
     "output_type": "execute_result"
    }
   ],
   "source": [
    "user_choice()"
   ]
  },
  {
   "cell_type": "code",
   "execution_count": null,
   "id": "5d20f6ff",
   "metadata": {},
   "outputs": [],
   "source": []
  }
 ],
 "metadata": {
  "kernelspec": {
   "display_name": "Python 3 (ipykernel)",
   "language": "python",
   "name": "python3"
  },
  "language_info": {
   "codemirror_mode": {
    "name": "ipython",
    "version": 3
   },
   "file_extension": ".py",
   "mimetype": "text/x-python",
   "name": "python",
   "nbconvert_exporter": "python",
   "pygments_lexer": "ipython3",
   "version": "3.10.9"
  }
 },
 "nbformat": 4,
 "nbformat_minor": 5
}
