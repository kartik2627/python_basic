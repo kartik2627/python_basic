{
  "nbformat": 4,
  "nbformat_minor": 0,
  "metadata": {
    "colab": {
      "provenance": [],
      "authorship_tag": "ABX9TyNg9TbBjiRKn+t8esokmYLR",
      "include_colab_link": true
    },
    "kernelspec": {
      "name": "python3",
      "display_name": "Python 3"
    },
    "language_info": {
      "name": "python"
    }
  },
  "cells": [
    {
      "cell_type": "markdown",
      "metadata": {
        "id": "view-in-github",
        "colab_type": "text"
      },
      "source": [
        "<a href=\"https://colab.research.google.com/github/kartik2627/python_basic/blob/main/Dsa_py.ipynb\" target=\"_parent\"><img src=\"https://colab.research.google.com/assets/colab-badge.svg\" alt=\"Open In Colab\"/></a>"
      ]
    },
    {
      "cell_type": "code",
      "execution_count": null,
      "metadata": {
        "colab": {
          "base_uri": "https://localhost:8080/"
        },
        "id": "Yhf7b8l_5mp2",
        "outputId": "038ef2b1-a31a-4539-e385-da6784b9e603"
      },
      "outputs": [
        {
          "output_type": "stream",
          "name": "stdout",
          "text": [
            "1\n",
            "2\n",
            "3\n",
            "4\n",
            "5\n",
            "6\n",
            "7\n",
            "8\n",
            "9\n",
            "10\n",
            "11\n",
            "12\n",
            "13\n",
            "14\n",
            "15\n",
            "16\n",
            "17\n",
            "18\n",
            "19\n",
            "20\n",
            "21\n",
            "22\n",
            "23\n",
            "24\n",
            "25\n",
            "26\n",
            "27\n",
            "28\n",
            "29\n",
            "30\n",
            "31\n",
            "32\n",
            "33\n",
            "34\n",
            "35\n",
            "36\n",
            "37\n",
            "38\n",
            "39\n",
            "40\n",
            "41\n",
            "42\n",
            "43\n",
            "44\n",
            "45\n",
            "46\n",
            "47\n",
            "48\n",
            "49\n",
            "50\n",
            "51\n",
            "52\n",
            "53\n",
            "54\n",
            "55\n",
            "56\n",
            "57\n",
            "58\n",
            "59\n",
            "60\n",
            "61\n",
            "62\n",
            "63\n",
            "64\n",
            "65\n",
            "66\n",
            "67\n",
            "68\n",
            "69\n",
            "70\n",
            "71\n",
            "72\n",
            "73\n",
            "74\n",
            "75\n",
            "76\n",
            "77\n",
            "78\n",
            "79\n",
            "80\n",
            "81\n",
            "82\n",
            "83\n",
            "84\n",
            "85\n",
            "86\n",
            "87\n",
            "88\n",
            "89\n",
            "90\n",
            "91\n",
            "92\n",
            "93\n",
            "94\n",
            "95\n",
            "96\n",
            "97\n",
            "98\n",
            "99\n",
            "0.0038003921508789062\n"
          ]
        }
      ],
      "source": [
        "import time\n",
        "start = time.time()\n",
        "for i in range (1,100):\n",
        "  print(i)\n",
        "print(time.time()-start)"
      ]
    },
    {
      "cell_type": "code",
      "source": [
        "inp = int(input(\"enter input\"))\n",
        "one = 1\n",
        "for i in (1,1 + inp):\n",
        "  one = one + i\n",
        "print(one)"
      ],
      "metadata": {
        "colab": {
          "base_uri": "https://localhost:8080/"
        },
        "id": "cKOzRBVu7FUU",
        "outputId": "4c9b0839-7791-4543-ff6c-83461057ff52"
      },
      "execution_count": null,
      "outputs": [
        {
          "output_type": "stream",
          "name": "stdout",
          "text": [
            "enter input1\n",
            "4\n"
          ]
        }
      ]
    },
    {
      "cell_type": "code",
      "source": [
        "\n",
        "\n",
        "for i in range(10):\n",
        "  print(i)"
      ],
      "metadata": {
        "colab": {
          "base_uri": "https://localhost:8080/"
        },
        "id": "gR5dyDAn97gJ",
        "outputId": "312a5bc5-a590-470b-8b8f-2b1862f1adea"
      },
      "execution_count": null,
      "outputs": [
        {
          "output_type": "stream",
          "name": "stdout",
          "text": [
            "0\n",
            "1\n",
            "2\n",
            "3\n",
            "4\n",
            "5\n",
            "6\n",
            "7\n",
            "8\n",
            "9\n"
          ]
        }
      ]
    },
    {
      "cell_type": "code",
      "source": [
        "def factorial(n):\n",
        "  factorial = 1\n",
        "  for i in range(n):\n",
        "    factorial *= i+1\n",
        "\n",
        "\n",
        "\n",
        "  return factorial\n",
        "print(factorial(0))"
      ],
      "metadata": {
        "colab": {
          "base_uri": "https://localhost:8080/"
        },
        "id": "CKi--fkmAT99",
        "outputId": "03d45641-c8ad-49ef-a0b6-ddd4f9e44e02"
      },
      "execution_count": null,
      "outputs": [
        {
          "output_type": "stream",
          "name": "stdout",
          "text": [
            "1\n"
          ]
        }
      ]
    },
    {
      "cell_type": "code",
      "source": [
        "a = [1,2,3,4,5]\n",
        "l=0\n",
        "for i in a:\n",
        "  l = i+ l\n",
        "print(l)"
      ],
      "metadata": {
        "colab": {
          "base_uri": "https://localhost:8080/"
        },
        "id": "lt7W7Z-6BJHA",
        "outputId": "f72c7750-1f12-4b13-ea9e-0d3fc9fbb8d4"
      },
      "execution_count": null,
      "outputs": [
        {
          "output_type": "stream",
          "name": "stdout",
          "text": [
            "15\n"
          ]
        }
      ]
    },
    {
      "cell_type": "code",
      "source": [
        "l = [1,2,3,4,5,6]\n",
        "for i in l:\n",
        "  for j in l:\n",
        "    print('({}{})'.format(i,j))"
      ],
      "metadata": {
        "colab": {
          "base_uri": "https://localhost:8080/"
        },
        "id": "d9_mO-XMEtwE",
        "outputId": "eb6d15fd-ead6-4ca1-cf8b-14684f216579"
      },
      "execution_count": null,
      "outputs": [
        {
          "output_type": "stream",
          "name": "stdout",
          "text": [
            "(11)\n",
            "(12)\n",
            "(13)\n",
            "(14)\n",
            "(15)\n",
            "(16)\n",
            "(21)\n",
            "(22)\n",
            "(23)\n",
            "(24)\n",
            "(25)\n",
            "(26)\n",
            "(31)\n",
            "(32)\n",
            "(33)\n",
            "(34)\n",
            "(35)\n",
            "(36)\n",
            "(41)\n",
            "(42)\n",
            "(43)\n",
            "(44)\n",
            "(45)\n",
            "(46)\n",
            "(51)\n",
            "(52)\n",
            "(53)\n",
            "(54)\n",
            "(55)\n",
            "(56)\n",
            "(61)\n",
            "(62)\n",
            "(63)\n",
            "(64)\n",
            "(65)\n",
            "(66)\n"
          ]
        }
      ]
    },
    {
      "cell_type": "code",
      "source": [
        "def findTrailingZeros(n):\n",
        "\n",
        "    # Initialize result\n",
        "    count = 0\n",
        "\n",
        "    # Keep dividing n by\n",
        "    # powers of 5 and\n",
        "    # update Count\n",
        "    i = 5\n",
        "    while (n / i >= 1):\n",
        "        count += int(n / i)\n",
        "        i *= 5\n",
        "\n",
        "    return int(count)\n",
        "\n",
        "\n",
        "# Driver program\n",
        "n = 100\n",
        "print(\"Count of trailing 0s \" +\n",
        "      \"in 100 ! is\", findTrailingZeros(n))"
      ],
      "metadata": {
        "id": "k9Ca2EiwFOe8",
        "colab": {
          "base_uri": "https://localhost:8080/"
        },
        "outputId": "7bb3b58b-3bcd-4671-8b2b-3a9e97c69fc4"
      },
      "execution_count": null,
      "outputs": [
        {
          "output_type": "stream",
          "name": "stdout",
          "text": [
            "Count of trailing 0s in 100 ! is 24\n"
          ]
        }
      ]
    },
    {
      "cell_type": "code",
      "source": [
        "def  trailing(n):\n",
        "  count = 0\n",
        "  i =5\n",
        "  while (n/i >= 1):\n",
        "    count +=int(n/i)\n",
        "    i *= 5\n",
        "  return int(count)\n",
        "n = 1500\n",
        "print(\"Count of trailing 0s \" +\n",
        "      \"in 1500 ! is\", trailing(n))"
      ],
      "metadata": {
        "colab": {
          "base_uri": "https://localhost:8080/"
        },
        "id": "qdOKXXVZw0BQ",
        "outputId": "ab840073-ccb3-433e-ed13-8d5554c97543"
      },
      "execution_count": null,
      "outputs": [
        {
          "output_type": "stream",
          "name": "stdout",
          "text": [
            "Count of trailing 0s in 1500 ! is 374\n"
          ]
        }
      ]
    },
    {
      "cell_type": "code",
      "source": [
        "def lcm(a, b):\n",
        "    max_num = max(a, b)\n",
        "    while True:\n",
        "        if max_num % a == 0 and max_num % b == 0:\n",
        "            return max_num\n",
        "        max_num += 1\n",
        "\n",
        "# Example usage:\n",
        "num1 = 12\n",
        "num2 = 15\n",
        "\n",
        "result = lcm(num1, num2)\n",
        "print(\"The LCM of\", num1, \"and\", num2, \"is:\", result)\n"
      ],
      "metadata": {
        "id": "3ZPYXjXQzQ4P",
        "colab": {
          "base_uri": "https://localhost:8080/"
        },
        "outputId": "1fdd6fae-221b-409f-fb94-d0cb14bc6451"
      },
      "execution_count": 1,
      "outputs": [
        {
          "output_type": "stream",
          "name": "stdout",
          "text": [
            "The LCM of 12 and 15 is: 60\n"
          ]
        }
      ]
    },
    {
      "cell_type": "code",
      "source": [
        "def gcd(a, b):\n",
        "    while b:\n",
        "        a, b = b, a % b\n",
        "    return a\n",
        "\n",
        "# Example usage:\n",
        "num1 = 48\n",
        "num2 = 18\n",
        "\n",
        "result = gcd(num1, num2)\n",
        "print(\"The GCD of\", num1, \"and\", num2, \"is:\", result)"
      ],
      "metadata": {
        "colab": {
          "base_uri": "https://localhost:8080/"
        },
        "id": "omccvCVxYK6F",
        "outputId": "d97c18c2-a7ae-49fd-a1f2-8df963fdbbe9"
      },
      "execution_count": 2,
      "outputs": [
        {
          "output_type": "stream",
          "name": "stdout",
          "text": [
            "The GCD of 48 and 18 is: 6\n"
          ]
        }
      ]
    },
    {
      "cell_type": "code",
      "source": [
        "def gcd(a, b):\n",
        "    while (a != 0 and b != 0):\n",
        "        if a > b:\n",
        "            a = a % b\n",
        "        else:\n",
        "            b = b % a\n",
        "    result = a if a != 0 else b\n",
        "    print(\"The GCD of\", a, \"and\", b, \"is:\", result)\n",
        "    return result\n"
      ],
      "metadata": {
        "id": "GPFMEzKLcYV_"
      },
      "execution_count": 5,
      "outputs": []
    },
    {
      "cell_type": "code",
      "source": [
        "def is_prime(num):\n",
        "    if num <= 1:\n",
        "        return False\n",
        "    for i in range(2, int(num**0.5) + 1):\n",
        "        if num % i == 0:\n",
        "            return False\n",
        "    return True\n",
        "\n",
        "num = int(input(\"Enter a number: \"))\n",
        "if is_prime(num):\n",
        "    print(num, \"is a prime number\")\n",
        "else:\n",
        "    print(num, \"is not a prime number\")\n"
      ],
      "metadata": {
        "colab": {
          "base_uri": "https://localhost:8080/"
        },
        "id": "ZJ2zn6D1eQby",
        "outputId": "fec89657-495d-4f50-cf79-84072dc3291a"
      },
      "execution_count": 6,
      "outputs": [
        {
          "output_type": "stream",
          "name": "stdout",
          "text": [
            "Enter a number: 22\n",
            "22 is not a prime number\n"
          ]
        }
      ]
    },
    {
      "cell_type": "code",
      "source": [
        "def is_prime(num):\n",
        "    if num <= 1:\n",
        "        return False\n",
        "    i = 2\n",
        "    while i <= num // 2:\n",
        "        if num % i == 0:\n",
        "            return False\n",
        "        i += 1\n",
        "    return True\n",
        "\n",
        "# Example usage:\n",
        "n = int(input(\"Enter a number: \"))\n",
        "if is_prime(n):\n",
        "    print(n, \"is a prime number\")\n",
        "else:\n",
        "    print(n, \"is not a prime number\")\n"
      ],
      "metadata": {
        "id": "roK3cmJ1gw3W"
      },
      "execution_count": null,
      "outputs": []
    },
    {
      "cell_type": "code",
      "source": [
        "def find_divisors(num):\n",
        "    divisors = []\n",
        "    for i in range(1, num + 1):\n",
        "        if num % i == 0:\n",
        "            divisors.append(i)\n",
        "    return divisors\n",
        "\n",
        "num = int(input(\"Enter a number: \"))\n",
        "print(\"Divisors of\", num, \"are:\", find_divisors(num))\n"
      ],
      "metadata": {
        "colab": {
          "base_uri": "https://localhost:8080/"
        },
        "id": "nJ2mKMZrn_Dy",
        "outputId": "b481eb28-7801-4a0f-bf95-be43dc191d84"
      },
      "execution_count": 7,
      "outputs": [
        {
          "output_type": "stream",
          "name": "stdout",
          "text": [
            "Enter a number: 100\n",
            "Divisors of 100 are: [1, 2, 4, 5, 10, 20, 25, 50, 100]\n"
          ]
        }
      ]
    },
    {
      "cell_type": "code",
      "source": [],
      "metadata": {
        "id": "jCA7juGSoAUv"
      },
      "execution_count": null,
      "outputs": []
    }
  ]
}